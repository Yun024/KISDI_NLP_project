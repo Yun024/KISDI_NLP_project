{
 "cells": [
  {
   "cell_type": "code",
   "execution_count": 1,
   "metadata": {},
   "outputs": [],
   "source": [
    "# Package Load\n",
    "import os \n",
    "import pickle\n",
    "import pandas as pd\n",
    "from tqdm import tqdm, tqdm_notebook\n",
    "import numpy as np\n",
    "from timeit import default_timer\n",
    "import tomotopy as tp\n",
    "import tomotopy.coherence as tpc\n",
    "from datetime import datetime\n",
    "from collections import Counter\n",
    "import plotly.express as px\n",
    "import plotly.offline as pyo\n",
    "import plotly.graph_objs as go\n",
    "from plotly.subplots import make_subplots\n",
    "from functools import reduce\n",
    "import re\n",
    "from sklearn.datasets import fetch_20newsgroups\n",
    "import nltk\n",
    "version_name=str(datetime.today().strftime(\"%Y%m%d\")) # 버전 정보"
   ]
  },
  {
   "cell_type": "code",
   "execution_count": 2,
   "metadata": {},
   "outputs": [
    {
     "name": "stdout",
     "output_type": "stream",
     "text": [
      "사용자명을 설정해주세요(영어로만 설정해주세요) : KISAU\n"
     ]
    }
   ],
   "source": [
    "user_name = input(\"사용자명을 설정해주세요(영어로만 설정해주세요) : \")"
   ]
  },
  {
   "cell_type": "markdown",
   "metadata": {},
   "source": [
    "## Option1 : 기존에 학습된 모델을 불러오기"
   ]
  },
  {
   "cell_type": "code",
   "execution_count": 3,
   "metadata": {},
   "outputs": [
    {
     "name": "stdout",
     "output_type": "stream",
     "text": [
      "불러올 DTM모델 명을 입력하세요 : DTM_KISAU_20220823_23\n",
      "\n",
      "기존에 학습된 DTM_KISAU_20220823_23모델을 불러옵니다.\n"
     ]
    }
   ],
   "source": [
    "# input : model 폴더명, 없으면 오류 발생 (원하는 버전 모델 있으면 지정 필요, 없으면 Enter -> Default)\n",
    "# model 폴더 안에 bin파일, 없으면 오류 발생\n",
    "                                     \n",
    "dtm_ver=input(\"불러올 DTM모델 명을 입력하세요 : \")\n",
    "if dtm_ver=='':\n",
    "    print(\"\\nDefault DTM모델을 불러옵니다.\")\n",
    "    mdl=tp.DTModel.load(\"./model/Default/DTM.bin\")\n",
    "else:\n",
    "    print(\"\\n기존에 학습된 %s모델을 불러옵니다.\"%(dtm_ver))\n",
    "    mdl=tp.DTModel.load(\"./model/\"+dtm_ver+\".bin\")"
   ]
  },
  {
   "cell_type": "code",
   "execution_count": 4,
   "metadata": {},
   "outputs": [
    {
     "name": "stdout",
     "output_type": "stream",
     "text": [
      "사용할 데이터 폴더명을 입력하세요(Default: 엔터키): REPORT\n"
     ]
    }
   ],
   "source": [
    "data_ver=input(\"사용할 데이터 폴더명을 입력하세요(Default: 엔터키): \")\n",
    "if data_ver=='':\n",
    "    DATA_DIR = './data/DTM/Default/'\n",
    "else:\n",
    "    DATA_DIR = './data/DTM/'+data_ver+'/'"
   ]
  },
  {
   "cell_type": "code",
   "execution_count": 5,
   "metadata": {},
   "outputs": [],
   "source": [
    "# Corpus Load Function\n",
    "\n",
    "def data_feeder(input_file):\n",
    "    for line in tqdm(open(input_file, encoding='CP949')):\n",
    "        fd = line.strip().split(maxsplit=1)\n",
    "        timepoint = int(fd[0])\n",
    "        yield fd[1], None, {'timepoint':timepoint}"
   ]
  },
  {
   "cell_type": "code",
   "execution_count": 6,
   "metadata": {},
   "outputs": [
    {
     "name": "stdout",
     "output_type": "stream",
     "text": [
      "Train NTIS Type : 1\n",
      "\n",
      "NTIS ICT Data로만 학습을 진행합니다.\n"
     ]
    }
   ],
   "source": [
    "train_type = input(\"Train NTIS Type : \")\n",
    "if train_type in ['ALL','all','전체','0']:\n",
    "        train_type='DTM_NTIS_ALL'\n",
    "        print(\"\\nNTIS 전체 Data로 학습을 진행합니다.\")\n",
    "elif train_type in ['ICT','ict','1']:\n",
    "        train_type='DTM_NTIS_ICT'\n",
    "        print(\"\\nNTIS ICT Data로만 학습을 진행합니다.\")\n",
    "else:\n",
    "    print(\"* Error * 데이터 타입을 다시 입력해주세요 \")"
   ]
  },
  {
   "cell_type": "code",
   "execution_count": 7,
   "metadata": {},
   "outputs": [
    {
     "name": "stdout",
     "output_type": "stream",
     "text": [
      "토픽 갯수 : 23\n",
      "NTIS 시작 연도 : 2017\n",
      "NTIS 최종 연도 : 2021\n"
     ]
    }
   ],
   "source": [
    "# 토픽수, 연도, 학습수 사용자 입력 \n",
    "\n",
    "num_topics=int(input(\"토픽 갯수 : \"))\n",
    "\n",
    "start_year = int(input(\"REPORT 시작 연도 : \"))\n",
    "\n",
    "num_time=int(input(\"REPORT 최종 연도 : \")) - start_year + 1"
   ]
  },
  {
   "cell_type": "code",
   "execution_count": 46,
   "metadata": {},
   "outputs": [],
   "source": [
    "#import csv\n",
    "\n",
    "# input : pkl 형태의 파일, 없으면 오류 발생 (data 폴더)\n",
    "#unusing_dic = pd.read_csv(filepath_or_buffer='./data/Default/UNUSING_DIC.csv', encoding=\"cp949\", sep=\",\")\n",
    "#temp_f =[]\n",
    "#remove_set =unusing_dic[\"term\"].tolist()"
   ]
  },
  {
   "cell_type": "code",
   "execution_count": 25,
   "metadata": {},
   "outputs": [],
   "source": [
    "# input : data/DTM 폴더에 사용자별 txt 파일 Load, 없으면 오류 발생\n",
    "\n",
    "#f = open(\"./data/DTM/NTIS/DTM_NTIS_ICT_DEL.txt\", 'w')\n",
    "#for i in range(corpus) :\n",
    "#    temp = str(corpus.__getitem__(i))\n",
    "#    temp = temp.strip(\"<tomotopy.Document with words=\\\"\" \"\\\">\")\n",
    "#    temp = str(corpus[i].timepoint) + \" \" + temp + \"\\n\"\n",
    "#    f.writelines(temp)\n",
    "#f.close()"
   ]
  },
  {
   "cell_type": "code",
   "execution_count": 8,
   "metadata": {},
   "outputs": [
    {
     "name": "stderr",
     "output_type": "stream",
     "text": [
      "569it [00:00, 963.71it/s]\n"
     ]
    },
    {
     "data": {
      "text/plain": [
       "569"
      ]
     },
     "execution_count": 8,
     "metadata": {},
     "output_type": "execute_result"
    }
   ],
   "source": [
    "# Corpus Load\n",
    "remove_set ={'0','1','2','3','4','5','6','7','8','9','10','할',\"위한\"}\n",
    "porter_stemmer = nltk.PorterStemmer().stem\n",
    "corpus = tp.utils.Corpus(\n",
    "    tokenizer=tp.utils.SimpleTokenizer(porter_stemmer),\n",
    "    stopwords= remove_set\n",
    ")\n",
    "#corpus.process(data_feeder(DATA_DIR+train_type+'.txt'))\n",
    "corpus.process(data_feeder(DATA_DIR+'DTM_REPORT_ICT.txt'))"
   ]
  },
  {
   "cell_type": "markdown",
   "metadata": {},
   "source": [
    "\n",
    "## Option1 or Option2 수행 후 아래부터 실행"
   ]
  },
  {
   "cell_type": "code",
   "execution_count": 9,
   "metadata": {},
   "outputs": [],
   "source": [
    "temp_timepoint = []\n",
    "for i in range(len(corpus)) :\n",
    "    if corpus[i].timepoint == 4 :\n",
    "        temp_timepoint.append(5)\n",
    "    elif corpus[i].timepoint == 3 :\n",
    "        temp_timepoint.append(4)\n",
    "    elif corpus[i].timepoint == 2 :\n",
    "        temp_timepoint.append(3)\n",
    "    elif corpus[i].timepoint == 1 :\n",
    "        temp_timepoint.append(2)\n",
    "    elif corpus[i].timepoint == 0 :\n",
    "        temp_timepoint.append(1)    \n",
    "    else :\n",
    "        temp_timepoint.append(corpus[i].timepoint)"
   ]
  },
  {
   "cell_type": "code",
   "execution_count": 10,
   "metadata": {},
   "outputs": [],
   "source": [
    "doc_insts = []\n",
    "for i in range(len(corpus)) :\n",
    "    if temp_timepoint[i] < 5 : \n",
    "        doc_insts.append(mdl.make_doc(str(corpus[i]).strip(\"<tomotopy.Document with words=\\\"\"\"\\\">\").split(\" \"),temp_timepoint[i]))\n",
    "topic_dist, ll = mdl.infer([doc_insts][0])"
   ]
  },
  {
   "cell_type": "markdown",
   "metadata": {},
   "source": [
    "### 2021년 분포(2020년으로 가정)"
   ]
  },
  {
   "cell_type": "code",
   "execution_count": 11,
   "metadata": {},
   "outputs": [],
   "source": [
    "doc_insts_2 = []\n",
    "for i in range(len(corpus)) :\n",
    "    if temp_timepoint[i] == 5 : \n",
    "        doc_insts_2.append(mdl.make_doc(str(corpus[i]).strip(\"<tomotopy.Document with words=\\\"\"\"\\\">\").split(\" \"),4))\n",
    "topic_dist_2, ll_2 = mdl.infer([doc_insts_2][0])"
   ]
  },
  {
   "cell_type": "markdown",
   "metadata": {},
   "source": [
    "## 평균치계산"
   ]
  },
  {
   "cell_type": "code",
   "execution_count": 12,
   "metadata": {
    "scrolled": true
   },
   "outputs": [
    {
     "name": "stdout",
     "output_type": "stream",
     "text": [
      "109\n",
      "109\n",
      "108\n",
      "132\n"
     ]
    }
   ],
   "source": [
    "for i in range(1,5):\n",
    "    globals()['temp_{}'.format(i)] = list(np.zeros(mdl.k))\n",
    "    globals()['count_{}'.format(i)] = 0\n",
    "\n",
    "for i in range(len(doc_insts)) :\n",
    "    for k in range(mdl.k):\n",
    "        globals()['temp_{}'.format(doc_insts[i].timepoint)][k] += topic_dist[i][k]\n",
    "    globals()['count_{}'.format(doc_insts[i].timepoint)] += 1\n",
    "        \n",
    "yr_topic_dist = []\n",
    "for i in range(1,5):\n",
    "    yr_topic_dist.append(globals()['temp_{}'.format(i)])\n",
    "    print(globals()['count_{}'.format(i)])"
   ]
  },
  {
   "cell_type": "code",
   "execution_count": 13,
   "metadata": {},
   "outputs": [
    {
     "name": "stdout",
     "output_type": "stream",
     "text": [
      "111\n"
     ]
    }
   ],
   "source": [
    "temp_5 = list(np.zeros(mdl.k))\n",
    "count_5 = 0\n",
    "for i in range(len(doc_insts_2)) :\n",
    "    for k in range(mdl.k):\n",
    "        temp_5[k] += topic_dist_2[i][k]\n",
    "    count_5 += 1\n",
    "    \n",
    "yr_topic_dist.append(temp_5)\n",
    "print(count_5)"
   ]
  },
  {
   "cell_type": "code",
   "execution_count": 14,
   "metadata": {},
   "outputs": [],
   "source": [
    "#for i in range(mdl.num_timepoints):\n",
    "#yr_topic.append(get_topic(i))\n",
    "    \n",
    "yr_topic_norm = []\n",
    "for i in yr_topic_dist:\n",
    "    yr_norm = []\n",
    "    for j in i:\n",
    "        yr_norm.append(j/sum(i))\n",
    "    yr_topic_norm.append(yr_norm)\n",
    "\n",
    "topic_dist_norm = []\n",
    "for j in range(mdl.k):\n",
    "    topic_yr = []\n",
    "    for i in range(mdl.num_timepoints):\n",
    "        topic_yr.append(yr_topic_norm[i][j])\n",
    "    topic_dist_norm.append(topic_yr)"
   ]
  },
  {
   "cell_type": "code",
   "execution_count": 15,
   "metadata": {},
   "outputs": [],
   "source": [
    "topics = []\n",
    "topics_d = []\n",
    "for i in range(mdl.k):\n",
    "    for k in range(5):\n",
    "        topic = str(\"topic\") + str(i+1)\n",
    "        topic_d = str(\"topic\") + str(i+1)\n",
    "        topics.append(topic)\n",
    "        topics_d.append(topic_d)"
   ]
  },
  {
   "cell_type": "code",
   "execution_count": 16,
   "metadata": {},
   "outputs": [],
   "source": [
    "labels=[]\n",
    "labels_d=[]\n",
    "for i in range(0,len(topics),5):\n",
    "    labels.append(topics[i])\n",
    "    labels_d.append(topics_d[i])"
   ]
  },
  {
   "cell_type": "code",
   "execution_count": 17,
   "metadata": {},
   "outputs": [],
   "source": [
    "# NTIS/NEWS의 연도별 토픽확률 데이터프레임 생성\n",
    "\n",
    "rep_dict = {}\n",
    "for i in range(mdl.num_timepoints):\n",
    "    rep_dict[i]=yr_topic_norm[i]\n",
    "rep_topic_dist=pd.DataFrame(rep_dict)"
   ]
  },
  {
   "cell_type": "code",
   "execution_count": 18,
   "metadata": {},
   "outputs": [],
   "source": [
    "# NTIS/NEWS의 평균 토픽확률 도출\n",
    "\n",
    "s1=[]\n",
    "for i in range(mdl.k):\n",
    "    s1.append(sum(rep_topic_dist.iloc[i]))\n",
    "    \n",
    "s1=[i/mdl.num_timepoints for i in s1]\n",
    "\n",
    "rep_topic_dist['avg']=s1\n",
    "rep_topic_dist['topic']=labels_d"
   ]
  },
  {
   "cell_type": "code",
   "execution_count": 482,
   "metadata": {
    "scrolled": true
   },
   "outputs": [
    {
     "name": "stderr",
     "output_type": "stream",
     "text": [
      "C:\\ProgramData\\Anaconda3\\lib\\site-packages\\plotly\\io\\_renderers.py:396: DeprecationWarning:\n",
      "\n",
      "distutils Version classes are deprecated. Use packaging.version instead.\n",
      "\n",
      "C:\\ProgramData\\Anaconda3\\lib\\site-packages\\plotly\\io\\_renderers.py:396: DeprecationWarning:\n",
      "\n",
      "distutils Version classes are deprecated. Use packaging.version instead.\n",
      "\n"
     ]
    },
    {
     "data": {
      "application/vnd.plotly.v1+json": {
       "config": {
        "plotlyServerURL": "https://plot.ly"
       },
       "data": [
        {
         "name": "REPORT",
         "type": "bar",
         "x": [
          "topic1",
          "topic2",
          "topic3",
          "topic4",
          "topic5",
          "topic6",
          "topic7",
          "topic8",
          "topic9",
          "topic10",
          "topic11",
          "topic12",
          "topic13",
          "topic14",
          "topic15",
          "topic16",
          "topic17",
          "topic18",
          "topic19",
          "topic20",
          "topic21",
          "topic22",
          "topic23"
         ],
         "xaxis": "x",
         "y": [
          0.03647738469427428,
          0.014015887653084291,
          0.01709921129062228,
          0.002973996508043644,
          0.05684499240391418,
          0.05522755023582689,
          0.03964580843291155,
          0.01923083589426663,
          0.055621898972207914,
          0.09135354306805017,
          0.004571464656389865,
          0.07622514436239439,
          0.1267188916303225,
          0.12003091777235894,
          0.007829908352622499,
          0.03905314606237973,
          0.057391572256649884,
          0.04737763232673513,
          0.008337380370236586,
          0.0066149413858429176,
          0.007194711103379686,
          0.06234980486717603,
          0.04781337570031002
         ],
         "yaxis": "y"
        }
       ],
       "layout": {
        "autosize": true,
        "template": {
         "data": {
          "bar": [
           {
            "error_x": {
             "color": "#2a3f5f"
            },
            "error_y": {
             "color": "#2a3f5f"
            },
            "marker": {
             "line": {
              "color": "#E5ECF6",
              "width": 0.5
             }
            },
            "type": "bar"
           }
          ],
          "barpolar": [
           {
            "marker": {
             "line": {
              "color": "#E5ECF6",
              "width": 0.5
             }
            },
            "type": "barpolar"
           }
          ],
          "carpet": [
           {
            "aaxis": {
             "endlinecolor": "#2a3f5f",
             "gridcolor": "white",
             "linecolor": "white",
             "minorgridcolor": "white",
             "startlinecolor": "#2a3f5f"
            },
            "baxis": {
             "endlinecolor": "#2a3f5f",
             "gridcolor": "white",
             "linecolor": "white",
             "minorgridcolor": "white",
             "startlinecolor": "#2a3f5f"
            },
            "type": "carpet"
           }
          ],
          "choropleth": [
           {
            "colorbar": {
             "outlinewidth": 0,
             "ticks": ""
            },
            "type": "choropleth"
           }
          ],
          "contour": [
           {
            "colorbar": {
             "outlinewidth": 0,
             "ticks": ""
            },
            "colorscale": [
             [
              0,
              "#0d0887"
             ],
             [
              0.1111111111111111,
              "#46039f"
             ],
             [
              0.2222222222222222,
              "#7201a8"
             ],
             [
              0.3333333333333333,
              "#9c179e"
             ],
             [
              0.4444444444444444,
              "#bd3786"
             ],
             [
              0.5555555555555556,
              "#d8576b"
             ],
             [
              0.6666666666666666,
              "#ed7953"
             ],
             [
              0.7777777777777778,
              "#fb9f3a"
             ],
             [
              0.8888888888888888,
              "#fdca26"
             ],
             [
              1,
              "#f0f921"
             ]
            ],
            "type": "contour"
           }
          ],
          "contourcarpet": [
           {
            "colorbar": {
             "outlinewidth": 0,
             "ticks": ""
            },
            "type": "contourcarpet"
           }
          ],
          "heatmap": [
           {
            "colorbar": {
             "outlinewidth": 0,
             "ticks": ""
            },
            "colorscale": [
             [
              0,
              "#0d0887"
             ],
             [
              0.1111111111111111,
              "#46039f"
             ],
             [
              0.2222222222222222,
              "#7201a8"
             ],
             [
              0.3333333333333333,
              "#9c179e"
             ],
             [
              0.4444444444444444,
              "#bd3786"
             ],
             [
              0.5555555555555556,
              "#d8576b"
             ],
             [
              0.6666666666666666,
              "#ed7953"
             ],
             [
              0.7777777777777778,
              "#fb9f3a"
             ],
             [
              0.8888888888888888,
              "#fdca26"
             ],
             [
              1,
              "#f0f921"
             ]
            ],
            "type": "heatmap"
           }
          ],
          "heatmapgl": [
           {
            "colorbar": {
             "outlinewidth": 0,
             "ticks": ""
            },
            "colorscale": [
             [
              0,
              "#0d0887"
             ],
             [
              0.1111111111111111,
              "#46039f"
             ],
             [
              0.2222222222222222,
              "#7201a8"
             ],
             [
              0.3333333333333333,
              "#9c179e"
             ],
             [
              0.4444444444444444,
              "#bd3786"
             ],
             [
              0.5555555555555556,
              "#d8576b"
             ],
             [
              0.6666666666666666,
              "#ed7953"
             ],
             [
              0.7777777777777778,
              "#fb9f3a"
             ],
             [
              0.8888888888888888,
              "#fdca26"
             ],
             [
              1,
              "#f0f921"
             ]
            ],
            "type": "heatmapgl"
           }
          ],
          "histogram": [
           {
            "marker": {
             "colorbar": {
              "outlinewidth": 0,
              "ticks": ""
             }
            },
            "type": "histogram"
           }
          ],
          "histogram2d": [
           {
            "colorbar": {
             "outlinewidth": 0,
             "ticks": ""
            },
            "colorscale": [
             [
              0,
              "#0d0887"
             ],
             [
              0.1111111111111111,
              "#46039f"
             ],
             [
              0.2222222222222222,
              "#7201a8"
             ],
             [
              0.3333333333333333,
              "#9c179e"
             ],
             [
              0.4444444444444444,
              "#bd3786"
             ],
             [
              0.5555555555555556,
              "#d8576b"
             ],
             [
              0.6666666666666666,
              "#ed7953"
             ],
             [
              0.7777777777777778,
              "#fb9f3a"
             ],
             [
              0.8888888888888888,
              "#fdca26"
             ],
             [
              1,
              "#f0f921"
             ]
            ],
            "type": "histogram2d"
           }
          ],
          "histogram2dcontour": [
           {
            "colorbar": {
             "outlinewidth": 0,
             "ticks": ""
            },
            "colorscale": [
             [
              0,
              "#0d0887"
             ],
             [
              0.1111111111111111,
              "#46039f"
             ],
             [
              0.2222222222222222,
              "#7201a8"
             ],
             [
              0.3333333333333333,
              "#9c179e"
             ],
             [
              0.4444444444444444,
              "#bd3786"
             ],
             [
              0.5555555555555556,
              "#d8576b"
             ],
             [
              0.6666666666666666,
              "#ed7953"
             ],
             [
              0.7777777777777778,
              "#fb9f3a"
             ],
             [
              0.8888888888888888,
              "#fdca26"
             ],
             [
              1,
              "#f0f921"
             ]
            ],
            "type": "histogram2dcontour"
           }
          ],
          "mesh3d": [
           {
            "colorbar": {
             "outlinewidth": 0,
             "ticks": ""
            },
            "type": "mesh3d"
           }
          ],
          "parcoords": [
           {
            "line": {
             "colorbar": {
              "outlinewidth": 0,
              "ticks": ""
             }
            },
            "type": "parcoords"
           }
          ],
          "pie": [
           {
            "automargin": true,
            "type": "pie"
           }
          ],
          "scatter": [
           {
            "marker": {
             "colorbar": {
              "outlinewidth": 0,
              "ticks": ""
             }
            },
            "type": "scatter"
           }
          ],
          "scatter3d": [
           {
            "line": {
             "colorbar": {
              "outlinewidth": 0,
              "ticks": ""
             }
            },
            "marker": {
             "colorbar": {
              "outlinewidth": 0,
              "ticks": ""
             }
            },
            "type": "scatter3d"
           }
          ],
          "scattercarpet": [
           {
            "marker": {
             "colorbar": {
              "outlinewidth": 0,
              "ticks": ""
             }
            },
            "type": "scattercarpet"
           }
          ],
          "scattergeo": [
           {
            "marker": {
             "colorbar": {
              "outlinewidth": 0,
              "ticks": ""
             }
            },
            "type": "scattergeo"
           }
          ],
          "scattergl": [
           {
            "marker": {
             "colorbar": {
              "outlinewidth": 0,
              "ticks": ""
             }
            },
            "type": "scattergl"
           }
          ],
          "scattermapbox": [
           {
            "marker": {
             "colorbar": {
              "outlinewidth": 0,
              "ticks": ""
             }
            },
            "type": "scattermapbox"
           }
          ],
          "scatterpolar": [
           {
            "marker": {
             "colorbar": {
              "outlinewidth": 0,
              "ticks": ""
             }
            },
            "type": "scatterpolar"
           }
          ],
          "scatterpolargl": [
           {
            "marker": {
             "colorbar": {
              "outlinewidth": 0,
              "ticks": ""
             }
            },
            "type": "scatterpolargl"
           }
          ],
          "scatterternary": [
           {
            "marker": {
             "colorbar": {
              "outlinewidth": 0,
              "ticks": ""
             }
            },
            "type": "scatterternary"
           }
          ],
          "surface": [
           {
            "colorbar": {
             "outlinewidth": 0,
             "ticks": ""
            },
            "colorscale": [
             [
              0,
              "#0d0887"
             ],
             [
              0.1111111111111111,
              "#46039f"
             ],
             [
              0.2222222222222222,
              "#7201a8"
             ],
             [
              0.3333333333333333,
              "#9c179e"
             ],
             [
              0.4444444444444444,
              "#bd3786"
             ],
             [
              0.5555555555555556,
              "#d8576b"
             ],
             [
              0.6666666666666666,
              "#ed7953"
             ],
             [
              0.7777777777777778,
              "#fb9f3a"
             ],
             [
              0.8888888888888888,
              "#fdca26"
             ],
             [
              1,
              "#f0f921"
             ]
            ],
            "type": "surface"
           }
          ],
          "table": [
           {
            "cells": {
             "fill": {
              "color": "#EBF0F8"
             },
             "line": {
              "color": "white"
             }
            },
            "header": {
             "fill": {
              "color": "#C8D4E3"
             },
             "line": {
              "color": "white"
             }
            },
            "type": "table"
           }
          ]
         },
         "layout": {
          "annotationdefaults": {
           "arrowcolor": "#2a3f5f",
           "arrowhead": 0,
           "arrowwidth": 1
          },
          "autotypenumbers": "strict",
          "coloraxis": {
           "colorbar": {
            "outlinewidth": 0,
            "ticks": ""
           }
          },
          "colorscale": {
           "diverging": [
            [
             0,
             "#8e0152"
            ],
            [
             0.1,
             "#c51b7d"
            ],
            [
             0.2,
             "#de77ae"
            ],
            [
             0.3,
             "#f1b6da"
            ],
            [
             0.4,
             "#fde0ef"
            ],
            [
             0.5,
             "#f7f7f7"
            ],
            [
             0.6,
             "#e6f5d0"
            ],
            [
             0.7,
             "#b8e186"
            ],
            [
             0.8,
             "#7fbc41"
            ],
            [
             0.9,
             "#4d9221"
            ],
            [
             1,
             "#276419"
            ]
           ],
           "sequential": [
            [
             0,
             "#0d0887"
            ],
            [
             0.1111111111111111,
             "#46039f"
            ],
            [
             0.2222222222222222,
             "#7201a8"
            ],
            [
             0.3333333333333333,
             "#9c179e"
            ],
            [
             0.4444444444444444,
             "#bd3786"
            ],
            [
             0.5555555555555556,
             "#d8576b"
            ],
            [
             0.6666666666666666,
             "#ed7953"
            ],
            [
             0.7777777777777778,
             "#fb9f3a"
            ],
            [
             0.8888888888888888,
             "#fdca26"
            ],
            [
             1,
             "#f0f921"
            ]
           ],
           "sequentialminus": [
            [
             0,
             "#0d0887"
            ],
            [
             0.1111111111111111,
             "#46039f"
            ],
            [
             0.2222222222222222,
             "#7201a8"
            ],
            [
             0.3333333333333333,
             "#9c179e"
            ],
            [
             0.4444444444444444,
             "#bd3786"
            ],
            [
             0.5555555555555556,
             "#d8576b"
            ],
            [
             0.6666666666666666,
             "#ed7953"
            ],
            [
             0.7777777777777778,
             "#fb9f3a"
            ],
            [
             0.8888888888888888,
             "#fdca26"
            ],
            [
             1,
             "#f0f921"
            ]
           ]
          },
          "colorway": [
           "#636efa",
           "#EF553B",
           "#00cc96",
           "#ab63fa",
           "#FFA15A",
           "#19d3f3",
           "#FF6692",
           "#B6E880",
           "#FF97FF",
           "#FECB52"
          ],
          "font": {
           "color": "#2a3f5f"
          },
          "geo": {
           "bgcolor": "white",
           "lakecolor": "white",
           "landcolor": "#E5ECF6",
           "showlakes": true,
           "showland": true,
           "subunitcolor": "white"
          },
          "hoverlabel": {
           "align": "left"
          },
          "hovermode": "closest",
          "mapbox": {
           "style": "light"
          },
          "paper_bgcolor": "white",
          "plot_bgcolor": "#E5ECF6",
          "polar": {
           "angularaxis": {
            "gridcolor": "white",
            "linecolor": "white",
            "ticks": ""
           },
           "bgcolor": "#E5ECF6",
           "radialaxis": {
            "gridcolor": "white",
            "linecolor": "white",
            "ticks": ""
           }
          },
          "scene": {
           "xaxis": {
            "backgroundcolor": "#E5ECF6",
            "gridcolor": "white",
            "gridwidth": 2,
            "linecolor": "white",
            "showbackground": true,
            "ticks": "",
            "zerolinecolor": "white"
           },
           "yaxis": {
            "backgroundcolor": "#E5ECF6",
            "gridcolor": "white",
            "gridwidth": 2,
            "linecolor": "white",
            "showbackground": true,
            "ticks": "",
            "zerolinecolor": "white"
           },
           "zaxis": {
            "backgroundcolor": "#E5ECF6",
            "gridcolor": "white",
            "gridwidth": 2,
            "linecolor": "white",
            "showbackground": true,
            "ticks": "",
            "zerolinecolor": "white"
           }
          },
          "shapedefaults": {
           "line": {
            "color": "#2a3f5f"
           }
          },
          "ternary": {
           "aaxis": {
            "gridcolor": "white",
            "linecolor": "white",
            "ticks": ""
           },
           "baxis": {
            "gridcolor": "white",
            "linecolor": "white",
            "ticks": ""
           },
           "bgcolor": "#E5ECF6",
           "caxis": {
            "gridcolor": "white",
            "linecolor": "white",
            "ticks": ""
           }
          },
          "title": {
           "x": 0.05
          },
          "xaxis": {
           "automargin": true,
           "gridcolor": "white",
           "linecolor": "white",
           "ticks": "",
           "title": {
            "standoff": 15
           },
           "zerolinecolor": "white",
           "zerolinewidth": 2
          },
          "yaxis": {
           "automargin": true,
           "gridcolor": "white",
           "linecolor": "white",
           "ticks": "",
           "title": {
            "standoff": 15
           },
           "zerolinecolor": "white",
           "zerolinewidth": 2
          }
         }
        },
        "title": {
         "font": {
          "size": 20
         },
         "text": "Average DTM Topic Distribution"
        },
        "xaxis": {
         "anchor": "y",
         "autorange": true,
         "domain": [
          0,
          1
         ],
         "range": [
          -0.5,
          22.5
         ],
         "showticklabels": true,
         "type": "category",
         "visible": true
        },
        "yaxis": {
         "anchor": "x",
         "autorange": true,
         "domain": [
          0,
          1
         ],
         "range": [
          0,
          0.13338830697928683
         ],
         "showticklabels": true,
         "title": {
          "text": "Prob"
         },
         "type": "linear",
         "visible": true
        }
       }
      },
      "text/html": [
       "<div>                            <div id=\"04128061-c6d4-4ef5-92fc-37c9aefce590\" class=\"plotly-graph-div\" style=\"height:525px; width:100%;\"></div>            <script type=\"text/javascript\">                require([\"plotly\"], function(Plotly) {                    window.PLOTLYENV=window.PLOTLYENV || {};                                    if (document.getElementById(\"04128061-c6d4-4ef5-92fc-37c9aefce590\")) {                    Plotly.newPlot(                        \"04128061-c6d4-4ef5-92fc-37c9aefce590\",                        [{\"name\": \"REPORT\", \"type\": \"bar\", \"x\": [\"topic1\", \"topic2\", \"topic3\", \"topic4\", \"topic5\", \"topic6\", \"topic7\", \"topic8\", \"topic9\", \"topic10\", \"topic11\", \"topic12\", \"topic13\", \"topic14\", \"topic15\", \"topic16\", \"topic17\", \"topic18\", \"topic19\", \"topic20\", \"topic21\", \"topic22\", \"topic23\"], \"xaxis\": \"x\", \"y\": [0.03647738469427428, 0.014015887653084291, 0.01709921129062228, 0.002973996508043644, 0.05684499240391418, 0.05522755023582689, 0.03964580843291155, 0.01923083589426663, 0.055621898972207914, 0.09135354306805017, 0.004571464656389865, 0.07622514436239439, 0.1267188916303225, 0.12003091777235894, 0.007829908352622499, 0.03905314606237973, 0.057391572256649884, 0.04737763232673513, 0.008337380370236586, 0.0066149413858429176, 0.007194711103379686, 0.06234980486717603, 0.04781337570031002], \"yaxis\": \"y\"}],                        {\"template\": {\"data\": {\"bar\": [{\"error_x\": {\"color\": \"#2a3f5f\"}, \"error_y\": {\"color\": \"#2a3f5f\"}, \"marker\": {\"line\": {\"color\": \"#E5ECF6\", \"width\": 0.5}}, \"type\": \"bar\"}], \"barpolar\": [{\"marker\": {\"line\": {\"color\": \"#E5ECF6\", \"width\": 0.5}}, \"type\": \"barpolar\"}], \"carpet\": [{\"aaxis\": {\"endlinecolor\": \"#2a3f5f\", \"gridcolor\": \"white\", \"linecolor\": \"white\", \"minorgridcolor\": \"white\", \"startlinecolor\": \"#2a3f5f\"}, \"baxis\": {\"endlinecolor\": \"#2a3f5f\", \"gridcolor\": \"white\", \"linecolor\": \"white\", \"minorgridcolor\": \"white\", \"startlinecolor\": \"#2a3f5f\"}, \"type\": \"carpet\"}], \"choropleth\": [{\"colorbar\": {\"outlinewidth\": 0, \"ticks\": \"\"}, \"type\": \"choropleth\"}], \"contour\": [{\"colorbar\": {\"outlinewidth\": 0, \"ticks\": \"\"}, \"colorscale\": [[0.0, \"#0d0887\"], [0.1111111111111111, \"#46039f\"], [0.2222222222222222, \"#7201a8\"], [0.3333333333333333, \"#9c179e\"], [0.4444444444444444, \"#bd3786\"], [0.5555555555555556, \"#d8576b\"], [0.6666666666666666, \"#ed7953\"], [0.7777777777777778, \"#fb9f3a\"], [0.8888888888888888, \"#fdca26\"], [1.0, \"#f0f921\"]], \"type\": \"contour\"}], \"contourcarpet\": [{\"colorbar\": {\"outlinewidth\": 0, \"ticks\": \"\"}, \"type\": \"contourcarpet\"}], \"heatmap\": [{\"colorbar\": {\"outlinewidth\": 0, \"ticks\": \"\"}, \"colorscale\": [[0.0, \"#0d0887\"], [0.1111111111111111, \"#46039f\"], [0.2222222222222222, \"#7201a8\"], [0.3333333333333333, \"#9c179e\"], [0.4444444444444444, \"#bd3786\"], [0.5555555555555556, \"#d8576b\"], [0.6666666666666666, \"#ed7953\"], [0.7777777777777778, \"#fb9f3a\"], [0.8888888888888888, \"#fdca26\"], [1.0, \"#f0f921\"]], \"type\": \"heatmap\"}], \"heatmapgl\": [{\"colorbar\": {\"outlinewidth\": 0, \"ticks\": \"\"}, \"colorscale\": [[0.0, \"#0d0887\"], [0.1111111111111111, \"#46039f\"], [0.2222222222222222, \"#7201a8\"], [0.3333333333333333, \"#9c179e\"], [0.4444444444444444, \"#bd3786\"], [0.5555555555555556, \"#d8576b\"], [0.6666666666666666, \"#ed7953\"], [0.7777777777777778, \"#fb9f3a\"], [0.8888888888888888, \"#fdca26\"], [1.0, \"#f0f921\"]], \"type\": \"heatmapgl\"}], \"histogram\": [{\"marker\": {\"colorbar\": {\"outlinewidth\": 0, \"ticks\": \"\"}}, \"type\": \"histogram\"}], \"histogram2d\": [{\"colorbar\": {\"outlinewidth\": 0, \"ticks\": \"\"}, \"colorscale\": [[0.0, \"#0d0887\"], [0.1111111111111111, \"#46039f\"], [0.2222222222222222, \"#7201a8\"], [0.3333333333333333, \"#9c179e\"], [0.4444444444444444, \"#bd3786\"], [0.5555555555555556, \"#d8576b\"], [0.6666666666666666, \"#ed7953\"], [0.7777777777777778, \"#fb9f3a\"], [0.8888888888888888, \"#fdca26\"], [1.0, \"#f0f921\"]], \"type\": \"histogram2d\"}], \"histogram2dcontour\": [{\"colorbar\": {\"outlinewidth\": 0, \"ticks\": \"\"}, \"colorscale\": [[0.0, \"#0d0887\"], [0.1111111111111111, \"#46039f\"], [0.2222222222222222, \"#7201a8\"], [0.3333333333333333, \"#9c179e\"], [0.4444444444444444, \"#bd3786\"], [0.5555555555555556, \"#d8576b\"], [0.6666666666666666, \"#ed7953\"], [0.7777777777777778, \"#fb9f3a\"], [0.8888888888888888, \"#fdca26\"], [1.0, \"#f0f921\"]], \"type\": \"histogram2dcontour\"}], \"mesh3d\": [{\"colorbar\": {\"outlinewidth\": 0, \"ticks\": \"\"}, \"type\": \"mesh3d\"}], \"parcoords\": [{\"line\": {\"colorbar\": {\"outlinewidth\": 0, \"ticks\": \"\"}}, \"type\": \"parcoords\"}], \"pie\": [{\"automargin\": true, \"type\": \"pie\"}], \"scatter\": [{\"marker\": {\"colorbar\": {\"outlinewidth\": 0, \"ticks\": \"\"}}, \"type\": \"scatter\"}], \"scatter3d\": [{\"line\": {\"colorbar\": {\"outlinewidth\": 0, \"ticks\": \"\"}}, \"marker\": {\"colorbar\": {\"outlinewidth\": 0, \"ticks\": \"\"}}, \"type\": \"scatter3d\"}], \"scattercarpet\": [{\"marker\": {\"colorbar\": {\"outlinewidth\": 0, \"ticks\": \"\"}}, \"type\": \"scattercarpet\"}], \"scattergeo\": [{\"marker\": {\"colorbar\": {\"outlinewidth\": 0, \"ticks\": \"\"}}, \"type\": \"scattergeo\"}], \"scattergl\": [{\"marker\": {\"colorbar\": {\"outlinewidth\": 0, \"ticks\": \"\"}}, \"type\": \"scattergl\"}], \"scattermapbox\": [{\"marker\": {\"colorbar\": {\"outlinewidth\": 0, \"ticks\": \"\"}}, \"type\": \"scattermapbox\"}], \"scatterpolar\": [{\"marker\": {\"colorbar\": {\"outlinewidth\": 0, \"ticks\": \"\"}}, \"type\": \"scatterpolar\"}], \"scatterpolargl\": [{\"marker\": {\"colorbar\": {\"outlinewidth\": 0, \"ticks\": \"\"}}, \"type\": \"scatterpolargl\"}], \"scatterternary\": [{\"marker\": {\"colorbar\": {\"outlinewidth\": 0, \"ticks\": \"\"}}, \"type\": \"scatterternary\"}], \"surface\": [{\"colorbar\": {\"outlinewidth\": 0, \"ticks\": \"\"}, \"colorscale\": [[0.0, \"#0d0887\"], [0.1111111111111111, \"#46039f\"], [0.2222222222222222, \"#7201a8\"], [0.3333333333333333, \"#9c179e\"], [0.4444444444444444, \"#bd3786\"], [0.5555555555555556, \"#d8576b\"], [0.6666666666666666, \"#ed7953\"], [0.7777777777777778, \"#fb9f3a\"], [0.8888888888888888, \"#fdca26\"], [1.0, \"#f0f921\"]], \"type\": \"surface\"}], \"table\": [{\"cells\": {\"fill\": {\"color\": \"#EBF0F8\"}, \"line\": {\"color\": \"white\"}}, \"header\": {\"fill\": {\"color\": \"#C8D4E3\"}, \"line\": {\"color\": \"white\"}}, \"type\": \"table\"}]}, \"layout\": {\"annotationdefaults\": {\"arrowcolor\": \"#2a3f5f\", \"arrowhead\": 0, \"arrowwidth\": 1}, \"autotypenumbers\": \"strict\", \"coloraxis\": {\"colorbar\": {\"outlinewidth\": 0, \"ticks\": \"\"}}, \"colorscale\": {\"diverging\": [[0, \"#8e0152\"], [0.1, \"#c51b7d\"], [0.2, \"#de77ae\"], [0.3, \"#f1b6da\"], [0.4, \"#fde0ef\"], [0.5, \"#f7f7f7\"], [0.6, \"#e6f5d0\"], [0.7, \"#b8e186\"], [0.8, \"#7fbc41\"], [0.9, \"#4d9221\"], [1, \"#276419\"]], \"sequential\": [[0.0, \"#0d0887\"], [0.1111111111111111, \"#46039f\"], [0.2222222222222222, \"#7201a8\"], [0.3333333333333333, \"#9c179e\"], [0.4444444444444444, \"#bd3786\"], [0.5555555555555556, \"#d8576b\"], [0.6666666666666666, \"#ed7953\"], [0.7777777777777778, \"#fb9f3a\"], [0.8888888888888888, \"#fdca26\"], [1.0, \"#f0f921\"]], \"sequentialminus\": [[0.0, \"#0d0887\"], [0.1111111111111111, \"#46039f\"], [0.2222222222222222, \"#7201a8\"], [0.3333333333333333, \"#9c179e\"], [0.4444444444444444, \"#bd3786\"], [0.5555555555555556, \"#d8576b\"], [0.6666666666666666, \"#ed7953\"], [0.7777777777777778, \"#fb9f3a\"], [0.8888888888888888, \"#fdca26\"], [1.0, \"#f0f921\"]]}, \"colorway\": [\"#636efa\", \"#EF553B\", \"#00cc96\", \"#ab63fa\", \"#FFA15A\", \"#19d3f3\", \"#FF6692\", \"#B6E880\", \"#FF97FF\", \"#FECB52\"], \"font\": {\"color\": \"#2a3f5f\"}, \"geo\": {\"bgcolor\": \"white\", \"lakecolor\": \"white\", \"landcolor\": \"#E5ECF6\", \"showlakes\": true, \"showland\": true, \"subunitcolor\": \"white\"}, \"hoverlabel\": {\"align\": \"left\"}, \"hovermode\": \"closest\", \"mapbox\": {\"style\": \"light\"}, \"paper_bgcolor\": \"white\", \"plot_bgcolor\": \"#E5ECF6\", \"polar\": {\"angularaxis\": {\"gridcolor\": \"white\", \"linecolor\": \"white\", \"ticks\": \"\"}, \"bgcolor\": \"#E5ECF6\", \"radialaxis\": {\"gridcolor\": \"white\", \"linecolor\": \"white\", \"ticks\": \"\"}}, \"scene\": {\"xaxis\": {\"backgroundcolor\": \"#E5ECF6\", \"gridcolor\": \"white\", \"gridwidth\": 2, \"linecolor\": \"white\", \"showbackground\": true, \"ticks\": \"\", \"zerolinecolor\": \"white\"}, \"yaxis\": {\"backgroundcolor\": \"#E5ECF6\", \"gridcolor\": \"white\", \"gridwidth\": 2, \"linecolor\": \"white\", \"showbackground\": true, \"ticks\": \"\", \"zerolinecolor\": \"white\"}, \"zaxis\": {\"backgroundcolor\": \"#E5ECF6\", \"gridcolor\": \"white\", \"gridwidth\": 2, \"linecolor\": \"white\", \"showbackground\": true, \"ticks\": \"\", \"zerolinecolor\": \"white\"}}, \"shapedefaults\": {\"line\": {\"color\": \"#2a3f5f\"}}, \"ternary\": {\"aaxis\": {\"gridcolor\": \"white\", \"linecolor\": \"white\", \"ticks\": \"\"}, \"baxis\": {\"gridcolor\": \"white\", \"linecolor\": \"white\", \"ticks\": \"\"}, \"bgcolor\": \"#E5ECF6\", \"caxis\": {\"gridcolor\": \"white\", \"linecolor\": \"white\", \"ticks\": \"\"}}, \"title\": {\"x\": 0.05}, \"xaxis\": {\"automargin\": true, \"gridcolor\": \"white\", \"linecolor\": \"white\", \"ticks\": \"\", \"title\": {\"standoff\": 15}, \"zerolinecolor\": \"white\", \"zerolinewidth\": 2}, \"yaxis\": {\"automargin\": true, \"gridcolor\": \"white\", \"linecolor\": \"white\", \"ticks\": \"\", \"title\": {\"standoff\": 15}, \"zerolinecolor\": \"white\", \"zerolinewidth\": 2}}}, \"title\": {\"font\": {\"size\": 20}, \"text\": \"Average DTM Topic Distribution\"}, \"xaxis\": {\"anchor\": \"y\", \"domain\": [0.0, 1.0], \"showticklabels\": true, \"visible\": true}, \"yaxis\": {\"anchor\": \"x\", \"domain\": [0.0, 1.0], \"showticklabels\": true, \"title\": {\"text\": \"Prob\"}, \"visible\": true}},                        {\"responsive\": true}                    ).then(function(){\n",
       "                            \n",
       "var gd = document.getElementById('04128061-c6d4-4ef5-92fc-37c9aefce590');\n",
       "var x = new MutationObserver(function (mutations, observer) {{\n",
       "        var display = window.getComputedStyle(gd).display;\n",
       "        if (!display || display === 'none') {{\n",
       "            console.log([gd, 'removed!']);\n",
       "            Plotly.purge(gd);\n",
       "            observer.disconnect();\n",
       "        }}\n",
       "}});\n",
       "\n",
       "// Listen for the removal of the full notebook cells\n",
       "var notebookContainer = gd.closest('#notebook-container');\n",
       "if (notebookContainer) {{\n",
       "    x.observe(notebookContainer, {childList: true});\n",
       "}}\n",
       "\n",
       "// Listen for the clearing of the current output cell\n",
       "var outputEl = gd.closest('.output');\n",
       "if (outputEl) {{\n",
       "    x.observe(outputEl, {childList: true});\n",
       "}}\n",
       "\n",
       "                        })                };                });            </script>        </div>"
      ]
     },
     "metadata": {},
     "output_type": "display_data"
    }
   ],
   "source": [
    "# output type : Average ICT NTIS/NEWS 연도별 html 파일 (html/DTM 폴더)\n",
    "\n",
    "fig = make_subplots(\n",
    "        rows=1, cols=1, shared_xaxes=True, vertical_spacing=0.1\n",
    "    )\n",
    "fig.add_bar(x=labels_d, y=rep_topic_dist['avg'], name =\"REPORT\", row=1, col=1)\n",
    "fig.update_layout(title=go.layout.Title(text=\"Average DTM Topic Distribution\",\n",
    "                                        font=go.layout.title.Font(size=20)),\n",
    "                 yaxis_title=\"Prob\")\n",
    "\n",
    "fig.update_xaxes(visible=True, showticklabels=True)\n",
    "fig.update_yaxes(visible=True, showticklabels=True)\n",
    "fig.show()\n",
    "#fig.write_html('./html/DTM/Average_DTM'+str(num_topics)+'.html')\n",
    "fig.write_html('./html/DTM/REPORT/Average_DTM'+str(23)+'.html')"
   ]
  },
  {
   "cell_type": "markdown",
   "metadata": {},
   "source": [
    "## 연도별 변화 확인"
   ]
  },
  {
   "cell_type": "code",
   "execution_count": 478,
   "metadata": {},
   "outputs": [],
   "source": [
    "color=[ 'aquamarine', 'black', 'blue',\n",
    "            'blueviolet', 'brown', 'burlywood', 'cadetblue',\n",
    "            'chartreuse', 'chocolate', 'coral', 'cornflowerblue',\n",
    "            'cornsilk', 'crimson', 'cyan', 'darkblue', 'darkcyan',\n",
    "            'darkgoldenrod', 'darkgray', 'darkgrey', 'darkgreen',\n",
    "            'darkkhaki', 'darkmagenta', 'darkolivegreen', 'darkorange',\n",
    "            'darkorchid', 'darkred', 'darksalmon', 'darkseagreen',\n",
    "            'darkslateblue', 'darkslategray', 'darkslategrey',\n",
    "            'darkturquoise', 'darkviolet', 'deeppink', 'deepskyblue',\n",
    "            'dimgray', 'dimgrey', 'dodgerblue', 'firebrick',\n",
    "            'floralwhite', 'forestgreen', 'fuchsia', 'gainsboro',\n",
    "            'ghostwhite', 'gold', 'goldenrod', 'gray', 'grey', 'green',\n",
    "            'greenyellow', 'honeydew', 'hotpink', 'indianred', 'indigo',\n",
    "            'ivory', 'khaki', 'lavender', 'lavenderblush', 'lawngreen',\n",
    "            'lemonchiffon', 'lightblue', 'lightcoral', 'lightcyan',\n",
    "            'lightgoldenrodyellow', 'lightgray', 'lightgrey',\n",
    "            'lightgreen', 'lightpink', 'lightsalmon', 'lightseagreen',\n",
    "            'lightskyblue', 'lightslategray', 'lightslategrey',\n",
    "            'lightsteelblue', 'lightyellow', 'lime', 'limegreen',\n",
    "   #         linen, magenta, maroon, mediumaquamarine,\n",
    "   #         mediumblue, mediumorchid, mediumpurple,\n",
    "   ##         mediumseagreen, mediumslateblue, mediumspringgreen,\n",
    "   #         mediumturquoise, mediumvioletred, midnightblue,\n",
    "   #         mintcream, mistyrose, moccasin, navajowhite, navy,\n",
    "   #         oldlace, olive, olivedrab, orange, orangered,\n",
    "   #         orchid, palegoldenrod, palegreen, paleturquoise,\n",
    "   #         palevioletred, papayawhip, peachpuff, peru, pink,\n",
    "   #         plum, powderblue, purple, red, rosybrown,\n",
    "   #         royalblue, rebeccapurple, saddlebrown, salmon,\n",
    "   #         sandybrown, seagreen, seashell, sienna, silver,\n",
    "   #         skyblue, slateblue, slategray, slategrey, snow,\n",
    "    #        springgreen, steelblue, tan, teal, thistle, tomato,\n",
    "    #        turquoise, violet, wheat, white, whitesmoke,\n",
    "            'yellow', 'yellowgreen']"
   ]
  },
  {
   "cell_type": "code",
   "execution_count": 479,
   "metadata": {},
   "outputs": [],
   "source": [
    "# output type : NTIS 상위 DTM 토픽 비중 html 파일 (html/DTM 폴더)\n",
    "\n",
    "def plot_topn_topics_rep(topn):\n",
    "\n",
    "    total_ntis = []\n",
    "\n",
    "    for i in range(topn):\n",
    "        trace = go.Scatter(y = rep_topic_dist.sort_values(by=['avg'],axis=0,ascending=False).iloc[i][:mdl.num_timepoints], mode = 'lines+markers',hovertext='REP '+ rep_topic_dist.sort_values(by=['avg'],axis=0,ascending=False)['topic'].iloc[i][5:], hoverinfo='text', name = 'REP '+ rep_topic_dist.sort_values(by=['avg'],axis=0,ascending=False)['topic'].iloc[i], \n",
    "                           marker=dict(symbol='cross', color=color[i]),\n",
    "                           line = dict(color=color[i]))\n",
    "        total_ntis.append(trace)\n",
    "\n",
    "    \n",
    "    layout = go.Layout(title='REP DTM 상위 '+str(topn)+'개 토픽별 트렌드',legend=dict(x=0,y=-1.7),margin=dict(l=20, r=20, t=60, b=300),paper_bgcolor=\"White\",\n",
    "                       autosize=True,title_font_size=30,font=dict(size=15),hoverlabel=dict(\n",
    "        \n",
    "        font_size=16,\n",
    "        font_family=\"Rockwell\"\n",
    "    ),\n",
    "                    xaxis=dict({\"tickvals\":list(range(0,mdl.num_timepoints)),\n",
    "                            \"ticktext\":[str(i) for i in list(range(start_year,start_year+mdl.num_timepoints))],\n",
    "                           \"title\":\"Year\"}),\n",
    "                    yaxis=dict({\"title\":\"Prob\"}),\n",
    "                    height=2000,width=600)\n",
    "    \n",
    "    gen_ntis = go.Figure(data=total_ntis, layout=layout)\n",
    "    pyo.iplot(gen_ntis)\n",
    "    gen_ntis.write_html('./html/DTM/REPORT/상위'+str(topn)+'.html')"
   ]
  },
  {
   "cell_type": "code",
   "execution_count": null,
   "metadata": {},
   "outputs": [],
   "source": [
    "# 앞단에서 입력했던 토픽 개수 초과 시 에러 발생 유의\n",
    "\n",
    "plot_topn_topics_rep(int(input(\"상위 토픽 갯수 : \")))"
   ]
  },
  {
   "cell_type": "markdown",
   "metadata": {},
   "source": [
    "## 대표문서 확인"
   ]
  },
  {
   "cell_type": "code",
   "execution_count": 429,
   "metadata": {},
   "outputs": [
    {
     "name": "stderr",
     "output_type": "stream",
     "text": [
      "100%|██████████████████████████████████████████████████████████████████████████████████████████| 23/23 [00:00<?, ?it/s]\n"
     ]
    }
   ],
   "source": [
    "## 대표 문서 확인\n",
    "for i in tqdm(range(mdl.k)) : \n",
    "    for m in range(num_time) :\n",
    "        globals()['doc_to_{}'.format(str(i)+\"_\"+str(m))] = 0\n",
    "        globals()['doc_time_{}'.format(str(i)+\"_\"+str(m))] = 0\n",
    "        globals()['doc_prob_{}'.format(str(i)+\"_\"+str(m))] = 0\n",
    "        globals()['doc_index_{}'.format(str(i)+\"_\"+str(m))] = 0"
   ]
  },
  {
   "cell_type": "code",
   "execution_count": 430,
   "metadata": {
    "scrolled": true
   },
   "outputs": [
    {
     "name": "stderr",
     "output_type": "stream",
     "text": [
      "100%|████████████████████████████████████████████████████████████████████████████| 458/458 [00:00<00:00, 229618.84it/s]\n"
     ]
    }
   ],
   "source": [
    "for k in tqdm(range(len(doc_insts))):\n",
    "    temp_doc_to = doc_insts[k].get_topics()[0][0]\n",
    "    temp_doc_time = doc_insts[k].timepoint\n",
    "    temp_doc_prob = doc_insts[k].get_topics()[0][1]\n",
    "    if globals()['doc_prob_{}'.format(str(temp_doc_to)+\"_\"+str(temp_doc_time))] < temp_doc_prob :\n",
    "        globals()['doc_to_{}'.format(str(temp_doc_to)+\"_\"+str(temp_doc_time))] = temp_doc_to \n",
    "        globals()['doc_time_{}'.format(str(temp_doc_to)+\"_\"+str(temp_doc_time))] = temp_doc_time\n",
    "        globals()['doc_prob_{}'.format(str(temp_doc_to)+\"_\"+str(temp_doc_time))] = temp_doc_prob\n",
    "        globals()['doc_index_{}'.format(str(temp_doc_to)+\"_\"+str(temp_doc_time))] = k"
   ]
  },
  {
   "cell_type": "code",
   "execution_count": 472,
   "metadata": {},
   "outputs": [
    {
     "name": "stderr",
     "output_type": "stream",
     "text": [
      "100%|██████████████████████████████████████████████████████████████████████████████████████████| 23/23 [00:00<?, ?it/s]\n",
      "100%|████████████████████████████████████████████████████████████████████████████| 111/111 [00:00<00:00, 111353.20it/s]\n"
     ]
    }
   ],
   "source": [
    "## 대표 문서 확인\n",
    "for i in tqdm(range(mdl.k)) : \n",
    "    globals()['doc_to_2_{}'.format(str(i)+\"_\"+str(5))] = 0\n",
    "    globals()['doc_time_2_{}'.format(str(i)+\"_\"+str(5))] = 5\n",
    "    globals()['doc_prob_2_{}'.format(str(i)+\"_\"+str(5))] = 0\n",
    "    globals()['doc_index_2_{}'.format(str(i)+\"_\"+str(5))] = 0\n",
    "\n",
    "for k in tqdm(range(len(doc_insts_2))):\n",
    "    temp_doc_to_2 = doc_insts_2[k].get_topics()[0][0]\n",
    "    temp_doc_prob_2 = doc_insts_2[k].get_topics()[0][1]\n",
    "    if globals()['doc_prob_2_{}'.format(str(temp_doc_to_2)+\"_\"+str(5))] < temp_doc_prob_2 :\n",
    "        globals()['doc_to_2_{}'.format(str(temp_doc_to_2)+\"_\"+str(5))] = temp_doc_to_2 \n",
    "        globals()['doc_prob_2_{}'.format(str(temp_doc_to_2)+\"_\"+str(5))] = temp_doc_prob_2\n",
    "        globals()['doc_index_2_{}'.format(str(temp_doc_to_2)+\"_\"+str(5))] = k"
   ]
  },
  {
   "cell_type": "code",
   "execution_count": null,
   "metadata": {
    "scrolled": true
   },
   "outputs": [],
   "source": [
    "for i in tqdm(range(mdl.k)) : \n",
    "    for m in range(num_time-1) :\n",
    "        print(\"\\n topic_\" + str(i+1) + \"_\" + str(m+2017))\n",
    "        print(\"index : \" + str(globals()['doc_index_{}'.format(str(i)+\"_\"+str(m))]))\n",
    "        print(\"prob : \" + str(globals()['doc_prob_{}'.format(str(i)+\"_\"+str(m))]))\n",
    "        print(doc_insts[globals()['doc_index_{}'.format(str(i)+\"_\"+str(m))]])\n",
    "    print(\"\\n topic_\" + str(i+1) + \"_\" + str(2021))\n",
    "    print(\"index : \" + str(globals()['doc_index_2_{}'.format(str(i)+\"_\"+str(5))]))\n",
    "    print(\"prob : \" + str(globals()['doc_prob_2_{}'.format(str(i)+\"_\"+str(5))]))\n",
    "    print(doc_insts_2[globals()['doc_index_2_{}'.format(str(i)+\"_\"+str(5))]])"
   ]
  },
  {
   "cell_type": "code",
   "execution_count": null,
   "metadata": {},
   "outputs": [],
   "source": []
  },
  {
   "cell_type": "code",
   "execution_count": null,
   "metadata": {},
   "outputs": [],
   "source": []
  },
  {
   "cell_type": "markdown",
   "metadata": {},
   "source": [
    "## 단어의 트렌드 확인"
   ]
  },
  {
   "cell_type": "code",
   "execution_count": null,
   "metadata": {},
   "outputs": [],
   "source": [
    "def getdata(top_n):\n",
    "    topic= list(range(mdl.k))\n",
    "    year=list(range(mdl.num_timepoints))\n",
    "    for to_nu in tqdm(topic):\n",
    "        for ye in year:\n",
    "            wo=[]\n",
    "            di=[]\n",
    "            name_year=list(range(start_year,start_year+mdl.num_timepoints))\n",
    "            word=mdl.get_topic_words(to_nu,ye,top_n)\n",
    "            for i in word:\n",
    "                wo.append(i[0])\n",
    "                di.append(i[1])\n",
    "            data_FR=pd.DataFrame(data={'word':wo,name_year[ye]:di})\n",
    "            if ye==0:\n",
    "                to_da=data_FR\n",
    "            else:\n",
    "                to_da=pd.merge(to_da,data_FR,on='word',how='outer')\n",
    "        \n",
    "        if to_nu==0:\n",
    "            final_da=to_da\n",
    "        else:\n",
    "            final_da=pd.concat([final_da, to_da])\n",
    "            final_da=final_da.fillna(0)\n",
    "    return final_da"
   ]
  },
  {
   "cell_type": "code",
   "execution_count": null,
   "metadata": {},
   "outputs": [],
   "source": [
    "dir(doc_insts[0])"
   ]
  },
  {
   "cell_type": "code",
   "execution_count": 442,
   "metadata": {},
   "outputs": [
    {
     "data": {
      "text/plain": [
       "<tomotopy.Document with words=\"모바일 클라우드 컴퓨팅 모바일 기기 급격 발달 세계 확산 인해 사용 5g iot 혁신 모바일 하드웨어 기술 기반 해서 구글 애플 페이스북 기업 모바일 인공지능 분야 활발 경쟁 모바일 클라우드 컴퓨팅 분야 빅데이터 처리 집중 인공지능 기계학습 기반 협업 학습 방식 대한 논의 부족 본고 모바일 클라우드 컴퓨팅 기반 모바일 기계 학습 발전 과정 검토 연합 학습 기존 기술 차이점 비교 최신 경향 정리 통해 시사점 제시 연합학습 의의 데이터 유출 대한 협업 기계 학습 가능 시사점 최근 연합학습 연구 폭발 증가 세계 인기 불구 한국 상황 않 올해 데이터 개정 연합 학습 기틀 마련 한국 학계 산업계 융복합 연구 기술사업화 노력 요구 됨\">"
      ]
     },
     "execution_count": 442,
     "metadata": {},
     "output_type": "execute_result"
    }
   ],
   "source": [
    "doc_insts[0]"
   ]
  },
  {
   "cell_type": "code",
   "execution_count": 441,
   "metadata": {},
   "outputs": [
    {
     "data": {
      "text/plain": [
       "[('모바일', 0.06730769574642181),\n",
       " ('학습', 0.048076923936605453),\n",
       " ('기반', 0.028846153989434242),\n",
       " ('컴퓨팅', 0.028846153989434242),\n",
       " ('클라우드', 0.028846153989434242),\n",
       " ('분야', 0.01923076994717121),\n",
       " ('기술', 0.01923076994717121),\n",
       " ('연구', 0.01923076994717121),\n",
       " ('기계', 0.01923076994717121),\n",
       " ('데이터', 0.01923076994717121)]"
      ]
     },
     "execution_count": 441,
     "metadata": {},
     "output_type": "execute_result"
    }
   ],
   "source": [
    "doc_insts[0].get_words()"
   ]
  },
  {
   "cell_type": "code",
   "execution_count": 443,
   "metadata": {},
   "outputs": [
    {
     "data": {
      "text/plain": [
       "[('제품', 0.08355680853128433),\n",
       " ('소프트웨어', 0.030481046065688133),\n",
       " ('부품', 0.027814481407403946),\n",
       " ('스마트', 0.025936855003237724),\n",
       " ('앱', 0.02514858916401863)]"
      ]
     },
     "execution_count": 443,
     "metadata": {},
     "output_type": "execute_result"
    }
   ],
   "source": [
    "mdl.get_topic_words(0,0,5)"
   ]
  },
  {
   "cell_type": "code",
   "execution_count": 445,
   "metadata": {},
   "outputs": [
    {
     "data": {
      "text/plain": [
       "array([2.0016289e-09, 0.0000000e+00, 1.2183502e-06, ..., 3.0348960e-07,\n",
       "       3.1666357e-07, 3.1640164e-07], dtype=float32)"
      ]
     },
     "execution_count": 445,
     "metadata": {},
     "output_type": "execute_result"
    }
   ],
   "source": [
    "mdl.get_topic_word_dist(0,0)"
   ]
  },
  {
   "cell_type": "markdown",
   "metadata": {},
   "source": [
    "# VAR/LSTM data 생성"
   ]
  },
  {
   "cell_type": "code",
   "execution_count": 19,
   "metadata": {},
   "outputs": [
    {
     "name": "stdout",
     "output_type": "stream",
     "text": [
      "폴더가 이미 존재합니다.\n"
     ]
    }
   ],
   "source": [
    "try:\n",
    "    os.mkdir('./prediction/REPORT/')\n",
    "except FileExistsError:\n",
    "    print(\"폴더가 이미 존재합니다.\")"
   ]
  },
  {
   "cell_type": "code",
   "execution_count": 22,
   "metadata": {},
   "outputs": [],
   "source": [
    "# output type : 예측 모델링을 위한 pkl 파일 (data/PREDICTION 폴더)\n",
    "\n",
    "#del rep_topic_dist['avg']\n",
    "#del rep_topic_dist['rel']\n",
    "rep_topic_dist.to_pickle(\"./prediction/REPORT/REPORT_topic_dist_\"+str(\"23\")+\".pkl\")\n",
    "#df.to_pickle(\"./prediction/REPORT/WORDS_\"+str(\"23\")+\".pkl\")"
   ]
  },
  {
   "cell_type": "code",
   "execution_count": 24,
   "metadata": {},
   "outputs": [],
   "source": [
    "rep_topic_dist.to_excel(\"./prediction/REPORT/REPORT_topic_dist_\"+str(\"23\")+\".xlsx\")\n",
    "#df.to_excel(\"./prediction/NTIS/\"+\"WORDS_\"+str(\"23\")+\".xlsx\")"
   ]
  },
  {
   "cell_type": "code",
   "execution_count": null,
   "metadata": {},
   "outputs": [],
   "source": []
  },
  {
   "cell_type": "code",
   "execution_count": null,
   "metadata": {},
   "outputs": [],
   "source": []
  },
  {
   "cell_type": "markdown",
   "metadata": {},
   "source": [
    "## vis 시각화"
   ]
  },
  {
   "cell_type": "code",
   "execution_count": 403,
   "metadata": {},
   "outputs": [],
   "source": [
    "import pyLDAvis\n",
    "import pyLDAvis.gensim as gensimvis"
   ]
  },
  {
   "cell_type": "code",
   "execution_count": null,
   "metadata": {},
   "outputs": [],
   "source": [
    "for timepoint in range(mdl.num_timepoints):\n",
    "    topic_term_dists = np.stack([mdl.get_topic_word_dist(k, timepoint=timepoint) for k in range(mdl.k)])\n",
    "    doc_topic_dists = np.stack([doc.get_topic_dist() for doc in mdl.docs if doc.timepoint == timepoint])\n",
    "    doc_topic_dists /= doc_topic_dists.sum(axis=1, keepdims=True)\n",
    "    doc_lengths = np.array([len(doc.words) for doc in mdl.docs if doc.timepoint == timepoint])\n",
    "    vocab = list(mdl.used_vocabs)\n",
    "    term_frequency = mdl.used_vocab_freq\n",
    "\n",
    "    prepared_data = pyLDAvis.prepare(\n",
    "        topic_term_dists, \n",
    "        doc_topic_dists, \n",
    "        doc_lengths, \n",
    "        vocab, \n",
    "        term_frequency,\n",
    "        start_index=0,\n",
    "        sort_topics=False\n",
    "    )\n",
    "    pyLDAvis.save_html(prepared_data, 'dtmvis_{}.html'.format(timepoint))"
   ]
  },
  {
   "cell_type": "code",
   "execution_count": null,
   "metadata": {},
   "outputs": [],
   "source": []
  }
 ],
 "metadata": {
  "kernelspec": {
   "display_name": "Python 3 (ipykernel)",
   "language": "python",
   "name": "python3"
  },
  "language_info": {
   "codemirror_mode": {
    "name": "ipython",
    "version": 3
   },
   "file_extension": ".py",
   "mimetype": "text/x-python",
   "name": "python",
   "nbconvert_exporter": "python",
   "pygments_lexer": "ipython3",
   "version": "3.9.12"
  }
 },
 "nbformat": 4,
 "nbformat_minor": 4
}
