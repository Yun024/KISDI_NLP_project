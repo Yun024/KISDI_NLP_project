{
 "cells": [
  {
   "cell_type": "markdown",
   "metadata": {},
   "source": [
    "# 단어사전 변경을 원하는 경우 실행"
   ]
  },
  {
   "cell_type": "code",
   "execution_count": null,
   "metadata": {},
   "outputs": [],
   "source": [
    "# Package Load\n",
    "import re\n",
    "import pickle\n",
    "import numpy as np\n",
    "import copy\n",
    "import pandas as pd\n",
    "from tqdm import tqdm\n",
    "from eunjeon import Mecab\n",
    "from datetime import datetime\n",
    "from timeit import default_timer\n",
    "from gensim import corpora\n",
    "from gensim.corpora import Dictionary\n",
    "version_name=str(datetime.today().strftime(\"%Y%m%d\")) # 버전 정보(오늘의 날짜) 담는 변수"
   ]
  },
  {
   "cell_type": "markdown",
   "metadata": {},
   "source": [
    "### 사용자명, 불러올 DICTIONARY 데이터명 입력 (사용자별 폴더 생성)"
   ]
  },
  {
   "cell_type": "code",
   "execution_count": null,
   "metadata": {},
   "outputs": [],
   "source": [
    "user_name = input(\"사용자명을 설정해주세요 : \")\n",
    "\n",
    "data_ver = input(\"\\n불러오실 DICTIONARY 데이터명을 입력하세요 (Default : 엔터키): \")"
   ]
  },
  {
   "cell_type": "code",
   "execution_count": null,
   "metadata": {},
   "outputs": [],
   "source": [
    "# 기존 Dictionary Load\n",
    "# input : pkl 형태의 파일, 없으면 오류 발생\n",
    "\n",
    "if data_ver =='':\n",
    "    with open('./data/Default/DICTIONARY.pkl', 'rb') as f:\n",
    "        dictionary = pickle.load(f)\n",
    "else:\n",
    "    with open('./data/Default/'+data_ver+'.pkl', 'rb') as f:\n",
    "        dictionary = pickle.load(f) \n",
    "\n",
    "dictionary = Dictionary([dictionary[0].tolist()])\n",
    "origin_dictionary =  copy.deepcopy(dictionary)"
   ]
  },
  {
   "cell_type": "markdown",
   "metadata": {},
   "source": [
    "# Part 1. 단어사전 추가/제거"
   ]
  },
  {
   "cell_type": "markdown",
   "metadata": {},
   "source": [
    "## Option 1 : 단어사전 추가\n",
    "### 1-1 : 엑셀 파일로 단어 일괄 추가"
   ]
  },
  {
   "cell_type": "markdown",
   "metadata": {},
   "source": [
    "- data폴더의 add.csv 파일"
   ]
  },
  {
   "cell_type": "code",
   "execution_count": null,
   "metadata": {
    "scrolled": true
   },
   "outputs": [],
   "source": [
    "# 아래 3번 단계로 가서 수정된 단어 저장 해야만 dictionary에 저장됨\n",
    "# input : data폴더의 add.csv 파일, 없으면 오류 발생\n",
    "\n",
    "data=pd.read_csv(\"./data/Update/add.csv\",  names=['word'], header=None)\n",
    "data=data.dropna()\n",
    "new_words=list(data.iloc[1:,0])\n",
    "\n",
    "dictionary.add_documents([new_words])\n",
    "new_dictionary = dictionary\n",
    "\n",
    "print(\"\\n\")\n",
    "print(\"단어사전에 단어가\", len(new_words), \"개 추가되었습니다.\")\n",
    "print(\"추가된 단어 : \", new_words)\n",
    "\n",
    "print(\"\\n\")\n",
    "print(\"적용 전 단어 사전 개수 : \", len(origin_dictionary))\n",
    "print(\"적용 후 단어 사전 개수 : \", len(new_dictionary))"
   ]
  },
  {
   "cell_type": "code",
   "execution_count": null,
   "metadata": {},
   "outputs": [],
   "source": [
    "#pd.DataFrame(new_dictionary.values()).to_csv('./data/Default/USING_DIC(696393).csv', encoding='CP949')\n",
    "#pd.DataFrame(new_dictionary.values()).to_pickle('./data/Default/USING_DIC(696393).pkl')"
   ]
  },
  {
   "cell_type": "code",
   "execution_count": null,
   "metadata": {},
   "outputs": [],
   "source": []
  },
  {
   "cell_type": "markdown",
   "metadata": {},
   "source": [
    "### 1-2 : 직접 입력해서 단어 하나씩 추가"
   ]
  },
  {
   "cell_type": "code",
   "execution_count": null,
   "metadata": {},
   "outputs": [],
   "source": [
    "# 아래 3번 단계로 가서 수정된 단어 저장 해야만 dictionary에 저장됨\n",
    "\n",
    "print(\"단어사전에 추가하고 싶은 새로운 단어를 입력하시오.\")\n",
    "print(\"입력을 그만두고 싶으면 'yes' 를 입력하시오. (y or Y도 가능!)\")\n",
    "\n",
    "break_list = ['yes', 'YES', 'Yes', 'y', 'Y'] # 입력 그만둘 때 입력하는 명령어, 직접 변경 가능\n",
    "new_words = []\n",
    "\n",
    "while True :\n",
    "    word = input(\"추가하고 싶은 단어를 입력하시오. : \") \n",
    "    if word == '' :\n",
    "        print(\"단어가 입력되지 않았습니다. 단어를 다시 입력하세요.\")\n",
    "    else :\n",
    "        if word in break_list :\n",
    "            break\n",
    "        new_words.append(word)\n",
    "\n",
    "dictionary.add_documents([new_words])\n",
    "new_dictionary = dictionary\n",
    "\n",
    "print(\"\\n\")\n",
    "print(\"단어사전에 단어가\", len(new_words), \"개 추가되었습니다.\")\n",
    "print(\"추가된 단어 : \", new_words)\n",
    "\n",
    "print(\"\\n\")\n",
    "print(\"적용 전 단어 사전 개수 : \", len(origin_dictionary))\n",
    "print(\"적용 후 단어 사전 개수 : \", len(new_dictionary))"
   ]
  },
  {
   "cell_type": "markdown",
   "metadata": {},
   "source": [
    "## Option 2 : 단어사전 제거\n",
    "### 2-1 : 엑셀파일로 단어 일괄 제거"
   ]
  },
  {
   "cell_type": "markdown",
   "metadata": {},
   "source": [
    "- data폴더의 delete.csv 파일"
   ]
  },
  {
   "cell_type": "code",
   "execution_count": null,
   "metadata": {},
   "outputs": [],
   "source": [
    "# 아래 3번 단계로 가서 수정된 단어 저장 해야만 dictionary에 저장됨\n",
    "# input : data폴더의 delete.csv 파일, 없으면 오류 발생\n",
    "\n",
    "data=pd.read_csv(\"./data/Update/delete.csv\",  names=['word'], header=None)\n",
    "del_list=list(data.iloc[:,0])for cnt in range(len(del_list)):  \n",
    "    dictionary.filter_tokens(bad_ids=[dictionary.token2id[del_list[cnt]]])\n",
    "\n",
    "new_dictionary = dictionary\n",
    "\n",
    "print(\"\\n\")\n",
    "print(\"단어사전에 단어가\", len(del_list), \"개 제거되었습니다.\")\n",
    "print(\"제거된 단어 : \", del_list)"
   ]
  },
  {
   "cell_type": "markdown",
   "metadata": {},
   "source": [
    "### 2-2 : 직접 입력받은 단어 하나씩 제거"
   ]
  },
  {
   "cell_type": "code",
   "execution_count": null,
   "metadata": {},
   "outputs": [],
   "source": [
    "# 아래 3번 단계로 가서 수정된 단어 저장 해야만 dictionary에 저장됨\n",
    "\n",
    "print(\"단어사전에서 제거하고 싶은 단어를 입력하시오.\")\n",
    "print(\"입력을 그만두고 싶으면 'yes' 를 입력하시오. (y or Y도 가능!)\")\n",
    "\n",
    "break_list = ['yes', 'YES', 'Yes', 'y', 'Y'] # 입력 그만둘 때 입력하는 명령어, 직접 변경 가능\n",
    "del_list = []\n",
    "\n",
    "while True :\n",
    "    del_word = input(\"제거하고 싶은 단어를 입력하시오. : \") \n",
    "\n",
    "    if del_word in break_list :\n",
    "        break\n",
    "\n",
    "    else :\n",
    "        if del_word == '' :\n",
    "            print(\"단어가 입력되지 않았습니다. 단어를 다시 입력하세요.\")\n",
    "        elif del_word not in dictionary.token2id :\n",
    "            print(\"단어사전에 존재하지 않는 단어입니다. 단어를 다시 입력하세요.\")\n",
    "        else :\n",
    "            del_list.append(del_word)\n",
    "\n",
    "before_dictionary = copy.deepcopy(dictionary)\n",
    "\n",
    "for cnt in range(len(del_list)):  \n",
    "    dictionary.filter_tokens(bad_ids=[dictionary.token2id[del_list[cnt]]])\n",
    "\n",
    "new_dictionary = dictionary\n",
    "\n",
    "print(\"\\n\")\n",
    "print(\"단어사전에 단어가\", len(del_list), \"개 제거되었습니다.\")\n",
    "print(\"제거된 단어 : \", del_list)\n",
    "\n",
    "print(\"\\n\")\n",
    "print(\"적용 전 단어 사전 개수 : \", len(before_dictionary))\n",
    "print(\"적용 후 단어 사전 개수 : \", len(new_dictionary))"
   ]
  },
  {
   "cell_type": "markdown",
   "metadata": {},
   "source": [
    "### Option1 or Option2 수행 후 아래부터 실행"
   ]
  },
  {
   "cell_type": "markdown",
   "metadata": {},
   "source": [
    "# Part 2. 수정된 단어사전 저장\n",
    "## 아래 코드를 실행해야 사용자사전에 최종 반영됨"
   ]
  },
  {
   "cell_type": "code",
   "execution_count": null,
   "metadata": {},
   "outputs": [],
   "source": [
    "# 1,2번 과정 작업후 실행해야만 dictionary 수정 반영됨\n",
    "version_name=str(datetime.today().strftime(\"%Y%m%d\")) \n",
    "\n",
    "# input : pkl 파일, 없으면 오류 발생\\\\\\\\\\\\\\\\\\\\\\\n",
    "with open('./data/DICTIONARY_'+user_name+'_'+str(version_name)+'.pkl', 'wb') as f:\n",
    "    pickle.dump(new_dictionary, f)"
   ]
  },
  {
   "cell_type": "markdown",
   "metadata": {},
   "source": [
    "## 단어사전 적용과정\n",
    "### mecab 대신 다른 형태소 분석기로 바뀌면 해당 분석기에 맞는 코드로 변경 필요"
   ]
  },
  {
   "cell_type": "code",
   "execution_count": null,
   "metadata": {},
   "outputs": [],
   "source": [
    "data_use=pd.read_csv(\"C:/mecab/user-dic/custom.csv\",index_col=0)"
   ]
  },
  {
   "cell_type": "code",
   "execution_count": null,
   "metadata": {},
   "outputs": [],
   "source": [
    "new_words=data_use[\"term\"].copy()\n",
    "new_words"
   ]
  },
  {
   "cell_type": "code",
   "execution_count": null,
   "metadata": {},
   "outputs": [],
   "source": []
  },
  {
   "cell_type": "code",
   "execution_count": null,
   "metadata": {},
   "outputs": [],
   "source": [
    "# input : csv 파일, 해당 파일 없으면 오류 발생 (mecab 설치 필요)\n",
    "data=pd.read_csv(\"C:/mecab/user-dic/nnp.csv\",index_col=0)"
   ]
  },
  {
   "cell_type": "code",
   "execution_count": null,
   "metadata": {},
   "outputs": [],
   "source": [
    "# 복합명사 mecab 추가 모듈\n",
    "index_num = len(data)\n",
    "for idn in tqdm(range(len(new_words))):\n",
    "    data.loc[index_num+idn]={'<OOV>' : new_words[idn], 'NNP' : 'NNP', '*' : '*', 'F' : 'T', '<OOV>' : new_words[idn], '*.1' : '*', '*.2' : '*', '*.3' : '*', '*.4' : '*', '*.5' : '*'}"
   ]
  },
  {
   "cell_type": "code",
   "execution_count": null,
   "metadata": {
    "scrolled": true
   },
   "outputs": [],
   "source": [
    "for idd in range(len(del_list)):\n",
    "    del_id=data[data['과학연구']==del_list[idd]].index\n",
    "    data=data.drop(index=del_id)"
   ]
  },
  {
   "cell_type": "code",
   "execution_count": null,
   "metadata": {},
   "outputs": [],
   "source": []
  },
  {
   "cell_type": "code",
   "execution_count": null,
   "metadata": {},
   "outputs": [],
   "source": [
    "data=data.drop_duplicates(['<OOV>'])\n",
    "data=data.reset_index()\n",
    "data=data.drop(columns='index')\n",
    "data"
   ]
  },
  {
   "cell_type": "code",
   "execution_count": null,
   "metadata": {},
   "outputs": [],
   "source": [
    "# output type : csv 형식으로 저장, 해당 파일 없으면 오류 발생 (mecab 설치 필요)\n",
    "#data.to_csv(\"C:/mecab/user-dic/custom.csv\", index=False, encoding='CP949')\n",
    "data.to_csv(\"C:/mecab/user-dic/custom.csv\", index=False)"
   ]
  },
  {
   "cell_type": "markdown",
   "metadata": {},
   "source": [
    "# 우선순위 설정"
   ]
  },
  {
   "cell_type": "code",
   "execution_count": null,
   "metadata": {},
   "outputs": [],
   "source": []
  },
  {
   "cell_type": "markdown",
   "metadata": {},
   "source": [
    "## window powershell 관리자 모드로 실행 (아래 순서대로 복붙가능)\n",
    "\n",
    "### 1. cd C:\\mecab\n",
    "### 2. tools\\add-userdic-win.ps1\n",
    "### 3. 에러가 발생할 경우 Set-ExecutionPolicy Unrestricted 입력 후 y 입력\n",
    "### 4. 다시올라가서 2. 내용 입력"
   ]
  },
  {
   "cell_type": "markdown",
   "metadata": {},
   "source": [
    "## 아래 코드 실행전에 반드시 window powershell 적용!!! 아닐 경우 power shell 오류발생"
   ]
  },
  {
   "cell_type": "markdown",
   "metadata": {},
   "source": [
    "## 오류가 발생될 시 kernel 리셋 이후 power shell 실행 이후 다음 코드 실행"
   ]
  },
  {
   "cell_type": "code",
   "execution_count": null,
   "metadata": {},
   "outputs": [],
   "source": [
    "from eunjeon import Mecab\n",
    "## 형태소 분석기 수정 후 결과 (확인작업)\n",
    "## customizing 한 mecab 파일로 작업(뒷작업은 이것으로 사용)\n",
    "user_mecab=Mecab(dicpath='C:/mecab/mecab-ko-dic')\n",
    "#user_mecab.morphs(\"객체지향프로그래밍\") ## 테스트 해보고 싶은 단어 입력\n",
    "#user_mecab.nouns(\"플랫폼\")"
   ]
  },
  {
   "cell_type": "code",
   "execution_count": null,
   "metadata": {},
   "outputs": [],
   "source": []
  }
 ],
 "metadata": {
  "kernelspec": {
   "display_name": "mecab",
   "language": "python",
   "name": "mecab"
  },
  "language_info": {
   "codemirror_mode": {
    "name": "ipython",
    "version": 3
   },
   "file_extension": ".py",
   "mimetype": "text/x-python",
   "name": "python",
   "nbconvert_exporter": "python",
   "pygments_lexer": "ipython3",
   "version": "3.8.0"
  }
 },
 "nbformat": 4,
 "nbformat_minor": 4
}
