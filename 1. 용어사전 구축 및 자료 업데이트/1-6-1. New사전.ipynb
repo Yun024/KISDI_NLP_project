{
 "cells": [
  {
   "cell_type": "markdown",
   "id": "047ebd39-0f71-466b-b747-6c1c318fa27c",
   "metadata": {},
   "source": [
    "# 1. 라이브러리 및 작업 디렉토리 설정"
   ]
  },
  {
   "cell_type": "code",
   "execution_count": null,
   "id": "72977db8-bb81-41fd-9544-ef6ba67c5b26",
   "metadata": {},
   "outputs": [],
   "source": [
    "import pandas as pd\n",
    "import numpy as np\n",
    "import os\n",
    "import pickle"
   ]
  },
  {
   "cell_type": "code",
   "execution_count": null,
   "id": "3a29d1bf-bd0a-43b7-b56b-785794488300",
   "metadata": {},
   "outputs": [],
   "source": [
    "os.getcwd()\n",
    "os.chdir(\"C:\\\\Users\\\\newcomer02\\\\NTIS_project\\\\data\\\\Default\\\\NTIS\\\\새로운 사전 만들기\")"
   ]
  },
  {
   "cell_type": "markdown",
   "id": "c70b83e8-74b8-46c3-9919-833a7ea232ea",
   "metadata": {},
   "source": [
    "# 2. 데이터 불러오기"
   ]
  },
  {
   "cell_type": "markdown",
   "id": "087ce0cf-7bf7-4cd7-83e2-fc2364b23f15",
   "metadata": {},
   "source": [
    "## NIA_DIC 불러오기"
   ]
  },
  {
   "cell_type": "code",
   "execution_count": null,
   "id": "03def890-7677-4a3f-a0af-e7029a78a0b3",
   "metadata": {},
   "outputs": [],
   "source": [
    "df_nia = pd.read_csv(\"NIADic(1130).csv\")\n",
    "\n",
    "df_nia = df_nia[((df_nia[\"tag\"]==\"nbu\")|(df_nia[\"tag\"]==\"mmd\")|(df_nia[\"tag\"]==\"pvg\")|(df_nia[\"tag\"]==\"ncn\"))]"
   ]
  },
  {
   "cell_type": "code",
   "execution_count": null,
   "id": "84b4edb8-bfcf-4594-828d-d95007092fff",
   "metadata": {},
   "outputs": [],
   "source": [
    "df_nia"
   ]
  },
  {
   "cell_type": "markdown",
   "id": "7e59be59-d3dc-4f6e-8411-813f7ad51d66",
   "metadata": {},
   "source": [
    "## TTA용어사전 데이터 불러오고 필요한 열 추출 및 이름 변경 "
   ]
  },
  {
   "cell_type": "code",
   "execution_count": null,
   "id": "6478107b-da31-47a4-bd7d-d5fd60829455",
   "metadata": {},
   "outputs": [],
   "source": [
    "df_tta = pd.read_csv(\"1_TTA용어사전_KISDI.csv\")\n",
    "df_tta.fillna(\"\",inplace=True)\n",
    "df_tta = df_tta[[\"국문표제어\",\"동의어\"]]\n",
    "df_tta.columns=[\"term\",\"동의어\"]"
   ]
  },
  {
   "cell_type": "code",
   "execution_count": null,
   "id": "0fd35e69-cd3b-4f0b-b851-86a8a4298223",
   "metadata": {},
   "outputs": [],
   "source": [
    "df_tta"
   ]
  },
  {
   "cell_type": "markdown",
   "id": "5779e9b6-4072-4a8c-aa03-4fa1e445a6cd",
   "metadata": {},
   "source": [
    "## NTIS 데이터 불러오기"
   ]
  },
  {
   "cell_type": "code",
   "execution_count": null,
   "id": "6cbb3ffe-971b-400d-bcc7-f51dcb09d2c8",
   "metadata": {},
   "outputs": [],
   "source": [
    "data_ver = \"NTIS_2021\"\n",
    "with open('C:\\\\Users\\\\newcomer02\\\\NTIS_project\\\\data\\\\Default\\\\NTIS\\\\'+data_ver+'.pkl', 'rb') as f:\n",
    "        original_ntis = pickle.load(f)"
   ]
  },
  {
   "cell_type": "code",
   "execution_count": null,
   "id": "1d90c3e1-27cd-4385-9d9f-2b818c6193cc",
   "metadata": {
    "tags": []
   },
   "outputs": [],
   "source": [
    "print(original_ntis.columns)\n",
    "original_ntis.head()"
   ]
  },
  {
   "cell_type": "markdown",
   "id": "fb3f13ba-1dca-4787-8695-50b8c98fdf0a",
   "metadata": {},
   "source": [
    "# 3. 데이터 전처리"
   ]
  },
  {
   "cell_type": "markdown",
   "id": "acccb766-349d-4310-b79a-26929acde8c0",
   "metadata": {},
   "source": [
    "## NTIS 키워드 데이터 전처리"
   ]
  },
  {
   "cell_type": "code",
   "execution_count": null,
   "id": "3c6bb5b5-a13b-4673-84e4-6086921fe63b",
   "metadata": {},
   "outputs": [],
   "source": [
    "keyword =original_ntis[\"ko_key\"].str.split(\",\")"
   ]
  },
  {
   "cell_type": "code",
   "execution_count": null,
   "id": "a6086b12-b194-476b-bf3c-158d26331b70",
   "metadata": {},
   "outputs": [],
   "source": [
    "keyword"
   ]
  },
  {
   "cell_type": "code",
   "execution_count": null,
   "id": "2c429803-3b33-4fbd-b455-d20781a569b3",
   "metadata": {},
   "outputs": [],
   "source": [
    "## 38까지 가야 NA가 없음\n",
    "## 하나의 행렬에 콤마를 기준으로 나누었을때 몇개까지 데이터가 들어가 있는지 확인하는 반복문 \n",
    "i = 0\n",
    "while (len(keyword.str[i].dropna())) > 0 :\n",
    "    i = i +1 \n",
    "else :\n",
    "    i = i -1 \n",
    "    print(i)"
   ]
  },
  {
   "cell_type": "code",
   "execution_count": null,
   "id": "e4d8a685-7f26-4c01-a183-182b40c641bb",
   "metadata": {},
   "outputs": [],
   "source": [
    "## 반복문을 통해 키워드의 모든 데이터를 데이터프레임형태로 추출\n",
    "df_ntis = pd.DataFrame()\n",
    "for j in range(1,i) :\n",
    "    kt = pd.DataFrame(keyword.str[j].dropna(axis=0))\n",
    "    df_ntis = pd.concat([df_ntis,kt])"
   ]
  },
  {
   "cell_type": "code",
   "execution_count": null,
   "id": "52404ed5-d3f5-4d59-95a8-1ee08e5cc373",
   "metadata": {},
   "outputs": [],
   "source": [
    "df_ntis.columns = [\"term\"]\n",
    "df_ntis"
   ]
  },
  {
   "cell_type": "markdown",
   "id": "5ace5ab6-0411-435a-86e6-33aa2d905434",
   "metadata": {},
   "source": [
    "## 데이터 병합 후 전처리"
   ]
  },
  {
   "cell_type": "code",
   "execution_count": null,
   "id": "936785aa-3d12-404b-8dcb-955e48b1cf2b",
   "metadata": {},
   "outputs": [],
   "source": [
    "## 데이터 병합 \n",
    "df_dic=pd.concat([df_nia,df_tta,df_ntis])"
   ]
  },
  {
   "cell_type": "code",
   "execution_count": null,
   "id": "e087be3a-d279-4c4b-a51d-00d2500a3ed5",
   "metadata": {},
   "outputs": [],
   "source": [
    "## 특수문자 제거 \n",
    "df_dic[\"term\"]=df_dic[\"term\"].str.replace(pat=r'[^\\w\\s]',repl=r'',regex=True)"
   ]
  },
  {
   "cell_type": "code",
   "execution_count": null,
   "id": "342a5034-d611-4382-83de-cb75058711d7",
   "metadata": {},
   "outputs": [],
   "source": [
    "## 공백 제거\n",
    "df_dic[\"term\"]=df_dic[\"term\"].str.strip()"
   ]
  },
  {
   "cell_type": "code",
   "execution_count": null,
   "id": "bd8eadec-cb5c-402d-b802-39cd9de921a1",
   "metadata": {},
   "outputs": [],
   "source": [
    "## 중복 제거\n",
    "df_dic=df_dic.drop_duplicates([\"term\"],keep=\"first\")\n",
    "df_dic[\"term\"].value_counts()"
   ]
  },
  {
   "cell_type": "code",
   "execution_count": null,
   "id": "61dd069d-7c36-496f-9c44-8169889df378",
   "metadata": {},
   "outputs": [],
   "source": [
    "## NaN 변환 후 필요없는 행 제거\n",
    "df_dic.fillna(\"\",inplace=True)\n",
    "df_dic = df_dic.drop(df_dic[df_dic[\"term\"]==\"\"].index)\n",
    "df_dic = df_dic.drop(df_dic[df_dic[\"term\"]==\"0\"].index)"
   ]
  },
  {
   "cell_type": "code",
   "execution_count": null,
   "id": "ed88bf92-cb71-4673-b05a-96d96098d3aa",
   "metadata": {},
   "outputs": [],
   "source": [
    "## term열 기준 정렬 \n",
    "df_dic = df_dic.sort_values(df_dic.columns[0])"
   ]
  },
  {
   "cell_type": "code",
   "execution_count": null,
   "id": "5f0f3097-0d1b-4294-bdc0-a08309848d17",
   "metadata": {},
   "outputs": [],
   "source": [
    "## index초기화\n",
    "df_dic.reset_index(inplace=True)\n",
    "df_dic.pop(\"index\")"
   ]
  },
  {
   "cell_type": "code",
   "execution_count": null,
   "id": "918ae417-a9b3-438d-ac23-263cb2b36566",
   "metadata": {},
   "outputs": [],
   "source": [
    "## 문자열길이확인하는 열 추가\n",
    "dic_len=len(df_dic[\"term\"])\n",
    "df_dic[\"Rank\"]=\"\"\n",
    "for i in range(0,dic_len):\n",
    "    df_dic[\"Rank\"][i] = len(df_dic[\"term\"][i])\n",
    "df_dic=df_dic.astype({'Rank':'int'})"
   ]
  },
  {
   "cell_type": "markdown",
   "id": "4d7766b4-6491-41a2-827b-2b454e2ec781",
   "metadata": {},
   "source": [
    "# 4. 데이터 쓰기"
   ]
  },
  {
   "cell_type": "code",
   "execution_count": null,
   "id": "c48dc373-210e-4a1f-a857-9e1d90f90304",
   "metadata": {},
   "outputs": [],
   "source": [
    "# df_dic.to_csv(\"New_Dic.csv\")"
   ]
  },
  {
   "cell_type": "code",
   "execution_count": null,
   "id": "35ae3bc7-30b4-4553-bb01-6e299145c790",
   "metadata": {},
   "outputs": [],
   "source": [
    "df_use = df_dic[[\"term\",\"Rank\"]]\n",
    "# df_use.to_csv(\"Use_Dic.csv\")"
   ]
  },
  {
   "cell_type": "code",
   "execution_count": null,
   "id": "7a41aa48-840b-4906-b136-376c63a3e19b",
   "metadata": {},
   "outputs": [],
   "source": [
    "df_use"
   ]
  },
  {
   "cell_type": "code",
   "execution_count": null,
   "id": "bdc97383-4955-40e5-96cf-680dd2afb9e8",
   "metadata": {},
   "outputs": [],
   "source": [
    "# #데이터 저장 pkl형태 \n",
    "# with open(\"Use_Dic.pkl\",\"wb\") as file:\n",
    "#      pickle.dump(df_use,file)"
   ]
  },
  {
   "cell_type": "code",
   "execution_count": null,
   "id": "74d83786-963b-4fa3-ad30-e2fe4b0a64eb",
   "metadata": {},
   "outputs": [],
   "source": []
  }
 ],
 "metadata": {
  "kernelspec": {
   "display_name": "mecab",
   "language": "python",
   "name": "mecab"
  },
  "language_info": {
   "codemirror_mode": {
    "name": "ipython",
    "version": 3
   },
   "file_extension": ".py",
   "mimetype": "text/x-python",
   "name": "python",
   "nbconvert_exporter": "python",
   "pygments_lexer": "ipython3",
   "version": "3.8.0"
  }
 },
 "nbformat": 4,
 "nbformat_minor": 5
}
