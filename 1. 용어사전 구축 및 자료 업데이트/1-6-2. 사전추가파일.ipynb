{
 "cells": [
  {
   "cell_type": "markdown",
   "metadata": {},
   "source": [
    "# 단어사전 변경을 원하는 경우 실행"
   ]
  },
  {
   "cell_type": "code",
   "execution_count": null,
   "metadata": {},
   "outputs": [],
   "source": [
    "# Package Load\n",
    "import re\n",
    "import pickle\n",
    "import numpy as np\n",
    "import copy\n",
    "import pandas as pd\n",
    "from tqdm import tqdm\n",
    "from eunjeon import Mecab\n",
    "from datetime import datetime\n",
    "from timeit import default_timer\n",
    "from gensim import corpora\n",
    "from gensim.corpora import Dictionary\n",
    "version_name=str(datetime.today().strftime(\"%Y%m%d\")) # 버전 정보(오늘의 날짜) 담는 변수"
   ]
  },
  {
   "cell_type": "markdown",
   "metadata": {},
   "source": [
    "- data폴더의 delete.csv 파일"
   ]
  },
  {
   "cell_type": "markdown",
   "metadata": {},
   "source": [
    "# Part 2. 수정된 단어사전 저장\n",
    "## 아래 코드를 실행해야 사용자사전에 최종 반영됨"
   ]
  },
  {
   "cell_type": "markdown",
   "metadata": {},
   "source": [
    "## 단어사전 적용과정\n",
    "### mecab 대신 다른 형태소 분석기로 바뀌면 해당 분석기에 맞는 코드로 변경 필요"
   ]
  },
  {
   "cell_type": "code",
   "execution_count": null,
   "metadata": {},
   "outputs": [],
   "source": [
    "data_use=pd.read_csv(\"C:/mecab/user-dic/custom.csv\",index_col=0)"
   ]
  },
  {
   "cell_type": "code",
   "execution_count": null,
   "metadata": {},
   "outputs": [],
   "source": [
    "new_words=data_use[\"term\"].copy()\n",
    "new_words"
   ]
  },
  {
   "cell_type": "code",
   "execution_count": null,
   "metadata": {},
   "outputs": [],
   "source": [
    "# input : csv 파일, 해당 파일 없으면 오류 발생 (mecab 설치 필요)\n",
    "data=pd.read_csv(\"C:/mecab/user-dic/nnp.csv\",index_col=0)"
   ]
  },
  {
   "cell_type": "code",
   "execution_count": null,
   "metadata": {},
   "outputs": [],
   "source": [
    "# 복합명사 mecab 추가 모듈\n",
    "index_num = len(data)\n",
    "for idn in tqdm(range(len(new_words))):\n",
    "    data.loc[index_num+idn]={'<OOV>' : new_words[idn], 'NNP' : 'NNP', '*' : '*', 'F' : 'T', '<OOV>' : new_words[idn], '*.1' : '*', '*.2' : '*', '*.3' : '*', '*.4' : '*', '*.5' : '*'}"
   ]
  },
  {
   "cell_type": "code",
   "execution_count": null,
   "metadata": {
    "scrolled": true
   },
   "outputs": [],
   "source": [
    "for idd in range(len(del_list)):\n",
    "    del_id=data[data['과학연구']==del_list[idd]].index\n",
    "    data=data.drop(index=del_id)"
   ]
  },
  {
   "cell_type": "code",
   "execution_count": null,
   "metadata": {},
   "outputs": [],
   "source": []
  },
  {
   "cell_type": "code",
   "execution_count": null,
   "metadata": {},
   "outputs": [],
   "source": [
    "data=data.drop_duplicates(['<OOV>'])\n",
    "data=data.reset_index()\n",
    "data=data.drop(columns='index')\n",
    "data"
   ]
  },
  {
   "cell_type": "code",
   "execution_count": null,
   "metadata": {},
   "outputs": [],
   "source": [
    "# output type : csv 형식으로 저장, 해당 파일 없으면 오류 발생 (mecab 설치 필요)\n",
    "#data.to_csv(\"C:/mecab/user-dic/custom.csv\", index=False, encoding='CP949')\n",
    "data.to_csv(\"C:/mecab/user-dic/custom.csv\", index=False)"
   ]
  },
  {
   "cell_type": "markdown",
   "metadata": {},
   "source": [
    "# 우선순위 설정"
   ]
  },
  {
   "cell_type": "code",
   "execution_count": null,
   "metadata": {},
   "outputs": [],
   "source": []
  },
  {
   "cell_type": "code",
   "execution_count": null,
   "metadata": {},
   "outputs": [],
   "source": []
  },
  {
   "cell_type": "code",
   "execution_count": null,
   "metadata": {},
   "outputs": [],
   "source": []
  },
  {
   "cell_type": "code",
   "execution_count": null,
   "metadata": {},
   "outputs": [],
   "source": []
  },
  {
   "cell_type": "code",
   "execution_count": null,
   "metadata": {},
   "outputs": [],
   "source": []
  },
  {
   "cell_type": "code",
   "execution_count": null,
   "metadata": {},
   "outputs": [],
   "source": []
  },
  {
   "cell_type": "markdown",
   "metadata": {},
   "source": [
    "## window powershell 관리자 모드로 실행 (아래 순서대로 복붙가능)\n",
    "\n",
    "### 1. cd C:\\mecab\n",
    "### 2. tools\\add-userdic-win.ps1\n",
    "### 3. 에러가 발생할 경우 Set-ExecutionPolicy Unrestricted 입력 후 y 입력\n",
    "### 4. 다시올라가서 2. 내용 입력"
   ]
  },
  {
   "cell_type": "markdown",
   "metadata": {},
   "source": [
    "## 아래 코드 실행전에 반드시 window powershell 적용!!! 아닐 경우 power shell 오류발생"
   ]
  },
  {
   "cell_type": "markdown",
   "metadata": {},
   "source": [
    "## 오류가 발생될 시 kernel 리셋 이후 power shell 실행 이후 다음 코드 실행"
   ]
  },
  {
   "cell_type": "code",
   "execution_count": null,
   "metadata": {},
   "outputs": [],
   "source": [
    "from eunjeon import Mecab\n",
    "## 형태소 분석기 수정 후 결과 (확인작업)\n",
    "## customizing 한 mecab 파일로 작업(뒷작업은 이것으로 사용)\n",
    "user_mecab=Mecab(dicpath='C:/mecab/mecab-ko-dic')\n",
    "#user_mecab.morphs(\"객체지향프로그래밍\") ## 테스트 해보고 싶은 단어 입력\n",
    "#user_mecab.nouns(\"플랫폼\")"
   ]
  },
  {
   "cell_type": "code",
   "execution_count": null,
   "metadata": {},
   "outputs": [],
   "source": []
  }
 ],
 "metadata": {
  "kernelspec": {
   "display_name": "mecab",
   "language": "python",
   "name": "mecab"
  },
  "language_info": {
   "codemirror_mode": {
    "name": "ipython",
    "version": 3
   },
   "file_extension": ".py",
   "mimetype": "text/x-python",
   "name": "python",
   "nbconvert_exporter": "python",
   "pygments_lexer": "ipython3",
   "version": "3.8.0"
  }
 },
 "nbformat": 4,
 "nbformat_minor": 4
}
