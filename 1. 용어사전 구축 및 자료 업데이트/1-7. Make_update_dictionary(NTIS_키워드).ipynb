{
 "cells": [
  {
   "cell_type": "markdown",
   "metadata": {},
   "source": [
    "# NTIS 자료 KEYWORD를 단어사전에 추가"
   ]
  },
  {
   "cell_type": "code",
   "execution_count": null,
   "metadata": {},
   "outputs": [],
   "source": [
    "# Package Load\n",
    "import re\n",
    "import pickle\n",
    "import numpy as np\n",
    "import copy\n",
    "import pandas as pd\n",
    "from tqdm import tqdm\n",
    "from eunjeon import Mecab\n",
    "from datetime import datetime\n",
    "from timeit import default_timer\n",
    "from gensim import corpora\n",
    "from gensim.corpora import Dictionary\n",
    "version_name=str(datetime.today().strftime(\"%Y%m%d\")) # 버전 정보(오늘의 날짜) 담는 변수"
   ]
  },
  {
   "cell_type": "markdown",
   "metadata": {},
   "source": [
    "### 사용자명, 불러올 NTIS데이터명 입력 (사용자별 폴더 생성)"
   ]
  },
  {
   "cell_type": "code",
   "execution_count": null,
   "metadata": {},
   "outputs": [],
   "source": [
    "add_ntis=input(\"추가할 엑셀파일명을 입력하세요 : \")\n",
    "\n",
    "data_type = input(\"\\n추가할 파일 형식을 입력하세요 (csv / xlsx 중 선택) : \")\n",
    "\n",
    "print(\"\\n%s.%s 파일을 기존 NTIS에 추가합니다.\"%(add_ntis,data_type))"
   ]
  },
  {
   "cell_type": "code",
   "execution_count": null,
   "metadata": {},
   "outputs": [],
   "source": [
    "# 새로 추가할 연도 NTIS\n",
    "if data_type =='xlsx':\n",
    "    new_ntis_data=pd.read_excel('./data/Update/NTIS/'+add_ntis+'.xlsx')  # .xlsx / .csv  둘 다 가능하도록 추가 \n",
    "else:\n",
    "    try:\n",
    "        new_ntis_data=pd.read_csv('./data/Update/NTIS/'+add_ntis+'.csv')\n",
    "    except:\n",
    "        new_ntis_data=pd.read_csv('./data/Update/NTIS/'+add_ntis+'.csv',encoding='cp949')\n",
    "    \n",
    "# 신규 데이터프레임 생성, output : dataframe\n",
    "\n",
    "new_ntis=pd.DataFrame(list(new_ntis_data['과학기술표준분류1-대']),columns=['L_type_1'])\n",
    "new_ntis['M_type_1']=new_ntis_data['과학기술표준분류1-중']\n",
    "new_ntis['L_type_2']=new_ntis_data['과학기술표준분류2-대']\n",
    "new_ntis['M_type_2']=new_ntis_data['과학기드술표준분류2-중']\n",
    "new_ntis['L_type_3']=new_ntis_data['과학기술표준분류3-대']\n",
    "new_ntis['M_type_3']=new_ntis_data['과학기술표준분류3-중']\n",
    "new_ntis['RES_num']=new_ntis_data['주관과제고유번호']\n",
    "new_ntis['RES_name']=new_ntis_data['과제명']\n",
    "new_ntis['obj']=new_ntis_data['요약문_연구목표']\n",
    "new_ntis['con']=new_ntis_data['요약문_연구내용']\n",
    "new_ntis['exp']=new_ntis_data['요약문_기대효과']\n",
    "new_ntis['ko_key']=new_ntis_data['요약문_한글키워드']\n",
    "new_ntis['en_key']=new_ntis_data['요약문_영문키워드']\n",
    "new_ntis['year']=new_ntis_data['제출년도']\n",
    "new_ntis['contents']=new_ntis_data['contents']"
   ]
  },
  {
   "cell_type": "code",
   "execution_count": null,
   "metadata": {},
   "outputs": [],
   "source": [
    "con = (new_ntis.L_type_1=='정보/통신') | (new_ntis.L_type_2=='정보/통신') | (new_ntis.L_type_3=='정보/통신')\n",
    "ict_ntis = new_ntis[con]"
   ]
  },
  {
   "cell_type": "code",
   "execution_count": null,
   "metadata": {},
   "outputs": [],
   "source": [
    "keyword = ict_ntis.ko_key.str.split(',|\\r\\n')"
   ]
  },
  {
   "cell_type": "code",
   "execution_count": null,
   "metadata": {},
   "outputs": [],
   "source": [
    "keyword.str[0]"
   ]
  },
  {
   "cell_type": "code",
   "execution_count": null,
   "metadata": {},
   "outputs": [],
   "source": [
    "temp = list(keyword.str[0])\n",
    "temp.extend(list(keyword.str[1]))\n",
    "temp.extend(list(keyword.str[2]))\n",
    "temp.extend(list(keyword.str[3]))\n",
    "temp.extend(list(keyword.str[4]))\n",
    "#temp = temp.strip()"
   ]
  },
  {
   "cell_type": "code",
   "execution_count": null,
   "metadata": {},
   "outputs": [],
   "source": [
    "l_keyword = pd.DataFrame(set(temp))\n",
    "l_keyword = l_keyword.drop([0,1])\n",
    "l_keyword[0] = l_keyword[0].str.strip()"
   ]
  },
  {
   "cell_type": "code",
   "execution_count": null,
   "metadata": {},
   "outputs": [],
   "source": [
    "#l_keyword.to_csv('./data/Update/add.csv', encoding=\"CP949\")\n",
    "l_keyword.to_csv('./data/Update/add.csv')"
   ]
  },
  {
   "cell_type": "code",
   "execution_count": null,
   "metadata": {},
   "outputs": [],
   "source": [
    "#l_keyword_2016 = l_keyword"
   ]
  },
  {
   "cell_type": "code",
   "execution_count": null,
   "metadata": {},
   "outputs": [],
   "source": [
    "#temp = list(l_keyword_2020[0])\n",
    "#temp.extend(list(l_keyword_2019[0]))\n",
    "#temp.extend(list(l_keyword_2018[0]))\n",
    "#temp.extend(list(l_keyword_2017[0]))\n",
    "#temp.extend(list(l_keyword_2016[0]))"
   ]
  },
  {
   "cell_type": "code",
   "execution_count": null,
   "metadata": {},
   "outputs": [],
   "source": [
    "#l_keyword = pd.DataFrame(set(temp))\n",
    "#l_keyword = l_keyword.drop([0,1])\n",
    "#l_keyword[0] = l_keyword[0].str.strip()"
   ]
  },
  {
   "cell_type": "code",
   "execution_count": null,
   "metadata": {},
   "outputs": [],
   "source": []
  }
 ],
 "metadata": {
  "kernelspec": {
   "display_name": "Python 3 (ipykernel)",
   "language": "python",
   "name": "python3"
  },
  "language_info": {
   "codemirror_mode": {
    "name": "ipython",
    "version": 3
   },
   "file_extension": ".py",
   "mimetype": "text/x-python",
   "name": "python",
   "nbconvert_exporter": "python",
   "pygments_lexer": "ipython3",
   "version": "3.9.12"
  }
 },
 "nbformat": 4,
 "nbformat_minor": 4
}
