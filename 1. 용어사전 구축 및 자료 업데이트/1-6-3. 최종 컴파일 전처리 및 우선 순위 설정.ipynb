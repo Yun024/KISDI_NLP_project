{
 "cells": [
  {
   "cell_type": "code",
   "execution_count": null,
   "id": "42f9b13b-7447-4031-84e9-6b8f871e9fb1",
   "metadata": {},
   "outputs": [],
   "source": [
    "import pandas as pd\n",
    "from eunjeon import Mecab\n",
    "import numpy as np\n",
    "from tqdm import tqdm"
   ]
  },
  {
   "cell_type": "code",
   "execution_count": null,
   "id": "7a2e51ba-6f25-4fe6-a0d4-1b35614c4acf",
   "metadata": {},
   "outputs": [],
   "source": [
    "mecab = Mecab(dicpath=\"c:/mecab/mecab-ko-dic\")\n",
    "mecab.morphs(\"자동체결장치는 세포핵 단백질 사이의 기능적 연결을 개발자가 방문자가 효과를 암웹 직생하다\")"
   ]
  },
  {
   "cell_type": "code",
   "execution_count": null,
   "id": "f6b51063-1f11-4fb0-ac19-f13ec5dd831e",
   "metadata": {},
   "outputs": [],
   "source": [
    "data_use=pd.read_csv(\"C:/mecab/user-dic/custom.csv\")\n",
    "data_use.iloc[208]"
   ]
  },
  {
   "cell_type": "code",
   "execution_count": null,
   "id": "8d66effa-dea2-4364-abbc-65eac97e6720",
   "metadata": {},
   "outputs": [],
   "source": [
    "data_use[\"term\"]=data_use[\"term\"].str.replace(pat=r'[\\n]',repl=r'',regex=True)\n",
    "data_use[\"term\"]=data_use[\"term\"].str.replace(pat=r'[\\r]',repl=r'',regex=True)\n",
    "\n",
    "data_use[\"term_1\"]=data_use[\"term_1\"].str.replace(pat=r'[\\n]',repl=r'',regex=True)\n",
    "data_use[\"term_1\"]=data_use[\"term_1\"].str.replace(pat=r'[\\r]',repl=r'',regex=True)"
   ]
  },
  {
   "cell_type": "code",
   "execution_count": null,
   "id": "c152b287-211b-4734-8b48-e5947e14f622",
   "metadata": {},
   "outputs": [],
   "source": [
    "data_use.to_csv(\"C:/mecab/user-dic/custom.csv\",index=False)"
   ]
  },
  {
   "cell_type": "markdown",
   "id": "e2297d76-c366-401f-959b-72bfdccf6a3f",
   "metadata": {},
   "source": [
    "## window powershell 관리자 모드로 실행 (아래 순서대로 복붙가능)\n",
    "\n",
    "### 1. cd C:\\mecab\n",
    "### 2. tools\\add-userdic-win.ps1\n",
    "### 3. 에러가 발생할 경우 Set-ExecutionPolicy Unrestricted 입력 후 y 입력\n",
    "### 4. 다시올라가서 2. 내용 입력"
   ]
  },
  {
   "cell_type": "code",
   "execution_count": null,
   "id": "b6e2cd2b-ce60-4ee8-950e-0bda943fcb9f",
   "metadata": {},
   "outputs": [],
   "source": [
    "data=pd.read_csv(\"C:/mecab/mecab-ko-dic/user-custom.csv\")\n",
    "data[\"2953\"]\n"
   ]
  },
  {
   "cell_type": "code",
   "execution_count": null,
   "id": "32d27362-e35a-42e9-81de-1dffe6bc3732",
   "metadata": {},
   "outputs": [],
   "source": [
    "data[\"2953\"]= (((data[\"2953\"]-data[\"2953\"].min()) * (5000 - 0))/ (data[\"2953\"].max() - data[\"2953\"].min())) + 0\n",
    "data=data.astype({'2953':'int'})"
   ]
  },
  {
   "cell_type": "code",
   "execution_count": null,
   "id": "e81ee202-8ad9-4b7e-81cd-c41d9196e279",
   "metadata": {},
   "outputs": [],
   "source": [
    "data"
   ]
  },
  {
   "cell_type": "code",
   "execution_count": null,
   "id": "b71af0cc-523a-463d-bcd1-f159f8183d57",
   "metadata": {},
   "outputs": [],
   "source": [
    "dic_len=len(data[\"term\"])\n",
    "for i in tqdm(range(0,dic_len)):\n",
    "    data[\"2953\"][i] = len(data[\"term\"][i])\n",
    "data[\"2953\"]= data[\"2953\"].rank(method=\"dense\",ascending=False)\n",
    "data=data.astype({'2953':'int'})"
   ]
  },
  {
   "cell_type": "code",
   "execution_count": null,
   "id": "ea408510-dec4-43d3-a0d8-1d716470ee74",
   "metadata": {},
   "outputs": [],
   "source": [
    "data.to_csv(\"C:/mecab/mecab-ko-dic/user-custom.csv\",index=False)"
   ]
  },
  {
   "cell_type": "markdown",
   "id": "c59fff89-008e-40f7-b68d-abfdc9370d27",
   "metadata": {},
   "source": [
    "## window powershell 관리자 모드로 실행 (아래 순서대로 복붙가능)\n",
    "\n",
    "### 1. cd C:\\mecab\n",
    "### 2. tools\\compile-win.ps1"
   ]
  },
  {
   "cell_type": "code",
   "execution_count": null,
   "id": "fc1098ea-849f-46f3-8fac-44c4b389ce0b",
   "metadata": {},
   "outputs": [],
   "source": []
  }
 ],
 "metadata": {
  "kernelspec": {
   "display_name": "mecab",
   "language": "python",
   "name": "mecab"
  },
  "language_info": {
   "codemirror_mode": {
    "name": "ipython",
    "version": 3
   },
   "file_extension": ".py",
   "mimetype": "text/x-python",
   "name": "python",
   "nbconvert_exporter": "python",
   "pygments_lexer": "ipython3",
   "version": "3.8.0"
  }
 },
 "nbformat": 4,
 "nbformat_minor": 5
}
