{
 "cells": [
  {
   "cell_type": "markdown",
   "metadata": {},
   "source": [
    "# 데이터 수집 및 1차 정제\n",
    "##     1. 새롭게 추가할 데이터는 data/Update 폴더에 배치 "
   ]
  },
  {
   "cell_type": "markdown",
   "metadata": {},
   "source": [
    "###         (1) 패키지 설치"
   ]
  },
  {
   "cell_type": "code",
   "execution_count": null,
   "metadata": {},
   "outputs": [],
   "source": [
    "import re\n",
    "import pickle\n",
    "import numpy as np\n",
    "import copy\n",
    "import pandas as pd\n",
    "from tqdm import tqdm\n",
    "from eunjeon import Mecab\n",
    "mecab = Mecab(dicpath = 'C:\\\\mecab\\\\mecab-ko-dic') ## dic 반영 형태소 분석기 # 형태소 분석기 바뀔때 여기 바꿔야함\n",
    "from datetime import datetime\n",
    "from timeit import default_timer\n",
    "from gensim import corpora\n",
    "from gensim.corpora import Dictionary\n",
    "version_name=str(datetime.today().strftime(\"%Y%m%d\"))\n",
    "import os"
   ]
  },
  {
   "cell_type": "code",
   "execution_count": null,
   "metadata": {},
   "outputs": [],
   "source": [
    "os.chdir(\"C:\\\\Users\\\\newcomer02\\\\NTIS_Project\")"
   ]
  },
  {
   "cell_type": "markdown",
   "metadata": {},
   "source": [
    "###         (2) 사용자명, 불러올 데이터명 입력 (NTIS, NKSI, KISDI_REPORT,GOV) "
   ]
  },
  {
   "cell_type": "code",
   "execution_count": null,
   "metadata": {
    "scrolled": true
   },
   "outputs": [],
   "source": [
    "data_ver = input(\"\\n불러오실 데이터명을 입력하세요 (Default : 엔터키): \")\n",
    "# NTIS, NKIS, REPORT, GOV"
   ]
  },
  {
   "cell_type": "code",
   "execution_count": null,
   "metadata": {},
   "outputs": [],
   "source": [
    "# 기존 data load \n",
    "# input : pkl 파일, 없으면 오류\n",
    "\n",
    "if data_ver =='':\n",
    "    with open('./data/Default/NTIS.pkl', 'rb') as f:\n",
    "        original_data = pickle.load(f)\n",
    "elif data_ver ==\"GOV\":\n",
    "    with open(\"./data/Default/\"+data_ver+\"/\"+data_ver+\"_2022.pkl\",\"rb\") as f:\n",
    "        original_data = pickle.load(f)\n",
    "else:\n",
    "    with open('./data/Default/'+data_ver+\"/\"+data_ver+'_2021.pkl', 'rb') as f:\n",
    "        original_data = pickle.load(f) "
   ]
  },
  {
   "cell_type": "markdown",
   "metadata": {},
   "source": [
    "###         (3) 신규 데이터 불러오기 및 필요한 변수(열) 추출"
   ]
  },
  {
   "cell_type": "code",
   "execution_count": null,
   "metadata": {},
   "outputs": [],
   "source": [
    "add_data=input(\"추가할 엑셀파일명을 입력하세요 : \")\n",
    "\n",
    "data_type = input(\"\\n추가할 파일 형식을 입력하세요 (csv / xlsx 중 선택) : \")\n",
    "\n",
    "print(\"\\n%s.%s 파일을 기존 데이터에 추가합니다.\"%(add_data,data_type))"
   ]
  },
  {
   "cell_type": "code",
   "execution_count": null,
   "metadata": {},
   "outputs": [],
   "source": [
    "# 새로 추가할 연도 data\n",
    "if data_type =='xlsx':\n",
    "    new_data=pd.read_excel('./data/Update/'+data_ver+\"/\"+add_data+'.xlsx')  # .xlsx / .csv  둘 다 가능하도록 추가 \n",
    "else:\n",
    "    try:\n",
    "        new_data=pd.read_csv('./data/Update/'+data_ver+\"/\"+add_data+'.csv')\n",
    "    except:\n",
    "        new_data=pd.read_csv('./data/Update/'+data_ver+\"/\"+add_data+'.csv',encoding='cp949')"
   ]
  },
  {
   "cell_type": "code",
   "execution_count": null,
   "metadata": {
    "scrolled": true
   },
   "outputs": [],
   "source": [
    "# 신규 데이터프레임 생성, output : dataframe\n",
    "if data_ver == \"NTIS\":\n",
    "    new_df=pd.DataFrame(list(new_data['과학기술표준분류1-대']),columns=['L_type_1'])\n",
    "    new_df['M_type_1']=new_data['과학기술표준분류1-중']\n",
    "    new_df['L_type_2']=new_data['과학기술표준분류2-대']\n",
    "    new_df['M_type_2']=new_data['과학기술표준분류2-중']\n",
    "    new_df['L_type_3']=new_data['과학기술표준분류3-대']\n",
    "    new_df['M_type_3']=new_data['과학기술표준분류3-중']\n",
    "    new_df['M_L_type']=new_data['중점과학기술분류-대']\n",
    "    new_df['M_M_type']=new_data['중점과학기술분류-중']\n",
    "    new_df['AP_1']=new_data['적용분야1']\n",
    "    new_df['AP_2']=new_data['적용분야2']\n",
    "    new_df['AP_3']=new_data['적용분야3']\n",
    "    new_df['6T_L_type']=new_data['6T관련기술-대']\n",
    "    new_df['6T_M_type']=new_data['6T관련기술-중']\n",
    "    new_df['ES_type']=new_data['경제사회목적']\n",
    "    new_df['RES_num']=new_data['주관과제고유번호']\n",
    "    new_df['RES_name']=new_data['과제명']\n",
    "    new_df['obj']=new_data['요약문_연구목표']\n",
    "    new_df['con']=new_data['요약문_연구내용']\n",
    "    new_df['exp']=new_data['요약문_기대효과']\n",
    "    new_df['ko_key']=new_data['요약문_한글키워드']\n",
    "    new_df['en_key']=new_data['요약문_영문키워드']\n",
    "    new_df['year']=new_data['제출년도']\n",
    "    new_df['contents']=new_data['contents']\n",
    "elif data_ver ==\"NKIS\":\n",
    "    new_df=pd.DataFrame(list(new_data[\"보고서명\"]),columns=['title'])\n",
    "    new_df['en_title']=new_data['영문보고서명']\n",
    "    new_df['M_author']=new_data['연구책임자']\n",
    "    new_df['organization']=new_data['소속기관']\n",
    "    new_df['J_author']=new_data['공동책임자']\n",
    "    new_df['in_researcher']=new_data['내부연구참가자']\n",
    "    new_df['ex_researcher']=new_data['외부연구참가자']\n",
    "    new_df['private']=new_data['공개여부']\n",
    "    new_df['year']=new_data['출판년도']\n",
    "    new_df['type_rep']=new_data['보고서유형']\n",
    "    new_df['type_research']=new_data['연구유형']\n",
    "    new_df['type']=new_data['표준분류']\n",
    "    new_df['type_L']=new_data['대분류']\n",
    "    new_df['type_M']=new_data['소분류']\n",
    "    new_df['type_data']=new_data['자료유형']\n",
    "    new_df['contents']=new_data['국문초록']\n",
    "    new_df['url']=new_data['Url주소']    \n",
    "elif data_ver == \"REPORT\":\n",
    "    new_df=pd.DataFrame(list(new_data['서지제어번호']),columns=['NUM'])\n",
    "    new_df['NAME_MAG']=new_data['잡지명']\n",
    "    new_df['NAME_ART']=new_data['기사명']\n",
    "    new_df['type']=new_data['분류']\n",
    "    new_df['M_author']=new_data['대표저자']\n",
    "    new_df['J_author']=new_data['공동저자']\n",
    "    new_df['keyword']=new_data['키워드']\n",
    "    new_df['year']=[str(i)[:4] for i in new_data['발행일자']]\n",
    "    new_df['contents']=new_data['contents']\n",
    "elif data_ver == \"GOV\":\n",
    "    new_df = pd.DataFrame(list(new_data[\"과제\"]),columns=[\"title\"])\n",
    "    new_df[\"task_objectives\"] = new_data[\"과제목표\"]\n",
    "    new_df[\"main_content\"] = new_data[\"주요내용\"]\n",
    "    new_df[\"expected_effect\"] = new_data[\"기대효과\"]\n",
    "    new_df[\"contents\"] = (new_data[\"과제\"]  +\" \"+ new_data[\"과제목표\"] + \" \"+ new_data[\"주요내용\"] + \" \" + new_data[\"기대효과\"])"
   ]
  },
  {
   "cell_type": "markdown",
   "metadata": {},
   "source": [
    "###         (4) contents에서 전문이 영어인 문장 제거"
   ]
  },
  {
   "cell_type": "code",
   "execution_count": null,
   "metadata": {},
   "outputs": [],
   "source": [
    "# 중복제거, 빈 값 제거\n",
    "new_df = new_df.dropna(axis=0,subset=[\"contents\"])\n",
    "new_df = new_df.drop_duplicates(['contents'], keep='first', ignore_index=True)"
   ]
  },
  {
   "cell_type": "code",
   "execution_count": null,
   "metadata": {},
   "outputs": [],
   "source": [
    "\n",
    "docs = new_df['contents']\n",
    "\n",
    "sents = []\n",
    "words = []\n",
    "for i in tqdm(docs):\n",
    "    sents.append(i.split('.'))\n",
    "for i in tqdm(sents):\n",
    "    word_sent = []\n",
    "    for j in i:\n",
    "        word_sent.append(j.split())\n",
    "    words.append(word_sent)"
   ]
  },
  {
   "cell_type": "code",
   "execution_count": null,
   "metadata": {},
   "outputs": [],
   "source": [
    "count = 0\n",
    "kor_doc = []\n",
    "\n",
    "for i,l in tqdm(enumerate(sents)):\n",
    "    kor_sent = []\n",
    "    for j in l:\n",
    "        if len(re.compile('[가-힣]+').findall(j)) != 0:\n",
    "            kor_sent.append(j)\n",
    "            count += 1\n",
    "    kor_doc.append(kor_sent)\n",
    "print(count)"
   ]
  },
  {
   "cell_type": "code",
   "execution_count": null,
   "metadata": {},
   "outputs": [],
   "source": [
    "sent_len = 0 # 제거 전 \n",
    "kor_doc_len = 0 # 제거 후 \n",
    "for i in sents:\n",
    "    sent_len += len(i)\n",
    "for i in kor_doc:\n",
    "    kor_doc_len += len(i)"
   ]
  },
  {
   "cell_type": "code",
   "execution_count": null,
   "metadata": {},
   "outputs": [],
   "source": [
    "kor_fil = []\n",
    "for i in kor_doc:\n",
    "    kor_fil.append('.'.join(i))"
   ]
  },
  {
   "cell_type": "code",
   "execution_count": null,
   "metadata": {},
   "outputs": [],
   "source": [
    "new_df['contents'] = kor_fil"
   ]
  },
  {
   "cell_type": "code",
   "execution_count": null,
   "metadata": {},
   "outputs": [],
   "source": [
    "#new_df.to_pickle(\"./data/Default/NTIS_2018\"+\".pkl\")"
   ]
  },
  {
   "cell_type": "markdown",
   "metadata": {},
   "source": [
    "###         (5) 기존 데이터와 신규 데이터 병합 및 저장"
   ]
  },
  {
   "cell_type": "code",
   "execution_count": null,
   "metadata": {},
   "outputs": [],
   "source": [
    "updated_data=pd.concat([original_data,new_df])\n",
    "updated_data['year']=[int(i)for i in updated_data['year']]\n",
    "updated_data = updated_data.sort_values(by=['year'],axis=0,ignore_index=True)"
   ]
  },
  {
   "cell_type": "markdown",
   "metadata": {},
   "source": [
    "#### ※ 별도 저장 이름 및 경로 조정 必"
   ]
  },
  {
   "cell_type": "code",
   "execution_count": null,
   "metadata": {},
   "outputs": [],
   "source": [
    "# output : pkl 형식\n",
    "updated_data.to_pickle(\"./data/Default/\"+data_ver+\"/\"+data_ver+\"_2022.pkl\""
   ]
  },
  {
   "cell_type": "code",
   "execution_count": null,
   "metadata": {},
   "outputs": [],
   "source": [
    "len(original_data)"
   ]
  },
  {
   "cell_type": "code",
   "execution_count": null,
   "metadata": {},
   "outputs": [],
   "source": [
    "len(updated_data)"
   ]
  },
  {
   "cell_type": "code",
   "execution_count": null,
   "metadata": {},
   "outputs": [],
   "source": []
  }
 ],
 "metadata": {
  "kernelspec": {
   "display_name": "mecab",
   "language": "python",
   "name": "mecab"
  },
  "language_info": {
   "codemirror_mode": {
    "name": "ipython",
    "version": 3
   },
   "file_extension": ".py",
   "mimetype": "text/x-python",
   "name": "python",
   "nbconvert_exporter": "python",
   "pygments_lexer": "ipython3",
   "version": "3.8.0"
  }
 },
 "nbformat": 4,
 "nbformat_minor": 4
}
