{
 "cells": [
  {
   "cell_type": "code",
   "execution_count": 1,
   "metadata": {},
   "outputs": [
    {
     "name": "stderr",
     "output_type": "stream",
     "text": [
      "C:\\ProgramData\\Anaconda3\\lib\\site-packages\\scipy\\sparse\\sparsetools.py:21: DeprecationWarning: `scipy.sparse.sparsetools` is deprecated!\n",
      "scipy.sparse.sparsetools is a private module for scipy.sparse, and should not be used.\n",
      "  _deprecated()\n"
     ]
    }
   ],
   "source": [
    "#https://bab2min.github.io/tomotopy/v0.12.3/kr/#tomotopy.LDAModel\n",
    "# Package Load\n",
    "import pickle\n",
    "import pyLDAvis\n",
    "import math\n",
    "import copy\n",
    "import numpy as np\n",
    "import pandas as pd\n",
    "import matplotlib.pyplot as plt\n",
    "from gensim.models.coherencemodel import CoherenceModel\n",
    "import tomotopy as tp\n",
    "import tomotopy.coherence as tpc\n",
    "from gensim.corpora import Dictionary\n",
    "from datetime import datetime\n",
    "from tqdm import tqdm\n",
    "from datetime import datetime\n",
    "from timeit import default_timer\n",
    "import plotly.express as px\n",
    "import plotly.offline\n",
    "from plotly.subplots import make_subplots\n",
    "import plotly.graph_objects as go\n",
    "import plotly.offline as pyo\n",
    "import plotly.graph_objs as go\n",
    "from plotly.subplots import make_subplots"
   ]
  },
  {
   "cell_type": "code",
   "execution_count": 2,
   "metadata": {},
   "outputs": [],
   "source": [
    "import os\n",
    "#os.environ[\"CUDA_DEVICE_ORDER\"]=\"PCI_BUS_ID\"\n",
    "os.environ[\"CUDA_VISIBLE_DEVICES\"]=\"-1\""
   ]
  },
  {
   "cell_type": "code",
   "execution_count": 3,
   "metadata": {},
   "outputs": [],
   "source": [
    "#os.chdir(\"C:\\\\Users\\\\newcomer02\\\\NTIS_Project\")"
   ]
  },
  {
   "cell_type": "markdown",
   "metadata": {},
   "source": [
    "## 코퍼스 파일 로드\n",
    "### 아무것도 입력하지 않고 엔터만 누를 시 디폴트 파일 Load"
   ]
  },
  {
   "cell_type": "code",
   "execution_count": 53,
   "metadata": {},
   "outputs": [
    {
     "name": "stdout",
     "output_type": "stream",
     "text": [
      "분석하고 싶은 토픽의 번호를 입력하시오:11\n"
     ]
    }
   ],
   "source": [
    "topic_ver = str(input(\"분석하고 싶은 토픽의 번호를 입력하시오:\"))\n",
    "DATA_DIR = \"./data/LDA/NTIS/corpus_topic/\""
   ]
  },
  {
   "cell_type": "code",
   "execution_count": 54,
   "metadata": {},
   "outputs": [
    {
     "name": "stderr",
     "output_type": "stream",
     "text": [
      "480it [00:00, 30081.52it/s]\n"
     ]
    }
   ],
   "source": [
    "corpus=[]\n",
    "for n, line in tqdm(enumerate(open(DATA_DIR + \"LDA_topic_\"+topic_ver+\".txt\", encoding='CP949'))):\n",
    "    doc=line.strip().split()\n",
    "    corpus.append(doc)"
   ]
  },
  {
   "cell_type": "code",
   "execution_count": 55,
   "metadata": {},
   "outputs": [],
   "source": [
    "sct = sum(corpus,[])\n",
    "from collections import Counter"
   ]
  },
  {
   "cell_type": "code",
   "execution_count": 56,
   "metadata": {
    "scrolled": true,
    "tags": []
   },
   "outputs": [],
   "source": [
    "df_sct = pd.DataFrame(Counter(sct).most_common(),columns=[\"word\",\"count\"])"
   ]
  },
  {
   "cell_type": "code",
   "execution_count": 57,
   "metadata": {},
   "outputs": [
    {
     "data": {
      "text/plain": [
       "17"
      ]
     },
     "execution_count": 57,
     "metadata": {},
     "output_type": "execute_result"
    }
   ],
   "source": [
    "mcf = df_sct.iloc[:int(len(df_sct)*  0.2),:][\"count\"].iloc[-1]-1\n",
    "mcf"
   ]
  },
  {
   "cell_type": "markdown",
   "metadata": {},
   "source": [
    "## LDA 모델 최적화"
   ]
  },
  {
   "cell_type": "code",
   "execution_count": 58,
   "metadata": {},
   "outputs": [
    {
     "name": "stdout",
     "output_type": "stream",
     "text": [
      "LDA 모델 최적 토픽 수를 검증하기 위한 최대 토픽 수를 입력하세요. (※ 10이상의 자연수, 권장값 = 250개)150\n",
      "학습 Iteration 수를 입력하세요. (※ 100이상의 자연수, 권장값 = 1000회)1000\n",
      "\n",
      " 최대 토픽 갯수 150개로 1000회씩 학습을 진행합니다.\n"
     ]
    }
   ],
   "source": [
    "upper_topic_num = int(input(\"LDA 모델 최적 토픽 수를 검증하기 위한 최대 토픽 수를 입력하세요. (※ 10이상의 자연수, 권장값 = 250개)\"))\n",
    "iteration = int(input(\"학습 Iteration 수를 입력하세요. (※ 100이상의 자연수, 권장값 = 1000회)\"))\n",
    "\n",
    "print('\\n 최대 토픽 갯수 %s개로 %d회씩 학습을 진행합니다.'%(upper_topic_num,iteration))"
   ]
  },
  {
   "cell_type": "markdown",
   "metadata": {},
   "source": [
    "## LDA 모델에서 토픽 수를 10, 20, 30 ... 으로 10개씩 증가시키면서 \n",
    "## 앞에서 입력된 최대 토픽 수까지 모델을 훈련시켜 최적 토픽수를 찾음\n",
    "### cf. 정해진 토픽수는 없으며, 분석가의 판단에 따라 결정하는 것임"
   ]
  },
  {
   "cell_type": "code",
   "execution_count": 59,
   "metadata": {},
   "outputs": [
    {
     "name": "stderr",
     "output_type": "stream",
     "text": [
      "100%|██████████████████████████████████████████████████████████████████████████████████| 30/30 [02:04<00:00,  4.16s/it]\n"
     ]
    }
   ],
   "source": [
    "score_u_list=[]\n",
    "score_c_list=[]\n",
    "perplexity_list=[]\n",
    "for opt_tp in tqdm(range(5, upper_topic_num+5, 5)): \n",
    "    model=tp.LDAModel(k=opt_tp, min_cf=mcf, rm_top=64 ,tw=tp.TermWeight.PMI, seed=42)\n",
    "    for cnt in range(len(corpus)):\n",
    "        model.add_doc(corpus[cnt])\n",
    "    model.train(iter=iteration, workers=0)\n",
    "    perplexity_list.append(math.log10(model.perplexity))\n",
    "    coherence_u=tpc.Coherence(model, coherence='u_mass')\n",
    "    coherence_c=tpc.Coherence(model, coherence='c_v')\n",
    "    score_u=coherence_u.get_score()\n",
    "    score_u_list.append(score_u)\n",
    "    score_c=coherence_c.get_score()\n",
    "    score_c_list.append(score_c)"
   ]
  },
  {
   "cell_type": "markdown",
   "metadata": {},
   "source": [
    "## (1) Coherence graph : 토픽들이 얼마나 일관성 있는지에 대한 판단 지표\n",
    "## 수치가 0에 가까울수록 일관성에 대한 해석이 용이"
   ]
  },
  {
   "cell_type": "code",
   "execution_count": 61,
   "metadata": {},
   "outputs": [
    {
     "data": {
      "image/png": "[encoded data removed]",
      "text/plain": [
       "<Figure size 432x288 with 1 Axes>"
      ]
     },
     "metadata": {
      "needs_background": "light"
     },
     "output_type": "display_data"
    }
   ],
   "source": [
    "x=range(5, upper_topic_num+5, 5)\n",
    "plt.plot(x, score_c_list, color='green') \n",
    "plt.xlabel(\"Topic Num\") \n",
    "plt.ylabel(\"Coherence score\") \n",
    "plt.legend((\"coherence_values\"), loc='best') \n",
    "plt.show()"
   ]
  },
  {
   "cell_type": "code",
   "execution_count": 62,
   "metadata": {},
   "outputs": [
    {
     "name": "stdout",
     "output_type": "stream",
     "text": [
      "0.7841150423553255\n"
     ]
    },
    {
     "data": {
      "text/plain": [
       "9"
      ]
     },
     "execution_count": 62,
     "metadata": {},
     "output_type": "execute_result"
    }
   ],
   "source": [
    "print(max(score_c_list))\n",
    "max_index = score_c_list.index(max(score_c_list)) +1 \n",
    "max_index"
   ]
  },
  {
   "cell_type": "code",
   "execution_count": null,
   "metadata": {},
   "outputs": [],
   "source": []
  },
  {
   "cell_type": "code",
   "execution_count": 46,
   "metadata": {},
   "outputs": [
    {
     "data": {
      "text/plain": [
       "16"
      ]
     },
     "execution_count": 46,
     "metadata": {},
     "output_type": "execute_result"
    }
   ],
   "source": [
    "score_c_list.index(max(score_c_list[15:25]))"
   ]
  },
  {
   "cell_type": "code",
   "execution_count": 47,
   "metadata": {},
   "outputs": [
    {
     "data": {
      "image/png": "[encoded data removed]",
      "text/plain": [
       "<Figure size 432x288 with 1 Axes>"
      ]
     },
     "metadata": {
      "needs_background": "light"
     },
     "output_type": "display_data"
    }
   ],
   "source": [
    "x=range(5, upper_topic_num+5, 5)\n",
    "plt.plot(x, score_u_list, color='green') \n",
    "plt.xlabel(\"Topic Num\") \n",
    "plt.ylabel(\"Coherence score\") \n",
    "plt.legend((\"coherence_values\"), loc='best') \n",
    "plt.show()"
   ]
  },
  {
   "cell_type": "markdown",
   "metadata": {},
   "source": [
    "## (2) Perplexity 그래프 : 확률 모델이 얼마나 잘 예측하는지에 대한 판단 지표\n",
    "### 수치가 낮을수록 잘 예측한다고 해석 할 수 있지만, 이는 사람이 해석하는데 용이하다는 것을 의미하는 것은 아님"
   ]
  },
  {
   "cell_type": "code",
   "execution_count": 29,
   "metadata": {},
   "outputs": [
    {
     "data": {
      "image/png": "[encoded data removed]",
      "text/plain": [
       "<Figure size 432x288 with 1 Axes>"
      ]
     },
     "metadata": {
      "needs_background": "light"
     },
     "output_type": "display_data"
    }
   ],
   "source": [
    "x=range(5, upper_topic_num+5, 5)\n",
    "plt.plot(x, perplexity_list, color='blue') \n",
    "plt.xlabel(\"Topic Num\") \n",
    "plt.ylabel(\"perplexity score\") \n",
    "plt.legend((\"perplexity_values\"), loc='best') \n",
    "plt.show()"
   ]
  },
  {
   "cell_type": "code",
   "execution_count": 63,
   "metadata": {},
   "outputs": [
    {
     "name": "stderr",
     "output_type": "stream",
     "text": [
      "100%|██████████████████████████████████████████████████████████████████████████████████| 10/10 [00:29<00:00,  2.91s/it]\n"
     ]
    }
   ],
   "source": [
    "score_u_list_2=[]\n",
    "score_c_list_2=[]\n",
    "perplexity_list_2=[]\n",
    "for opt_tp in tqdm(range(max_index*5-5, max_index*5+5, 1)): \n",
    "    model=tp.LDAModel(k=opt_tp, min_cf=mcf, rm_top=64 ,tw=tp.TermWeight.PMI, seed=42)\n",
    "    for cnt in range(len(corpus)):\n",
    "        model.add_doc(corpus[cnt])\n",
    "    model.train(iter=iteration, workers=0)\n",
    "    perplexity_list_2.append(math.log10(model.perplexity))\n",
    "    coherence_u_2=tpc.Coherence(model, coherence='u_mass')\n",
    "    coherence_c_2=tpc.Coherence(model, coherence='c_v')\n",
    "    score_u_2=coherence_u_2.get_score()\n",
    "    score_u_list_2.append(score_u_2)\n",
    "    score_c_2=coherence_c_2.get_score()\n",
    "    score_c_list_2.append(score_c_2)"
   ]
  },
  {
   "cell_type": "code",
   "execution_count": 64,
   "metadata": {
    "scrolled": true
   },
   "outputs": [
    {
     "data": {
      "image/png": "[encoded data removed]",
      "text/plain": [
       "<Figure size 432x288 with 1 Axes>"
      ]
     },
     "metadata": {
      "needs_background": "light"
     },
     "output_type": "display_data"
    }
   ],
   "source": [
    "x=range(max_index*5-5, max_index*5+5, 1)\n",
    "plt.plot(x, score_c_list_2, color='green') \n",
    "plt.xlabel(\"Topic Num\") \n",
    "plt.ylabel(\"Coherence score\") \n",
    "plt.legend((\"coherence_values\"), loc='best') \n",
    "#plt.axvline(x=23,color='r')\n",
    "plt.xticks(np.arange(max_index*5-5, max_index*5+5))\n",
    "plt.show()"
   ]
  },
  {
   "cell_type": "code",
   "execution_count": 66,
   "metadata": {},
   "outputs": [
    {
     "data": {
      "text/plain": [
       "[0.7744089074432849,\n",
       " 0.7915409935683739,\n",
       " 0.7800717088438215,\n",
       " 0.7768307781496714,\n",
       " 0.7846718350594696,\n",
       " 0.7841150423553255,\n",
       " 0.7885967443818632,\n",
       " 0.7911913021447811,\n",
       " 0.7885038578882814,\n",
       " 0.7799880269838838]"
      ]
     },
     "execution_count": 66,
     "metadata": {},
     "output_type": "execute_result"
    }
   ],
   "source": [
    "score_c_list_2"
   ]
  },
  {
   "cell_type": "code",
   "execution_count": 65,
   "metadata": {},
   "outputs": [
    {
     "name": "stdout",
     "output_type": "stream",
     "text": [
      "8\n"
     ]
    }
   ],
   "source": [
    "print(score_c_list[0:20].index(max(score_c_list[0:20])))"
   ]
  },
  {
   "cell_type": "code",
   "execution_count": 51,
   "metadata": {},
   "outputs": [
    {
     "data": {
      "image/png": "[encoded data removed]",
      "text/plain": [
       "<Figure size 432x288 with 1 Axes>"
      ]
     },
     "metadata": {
      "needs_background": "light"
     },
     "output_type": "display_data"
    }
   ],
   "source": [
    "x=range(10, 30, 1)\n",
    "plt.plot(x, score_u_list[0:20], color='green') \n",
    "plt.xlabel(\"Topic Num\") \n",
    "plt.ylabel(\"Coherence score\") \n",
    "plt.legend((\"coherence_values\"), loc='best') \n",
    "plt.show()"
   ]
  },
  {
   "cell_type": "code",
   "execution_count": 52,
   "metadata": {},
   "outputs": [
    {
     "data": {
      "image/png": "[encoded data removed]",
      "text/plain": [
       "<Figure size 432x288 with 1 Axes>"
      ]
     },
     "metadata": {
      "needs_background": "light"
     },
     "output_type": "display_data"
    }
   ],
   "source": [
    "x=range(10, 30, 1)\n",
    "plt.plot(x, perplexity_list[0:20], color='blue') \n",
    "plt.xlabel(\"Topic Num\") \n",
    "plt.ylabel(\"perplexity score\") \n",
    "plt.legend((\"perplexity_values\"), loc='best')\n",
    "#plt.axvline(x=23,color='r')\n",
    "plt.xticks(np.arange(10,31))\n",
    "plt.show()"
   ]
  },
  {
   "cell_type": "code",
   "execution_count": null,
   "metadata": {},
   "outputs": [],
   "source": []
  }
 ],
 "metadata": {
  "kernelspec": {
   "display_name": "Python 3 (ipykernel)",
   "language": "python",
   "name": "python3"
  },
  "language_info": {
   "codemirror_mode": {
    "name": "ipython",
    "version": 3
   },
   "file_extension": ".py",
   "mimetype": "text/x-python",
   "name": "python",
   "nbconvert_exporter": "python",
   "pygments_lexer": "ipython3",
   "version": "3.9.12"
  }
 },
 "nbformat": 4,
 "nbformat_minor": 4
}
