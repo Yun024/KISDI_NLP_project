{
 "cells": [
  {
   "cell_type": "markdown",
   "metadata": {},
   "source": [
    "# HAN 모델 새로 학습 원하는 경우 실행\n",
    "## 2-1번 코드 수정 발생 시, 해당 코드 전체 실행 필수"
   ]
  },
  {
   "cell_type": "code",
   "execution_count": 2,
   "metadata": {},
   "outputs": [],
   "source": [
    "import tensorflow as tf\n",
    "# from tensorflow.python.client import device_lib\n",
    "# print(device_lib.list_local_devices())"
   ]
  },
  {
   "cell_type": "code",
   "execution_count": 4,
   "metadata": {},
   "outputs": [],
   "source": [
    "# Package Load\n",
    "import pandas as pd\n",
    "import numpy as np\n",
    "import pickle\n",
    "from eunjeon import Mecab\n",
    "import os\n",
    "import collections\n",
    "import re\n",
    "from tqdm import tqdm\n",
    "import nltk\n",
    "\n",
    "# 다른 형태소 분석기를 사용하게 될 경우 수정 필요\n",
    "mecab = Mecab(dicpath = 'C:\\\\mecab\\\\mecab-ko-dic') ## dic 반영 형태소 분석기\n",
    "\n",
    "from collections import defaultdict\n",
    "from collections import Counter\n",
    "import re \n",
    "import sys\n",
    "import os \n",
    "from sklearn.model_selection import train_test_split\n",
    "from sklearn.metrics import confusion_matrix\n",
    "\n",
    "from keras.preprocessing.text import Tokenizer, text_to_word_sequence\n",
    "from keras.preprocessing.sequence import pad_sequences\n",
    "from keras.utils.np_utils import to_categorical\n",
    "\n",
    "from keras.layers import Embedding\n",
    "from keras.layers import Dense, Input, Flatten, Activation \n",
    "from keras.layers import Conv1D, MaxPooling1D, merge, Dropout, LSTM, GRU, Bidirectional, TimeDistributed\n",
    "from keras.callbacks import EarlyStopping\n",
    "from keras.models import Model \n",
    "\n",
    "from keras import optimizers\n",
    "from keras import backend as K\n",
    "#from keras.engine.topology import Layer, InputSpec\n",
    "from tensorflow.python.keras.layers import Layer,InputSpec\n",
    "from keras import initializers as initializers, regularizers, constraints\n",
    "\n",
    "import json\n",
    "\n",
    "from sklearn.metrics import precision_recall_curve\n",
    "from sklearn import metrics\n",
    "import matplotlib.pyplot as plt\n",
    "from sklearn.metrics import classification_report, confusion_matrix\n",
    "\n",
    "import os \n",
    "from keras.models import load_model\n",
    "from datetime import datetime\n",
    "\n",
    "import plotly.express as px\n",
    "from plotly.subplots import make_subplots\n",
    "import plotly.graph_objs as go\n",
    "version_name=str(datetime.today().strftime(\"%Y%m%d\")) # 버전 담는 변수 (오늘의 날짜)"
   ]
  },
  {
   "cell_type": "markdown",
   "metadata": {},
   "source": [
    "# Part 1. Classification Model Training "
   ]
  },
  {
   "cell_type": "markdown",
   "metadata": {},
   "source": [
    "### (1) 학습에 사용할 NTIS 로드 및 전처리"
   ]
  },
  {
   "cell_type": "markdown",
   "metadata": {},
   "source": [
    "#### 사용자명, 불러올 NTIS 데이터명 입력 (사용자별 폴더 생성)"
   ]
  },
  {
   "cell_type": "code",
   "execution_count": 9,
   "metadata": {},
   "outputs": [],
   "source": [
    "os.environ[\"CUDA_VISIBLE_DEVICES\"] = \"-1\""
   ]
  },
  {
   "cell_type": "code",
   "execution_count": 15,
   "metadata": {},
   "outputs": [],
   "source": [
    "os.chdir(\"C:\\\\Users\\\\newcomer02\\\\NTIS_Project\")"
   ]
  },
  {
   "cell_type": "code",
   "execution_count": 19,
   "metadata": {},
   "outputs": [
    {
     "name": "stdin",
     "output_type": "stream",
     "text": [
      "사용자명을 설정해주세요 :  \n",
      "\n",
      "불러오실 NTIS 데이터명을 입력하세요 (Default : 엔터키):  NTIS_2021\n"
     ]
    }
   ],
   "source": [
    "user_name = input(\"사용자명을 설정해주세요 : \")\n",
    "\n",
    "data_ver = input(\"\\n불러오실 NTIS 데이터명을 입력하세요 (Default : 엔터키): \")"
   ]
  },
  {
   "cell_type": "code",
   "execution_count": 20,
   "metadata": {},
   "outputs": [],
   "source": [
    "# 기존 NTIS data load \n",
    "# input : pkl 파일, 없으면 오류 (data 폴더에 존재)\n",
    "\n",
    "if data_ver =='':\n",
    "    with open('./data/Default/NTIS.pkl', 'rb') as f:\n",
    "        labeled_data = pickle.load(f)\n",
    "else:\n",
    "    with open('./data/Default/NTIS/'+data_ver+'.pkl', 'rb') as f:\n",
    "        labeled_data = pickle.load(f) \n",
    "\n",
    "if 'filtered_ICT' in labeled_data.columns:\n",
    "    del labeled_data['filtered_ICT']"
   ]
  },
  {
   "cell_type": "code",
   "execution_count": 5,
   "metadata": {},
   "outputs": [
    {
     "name": "stderr",
     "output_type": "stream",
     "text": [
      "100%|███████████████████████████████████████████████████████████████████████| 286028/286028 [00:09<00:00, 31128.81it/s]\n"
     ]
    }
   ],
   "source": [
    "temp = []\n",
    "for i in tqdm(range(len(labeled_data))) :\n",
    "    if ((labeled_data['L_type_1'][i]==\"정보/통신\") | (labeled_data['L_type_2'][i]==\"정보/통신\") | \n",
    "        (labeled_data['L_type_3'][i]==\"정보/통신\") | (labeled_data['M_L_type'][i]==\"ICT·SW\")| \n",
    "        (labeled_data['AP_1'][i]==\"출판, 영상, 방송통신 및 정보서비스업\") | (labeled_data['AP_2'][i]==\"출판, 영상, 방송통신 및 정보서비스업\")|\n",
    "        (labeled_data['AP_3'][i]==\"출판, 영상, 방송통신 및 정보서비스업\") | (labeled_data['6T_L_type'][i]==\"IT(정보기술)\")):\n",
    "        temp.append(1)\n",
    "    else :\n",
    "        temp.append(0)\n",
    "labeled_data['label'] = temp"
   ]
  },
  {
   "cell_type": "code",
   "execution_count": 6,
   "metadata": {},
   "outputs": [
    {
     "name": "stdout",
     "output_type": "stream",
     "text": [
      "[('ict', 'SL'), ('iot', 'SL'), ('ai', 'SL'), ('atml', 'SL'), ('automl', 'SL'), ('안녕', 'IC'), ('직생하다', 'NNP'), ('모르', 'VV'), ('겠', 'EP'), ('다', 'EC'), ('장의사', 'NNP')]\n",
      "['직생하다', '장의사']\n"
     ]
    }
   ],
   "source": [
    "from eunjeon import Mecab\n",
    "mecab = Mecab(dicpath = 'C:\\\\mecab\\\\mecab-ko-dic')\n",
    "print(mecab.pos(\"ict iot ai atml automl 안녕 직생하다 모르겠다 장의사\"))\n",
    "print(mecab.nouns(\"ict iot ai atml automl 안녕 직생하다 모르겠다 장의사\"))\n"
   ]
  },
  {
   "cell_type": "code",
   "execution_count": 11,
   "metadata": {},
   "outputs": [
    {
     "data": {
      "text/plain": [
       "['ict', 'iot', 'ai', 'atml', 'automl', '직생하다', '장의사']"
      ]
     },
     "execution_count": 11,
     "metadata": {},
     "output_type": "execute_result"
    }
   ],
   "source": [
    "def nouns(text):\n",
    "    answer = list()\n",
    "    target = [\"NNG\",\"NNP\",\"NNB\",\"NR\",\"NP\",\"SL\"]\n",
    "    for i in mecab.pos(text):\n",
    "        if i[1] in target:\n",
    "            answer.append(i[0])\n",
    "        else: \n",
    "            continue\n",
    "    return answer\n",
    "nouns(\"ict iot ai atml automl 안녕 직생하다 모르겠다 장의사\")"
   ]
  },
  {
   "cell_type": "code",
   "execution_count": 12,
   "metadata": {},
   "outputs": [],
   "source": [
    "from nltk.tokenize import LineTokenizer\n",
    "\n",
    "line_tokenizer = LineTokenizer()\n",
    "\n",
    "def preprocessing(text_list):\n",
    "    preprocessed_text = []\n",
    "    for text in text_list:\n",
    "        text = re.sub(r'\\W+', ' ', text) \n",
    "        text = re.sub('o','', text)\n",
    "        text = re.sub('○','', text)\n",
    "        text = re.sub('ㅇ','', text)\n",
    "        text = nouns(text)\n",
    "        preprocessed_text.append(text)\n",
    "    return preprocessed_text\n",
    "\n",
    "def preprocessing_1(text):\n",
    "    text = re.sub(r'\\W+', ' ', text)\n",
    "    text = re.sub('o','', text)\n",
    "    text = re.sub('○','', text)\n",
    "    text = re.sub('ㅇ','', text)\n",
    "    return text\n",
    "\n",
    "def preprocessing_2(text):\n",
    "    text = re.sub(r'\\W+', ' ', text)\n",
    "    text = re.sub('o','', text)\n",
    "    text = re.sub('○','', text)\n",
    "    text = re.sub('ㅇ','', text)\n",
    "    text = nouns(text)\n",
    "    return text"
   ]
  },
  {
   "cell_type": "code",
   "execution_count": 13,
   "metadata": {},
   "outputs": [],
   "source": [
    "# for drop 컬럼 : 중복 데이터 제거를 위한 전처리 \n",
    "# 실행 시 다소 긴 소요 시간 발생 유의\n",
    "\n",
    "labeled_data['for drop'] = labeled_data['contents'].apply(lambda text: preprocessing_1(text))\n",
    "#labeled_data = labeled_data.drop_duplicates(['for drop'], keep='first', ignore_index=True)\n",
    "\n",
    "# filtered ICT 컬럼 : 생성한 필터워드 기반 ICT 레이블링 \n",
    "# cleaned data 컬럼 : HAN 인풋을 위한 데이터 전처리 \n",
    "# 실행 시 다소 긴 소요 시간 발생 유의\n",
    "\n",
    "labeled_data['cleaned_data'] = labeled_data['contents'].apply(lambda text: line_tokenizer.tokenize(text))\n",
    "labeled_data.cleaned_data = labeled_data.cleaned_data.apply(preprocessing)\n",
    "labeled_data['for tokenizer'] = labeled_data['contents'].apply(preprocessing_2)"
   ]
  },
  {
   "cell_type": "code",
   "execution_count": null,
   "metadata": {
    "scrolled": true
   },
   "outputs": [],
   "source": [
    "# 워드 필터링 기반 레이블링 후, ICT  및 non ICT 문서 비율 \n",
    "# 최종 ntis 데이터 저장\n",
    "\n",
    "#labeled_data.to_pickle(\"./data/HAN/NTIS/LABELED_NTIS_2021_2.pkl\")\n",
    "labeled_data = pd.read_pickle(\"./data/Default/NTIS/LABELED_NTIS_2021.pkl\")"
   ]
  },
  {
   "cell_type": "code",
   "execution_count": 3,
   "metadata": {},
   "outputs": [],
   "source": [
    "## 데이터 구분(ict/non ict)\n",
    "ict_doc = labeled_data[(labeled_data.label == 1)] \n",
    "non_ict_doc = labeled_data[(labeled_data.label == 0)]"
   ]
  },
  {
   "cell_type": "markdown",
   "metadata": {},
   "source": [
    "### (3) HAN: 모델 학습 및 저장"
   ]
  },
  {
   "cell_type": "code",
   "execution_count": 4,
   "metadata": {},
   "outputs": [],
   "source": [
    "DIC = pd.read_csv('./data/Default/user-custom.csv')\n",
    "#ICT_DIC = pd.read_csv('./data/Default/ICT_DIC.csv',encoding=\"CP949\")\n",
    "#list_ICT_DIC = list(ICT_DIC['term'])\n",
    "#list_ICT_DIC"
   ]
  },
  {
   "cell_type": "code",
   "execution_count": 5,
   "metadata": {},
   "outputs": [],
   "source": [
    "# HAN 모델 학습 전 파라미터값 설정\n",
    "# [문서, 문장, 단어]를 계층적으로 표현하기 위해 담을 Data Shape 구성\n",
    "\n",
    "max_sent_length= 150 # 문장 내 최대 단어 수 \n",
    "max_sentences = 30  # 문서 내 최대 문장 수 \n",
    "max_words_dic = 25000\n",
    "embedding_dim = 50 \n",
    "adam = optimizers.Adam(learning_rate=0.001) \n",
    "\n",
    "# 단어 단위 토큰화 작업\n",
    "# input : json 형태의 파일, 해당 파일 없으면 오류 발생 (data/HAN 폴더)\n",
    "tokenizer = Tokenizer(num_words=max_words_dic, lower=False, oov_token=\"term\")\n",
    "tokenizer.word_index = dict.fromkeys(DIC['term'])"
   ]
  },
  {
   "cell_type": "code",
   "execution_count": 6,
   "metadata": {},
   "outputs": [],
   "source": [
    "new_dict = {}\n",
    "k=1\n",
    "for v in tokenizer.word_index.keys():\n",
    "    new_dict[v] = k\n",
    "    k = k+1\n",
    "    \n",
    "tokenizer.word_index = new_dict "
   ]
  },
  {
   "cell_type": "code",
   "execution_count": 7,
   "metadata": {},
   "outputs": [
    {
     "data": {
      "text/plain": [
       "1064754"
      ]
     },
     "execution_count": 7,
     "metadata": {},
     "output_type": "execute_result"
    }
   ],
   "source": [
    "len(tokenizer.word_index)"
   ]
  },
  {
   "cell_type": "code",
   "execution_count": 8,
   "metadata": {},
   "outputs": [
    {
     "data": {
      "text/plain": [
       "(61323, 30, 150)"
      ]
     },
     "execution_count": 8,
     "metadata": {},
     "output_type": "execute_result"
    }
   ],
   "source": [
    "# HAN 모델 학습을 위한 전 단계\n",
    "\n",
    "texts_ict = list(ict_doc['for tokenizer']) \n",
    "documents_ict = list(ict_doc.cleaned_data)\n",
    "temp = {\"label_0\" : [0]*len(texts_ict),\n",
    "        \"label_1\" : [1]*len(texts_ict)}\n",
    "labels_ict = pd.DataFrame(temp)\n",
    "word_dic = tokenizer.word_index\n",
    "data_ict = np.zeros((len(texts_ict), max_sentences, max_sent_length), dtype='int32') \n",
    "data_ict.shape"
   ]
  },
  {
   "cell_type": "code",
   "execution_count": 9,
   "metadata": {},
   "outputs": [
    {
     "data": {
      "text/plain": [
       "(224705, 30, 150)"
      ]
     },
     "execution_count": 9,
     "metadata": {},
     "output_type": "execute_result"
    }
   ],
   "source": [
    "# HAN 모델 학습을 위한 전 단계\n",
    "\n",
    "texts_non_ict = list(non_ict_doc['for tokenizer']) \n",
    "documents_non_ict = list(non_ict_doc.cleaned_data)\n",
    "temp = {\"label_0\" : [1]*len(texts_non_ict),\n",
    "        \"label_1\" : [0]*len(texts_non_ict)}\n",
    "labels_non_ict = pd.DataFrame(temp)\n",
    "word_dic = tokenizer.word_index\n",
    "data_non_ict = np.zeros((len(texts_non_ict), max_sentences, max_sent_length), dtype='int32') \n",
    "data_non_ict.shape"
   ]
  },
  {
   "cell_type": "code",
   "execution_count": null,
   "metadata": {},
   "outputs": [
    {
     "data": {
      "text/plain": [
       "286028"
      ]
     },
     "execution_count": 1,
     "metadata": {},
     "output_type": "execute_result"
    }
   ],
   "source": [
    "61323 + 224705"
   ]
  },
  {
   "cell_type": "code",
   "execution_count": 10,
   "metadata": {
    "scrolled": true
   },
   "outputs": [
    {
     "name": "stderr",
     "output_type": "stream",
     "text": [
      "61323it [00:26, 2341.38it/s]\n"
     ]
    }
   ],
   "source": [
    "# 데이터 구성 : [문서, 문장, 단어]\n",
    "\n",
    "for i, sentences in tqdm(enumerate(documents_ict)): # 문장 집합으로 표현된 하나의 문서를 뽑아서\n",
    "    for j, sentence in enumerate(sentences): # 그 문서집합 내의 문장들을 하나씩 뽑고 \n",
    "        if j < max_sentences:\n",
    "            wordTokens = text_to_word_sequence(str(sentence))\n",
    "            k = 0 \n",
    "            for _, word in enumerate(wordTokens):\n",
    "                try:\n",
    "                    word = word.strip('\\'')\n",
    "                    if k < max_sent_length :\n",
    "                        if word not in tokenizer.word_index:\n",
    "                            continue\n",
    "                        else :\n",
    "                            data_ict[i,j,k] = tokenizer.word_index[word]\n",
    "                            k+=1\n",
    "                    \n",
    "                except SyntaxError:\n",
    "                    print(word)\n",
    "                    if k < max_sent_length :\n",
    "                        if word not in tokenizer.word_index:\n",
    "                            continue\n",
    "                        else :\n",
    "                            data_ict[i,j,k] = tokenizer.word_index[word]\n",
    "                            k+=1\n",
    "  "
   ]
  },
  {
   "cell_type": "code",
   "execution_count": 21,
   "metadata": {},
   "outputs": [
    {
     "data": {
      "text/plain": [
       "array([[[   1403,   19165,  720152, ...,       0,       0,       0],\n",
       "        [1028580,  606939,  139000, ...,       0,       0,       0],\n",
       "        [ 553097,  703508,  650114, ...,       0,       0,       0],\n",
       "        ...,\n",
       "        [      0,       0,       0, ...,       0,       0,       0],\n",
       "        [      0,       0,       0, ...,       0,       0,       0],\n",
       "        [      0,       0,       0, ...,       0,       0,       0]],\n",
       "\n",
       "       [[  75122,  139000,  786034, ...,       0,       0,       0],\n",
       "        [ 786034,  310280,  376703, ...,       0,       0,       0],\n",
       "        [ 406122,  998717,   78524, ...,       0,       0,       0],\n",
       "        ...,\n",
       "        [      0,       0,       0, ...,       0,       0,       0],\n",
       "        [      0,       0,       0, ...,       0,       0,       0],\n",
       "        [      0,       0,       0, ...,       0,       0,       0]],\n",
       "\n",
       "       [[1043450,  644053,   48958, ...,       0,       0,       0],\n",
       "        [ 871517,  233115,  989037, ...,       0,       0,       0],\n",
       "        [ 989037,   19165,  135717, ...,       0,       0,       0],\n",
       "        ...,\n",
       "        [      0,       0,       0, ...,       0,       0,       0],\n",
       "        [      0,       0,       0, ...,       0,       0,       0],\n",
       "        [      0,       0,       0, ...,       0,       0,       0]],\n",
       "\n",
       "       ...,\n",
       "\n",
       "       [[ 617342,  344275,  421965, ...,  720152,   48958,   60905],\n",
       "        [      0,       0,       0, ...,       0,       0,       0],\n",
       "        [      0,       0,       0, ...,       0,       0,       0],\n",
       "        ...,\n",
       "        [      0,       0,       0, ...,       0,       0,       0],\n",
       "        [      0,       0,       0, ...,       0,       0,       0],\n",
       "        [      0,       0,       0, ...,       0,       0,       0]],\n",
       "\n",
       "       [[    569,   19165,   19165, ...,       0,       0,       0],\n",
       "        [ 142175,  786865,  969386, ...,       0,       0,       0],\n",
       "        [     30,   22921,  344437, ...,       0,       0,       0],\n",
       "        ...,\n",
       "        [      0,       0,       0, ...,       0,       0,       0],\n",
       "        [      0,       0,       0, ...,       0,       0,       0],\n",
       "        [      0,       0,       0, ...,       0,       0,       0]],\n",
       "\n",
       "       [[ 144104,  681132,  906313, ...,       0,       0,       0],\n",
       "        [1001287,  139000,  847968, ...,       0,       0,       0],\n",
       "        [ 314435,  233115,  718125, ...,       0,       0,       0],\n",
       "        ...,\n",
       "        [      0,       0,       0, ...,       0,       0,       0],\n",
       "        [      0,       0,       0, ...,       0,       0,       0],\n",
       "        [      0,       0,       0, ...,       0,       0,       0]]])"
      ]
     },
     "execution_count": 21,
     "metadata": {},
     "output_type": "execute_result"
    }
   ],
   "source": [
    "data_ict"
   ]
  },
  {
   "cell_type": "code",
   "execution_count": 11,
   "metadata": {},
   "outputs": [
    {
     "name": "stderr",
     "output_type": "stream",
     "text": [
      "224705it [01:22, 2737.22it/s]\n"
     ]
    }
   ],
   "source": [
    "# 데이터 구성 : [문서, 문장, 단어]\n",
    "\n",
    "for i, sentences in tqdm(enumerate(documents_non_ict)): # 문장 집합으로 표현된 하나의 문서를 뽑아서\n",
    "    for j, sentence in enumerate(sentences): # 그 문서집합 내의 문장들을 하나씩 뽑고 \n",
    "        if j < max_sentences:\n",
    "            wordTokens = text_to_word_sequence(str(sentence))\n",
    "            k = 0 \n",
    "            for _, word in enumerate(wordTokens):\n",
    "                try:\n",
    "                    word = word.strip('\\'')\n",
    "                    if k < max_sent_length :\n",
    "                        if word not in tokenizer.word_index:\n",
    "                            continue\n",
    "                        else :\n",
    "                            data_non_ict[i,j,k] = tokenizer.word_index[word]\n",
    "                            k+=1\n",
    "                    \n",
    "                except SyntaxError:\n",
    "                    print(word)\n",
    "                    if k < max_sent_length :\n",
    "                        if word not in tokenizer.word_index:\n",
    "                            continue\n",
    "                        else :\n",
    "                            data_non_ict[i,j,k] = tokenizer.word_index[word]\n",
    "                            k+=1"
   ]
  },
  {
   "cell_type": "code",
   "execution_count": 22,
   "metadata": {},
   "outputs": [
    {
     "data": {
      "text/plain": [
       "array([[[ 343009, 1043559,  677542, ...,       0,       0,       0],\n",
       "        [ 454389,  132338,  734883, ...,       0,       0,       0],\n",
       "        [ 597157, 1044268,  713812, ...,       0,       0,       0],\n",
       "        ...,\n",
       "        [      0,       0,       0, ...,       0,       0,       0],\n",
       "        [      0,       0,       0, ...,       0,       0,       0],\n",
       "        [      0,       0,       0, ...,       0,       0,       0]],\n",
       "\n",
       "       [[ 396230, 1053468,  703508, ...,       0,       0,       0],\n",
       "        [ 396230, 1053468,  731743, ...,       0,       0,       0],\n",
       "        [ 396230, 1053468,  731743, ...,       0,       0,       0],\n",
       "        ...,\n",
       "        [      0,       0,       0, ...,       0,       0,       0],\n",
       "        [      0,       0,       0, ...,       0,       0,       0],\n",
       "        [      0,       0,       0, ...,       0,       0,       0]],\n",
       "\n",
       "       [[ 142175, 1016054,   93823, ...,       0,       0,       0],\n",
       "        [ 628204,  766338,  801597, ...,       0,       0,       0],\n",
       "        [ 113617,   69782,  114758, ...,       0,       0,       0],\n",
       "        ...,\n",
       "        [      0,       0,       0, ...,       0,       0,       0],\n",
       "        [      0,       0,       0, ...,       0,       0,       0],\n",
       "        [      0,       0,       0, ...,       0,       0,       0]],\n",
       "\n",
       "       ...,\n",
       "\n",
       "       [[ 646542, 1031665,   78273, ...,       0,       0,       0],\n",
       "        [ 644053,  630485,  476576, ...,       0,       0,       0],\n",
       "        [ 644053,  630485,  476576, ...,  639642,   49501,  733487],\n",
       "        ...,\n",
       "        [      0,       0,       0, ...,       0,       0,       0],\n",
       "        [      0,       0,       0, ...,       0,       0,       0],\n",
       "        [      0,       0,       0, ...,       0,       0,       0]],\n",
       "\n",
       "       [[ 899040,  979754,  409707, ...,       0,       0,       0],\n",
       "        [ 644053,  723079,  994910, ...,       0,       0,       0],\n",
       "        [     30,  773562,   95303, ...,       0,       0,       0],\n",
       "        ...,\n",
       "        [      0,       0,       0, ...,       0,       0,       0],\n",
       "        [      0,       0,       0, ...,       0,       0,       0],\n",
       "        [      0,       0,       0, ...,       0,       0,       0]],\n",
       "\n",
       "       [[ 644149,  723079,  329465, ...,       0,       0,       0],\n",
       "        [     30,  644149,  723079, ...,       0,       0,       0],\n",
       "        [  98138,  225057,  353114, ...,       0,       0,       0],\n",
       "        ...,\n",
       "        [      0,       0,       0, ...,       0,       0,       0],\n",
       "        [      0,       0,       0, ...,       0,       0,       0],\n",
       "        [      0,       0,       0, ...,       0,       0,       0]]])"
      ]
     },
     "execution_count": 22,
     "metadata": {},
     "output_type": "execute_result"
    }
   ],
   "source": [
    "data_non_ict"
   ]
  },
  {
   "cell_type": "code",
   "execution_count": 12,
   "metadata": {},
   "outputs": [],
   "source": [
    "import random\n",
    "\n",
    "random.seed(42)\n",
    "ict_index = random.sample(range(len(ict_doc)), len(ict_doc))\n",
    "non_ict_index = random.sample(range(len(non_ict_doc)), len(non_ict_doc))\n",
    "\n",
    "ict_train_index = ict_index[:int(len(ict_index)*0.5)]\n",
    "non_ict_train_index = non_ict_index[:int(len(non_ict_index)*0.5)]\n",
    "ict_val_index = ict_index[int(len(ict_index)*0.5):int(len(ict_index)*0.8)]\n",
    "non_ict_val_index = non_ict_index[int(len(non_ict_index)*0.5):int(len(non_ict_index)*0.8)]\n",
    "ict_test_index = ict_index[int(len(ict_index)*0.8):]\n",
    "non_ict_test_index = non_ict_index[int(len(non_ict_index)*0.8):]"
   ]
  },
  {
   "cell_type": "code",
   "execution_count": 13,
   "metadata": {},
   "outputs": [],
   "source": [
    "ict_train_index_2 = random.choices(ict_train_index,k=len(non_ict_train_index)) "
   ]
  },
  {
   "cell_type": "code",
   "execution_count": 14,
   "metadata": {},
   "outputs": [],
   "source": [
    "# 학습하기 위한 데이터 형태 변환\n",
    "\n",
    "def dot_product(x, kernel):\n",
    "    return K.squeeze(K.dot(x, K.expand_dims(kernel)), axis=-1)\n",
    "\n",
    "\n",
    "class AttentionWithContext(Layer):\n",
    "    def __init__(self, W_regularizer=None, u_regularizer=None, b_regularizer=None,\n",
    "                W_constraint=None, u_constraint=None, b_constraint=None, bias=True, **kwargs):\n",
    "        \n",
    "        self.supports_masking = True\n",
    "        self.init = initializers.get('glorot_uniform')\n",
    "        \n",
    "        self.W_regularizer = regularizers.get(W_regularizer)\n",
    "        self.u_regularizer = regularizers.get(u_regularizer)\n",
    "        self.b_regularizer = regularizers.get(b_regularizer)\n",
    "        \n",
    "        self.W_constraint = constraints.get(W_constraint)\n",
    "        self.u_constraint = constraints.get(u_constraint)\n",
    "        self.b_constraint = constraints.get(b_constraint)\n",
    "        \n",
    "        self.bias = bias\n",
    "        super(AttentionWithContext, self).__init__(**kwargs)\n",
    "        \n",
    "    def build(self, input_shape):\n",
    "        assert len(input_shape) == 3\n",
    "        self.W = self.add_weight(shape=(input_shape[-1], input_shape[-1],),\n",
    "                                initializer=self.init, \n",
    "                                name='{}_W'.format(self.name),\n",
    "                                regularizer=self.W_regularizer,\n",
    "                                constraint=self.W_constraint)\n",
    "        if self.bias:\n",
    "            self.b = self.add_weight(shape=(input_shape[-1],),\n",
    "                                    initializer=self.init, \n",
    "                                    name='{}_b'.format(self.name),\n",
    "                                    regularizer=self.b_regularizer,\n",
    "                                    constraint=self.b_constraint)\n",
    "        self.u = self.add_weight(shape=(input_shape[-1],),\n",
    "                                initializer=self.init,\n",
    "                                name='{}_u'.format(self.name),\n",
    "                                regularizer=self.u_regularizer,\n",
    "                                constraint=self.u_constraint)\n",
    "\n",
    "        super(AttentionWithContext, self).build(input_shape)\n",
    "\n",
    "    def compute_mask(self, input, input_mask=None):\n",
    "        return None\n",
    "    \n",
    "    def call(self, x, mask=None):\n",
    "        uit = dot_product(x, self.W)\n",
    "        if self.bias:\n",
    "            uit += self.b\n",
    "        \n",
    "        uit = K.tanh(uit)\n",
    "        ait = dot_product(uit, self.u)\n",
    "        \n",
    "        a = K.exp(ait)\n",
    "        a /= K.cast(K.sum(a, axis=1, keepdims=True)+K.epsilon(), K.floatx())\n",
    "        \n",
    "        a = K.expand_dims(a)\n",
    "        weighted_input = x * a\n",
    "        return K.sum(weighted_input, axis=1)\n",
    "    \n",
    "    def compute_output_shape(self, input_shape):\n",
    "        return input_shape[0], input_shape[-1]\n",
    "    \n"
   ]
  },
  {
   "cell_type": "code",
   "execution_count": 15,
   "metadata": {
    "scrolled": true
   },
   "outputs": [],
   "source": [
    "x_train = data_ict[ict_train_index_2]\n",
    "x_train=np.append(x_train, np.array(data_non_ict[non_ict_train_index]),axis=0)\n",
    "x_val = data_ict[ict_val_index]\n",
    "x_val=np.append(x_val, np.array(data_non_ict[non_ict_val_index]),axis=0)\n",
    "x_test = data_ict[ict_test_index]\n",
    "x_test=np.append(x_test, np.array(data_non_ict[non_ict_test_index]),axis=0)\n",
    "\n",
    "y_train = labels_ict.iloc[ict_train_index_2,:]\n",
    "y_train= np.append(y_train, np.array(labels_non_ict.iloc[non_ict_train_index,:]),axis=0)\n",
    "y_val = labels_ict.iloc[ict_val_index,:]\n",
    "y_val= np.append(y_val, np.array(labels_non_ict.iloc[non_ict_val_index,:]),axis=0)\n",
    "y_test = labels_ict.iloc[ict_test_index,:]\n",
    "y_test= np.append(y_test, np.array(labels_non_ict.iloc[non_ict_test_index,:]),axis=0)"
   ]
  },
  {
   "cell_type": "code",
   "execution_count": 16,
   "metadata": {},
   "outputs": [],
   "source": [
    "random.seed(42)\n",
    "new_train_index = random.sample(range(len(x_train)), len(x_train))\n",
    "\n",
    "x_train_2 = x_train[new_train_index]\n",
    "y_train_2 = y_train[new_train_index]"
   ]
  },
  {
   "cell_type": "code",
   "execution_count": 17,
   "metadata": {
    "scrolled": true
   },
   "outputs": [
    {
     "name": "stdout",
     "output_type": "stream",
     "text": [
      "(224704, 30, 150)\n",
      "(85809, 30, 150)\n",
      "(57206, 30, 150)\n",
      "Number of samples of each class in training and validation set\n",
      "[112352 112352]\n"
     ]
    }
   ],
   "source": [
    "print(x_train.shape)\n",
    "print(x_val.shape)\n",
    "print(x_test.shape)\n",
    "print('Number of samples of each class in training and validation set')\n",
    "print(y_train.sum(axis=0))\n",
    "\n",
    "data_X = [x_train_2, x_val] \n",
    "data_y = [y_train_2, y_val] "
   ]
  },
  {
   "cell_type": "code",
   "execution_count": 19,
   "metadata": {},
   "outputs": [],
   "source": [
    "import tensorflow as tf\n",
    "import random \n",
    "import os\n",
    "\n",
    "os.environ[\"CUDA_VISIBLE_DEVICES\"] = \"-1\"\n",
    "\n",
    "# HAN 모델링 함수\n",
    "def run_model(data_x, data_y, max_sentences, max_sent_length):\n",
    "    \n",
    "\n",
    "    #os.environ[\"CUDA_VISIBLE_DEVICES\"] = \"0\"\n",
    "    #os.putenv('TF_GPU_ALLOCATOR', 'cuda_malloc_async')\n",
    "    #os.environ[\"CUDA_DEVICE_ORDER\"] = \"PCI_BUS_ID\"\n",
    "    #os.environ[\"PYTHONHASHSEED\"] = str(42)\n",
    "    #os.environ[\"TF_DETERMINISTIC_OPS\"] = '42'\n",
    "    #tf.random.set_seed(42)\n",
    "    #np.random.seed(42)\n",
    "    #random.seed(42)\n",
    "    \n",
    "    # 데이터\n",
    "    x_train, x_val = data_X[0], data_X[1]\n",
    "    y_train, y_val = data_y[0], data_y[1]\n",
    "\n",
    "    embedding_layer = Embedding(len(tokenizer.word_index)+1, embedding_dim,\n",
    "                                input_length=max_sent_length, trainable=True)\n",
    "    \n",
    "    # 모델\n",
    "    word_input = Input(shape=(max_sent_length,), dtype='int32') \n",
    "    word_sequences = embedding_layer(word_input) \n",
    "    word_lstm = Bidirectional(GRU(10, return_sequences=True))(word_sequences)\n",
    "    word_dense = TimeDistributed(Dense(20))(word_lstm)\n",
    "    # TimeDistributed: 각 스텝마다 cost를 계산해서 하위 스텝으로 cost 전파 -> weight를 업데이트\n",
    "    word_att = AttentionWithContext()(word_dense)\n",
    "    wordEncoder = Model(word_input, word_att)\n",
    "    \n",
    "\n",
    "    sent_input = Input(shape=(max_sentences, max_sent_length), dtype='int32')\n",
    "    sent_encoder = TimeDistributed(wordEncoder)(sent_input)\n",
    "    sent_lstm = Bidirectional(GRU(10, return_sequences=True))(sent_encoder)\n",
    "    sent_dense = TimeDistributed(Dense(20))(sent_lstm)\n",
    "    sent_att = AttentionWithContext()(sent_dense)\n",
    "    latent_representation_of_doc = Dense(3)(sent_att)\n",
    "    predictions = Dense(2, activation='softmax')(sent_att)\n",
    "    model = Model(sent_input, predictions)\n",
    "    Encoder = Model(sent_input, latent_representation_of_doc)\n",
    "    \n",
    "    model.compile(loss ='categorical_crossentropy', \n",
    "                 optimizer = adam,\n",
    "                 metrics = ['acc'])\n",
    "    \n",
    "    print(model.summary())\n",
    "    \n",
    "    es = EarlyStopping(monitor='val_loss', mode='min', verbose=1, patience=3)   \n",
    "    history = model.fit(x_train, y_train, validation_data=(x_val, y_val),\n",
    "                       epochs=2, batch_size=512, callbacks=[es])\n",
    "    \n",
    "    \n",
    "    \n",
    "    #loss, acc = model.evaluate(x_train, y_train, verbose=2)\n",
    "    #print('Training Acc: {:.4f}'.format(acc))\n",
    "    \n",
    "    #loss, acc = model.evaluate(x_val, y_val, verbose=2)\n",
    "    #print('Validation Acc: {:.4f}'.format(acc))\n",
    "    \n",
    " \n",
    "    return model, Encoder, history\n",
    "        "
   ]
  },
  {
   "cell_type": "code",
   "execution_count": 20,
   "metadata": {
    "scrolled": true
   },
   "outputs": [
    {
     "name": "stdout",
     "output_type": "stream",
     "text": [
      "Model: \"model_1\"\n",
      "_________________________________________________________________\n",
      "Layer (type)                 Output Shape              Param #   \n",
      "=================================================================\n",
      "input_2 (InputLayer)         [(None, 30, 150)]         0         \n",
      "_________________________________________________________________\n",
      "time_distributed_1 (TimeDist (None, 30, 20)            53242330  \n",
      "_________________________________________________________________\n",
      "bidirectional_1 (Bidirection (None, 30, 20)            1920      \n",
      "_________________________________________________________________\n",
      "time_distributed_2 (TimeDist (None, 30, 20)            420       \n",
      "_________________________________________________________________\n",
      "attention_with_context_1 (At (None, 20)                440       \n",
      "_________________________________________________________________\n",
      "dense_3 (Dense)              (None, 2)                 42        \n",
      "=================================================================\n",
      "Total params: 53,245,152\n",
      "Trainable params: 53,245,152\n",
      "Non-trainable params: 0\n",
      "_________________________________________________________________\n",
      "None\n",
      "Epoch 1/2\n",
      "439/439 [==============================] - 3696s 8s/step - loss: 0.3404 - acc: 0.8353 - val_loss: 0.2488 - val_acc: 0.9010\n",
      "Epoch 2/2\n",
      "439/439 [==============================] - 3094s 7s/step - loss: 0.1395 - acc: 0.9534 - val_loss: 0.2874 - val_acc: 0.8966\n"
     ]
    }
   ],
   "source": [
    "# Model Training \n",
    "# 실행 시 2시간 정도의 소요 시간 발생 유의\n",
    "model, Encoder, history = run_model(data_X, data_y, max_sentences, max_sent_length) "
   ]
  },
  {
   "cell_type": "code",
   "execution_count": 23,
   "metadata": {},
   "outputs": [],
   "source": [
    "# ICT 예측값 (validation set)\n",
    "y_pred = np.argmax(model.predict(x_val), axis=1) \n",
    "ict_prob = model.predict(x_val)[:,1]"
   ]
  },
  {
   "cell_type": "code",
   "execution_count": 24,
   "metadata": {},
   "outputs": [
    {
     "data": {
      "text/plain": [
       "Counter({1: 23581, 0: 62228})"
      ]
     },
     "execution_count": 24,
     "metadata": {},
     "output_type": "execute_result"
    }
   ],
   "source": [
    "import collections, numpy\n",
    "\n",
    "collections.Counter(y_pred)"
   ]
  },
  {
   "cell_type": "code",
   "execution_count": 25,
   "metadata": {
    "scrolled": true
   },
   "outputs": [
    {
     "data": {
      "image/png": "[encoded data removed]",
      "text/plain": [
       "<Figure size 576x360 with 1 Axes>"
      ]
     },
     "metadata": {
      "needs_background": "light"
     },
     "output_type": "display_data"
    },
    {
     "data": {
      "image/png": "[encoded data removed]",
      "text/plain": [
       "<Figure size 432x288 with 1 Axes>"
      ]
     },
     "metadata": {
      "needs_background": "light"
     },
     "output_type": "display_data"
    }
   ],
   "source": [
    "# Optimal threshold  설정 : Recall과 Precision을 가장 높게하는 지점 파악\n",
    "\n",
    "precision_rt, recall_rt, threshold_rt = precision_recall_curve(pd.DataFrame(y_val)[1], ict_prob)\n",
    "fpr, tpr, thresholds = metrics.roc_curve(pd.DataFrame(y_val)[1], ict_prob)\n",
    "roc_auc = metrics.auc(fpr, tpr)\n",
    "\n",
    "plt.figure(figsize=(8,5))\n",
    "plt.plot(threshold_rt, precision_rt[1:], label='Precision') \n",
    "plt.plot(threshold_rt, recall_rt[1:], label='Recall')\n",
    "plt.xlabel('Threshold'); plt.ylabel('Precision/Recall')\n",
    "plt.title('Precision and Recall by threshold')\n",
    "plt.legend() \n",
    "plt.show() \n",
    "\n",
    "plt.figure()\n",
    "plt.plot(fpr, tpr, label='ROC curve (area = %0.2f)' % roc_auc)\n",
    "plt.plot([0, 1], [0, 1], 'k--')\n",
    "plt.xlim([0.0, 1.0])\n",
    "plt.ylim([0.0, 1.05])\n",
    "plt.xlabel('False Positive Rate')\n",
    "plt.ylabel('True Positive Rate')\n",
    "plt.title('Receiver operating characteristic curve')\n",
    "plt.legend(loc=\"lower right\")\n",
    "plt.show() "
   ]
  },
  {
   "cell_type": "code",
   "execution_count": null,
   "metadata": {},
   "outputs": [],
   "source": []
  },
  {
   "cell_type": "code",
   "execution_count": 26,
   "metadata": {},
   "outputs": [],
   "source": [
    "pr = precision_rt + recall_rt\n",
    "index_cnt=np.where(pr==max(pr))"
   ]
  },
  {
   "cell_type": "code",
   "execution_count": 29,
   "metadata": {},
   "outputs": [
    {
     "name": "stdout",
     "output_type": "stream",
     "text": [
      "precision:  [0.81483676] , recall:  [0.82214491]\n",
      "threshold:  [0.87738943]\n"
     ]
    }
   ],
   "source": [
    "# Best Position of Threshold\n",
    "#index_cnt = [cnt for cnt, (p, r) in enumerate(zip(precision_rt, recall_rt)) if p==r][0]\n",
    "\n",
    "print('precision: ',precision_rt[index_cnt],', recall: ',recall_rt[index_cnt])\n",
    "\n",
    "# Fixed Threshold \n",
    "# *주의* : 학습시 최적 임계치는 때마다 달라질 수 있음. 임계치 후 학습 모델 적용시 해당 임계치로 문서 분류에 적용해야함 \n",
    "threshold_fixed = threshold_rt[index_cnt]\n",
    "model_name = 'Trained_HAN_'+user_name+'_'+version_name+'_'+str(threshold_fixed)[1:7]\n",
    "print('threshold: ',threshold_fixed) "
   ]
  },
  {
   "cell_type": "code",
   "execution_count": null,
   "metadata": {},
   "outputs": [],
   "source": [
    "# 학습 모델 저장  : 모델명 뒤의 수치는 해당 모델의 threshold\n",
    "# output type : 모델을 bin 파일로 저장\n",
    "\n",
    "model.save('./model/{}'.format(model_name))"
   ]
  },
  {
   "cell_type": "code",
   "execution_count": 31,
   "metadata": {},
   "outputs": [],
   "source": [
    "# ICT 예측값 (test set)\n",
    "y_test_pred = np.argmax(model.predict(x_test), axis=1) \n",
    "y_test_ict_prob = model.predict(x_test)[:,1]"
   ]
  },
  {
   "cell_type": "code",
   "execution_count": 33,
   "metadata": {},
   "outputs": [
    {
     "name": "stdout",
     "output_type": "stream",
     "text": [
      "              precision    recall  f1-score   support\n",
      "\n",
      "           0       0.97      0.90      0.93     44941\n",
      "           1       0.71      0.90      0.79     12265\n",
      "\n",
      "    accuracy                           0.90     57206\n",
      "   macro avg       0.84      0.90      0.86     57206\n",
      "weighted avg       0.91      0.90      0.90     57206\n",
      "\n",
      "[[40360  4581]\n",
      " [ 1227 11038]]\n"
     ]
    }
   ],
   "source": [
    "# 컨퓨젼 매트릭스 출력\n",
    "\n",
    "pred_y = [ 1 if e> threshold_fixed else 0 for e in y_test_ict_prob] \n",
    "print(classification_report(pd.DataFrame(y_test)[1], pred_y))  \n",
    "print(confusion_matrix(pd.DataFrame(y_test)[1], pred_y)) "
   ]
  },
  {
   "cell_type": "markdown",
   "metadata": {},
   "source": [
    "### (4) HAN을 통한 NTIS 예측 결과 확인 "
   ]
  },
  {
   "cell_type": "code",
   "execution_count": null,
   "metadata": {},
   "outputs": [],
   "source": [
    "last = pd.DataFrame(y_test)\n",
    "last['predicted'] = pred_y\n",
    "last['ICT_PROB'] =y_test_ict_prob"
   ]
  },
  {
   "cell_type": "code",
   "execution_count": null,
   "metadata": {},
   "outputs": [],
   "source": [
    "result_df = pd.concat([ict_doc.iloc[ict_test_index],non_ict_doc.iloc[non_ict_test_index]])\n",
    "result_df.reset_index(drop=True,inplace=True)\n",
    "result_df = pd.merge(result_df, last, left_index=True, right_index=True, how='left')\n",
    "result_df = result_df.sort_values(by='ICT_PROB', ascending=False)\n",
    "# result_df = result_df[['L_type_1',      'M_type_1',      'L_type_2',      'M_type_2',\n",
    "#             'L_type_3',      'M_type_3',      'M_L_type',      'M_M_type',\n",
    "#                 'AP_1',          'AP_2',          'AP_3',     '6T_L_type',\n",
    "#            '6T_M_type',       'ES_type','year','contents','for tokenizer',1,'predicted','ICT_PROB']]"
   ]
  },
  {
   "cell_type": "code",
   "execution_count": null,
   "metadata": {},
   "outputs": [],
   "source": [
    "result_df "
   ]
  },
  {
   "cell_type": "code",
   "execution_count": null,
   "metadata": {},
   "outputs": [],
   "source": [
    "len(result_df)"
   ]
  },
  {
   "cell_type": "code",
   "execution_count": 43,
   "metadata": {},
   "outputs": [],
   "source": [
    "result_df.to_excel(\"result_df.xlsx\")"
   ]
  },
  {
   "cell_type": "code",
   "execution_count": null,
   "metadata": {},
   "outputs": [],
   "source": []
  }
 ],
 "metadata": {
  "kernelspec": {
   "display_name": "mecab",
   "language": "python",
   "name": "mecab"
  },
  "language_info": {
   "codemirror_mode": {
    "name": "ipython",
    "version": 3
   },
   "file_extension": ".py",
   "mimetype": "text/x-python",
   "name": "python",
   "nbconvert_exporter": "python",
   "pygments_lexer": "ipython3",
   "version": "3.8.0"
  }
 },
 "nbformat": 4,
 "nbformat_minor": 4
}
