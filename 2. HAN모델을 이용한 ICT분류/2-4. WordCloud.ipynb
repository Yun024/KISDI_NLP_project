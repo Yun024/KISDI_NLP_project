{
 "cells": [
  {
   "cell_type": "code",
   "execution_count": 1,
   "id": "f22867c3-c2f5-46b3-b81d-65756712f785",
   "metadata": {},
   "outputs": [],
   "source": [
    "import os \n",
    "import pandas as pd\n",
    "from wordcloud import WordCloud\n",
    "import matplotlib.pyplot as plt\n",
    "from collections import Counter\n",
    "from PIL import Image\n",
    "import numpy as np\n",
    "from konlpy.tag import Okt\n",
    "from tqdm import tqdm"
   ]
  },
  {
   "cell_type": "markdown",
   "id": "bfe9db14-d9a9-4a44-b6ef-57eb92a1cab6",
   "metadata": {},
   "source": [
    "# 경로 설정 후 데이터 불러오기"
   ]
  },
  {
   "cell_type": "code",
   "execution_count": 460,
   "id": "7e9d8cc2-3a27-4db7-99eb-2af39ab2c76b",
   "metadata": {},
   "outputs": [],
   "source": [
    "os.listdir()\n",
    "os.chdir(\"C:\\\\Users\\\\newcomer02\\\\NTIS_Project\\\\data\\\\Default\\\\NTIS\\\\LDA\")\n",
    "book_mask = np.array(Image.open(\"book.jpg\"))  #워드클라우드를 입힐 이미지 마스크"
   ]
  },
  {
   "cell_type": "code",
   "execution_count": 479,
   "id": "f3814f32-1846-41ac-bb8d-d161325ce79f",
   "metadata": {},
   "outputs": [
    {
     "name": "stdin",
     "output_type": "stream",
     "text": [
      "분석 할 데이터의 출처 사이트 이름을 적으시오:(ntis,nkis,report) ntis\n"
     ]
    }
   ],
   "source": [
    "data_name = input(\"분석 할 데이터의 출처 사이트 이름을 적으시오:(ntis,nkis,report)\")\n",
    "if data_name == \"ntis\":\n",
    "    data = pd.read_table(\"LDA_HanModel_kisau_(NTIS_2021)20221021_0.5.txt\",encoding=\"cp949\",header=None)\n",
    "elif data_name ==\"nkis\":\n",
    "    data = pd.read_table(\"LDA_HanModel_(NKIS_2021)_20221021_0.5.txt\",encoding=\"cp949\",header=None)\n",
    "elif data_name ==\"report\":\n",
    "    data = pd.read_table(\"LDA_HanModel_(KISDI_REPORT(17-21))_20221021_0.5.txt\",encoding=\"cp949\",header=None)\n",
    "\n",
    "#LDA_HanModel_kisau_(NTIS_2021)20221021_0.5.txt\n",
    "#LDA_HanModel_(KISDI_REPORT(17-21))_20221021_0.5.txt\n",
    "#LDA_HanModel_(NKIS_2021)_20221021_0.5.txt"
   ]
  },
  {
   "cell_type": "markdown",
   "id": "7f51d7c1-fd9f-4a76-b2dc-1b1df2c1f632",
   "metadata": {},
   "source": [
    "# 워드클라우드 진행하기위한 데이터 구조 변경"
   ]
  },
  {
   "cell_type": "code",
   "execution_count": 480,
   "id": "b436c91a-de24-46ef-bed9-138c1fe05729",
   "metadata": {},
   "outputs": [
    {
     "name": "stderr",
     "output_type": "stream",
     "text": [
      "100%|██████████████████████████████████████████████████████████████████████████| 76540/76540 [00:13<00:00, 5481.18it/s]\n",
      "100%|█████████████████████████████████████████████████████████████████████████| 76540/76540 [00:07<00:00, 10303.18it/s]\n",
      "100%|████████████████████████████████████████████████████████████████████████████| 76540/76540 [21:27<00:00, 59.45it/s]\n"
     ]
    }
   ],
   "source": [
    "### 빈 데이터프레임 생성\n",
    "result = pd.DataFrame(index=range(len(data[0])),columns=[\"cf\",\"df\"])\n",
    "\n",
    "### 띄어쓰기를 기준으로 문자열 분리  => min_cf역할 \n",
    "for i in tqdm(range(len(data[0]))):\n",
    "    result.iloc[i][\"cf\"] = data.iloc[i][0].split(\" \")\n",
    "    \n",
    "### NaN을 리스트로 변환 \n",
    "for i in tqdm(range(len(result[\"df\"]))):\n",
    "    result.iloc[i][\"df\"] = []\n",
    "    \n",
    "### 각 행에서 중복 제거하는 반복문 => min_df역할\n",
    "for i in tqdm(range(len(result[\"cf\"]))):\n",
    "    for j in result.iloc[i][\"cf\"]:\n",
    "        if j not in result.iloc[i][\"df\"]:\n",
    "                result.iloc[i][\"df\"].append(j)\n",
    "        else: continue\n",
    "        \n",
    "#wordlist = [n for n in tqdm(wordlist) if len(n)>1 ] # 길이가 한개인 데이터 전처리 "
   ]
  },
  {
   "cell_type": "code",
   "execution_count": 481,
   "id": "59464c33-3ebe-4018-81e4-e03e8fe48c74",
   "metadata": {},
   "outputs": [
    {
     "name": "stderr",
     "output_type": "stream",
     "text": [
      " 14%|██████████▊                                                                 | 10941/76540 [06:41<40:10, 27.22it/s]\n"
     ]
    },
    {
     "ename": "KeyboardInterrupt",
     "evalue": "",
     "output_type": "error",
     "traceback": [
      "\u001b[1;31m---------------------------------------------------------------------------\u001b[0m",
      "\u001b[1;31mKeyboardInterrupt\u001b[0m                         Traceback (most recent call last)",
      "Input \u001b[1;32mIn [481]\u001b[0m, in \u001b[0;36m<cell line: 3>\u001b[1;34m()\u001b[0m\n\u001b[0;32m      2\u001b[0m df_wordlist \u001b[38;5;241m=\u001b[39m []\n\u001b[0;32m      3\u001b[0m \u001b[38;5;28;01mfor\u001b[39;00m i \u001b[38;5;129;01min\u001b[39;00m tqdm(result[\u001b[38;5;124m\"\u001b[39m\u001b[38;5;124mcf\u001b[39m\u001b[38;5;124m\"\u001b[39m]):\n\u001b[1;32m----> 4\u001b[0m     cf_wordlist \u001b[38;5;241m=\u001b[39m cf_wordlist \u001b[38;5;241m+\u001b[39m i \n\u001b[0;32m      5\u001b[0m \u001b[38;5;28;01mfor\u001b[39;00m i \u001b[38;5;129;01min\u001b[39;00m tqdm(result[\u001b[38;5;124m\"\u001b[39m\u001b[38;5;124mdf\u001b[39m\u001b[38;5;124m\"\u001b[39m]):\n\u001b[0;32m      6\u001b[0m     df_wordlist \u001b[38;5;241m=\u001b[39m df_wordlist \u001b[38;5;241m+\u001b[39m i \n",
      "\u001b[1;31mKeyboardInterrupt\u001b[0m: "
     ]
    }
   ],
   "source": [
    "cf_wordlist = []\n",
    "df_wordlist = []\n",
    "for i in tqdm(result[\"cf\"]):\n",
    "    cf_wordlist = cf_wordlist + i \n",
    "for i in tqdm(result[\"df\"]):\n",
    "    df_wordlist = df_wordlist + i \n",
    "cf_wordcount = Counter(cf_wordlist)\n",
    "df_wordcount = Counter(df_wordlist)\n",
    "#cf_wordcount.most_common()\n",
    "#df_wordcount.most_common()"
   ]
  },
  {
   "cell_type": "code",
   "execution_count": null,
   "id": "ba0b2908-de66-43f2-8324-c39d597cc449",
   "metadata": {},
   "outputs": [],
   "source": [
    "zz = pd.concat([pd.DataFrame(cf_wordcount.most_common()),pd.DataFrame(df_wordcount.most_common())],axis=1)\n",
    "zz.columns= ([\"term_1\",\"cf\",\"term_2\",\"df\"])\n",
    "zz.to_csv(data_name+\"_\"+str(len(data))+\"_wordcount.csv\",encoding=\"cp949\")"
   ]
  },
  {
   "cell_type": "code",
   "execution_count": 472,
   "id": "47cdc8f6-b735-470d-820a-4487ce005a25",
   "metadata": {},
   "outputs": [
    {
     "data": {
      "text/plain": [
       "1483"
      ]
     },
     "execution_count": 472,
     "metadata": {},
     "output_type": "execute_result"
    }
   ],
   "source": [
    "len(data)"
   ]
  },
  {
   "cell_type": "markdown",
   "id": "2e9b9bfc-9746-41e7-a50f-1079ab8261dd",
   "metadata": {},
   "source": [
    "#### 지우고 싶은 단어 설정 "
   ]
  },
  {
   "cell_type": "code",
   "execution_count": null,
   "id": "8323c0a4-a85b-4ae6-95ba-9001255cf36c",
   "metadata": {},
   "outputs": [],
   "source": [
    "#불용어 설정 stopword를 통해 제거 가능 \n",
    "wordcount.pop(\"연구\")\n",
    "wordcount.pop(\"분석\")\n",
    "wordcount.pop(\"서비스\")\n",
    "wordcount.most_common()"
   ]
  },
  {
   "cell_type": "markdown",
   "id": "e818f9a1-0c80-48f7-a37d-2f9ab4d9504a",
   "metadata": {},
   "source": [
    "# 워드클라우드 진행"
   ]
  },
  {
   "cell_type": "code",
   "execution_count": null,
   "id": "2923fd02-6cb6-42aa-a9f3-a1f4688c3847",
   "metadata": {},
   "outputs": [],
   "source": [
    "wc = WordCloud(font_path=\"malgun\",width=1000,height=1000,scale=2.0,max_font_size=100,\n",
    "               background_color=\"white\",mask=book_mask)\n",
    "gen = wc.generate_from_frequencies(wordcount)\n",
    "plt.figure()\n",
    "plt.imshow(gen)\n",
    "plt.axis(\"off\")"
   ]
  },
  {
   "cell_type": "code",
   "execution_count": null,
   "id": "42e7a28a-2706-4a01-8dd0-25d0927fc49c",
   "metadata": {},
   "outputs": [],
   "source": [
    "wc.to_file(filename=data_name+\"_wordcloud.png\")"
   ]
  }
 ],
 "metadata": {
  "kernelspec": {
   "display_name": "mecab",
   "language": "python",
   "name": "mecab"
  },
  "language_info": {
   "codemirror_mode": {
    "name": "ipython",
    "version": 3
   },
   "file_extension": ".py",
   "mimetype": "text/x-python",
   "name": "python",
   "nbconvert_exporter": "python",
   "pygments_lexer": "ipython3",
   "version": "3.8.0"
  }
 },
 "nbformat": 4,
 "nbformat_minor": 5
}
