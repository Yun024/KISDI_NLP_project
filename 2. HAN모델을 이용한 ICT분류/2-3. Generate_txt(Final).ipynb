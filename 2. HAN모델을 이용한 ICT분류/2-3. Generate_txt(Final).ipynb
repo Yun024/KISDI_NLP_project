{
 "cells": [
  {
   "cell_type": "code",
   "execution_count": 1,
   "metadata": {},
   "outputs": [],
   "source": [
    "import pickle, gzip\n",
    "import os\n",
    "from eunjeon import Mecab\n",
    "mecab = Mecab(dicpath = 'C:\\\\mecab\\\\mecab-ko-dic') ## dic 반영 형태소 분석기 # 다른 형태소 분석기를 사용하게 될 경우 수정 필요\n",
    "import pandas as pd\n",
    "from tqdm import tqdm, tqdm_notebook\n",
    "import re\n",
    "import numpy as np\n",
    "from collections import Counter\n",
    "from gensim.test.utils import common_texts\n",
    "from datetime import datetime\n",
    "version_name=str(datetime.today().strftime(\"%Y%m%d\")) # 버전 정보 변수"
   ]
  },
  {
   "cell_type": "markdown",
   "metadata": {},
   "source": [
    "## data 및 Dictionary 불러오기\n",
    "#### 아무것도 입력하지 않고 엔터만 누를 시 디폴트 파일 Load"
   ]
  },
  {
   "cell_type": "code",
   "execution_count": 2,
   "metadata": {},
   "outputs": [],
   "source": [
    "os.chdir(\"C:\\\\Users\\\\newcomer02\\\\NTIS_Project\")"
   ]
  },
  {
   "cell_type": "code",
   "execution_count": 3,
   "metadata": {},
   "outputs": [
    {
     "name": "stdin",
     "output_type": "stream",
     "text": [
      "분석에 사용할 폴더 이름을 입력하세요: REPORT\n",
      "\n",
      "DICTIONARY 데이터 이름을 입력하세요(Default: 엔터키) :  user-custom\n"
     ]
    },
    {
     "name": "stdout",
     "output_type": "stream",
     "text": [
      "\n",
      "REPORT , ,user-custom 데이터를 사용합니다.\n"
     ]
    }
   ],
   "source": [
    "folder_name = input(\"분석에 사용할 폴더 이름을 입력하세요:\")\n",
    "dict_ver = input(\"\\nDICTIONARY 데이터 이름을 입력하세요(Default: 엔터키) : \")\n",
    "print(\"\\n%s , ,%s 데이터를 사용합니다.\"%(folder_name,dict_ver))\n",
    "\n",
    "# NKIS, NTIS, REPORT, GOV\n",
    "# user-custom"
   ]
  },
  {
   "cell_type": "code",
   "execution_count": null,
   "metadata": {},
   "outputs": [],
   "source": [
    "# input : pkl 형태의 파일, 없으면 오류 발생 (data 폴더)\n",
    "ntis = pd.read_pickle('./data/Default/'+ folder_name+ \"/HAN_Filtered_\" + folder_name + \".pkl\")\n",
    "ntis=ntis[ntis[\"filtered_ICT\"]==1]    "
   ]
  },
  {
   "cell_type": "code",
   "execution_count": 5,
   "metadata": {},
   "outputs": [],
   "source": [
    "from gensim.corpora.dictionary import Dictionary\n",
    "# input : pkl 형태의 파일, 없으면 오류 발생 (data 폴더)\n",
    "dictionary = pd.read_pickle('./data/Default/'+dict_ver+'.pkl')"
   ]
  },
  {
   "cell_type": "code",
   "execution_count": 7,
   "metadata": {},
   "outputs": [],
   "source": [
    "dictionary[\"NUM\"] =range(0,len(dictionary))\n",
    "dictionary=dictionary[[\"NUM\",\"term\"]]\n",
    "dictionary[\"NUM\"]=dictionary[\"NUM\"].apply(str)\n",
    "dictionary = Dictionary(dictionary.values.tolist())"
   ]
  },
  {
   "cell_type": "code",
   "execution_count": 47,
   "metadata": {},
   "outputs": [],
   "source": [
    "## NTIS 전처리 및 Dictionary 적용"
   ]
  },
  {
   "cell_type": "code",
   "execution_count": 8,
   "metadata": {},
   "outputs": [],
   "source": [
    "data = ntis['contents']"
   ]
  },
  {
   "cell_type": "code",
   "execution_count": 9,
   "metadata": {},
   "outputs": [
    {
     "data": {
      "text/plain": [
       "[('ict', 'SL'),\n",
       " ('iot', 'SL'),\n",
       " ('ai', 'SL'),\n",
       " ('atml', 'SL'),\n",
       " ('automl', 'SL'),\n",
       " ('직생하다', 'NNP'),\n",
       " ('장의사', 'NNP')]"
      ]
     },
     "execution_count": 9,
     "metadata": {},
     "output_type": "execute_result"
    }
   ],
   "source": [
    "def nouns(text):\n",
    "    answer = list()\n",
    "    target = [\"NNG\",\"NNP\",\"NNB\",\"NR\",\"NP\",\"SL\"]\n",
    "    for i in mecab.pos(text):\n",
    "        if i[1] in target:\n",
    "            answer.append(i) # i[0]\n",
    "        else: \n",
    "            continue\n",
    "    return answer\n",
    "nouns(\"ict iot ai atml automl 안녕 직생하다 모르겠다 장의사\")"
   ]
  },
  {
   "cell_type": "code",
   "execution_count": 10,
   "metadata": {},
   "outputs": [
    {
     "name": "stderr",
     "output_type": "stream",
     "text": [
      "100%|███████████████████████████████████████████████████████████████████████████████| 910/910 [00:06<00:00, 147.68it/s]\n"
     ]
    }
   ],
   "source": [
    "p = re.compile(r'\\W+')\n",
    "pos_data = []\n",
    "\n",
    "for i in tqdm(data):\n",
    "    j = p.sub(' ',i)\n",
    "    pos_data.append(nouns(j))"
   ]
  },
  {
   "cell_type": "code",
   "execution_count": 11,
   "metadata": {},
   "outputs": [
    {
     "name": "stderr",
     "output_type": "stream",
     "text": [
      "100%|█████████████████████████████████████████████████████████████████████████████| 910/910 [00:00<00:00, 10834.06it/s]\n"
     ]
    }
   ],
   "source": [
    "corpus=[]\n",
    "for i in tqdm(range(len(data))):\n",
    "    corpus.append(dictionary.doc2idx([word[0] for word in pos_data[i]]))"
   ]
  },
  {
   "cell_type": "code",
   "execution_count": 12,
   "metadata": {
    "scrolled": true
   },
   "outputs": [
    {
     "name": "stderr",
     "output_type": "stream",
     "text": [
      "100%|█████████████████████████████████████████████████████████████████████████████| 910/910 [00:00<00:00, 69990.95it/s]\n"
     ]
    }
   ],
   "source": [
    "for i in tqdm(range(len(corpus))):\n",
    "    corpus[i] = [word for word in corpus[i] if word != -1]"
   ]
  },
  {
   "cell_type": "code",
   "execution_count": 13,
   "metadata": {
    "scrolled": true
   },
   "outputs": [
    {
     "name": "stderr",
     "output_type": "stream",
     "text": [
      "100%|██████████████████████████████████████████████████████████████████████████████| 910/910 [00:00<00:00, 1809.17it/s]\n"
     ]
    }
   ],
   "source": [
    "for i in tqdm(range(len(corpus))):\n",
    "    corpus[i] = [dictionary[j] for j in corpus[i]]"
   ]
  },
  {
   "cell_type": "code",
   "execution_count": null,
   "metadata": {
    "scrolled": true,
    "tags": []
   },
   "outputs": [],
   "source": [
    "# 길이가 너무 짧은 문서 제거\n",
    "# 뉴스기사 부고란 등이 해당됨(50글자 미만)\n",
    "\n",
    "new=[]\n",
    "#too_short=[]\n",
    "a=','\n",
    "for i in tqdm(range(len(corpus))):\n",
    "    new.append(a.join(corpus[i]).replace(',',' '))\n",
    "\n",
    "#for i in range(len(new)):\n",
    "#    if len(new[i])<50:\n",
    "#        too_short.append(i)\n",
    "        \n",
    "#new=[i for i in new if len(i)>=50]\n",
    "new"
   ]
  },
  {
   "cell_type": "code",
   "execution_count": 15,
   "metadata": {},
   "outputs": [],
   "source": [
    "# ntis=ntis[ntis['filtered_ICT']==1]\n",
    "# ntis.to_excel(\"ICT_NTIS.xlsx\")"
   ]
  },
  {
   "cell_type": "code",
   "execution_count": 16,
   "metadata": {
    "scrolled": true
   },
   "outputs": [],
   "source": [
    "# 길이가 너무 짧아 제거된 문서 개수 확인\n",
    "\n",
    "#before = len(ntis)\n",
    "#deleted = [ntis['contents'][i] for i in too_short]\n",
    "#ntis = ntis.drop(too_short)\n",
    "#ntis = ntis.reset_index(drop=True)\n",
    "#after= len(ntis)\n",
    "#print(\"%s documents deleted\\n\"%(before-after))\n",
    "#print(deleted)"
   ]
  },
  {
   "cell_type": "markdown",
   "metadata": {},
   "source": [
    "## Part 1. LDA input 생성\n",
    "### LDA를 하기 위한 input 형태로 변경해주는 작업"
   ]
  },
  {
   "cell_type": "code",
   "execution_count": 57,
   "metadata": {},
   "outputs": [],
   "source": [
    "# try:\n",
    "#     os.mkdir('./data/LDA/NTIS/'+user_name+'_'+version_name)\n",
    "# except FileExistsError:\n",
    "#     print(\"폴더가 이미 존재합니다.\")"
   ]
  },
  {
   "cell_type": "code",
   "execution_count": 58,
   "metadata": {},
   "outputs": [],
   "source": [
    "# output type : data/LDA 폴더에 npy 파일 저장\n",
    "\n",
    "#np.save('./data/Default/NTIS/LDA/ict_index',[list(ntis['filtered_ICT']).index(1),len(ntis)])\n",
    "#np.save('./data/LDA/KISAU_20210621/ict_index',[list(ntis['filtered_ICT']).index(0),len(ntis)])\n",
    "# zz = np.load('./data/Default/NTIS/LDA/ict_index.npy')"
   ]
  },
  {
   "cell_type": "code",
   "execution_count": 17,
   "metadata": {},
   "outputs": [
    {
     "name": "stderr",
     "output_type": "stream",
     "text": [
      "100%|██████████████████████████████████████████████████████████████████████████████| 910/910 [00:00<00:00, 6275.92it/s]\n"
     ]
    }
   ],
   "source": [
    "# input : data/LDA 폴더에 있는 txt 파일 Load, 없으면 오류 발생 \n",
    "\n",
    "f = open(\"./data/Default/\" + folder_name + \"/LDA_PRED_910_\"+ folder_name +\".txt\", 'w')\n",
    "for i in tqdm(range(len(new))):\n",
    "    f.writelines(new[i]+'\\n')\n",
    "f.close()"
   ]
  },
  {
   "cell_type": "markdown",
   "metadata": {},
   "source": [
    "## Part 2. DTM input 생성\n",
    "### DTM을 하기 위한 input 형태로 변경해주는 작업"
   ]
  },
  {
   "cell_type": "markdown",
   "metadata": {},
   "source": [
    "### (1) NTIS 문서 전체를 DTM에 학습"
   ]
  },
  {
   "cell_type": "code",
   "execution_count": 61,
   "metadata": {
    "scrolled": true
   },
   "outputs": [
    {
     "name": "stderr",
     "output_type": "stream",
     "text": [
      "100%|█████████████████████████████████████████████████████████████████████████| 10000/10000 [00:00<00:00, 93458.47it/s]\n"
     ]
    }
   ],
   "source": [
    "# NTIS 전체를 DTM에 학습시키려면 해당 셀을 실행\n",
    "\n",
    "year=list(ntis['year'])\n",
    "year = [int(i) for i in year]\n",
    "for i in tqdm(range(len(new))):\n",
    "    new[i] = str(year[i]-2016)+' '+new[i]"
   ]
  },
  {
   "cell_type": "code",
   "execution_count": 24,
   "metadata": {},
   "outputs": [],
   "source": [
    "# try:\n",
    "#     os.mkdir('./data/DTM/NTIS/'+user_name+'_'+version_name)\n",
    "# except FileExistsError:\n",
    "#     print(\"폴더가 이미 존재합니다.\")"
   ]
  },
  {
   "cell_type": "code",
   "execution_count": 25,
   "metadata": {},
   "outputs": [
    {
     "name": "stderr",
     "output_type": "stream",
     "text": [
      "100%|████████████████████████████████████████████████████████████████████████| 274160/274160 [00:35<00:00, 7762.05it/s]\n"
     ]
    }
   ],
   "source": [
    "# # NTIS 전체 \n",
    "# # input : data/DTM 폴더에 사용자별 txt 파일 Load, 없으면 오류 발생\n",
    "\n",
    "# f = open(\"./data/DTM/NTIS/\"+user_name+'_'+version_name+\"/DTM_NTIS_ALL.txt\", 'w')\n",
    "# for i in tqdm(range(len(new))):\n",
    "#     f.writelines(new[i]+'\\n')\n",
    "# f.close()"
   ]
  },
  {
   "cell_type": "markdown",
   "metadata": {},
   "source": [
    "### (2) ICT_NTIS문서만을 DTM에 학습"
   ]
  },
  {
   "cell_type": "code",
   "execution_count": 63,
   "metadata": {},
   "outputs": [],
   "source": [
    "new=new[len(corpus)-len(ntis):len(corpus)]"
   ]
  },
  {
   "cell_type": "code",
   "execution_count": 68,
   "metadata": {},
   "outputs": [
    {
     "name": "stderr",
     "output_type": "stream",
     "text": [
      "100%|██████████████████████████████████████████████████████████████████████████| 10000/10000 [00:04<00:00, 2232.71it/s]\n"
     ]
    }
   ],
   "source": [
    "# input : data/DTM 폴더에 사용자별 txt 파일 Load, 없으면 오류 발생\n",
    "\n",
    "f = open(\"./data/Default/NTIS/DTM/\"+\"DTM\"+\"_\"+ntis_ver+\".txt\", 'w')\n",
    "for i in tqdm(range(len(new))):\n",
    "    f.writelines(new[i]+'\\n')\n",
    "f.close()"
   ]
  },
  {
   "cell_type": "code",
   "execution_count": null,
   "metadata": {},
   "outputs": [],
   "source": []
  },
  {
   "cell_type": "code",
   "execution_count": null,
   "metadata": {},
   "outputs": [],
   "source": []
  }
 ],
 "metadata": {
  "kernelspec": {
   "display_name": "mecab",
   "language": "python",
   "name": "mecab"
  },
  "language_info": {
   "codemirror_mode": {
    "name": "ipython",
    "version": 3
   },
   "file_extension": ".py",
   "mimetype": "text/x-python",
   "name": "python",
   "nbconvert_exporter": "python",
   "pygments_lexer": "ipython3",
   "version": "3.8.0"
  }
 },
 "nbformat": 4,
 "nbformat_minor": 4
}
