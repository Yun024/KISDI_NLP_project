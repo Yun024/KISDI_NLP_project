{
 "cells": [
  {
   "cell_type": "markdown",
   "metadata": {},
   "source": [
    "# 기존 HAN 모델을 사용할 경우 실행"
   ]
  },
  {
   "cell_type": "code",
   "execution_count": 1,
   "metadata": {},
   "outputs": [],
   "source": [
    "import tensorflow as tf\n",
    "from tensorflow import keras\n",
    "from tensorflow.python.client import device_lib\n",
    "#print(device_lib.list_local_devices())"
   ]
  },
  {
   "cell_type": "code",
   "execution_count": 2,
   "metadata": {},
   "outputs": [],
   "source": [
    "import pandas as pd\n",
    "import numpy as np\n",
    "import pickle\n",
    "from eunjeon import Mecab\n",
    "import os\n",
    "import collections\n",
    "import re\n",
    "from tqdm import tqdm\n",
    "import nltk\n",
    "\n",
    "# 다른 형태소 분석기를 사용하게 될 경우 수정 필요\n",
    "mecab = Mecab(dicpath = 'C:\\\\mecab\\\\mecab-ko-dic') ## dic 반영 형태소 분석기  \n",
    "\n",
    "from collections import defaultdict\n",
    "from collections import Counter \n",
    "import sys\n",
    "from sklearn.model_selection import train_test_split\n",
    "from sklearn.metrics import confusion_matrix\n",
    "\n",
    "from keras.preprocessing.text import Tokenizer, text_to_word_sequence\n",
    "from keras.preprocessing.sequence import pad_sequences\n",
    "from keras.utils.np_utils import to_categorical\n",
    "\n",
    "from keras.layers import Embedding\n",
    "from keras.layers import Dense, Input, Flatten, Activation \n",
    "from keras.layers import Conv1D, MaxPooling1D, merge, Dropout, LSTM, GRU, Bidirectional, TimeDistributed\n",
    "from keras.callbacks import EarlyStopping\n",
    "from keras.models import Model \n",
    "\n",
    "from keras import optimizers\n",
    "from keras import backend as K\n",
    "from tensorflow.keras.layers import Layer,InputSpec\n",
    "from keras import initializers as initializers, regularizers, constraints\n",
    "\n",
    "import json\n",
    "\n",
    "from sklearn.metrics import precision_recall_curve\n",
    "from sklearn import metrics\n",
    "import matplotlib.pyplot as plt\n",
    "from sklearn.metrics import classification_report, confusion_matrix\n",
    "\n",
    "from keras.models import load_model\n",
    "from datetime import datetime\n",
    "\n",
    "import timeit\n",
    "\n",
    "import plotly.express as px\n",
    "from plotly.subplots import make_subplots\n",
    "import plotly.graph_objs as go\n",
    "version_name=str(datetime.today().strftime(\"%Y%m%d\")) # 버전 정보(오늘의 날짜) 담는 변수"
   ]
  },
  {
   "cell_type": "markdown",
   "metadata": {},
   "source": [
    "# Part 2. Classification with trained HAN\n",
    "- 학습된 분류모델, HAN을 가지고 분류하고 싶은 NTIS 혹은 NEWS의 ICT 분류 및 결과 저장"
   ]
  },
  {
   "cell_type": "code",
   "execution_count": 3,
   "metadata": {},
   "outputs": [],
   "source": [
    "os.chdir(\"C:\\\\Users\\\\newcomer02\\\\NTIS_Project\")"
   ]
  },
  {
   "cell_type": "code",
   "execution_count": 4,
   "metadata": {},
   "outputs": [
    {
     "name": "stdin",
     "output_type": "stream",
     "text": [
      "\n",
      "불러올 HAN모델 폴더명을 입력하세요 (Default : 엔터키):  Trained_HAN_kisau_20221021_0.8773\n",
      "\n",
      "불러올 데이터 파일명을 입력하세요 (Default : 엔터키):  NKIS\n"
     ]
    }
   ],
   "source": [
    "han_ver = input(\"\\n불러올 HAN모델 폴더명을 입력하세요 (Default : 엔터키): \")\n",
    "# data 폴더에 존재\n",
    "ntis_ver = input(\"\\n불러올 데이터 파일명을 입력하세요 (Default : 엔터키): \")\n",
    "# Trained_HAN_kisau_20221021_0.8773\n",
    "# GOV,NKIS,NTIS,REPORT"
   ]
  },
  {
   "cell_type": "code",
   "execution_count": 204,
   "metadata": {},
   "outputs": [
    {
     "name": "stdout",
     "output_type": "stream",
     "text": [
      "\n",
      "Threshold of the model : 0.8773\n"
     ]
    }
   ],
   "source": [
    "# input : model 폴더명, 없으면 오류 발생 (원하는 버전 모델 있으면 지정 필요)\n",
    "# 학습 모델 및 threshold 로드 (threshold 폴더 이름에 자동 저장)\n",
    "\n",
    "if han_ver =='':\n",
    "    model = load_model('./model/Default/HAN_0.4240')\n",
    "    thr = float(0.4240)\n",
    "    print('\\nThreshold of the model : {}'.format(thr)) \n",
    "    \n",
    "else:\n",
    "    model = load_model('./model/'+han_ver)\n",
    "    thr = float(han_ver[-6:])\n",
    "    print('\\nThreshold of the model : {}'.format(thr)) \n",
    "    \n",
    "if thr >= 0.5 :\n",
    "    thr = 0.5"
   ]
  },
  {
   "cell_type": "markdown",
   "metadata": {},
   "source": [
    "## 2-1. NTIS \n",
    "### (1) 학습 모델 및 목적 데이터 로드"
   ]
  },
  {
   "cell_type": "code",
   "execution_count": 9,
   "metadata": {},
   "outputs": [],
   "source": [
    "ntis[\"year\"] =ntis[\"year\"].replace(2022,2021)"
   ]
  },
  {
   "cell_type": "code",
   "execution_count": null,
   "metadata": {},
   "outputs": [],
   "source": []
  },
  {
   "cell_type": "code",
   "execution_count": 13,
   "metadata": {},
   "outputs": [
    {
     "data": {
      "text/plain": [
       "7451"
      ]
     },
     "execution_count": 13,
     "metadata": {},
     "output_type": "execute_result"
    }
   ],
   "source": [
    "len(ntis)"
   ]
  },
  {
   "cell_type": "code",
   "execution_count": 12,
   "metadata": {},
   "outputs": [
    {
     "data": {
      "text/plain": [
       "2017    1500\n",
       "2020    1475\n",
       "2019    1446\n",
       "2021    1397\n",
       "2018    1385\n",
       "2022     248\n",
       "Name: year, dtype: int64"
      ]
     },
     "execution_count": 12,
     "metadata": {},
     "output_type": "execute_result"
    }
   ],
   "source": [
    "ntis[\"year\"]"
   ]
  },
  {
   "cell_type": "code",
   "execution_count": 11,
   "metadata": {},
   "outputs": [],
   "source": [
    "# ntis 데이터 로드\n",
    "# input : pkl 파일, 없으면 오류 발생 (data 폴더)\n",
    "\n",
    "if ntis_ver =='GOV':\n",
    "    with open('./data/Default/' + ntis_ver + \"/\" + ntis_ver + \"_2022.pkl\", 'rb') as f:\n",
    "        ntis = pickle.load(f)\n",
    "else:\n",
    "    with open('./data/Default/'+ ntis_ver + \"/\" + ntis_ver + \"_2021.pkl\",'rb') as f:\n",
    "        ntis = pickle.load(f) "
   ]
  },
  {
   "cell_type": "markdown",
   "metadata": {},
   "source": [
    "### (2) 데이터 전처리"
   ]
  },
  {
   "cell_type": "code",
   "execution_count": 206,
   "metadata": {},
   "outputs": [],
   "source": [
    "def nouns(text):\n",
    "    answer = list()\n",
    "    target = [\"NNG\",\"NNP\",\"NNB\",\"NR\",\"NP\",\"SL\"]\n",
    "    for i in mecab.pos(text):\n",
    "        if i[1] in target:\n",
    "            answer.append(i[0])\n",
    "        else: \n",
    "            continue\n",
    "    return answer\n",
    "# nouns(\"ict iot ai atml automl 안녕 직생하다 모르겠다 장의사\")"
   ]
  },
  {
   "cell_type": "code",
   "execution_count": 207,
   "metadata": {},
   "outputs": [],
   "source": [
    "def preprocessing(text_list):\n",
    "    global text\n",
    "    for text in text_list:\n",
    "        text = re.sub(r'\\W+', ' ', text) \n",
    "        text = re.sub('o','', text)\n",
    "        text = re.sub('○','', text)\n",
    "        text = re.sub('ㅇ','', text)\n",
    "        text = nouns(text)\n",
    "    return text\n",
    "\n",
    "def preprocessing_1(text_list):\n",
    "    preprocessed_text = []\n",
    "    for text in text_list:\n",
    "        text = re.sub(r'\\W+', ' ', text) \n",
    "        text = re.sub('o','', text)\n",
    "        text = re.sub('○','', text)\n",
    "        text = re.sub('ㅇ','', text)\n",
    "        text = nouns(text)\n",
    "        preprocessed_text.append(text)\n",
    "    return preprocessed_text"
   ]
  },
  {
   "cell_type": "code",
   "execution_count": 208,
   "metadata": {},
   "outputs": [],
   "source": [
    "from nltk.tokenize import LineTokenizer\n",
    "\n",
    "line_tokenizer = LineTokenizer()\n",
    "\n",
    "# 실행 시 다소 긴 소요 시간 발생 유의\n",
    "\n",
    "ntis = ntis.reset_index(drop=True)\n",
    "if ntis_ver ==\"GOV\":\n",
    "    ntis['content'] = ntis['contents'].apply(lambda text: [preprocessing(line_tokenizer.tokenize(i)) for i in text.split(\"\\t\")])\n",
    "else :\n",
    "    ntis['content'] = ntis['contents'].apply(lambda text: line_tokenizer.tokenize(text))\n",
    "    ntis['content']= ntis.content.apply(preprocessing_1) "
   ]
  },
  {
   "cell_type": "code",
   "execution_count": 209,
   "metadata": {},
   "outputs": [],
   "source": [
    "# HAN 모델 학습 전 파라미터값 설정\n",
    "# [문서, 문장, 단어]를 계층적으로 표현하기 위해 담을 Data Shape 구성\n",
    "\n",
    "DIC = pd.read_csv('./data/Default/user-custom.csv')\n",
    "#ICT_DIC = DIC[DIC['category']=='정보·통신']['term']\n",
    "#list_ICT_DIC = list(ICT_DIC)\n",
    "#list_ICT_DIC"
   ]
  },
  {
   "cell_type": "code",
   "execution_count": 210,
   "metadata": {
    "tags": []
   },
   "outputs": [],
   "source": [
    "# HAN 모델 학습 전 파라미터값 설정\n",
    "# [문서, 문장, 단어]를 계층적으로 표현하기 위해 담을 Data Shape 구성\n",
    "\n",
    "max_sent_length= 150 # 문장 내 최대 단어 수 \n",
    "max_sentences = 30   # 문서 내 최대 문장 수 \n",
    "max_words_dic = 25000\n",
    "embedding_dim = 50 \n",
    "adam = tf.optimizers.Adam(learning_rate=0.001) \n",
    "\n",
    "# 단어 단위 토큰화 작업\n",
    "# input : json 형태의 파일, 해당 파일 없으면 오류 발생 (data/HAN 폴더)\n",
    "tokenizer = Tokenizer(num_words=max_words_dic, lower=False, oov_token=\"term\")\n",
    "tokenizer.word_index = dict.fromkeys(DIC['term'])"
   ]
  },
  {
   "cell_type": "code",
   "execution_count": 211,
   "metadata": {},
   "outputs": [],
   "source": [
    "new_dict = {}\n",
    "k =1 \n",
    "for v in tokenizer.word_index.keys():\n",
    "    new_dict[v] = k\n",
    "    k += 1\n",
    "\n",
    "tokenizer.word_index = new_dict "
   ]
  },
  {
   "cell_type": "code",
   "execution_count": 212,
   "metadata": {
    "scrolled": true
   },
   "outputs": [
    {
     "name": "stderr",
     "output_type": "stream",
     "text": [
      "910it [00:00, 2645.40it/s]\n"
     ]
    }
   ],
   "source": [
    "# 데이터 구성 작업 수행 : [문서, 문장, 단어]\n",
    "\n",
    "data = np.zeros((len(ntis), max_sentences, max_sent_length), dtype='int32') \n",
    "documents = list(ntis.content)\n",
    "\n",
    "for i, sentences in tqdm(enumerate(documents)):\n",
    "    for j, sentence in enumerate(sentences): \n",
    "        if j < max_sentences:\n",
    "            wordTokens = text_to_word_sequence(str(sentence))\n",
    "            k = 0 \n",
    "            for _, word in enumerate(wordTokens):\n",
    "                try:\n",
    "                    word = word.strip('\\'')\n",
    "                    if k < max_sent_length :\n",
    "                        if word not in tokenizer.word_index:\n",
    "                            continue\n",
    "                        else :\n",
    "                            data[i,j,k] = tokenizer.word_index[word]\n",
    "                            k+=1\n",
    "                    \n",
    "                except SyntaxError:\n",
    "                    print(word)\n",
    "                    if k < max_sent_length :\n",
    "                        if word not in tokenizer.word_index:\n",
    "                            continue\n",
    "                        else :\n",
    "                            data[i,j,k] = tokenizer.word_index[word]\n",
    "                            k+=1\n",
    "  "
   ]
  },
  {
   "cell_type": "markdown",
   "metadata": {},
   "source": [
    "### (3)  ICT 분류\n",
    "#### model input으로 NTIS 데이터를 넣어 ICT 분류 여부를 확인함 "
   ]
  },
  {
   "cell_type": "code",
   "execution_count": 213,
   "metadata": {},
   "outputs": [
    {
     "name": "stdout",
     "output_type": "stream",
     "text": [
      "5.326583899999605 secs taken\n"
     ]
    }
   ],
   "source": [
    "# 데이터 크기에 따라 소요 시간이 커짐\n",
    "\n",
    "s = timeit.default_timer()\n",
    "\n",
    "Ict_prob = model.predict(data)\n",
    "ntis['ICT_prob'] = Ict_prob[:,1]\n",
    "ntis = ntis.sort_values(by='ICT_prob',ascending=False)\n",
    "ntis['filtered_ICT'] = ntis.ICT_prob.apply(lambda x: 1 if x > thr else 0)\n",
    "ntis\n",
    "    \n",
    "e = timeit.default_timer()\n",
    "print(f\"{e-s} secs taken\")"
   ]
  },
  {
   "cell_type": "code",
   "execution_count": 214,
   "metadata": {
    "scrolled": true
   },
   "outputs": [
    {
     "data": {
      "text/html": [
       "<div>\n",
       "<style scoped>\n",
       "    .dataframe tbody tr th:only-of-type {\n",
       "        vertical-align: middle;\n",
       "    }\n",
       "\n",
       "    .dataframe tbody tr th {\n",
       "        vertical-align: top;\n",
       "    }\n",
       "\n",
       "    .dataframe thead th {\n",
       "        text-align: right;\n",
       "    }\n",
       "</style>\n",
       "<table border=\"1\" class=\"dataframe\">\n",
       "  <thead>\n",
       "    <tr style=\"text-align: right;\">\n",
       "      <th></th>\n",
       "      <th>NUM</th>\n",
       "      <th>NAME_MAG</th>\n",
       "      <th>NAME_ART</th>\n",
       "      <th>type</th>\n",
       "      <th>M_author</th>\n",
       "      <th>J_author</th>\n",
       "      <th>keyword</th>\n",
       "      <th>year</th>\n",
       "      <th>contents</th>\n",
       "      <th>content</th>\n",
       "      <th>ICT_prob</th>\n",
       "      <th>filtered_ICT</th>\n",
       "    </tr>\n",
       "  </thead>\n",
       "  <tbody>\n",
       "    <tr>\n",
       "      <th>306</th>\n",
       "      <td>4311435</td>\n",
       "      <td>AI TREND WATCH</td>\n",
       "      <td>클라우드 기반 AI에 대한 엣지 AI의 도전과 영향</td>\n",
       "      <td>정보화,IT산업·시장</td>\n",
       "      <td>김민진</td>\n",
       "      <td>NaN</td>\n",
       "      <td>인공지능,AI</td>\n",
       "      <td>2020</td>\n",
       "      <td>AI 알고리즘이 대량의 데이터를 처리하고 다량의 컴퓨팅 리소스를 소비함에 따라 소프...</td>\n",
       "      <td>[[AI 알고리즘, 대량의 데이터, 처리, 다량, 의, 컴퓨팅, 리소스, 소비, 소...</td>\n",
       "      <td>0.999405</td>\n",
       "      <td>1</td>\n",
       "    </tr>\n",
       "    <tr>\n",
       "      <th>862</th>\n",
       "      <td>3934577</td>\n",
       "      <td>정보통신방송정책</td>\n",
       "      <td>음성인식 AI 비서 시장의 현황과 시사점</td>\n",
       "      <td>IT산업·시장</td>\n",
       "      <td>최지혜</td>\n",
       "      <td>이선희</td>\n",
       "      <td>NaN</td>\n",
       "      <td>2017</td>\n",
       "      <td>스마트폰에 시작된 음성인식 기술 경쟁은 사물인터넷 IoT 의 본격 확산과 맞물려 이...</td>\n",
       "      <td>[[스마트폰, 시작, 음성, 인식 기술, 경쟁, 은, 사물인터넷, IT, 본격, 확...</td>\n",
       "      <td>0.999074</td>\n",
       "      <td>1</td>\n",
       "    </tr>\n",
       "    <tr>\n",
       "      <th>92</th>\n",
       "      <td>4333447</td>\n",
       "      <td>KISDI STAT Report</td>\n",
       "      <td>개인방송 이용 행태 및 이용자 특성 분석</td>\n",
       "      <td>방송콘텐츠</td>\n",
       "      <td>이선희</td>\n",
       "      <td>NaN</td>\n",
       "      <td>NaN</td>\n",
       "      <td>2021</td>\n",
       "      <td>2000년대 중후반부터 사용자가 직접 창작한 미디어 콘텐츠 형태인  UCC Us...</td>\n",
       "      <td>[[중후반, 사용, 자가, 직접, 창작, 미디어, 콘텐츠, 형태, UCC, User...</td>\n",
       "      <td>0.999033</td>\n",
       "      <td>1</td>\n",
       "    </tr>\n",
       "    <tr>\n",
       "      <th>824</th>\n",
       "      <td>3934577</td>\n",
       "      <td>정보통신방송정책</td>\n",
       "      <td>IoT 생태계 확산과 엣지 컴퓨팅의 역할</td>\n",
       "      <td>IT산업·시장</td>\n",
       "      <td>손가녕</td>\n",
       "      <td>이은민</td>\n",
       "      <td>NaN</td>\n",
       "      <td>2017</td>\n",
       "      <td>IoT생태계가 확산됨에 따라 무수히 많은 다양한 IoT사물에서 빅데이터가 발생될 것...</td>\n",
       "      <td>[[IT, 생태, 계가, 확산, IT, 사물, 빅데이터, 가, 발생, 것, 예상, ...</td>\n",
       "      <td>0.998959</td>\n",
       "      <td>1</td>\n",
       "    </tr>\n",
       "    <tr>\n",
       "      <th>253</th>\n",
       "      <td>4311435</td>\n",
       "      <td>AI TREND WATCH</td>\n",
       "      <td>모바일 클라우드 컴퓨팅 기반 연합학습의 발전 및 최신 경향</td>\n",
       "      <td>정보화,IT산업·시장</td>\n",
       "      <td>이진우</td>\n",
       "      <td>NaN</td>\n",
       "      <td>NaN</td>\n",
       "      <td>2020</td>\n",
       "      <td>모바일 클라우드 컴퓨팅은 모바일 기기의 급격한 발달과 전 세계적인 확산으로 인해 ...</td>\n",
       "      <td>[[모바일 클라우드 컴퓨팅, 은, 모바일 기기, 의, 급격, 세계, 확산, 사용],...</td>\n",
       "      <td>0.998851</td>\n",
       "      <td>1</td>\n",
       "    </tr>\n",
       "    <tr>\n",
       "      <th>...</th>\n",
       "      <td>...</td>\n",
       "      <td>...</td>\n",
       "      <td>...</td>\n",
       "      <td>...</td>\n",
       "      <td>...</td>\n",
       "      <td>...</td>\n",
       "      <td>...</td>\n",
       "      <td>...</td>\n",
       "      <td>...</td>\n",
       "      <td>...</td>\n",
       "      <td>...</td>\n",
       "      <td>...</td>\n",
       "    </tr>\n",
       "    <tr>\n",
       "      <th>873</th>\n",
       "      <td>3934577</td>\n",
       "      <td>정보통신방송정책</td>\n",
       "      <td>2016 ICT벤처기업 현황분석: 벤처기업정밀실태조사 결과를 중심으로</td>\n",
       "      <td>IT산업·시장</td>\n",
       "      <td>이은민</td>\n",
       "      <td>NaN</td>\n",
       "      <td>NaN</td>\n",
       "      <td>2017</td>\n",
       "      <td>중소기업청   8228  벤처기업협회는 매년 벤처기업정밀실태조사 보고서를 발간하여 ...</td>\n",
       "      <td>[[중소기업청, 벤처기업, 협회, 매년, 벤처기업, 정밀, 실태조사, 벤처기업, 의...</td>\n",
       "      <td>0.005076</td>\n",
       "      <td>0</td>\n",
       "    </tr>\n",
       "    <tr>\n",
       "      <th>6</th>\n",
       "      <td>4333447</td>\n",
       "      <td>KISDI STAT Report</td>\n",
       "      <td>세대별 OTT 서비스 이용 현황</td>\n",
       "      <td>방송정책,방송콘텐츠</td>\n",
       "      <td>김윤화</td>\n",
       "      <td>NaN</td>\n",
       "      <td>한국미디어패널, OTT이용율, OTT 사용 시간,  Z세대</td>\n",
       "      <td>2022</td>\n",
       "      <td>OTT 이용률은 2019년 41 0   2020년 72 2   2021년 81 ...</td>\n",
       "      <td>[[OTT, 이용률, 은, 로, 이후, 코로나, 이용, 증가, 추세], [코로나, ...</td>\n",
       "      <td>0.004828</td>\n",
       "      <td>0</td>\n",
       "    </tr>\n",
       "    <tr>\n",
       "      <th>91</th>\n",
       "      <td>4334696</td>\n",
       "      <td>KISDI Perspectives</td>\n",
       "      <td>[초점]우리나라 ICT 수출의 구조적 단절과 시사점</td>\n",
       "      <td>IT산업·시장,통상</td>\n",
       "      <td>고동환</td>\n",
       "      <td>NaN</td>\n",
       "      <td>ICT 수출,구조적 단절,오차수정모형</td>\n",
       "      <td>2021</td>\n",
       "      <td>2000년 이후 ICT 분야에서 중국은 세계 공급망의 중심으로 부상하였으나  내...</td>\n",
       "      <td>[[이후, ICT, 분야, 중국, 은, 세계, 공급, 망의, 중심, 부상, 내부, ...</td>\n",
       "      <td>0.004264</td>\n",
       "      <td>0</td>\n",
       "    </tr>\n",
       "    <tr>\n",
       "      <th>839</th>\n",
       "      <td>3934550</td>\n",
       "      <td>KISDI Premium Report</td>\n",
       "      <td>4차 산업혁명과 지능정보사회의 규범 재정립</td>\n",
       "      <td>NaN</td>\n",
       "      <td>이원태</td>\n",
       "      <td>NaN</td>\n",
       "      <td>NaN</td>\n",
       "      <td>2017</td>\n",
       "      <td>본고의 목적은 지능정보사회의 규범적 대응과 관련된 지금까지의 국내외 논의 및 관련 ...</td>\n",
       "      <td>[[고의, 지능정보사회, 의, 규범적, 응과, 관련, 지금, 국내외, 논의, 및, ...</td>\n",
       "      <td>0.003719</td>\n",
       "      <td>0</td>\n",
       "    </tr>\n",
       "    <tr>\n",
       "      <th>56</th>\n",
       "      <td>3934550</td>\n",
       "      <td>KISDI Premium Report</td>\n",
       "      <td>디지털 무역규범: 글로벌 트렌드와 시사점</td>\n",
       "      <td>경쟁·규제,통상</td>\n",
       "      <td>김승민</td>\n",
       "      <td>NaN</td>\n",
       "      <td>디지털 무역규범, 데이터 자유이동, 핵심기술 공개, 차별적 데이터 규제</td>\n",
       "      <td>2021</td>\n",
       "      <td>본 보고서는 오늘날 전 세계적으로 확산되고 있는 디지털 무역규범에 대한민국이 효과적...</td>\n",
       "      <td>[[오늘날, 전, 세계적, 확산, 디지털, 무역, 규범, 대한민국, 대응, 수, I...</td>\n",
       "      <td>0.003660</td>\n",
       "      <td>0</td>\n",
       "    </tr>\n",
       "  </tbody>\n",
       "</table>\n",
       "<p>910 rows × 12 columns</p>\n",
       "</div>"
      ],
      "text/plain": [
       "         NUM              NAME_MAG                                NAME_ART  \\\n",
       "306  4311435        AI TREND WATCH            클라우드 기반 AI에 대한 엣지 AI의 도전과 영향   \n",
       "862  3934577              정보통신방송정책                  음성인식 AI 비서 시장의 현황과 시사점   \n",
       "92   4333447     KISDI STAT Report                  개인방송 이용 행태 및 이용자 특성 분석   \n",
       "824  3934577              정보통신방송정책                  IoT 생태계 확산과 엣지 컴퓨팅의 역할   \n",
       "253  4311435        AI TREND WATCH        모바일 클라우드 컴퓨팅 기반 연합학습의 발전 및 최신 경향   \n",
       "..       ...                   ...                                     ...   \n",
       "873  3934577              정보통신방송정책  2016 ICT벤처기업 현황분석: 벤처기업정밀실태조사 결과를 중심으로   \n",
       "6    4333447     KISDI STAT Report                       세대별 OTT 서비스 이용 현황   \n",
       "91   4334696    KISDI Perspectives            [초점]우리나라 ICT 수출의 구조적 단절과 시사점   \n",
       "839  3934550  KISDI Premium Report                 4차 산업혁명과 지능정보사회의 규범 재정립   \n",
       "56   3934550  KISDI Premium Report                  디지털 무역규범: 글로벌 트렌드와 시사점   \n",
       "\n",
       "            type M_author J_author                                  keyword  \\\n",
       "306  정보화,IT산업·시장      김민진      NaN                                  인공지능,AI   \n",
       "862      IT산업·시장      최지혜      이선희                                      NaN   \n",
       "92         방송콘텐츠      이선희      NaN                                      NaN   \n",
       "824      IT산업·시장      손가녕      이은민                                      NaN   \n",
       "253  정보화,IT산업·시장      이진우      NaN                                      NaN   \n",
       "..           ...      ...      ...                                      ...   \n",
       "873      IT산업·시장      이은민      NaN                                      NaN   \n",
       "6     방송정책,방송콘텐츠      김윤화      NaN         한국미디어패널, OTT이용율, OTT 사용 시간,  Z세대   \n",
       "91    IT산업·시장,통상      고동환      NaN                     ICT 수출,구조적 단절,오차수정모형   \n",
       "839          NaN      이원태      NaN                                      NaN   \n",
       "56      경쟁·규제,통상      김승민      NaN  디지털 무역규범, 데이터 자유이동, 핵심기술 공개, 차별적 데이터 규제   \n",
       "\n",
       "     year                                           contents  \\\n",
       "306  2020  AI 알고리즘이 대량의 데이터를 처리하고 다량의 컴퓨팅 리소스를 소비함에 따라 소프...   \n",
       "862  2017  스마트폰에 시작된 음성인식 기술 경쟁은 사물인터넷 IoT 의 본격 확산과 맞물려 이...   \n",
       "92   2021    2000년대 중후반부터 사용자가 직접 창작한 미디어 콘텐츠 형태인  UCC Us...   \n",
       "824  2017  IoT생태계가 확산됨에 따라 무수히 많은 다양한 IoT사물에서 빅데이터가 발생될 것...   \n",
       "253  2020   모바일 클라우드 컴퓨팅은 모바일 기기의 급격한 발달과 전 세계적인 확산으로 인해 ...   \n",
       "..    ...                                                ...   \n",
       "873  2017  중소기업청   8228  벤처기업협회는 매년 벤처기업정밀실태조사 보고서를 발간하여 ...   \n",
       "6    2022    OTT 이용률은 2019년 41 0   2020년 72 2   2021년 81 ...   \n",
       "91   2021    2000년 이후 ICT 분야에서 중국은 세계 공급망의 중심으로 부상하였으나  내...   \n",
       "839  2017  본고의 목적은 지능정보사회의 규범적 대응과 관련된 지금까지의 국내외 논의 및 관련 ...   \n",
       "56   2021  본 보고서는 오늘날 전 세계적으로 확산되고 있는 디지털 무역규범에 대한민국이 효과적...   \n",
       "\n",
       "                                               content  ICT_prob  filtered_ICT  \n",
       "306  [[AI 알고리즘, 대량의 데이터, 처리, 다량, 의, 컴퓨팅, 리소스, 소비, 소...  0.999405             1  \n",
       "862  [[스마트폰, 시작, 음성, 인식 기술, 경쟁, 은, 사물인터넷, IT, 본격, 확...  0.999074             1  \n",
       "92   [[중후반, 사용, 자가, 직접, 창작, 미디어, 콘텐츠, 형태, UCC, User...  0.999033             1  \n",
       "824  [[IT, 생태, 계가, 확산, IT, 사물, 빅데이터, 가, 발생, 것, 예상, ...  0.998959             1  \n",
       "253  [[모바일 클라우드 컴퓨팅, 은, 모바일 기기, 의, 급격, 세계, 확산, 사용],...  0.998851             1  \n",
       "..                                                 ...       ...           ...  \n",
       "873  [[중소기업청, 벤처기업, 협회, 매년, 벤처기업, 정밀, 실태조사, 벤처기업, 의...  0.005076             0  \n",
       "6    [[OTT, 이용률, 은, 로, 이후, 코로나, 이용, 증가, 추세], [코로나, ...  0.004828             0  \n",
       "91   [[이후, ICT, 분야, 중국, 은, 세계, 공급, 망의, 중심, 부상, 내부, ...  0.004264             0  \n",
       "839  [[고의, 지능정보사회, 의, 규범적, 응과, 관련, 지금, 국내외, 논의, 및, ...  0.003719             0  \n",
       "56   [[오늘날, 전, 세계적, 확산, 디지털, 무역, 규범, 대한민국, 대응, 수, I...  0.003660             0  \n",
       "\n",
       "[910 rows x 12 columns]"
      ]
     },
     "execution_count": 214,
     "metadata": {},
     "output_type": "execute_result"
    }
   ],
   "source": [
    "# ICT / Non ICT 분류 결과 확인 (filtered_ICT 컬럼)\n",
    "\n",
    "predicted_ntis = ntis.copy()\n",
    "predicted_ntis"
   ]
  },
  {
   "cell_type": "code",
   "execution_count": 215,
   "metadata": {
    "tags": []
   },
   "outputs": [
    {
     "data": {
      "text/plain": [
       "1    632\n",
       "0    278\n",
       "Name: filtered_ICT, dtype: int64"
      ]
     },
     "execution_count": 215,
     "metadata": {},
     "output_type": "execute_result"
    }
   ],
   "source": [
    "predicted_ntis[\"filtered_ICT\"].value_counts()"
   ]
  },
  {
   "cell_type": "code",
   "execution_count": 216,
   "metadata": {},
   "outputs": [],
   "source": [
    "predicted_ntis.to_excel(\".\\\\data\\\\Default\\\\\"+ ntis_ver + \"/HAN_Filtered_\"+ntis_ver+  \".xlsx\")"
   ]
  },
  {
   "cell_type": "markdown",
   "metadata": {},
   "source": [
    "### (4) 분류 결과 저장 및 갱신\n",
    "- Classification 결과 ICT 여부 컬럼을 함께 저장 (news의 경우 ICT 뉴스만 남기고 저장) "
   ]
  },
  {
   "cell_type": "code",
   "execution_count": 217,
   "metadata": {},
   "outputs": [],
   "source": [
    "# output type : data 폴더에 pkl 형식으로 변환 (사용자명, 오늘 날짜)\n",
    "\n",
    "predicted_ntis.to_pickle('./data/Default/' + ntis_ver + \"/HAN_Filtered_\" + ntis_ver +'.pkl')"
   ]
  },
  {
   "cell_type": "code",
   "execution_count": 218,
   "metadata": {},
   "outputs": [],
   "source": [
    "pred_data = pd.read_pickle(\"./data/Default/\" + ntis_ver + \"/HAN_Filtered_\"+ntis_ver+\".pkl\")"
   ]
  },
  {
   "cell_type": "code",
   "execution_count": null,
   "metadata": {},
   "outputs": [],
   "source": []
  }
 ],
 "metadata": {
  "kernelspec": {
   "display_name": "mecab",
   "language": "python",
   "name": "mecab"
  },
  "language_info": {
   "codemirror_mode": {
    "name": "ipython",
    "version": 3
   },
   "file_extension": ".py",
   "mimetype": "text/x-python",
   "name": "python",
   "nbconvert_exporter": "python",
   "pygments_lexer": "ipython3",
   "version": "3.8.0"
  }
 },
 "nbformat": 4,
 "nbformat_minor": 4
}
