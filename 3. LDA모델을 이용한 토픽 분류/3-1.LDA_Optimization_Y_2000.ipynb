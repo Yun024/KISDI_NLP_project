{
 "cells": [
  {
   "cell_type": "markdown",
   "metadata": {},
   "source": [
    "# LDA 모델 하이퍼파라미터 결정(토픽 개수)\n",
    "## 1. NTIS 데이터를 대상으로 하이퍼파라미터(특히 토픽개수)를 변경하며 가장 성능이 좋다고 보이는 파라미터를 설정(Coherence, perplexity score 활용)"
   ]
  },
  {
   "cell_type": "code",
   "execution_count": 43,
   "metadata": {},
   "outputs": [],
   "source": [
    "#https://bab2min.github.io/tomotopy/v0.12.3/kr/#tomotopy.LDAModel\n",
    "# Package Load\n",
    "import pickle\n",
    "import pyLDAvis\n",
    "import math\n",
    "import copy\n",
    "import numpy as np\n",
    "import pandas as pd\n",
    "import matplotlib.pyplot as plt\n",
    "from gensim.models.coherencemodel import CoherenceModel\n",
    "import tomotopy as tp\n",
    "import tomotopy.coherence as tpc\n",
    "from gensim.corpora import Dictionary\n",
    "from datetime import datetime\n",
    "from tqdm import tqdm\n",
    "from datetime import datetime\n",
    "from timeit import default_timer\n",
    "import plotly.express as px\n",
    "import plotly.offline\n",
    "from plotly.subplots import make_subplots\n",
    "import plotly.graph_objects as go\n",
    "import plotly.offline as pyo\n",
    "import plotly.graph_objs as go\n",
    "from plotly.subplots import make_subplots"
   ]
  },
  {
   "cell_type": "code",
   "execution_count": 44,
   "metadata": {},
   "outputs": [],
   "source": [
    "import os\n",
    "#os.environ[\"CUDA_DEVICE_ORDER\"]=\"PCI_BUS_ID\"\n",
    "os.environ[\"CUDA_VISIBLE_DEVICES\"]=\"-1\""
   ]
  },
  {
   "cell_type": "markdown",
   "metadata": {},
   "source": [
    "### (1) 데이터 불러오기\n",
    "#### ※ 코퍼스 파일 로드"
   ]
  },
  {
   "cell_type": "code",
   "execution_count": 42,
   "metadata": {},
   "outputs": [
    {
     "name": "stdout",
     "output_type": "stream",
     "text": [
      "사용할 데이터 폴더명을 입력하세요(Default: 엔터키): NKIS\n",
      "사용할 데이터 명을 입력하세요(Default: 엔터키): LDA_PRED_NKIS\n"
     ]
    }
   ],
   "source": [
    "data_ver=input(\"사용할 데이터 폴더명을 입력하세요(Default: 엔터키): \")\n",
    "if data_ver=='':\n",
    "    DATA_DIR = './data/LDA/Default/'\n",
    "else:\n",
    "    DATA_DIR = './data/LDA/'+data_ver+'/'\n",
    "    \n",
    "lda_txt=input(\"사용할 데이터 명을 입력하세요(Default: 엔터키): \")\n",
    "#LDA_PRED_NTIS_2021_20230104"
   ]
  },
  {
   "cell_type": "code",
   "execution_count": 4,
   "metadata": {},
   "outputs": [
    {
     "name": "stderr",
     "output_type": "stream",
     "text": [
      "76684it [00:02, 26435.77it/s]"
     ]
    },
    {
     "name": "stdout",
     "output_type": "stream",
     "text": [
      "코퍼스 파일 로드가 완료되었습니다.\n"
     ]
    },
    {
     "name": "stderr",
     "output_type": "stream",
     "text": [
      "\n"
     ]
    }
   ],
   "source": [
    "# input : data/LDA 폴더에 txt 형태 코퍼스 파일, 없으면 오류 발생\n",
    "\n",
    "corpus=[]\n",
    "for n, line in tqdm(enumerate(open(DATA_DIR+lda_txt+\".txt\", encoding='CP949'))):\n",
    "    doc=line.strip().split()\n",
    "    corpus.append(doc)\n",
    "print(\"코퍼스 파일 로드가 완료되었습니다.\")"
   ]
  },
  {
   "cell_type": "markdown",
   "metadata": {},
   "source": [
    "#### ※ temp에 분석에 활용하지 사용하지 않을 단어를 지정할 수 있음(기본 단순 알파벳 및 ㆍ 제거)"
   ]
  },
  {
   "cell_type": "code",
   "execution_count": 5,
   "metadata": {
    "scrolled": true
   },
   "outputs": [
    {
     "data": {
      "text/plain": [
       "53"
      ]
     },
     "execution_count": 5,
     "metadata": {},
     "output_type": "execute_result"
    }
   ],
   "source": [
    "from string import ascii_lowercase\n",
    "from string import ascii_uppercase\n",
    "alphabet_list = list(ascii_lowercase) + list(ascii_uppercase) + list(\"ㆍ\")\n",
    "# + list(topic2[\"0\"]) \n",
    "#print(len(topic2[\"0\"]))\n",
    "# 52부터 topic2 51까지 알파벳 대소문자  \n",
    "len(alphabet_list)"
   ]
  },
  {
   "cell_type": "code",
   "execution_count": 6,
   "metadata": {},
   "outputs": [],
   "source": [
    "unusing_dic = pd.DataFrame()\n",
    "unusing_dic[\"term\"] = alphabet_list"
   ]
  },
  {
   "cell_type": "code",
   "execution_count": 7,
   "metadata": {},
   "outputs": [
    {
     "name": "stderr",
     "output_type": "stream",
     "text": [
      "100%|██████████████████████████████████████████████████████████████████████████| 76684/76684 [00:13<00:00, 5880.19it/s]\n"
     ]
    }
   ],
   "source": [
    "temp_f =[]\n",
    "remove_set =unusing_dic[\"term\"].tolist()\n",
    "\n",
    "for temp_1 in tqdm(corpus) :\n",
    "    temp_t = [temp_2 for temp_2 in temp_1 if temp_2 not in remove_set]\n",
    "    temp_f.append(temp_t)\n",
    "    \n",
    "corpus = temp_f"
   ]
  },
  {
   "cell_type": "code",
   "execution_count": 8,
   "metadata": {},
   "outputs": [],
   "source": [
    "##단어 없는 것 제거(stopword)\n",
    "temp = []\n",
    "for cnt in range(len(corpus)):\n",
    "    if len(corpus[cnt])  != 0 :\n",
    "        temp.append(corpus[cnt])\n",
    "        \n",
    "corpus = temp"
   ]
  },
  {
   "cell_type": "code",
   "execution_count": null,
   "metadata": {},
   "outputs": [],
   "source": []
  },
  {
   "cell_type": "code",
   "execution_count": 9,
   "metadata": {},
   "outputs": [],
   "source": [
    "## 불용어 제거 후 저장\n",
    "# temp = pd.DataFrame(index=range(len(corpus)),columns=[\"corpus\"])\n",
    "\n",
    "# for i in tqdm(range(len(corpus))):\n",
    "#     temp.iloc[i][0] = ' '.join(map(str, corpus[i]))\n",
    "\n",
    "# f =open('./data/LDA/'+data_ver+'/'+\"LDA_DEL_2.txt\",'w')\n",
    "\n",
    "# for i in tqdm(range(len(temp))):\n",
    "#     f.writelines(temp.iloc[i]+'\\n')\n",
    "# f.close()"
   ]
  },
  {
   "cell_type": "markdown",
   "metadata": {},
   "source": [
    "### (2) LDA 모델 최적화\n",
    "#### ※ LDA 모델에서 토픽 수를 10, 20, 30 ... 으로 5단위씩 증가시키면서 아래에서 입력된 최대 토픽 수까지 모델을 훈련시켜 최적 토픽수를 찾음\n",
    "#### ※ 정해진 토픽수는 없으며, 분석가의 판단에 따라 결정하는 것임"
   ]
  },
  {
   "cell_type": "code",
   "execution_count": 18,
   "metadata": {},
   "outputs": [
    {
     "name": "stdout",
     "output_type": "stream",
     "text": [
      "LDA 모델 최적 토픽 수를 검증하기 위한 최대 토픽 수를 입력하세요. (※ 10이상의 자연수, 권장값 = 250개)150\n",
      "학습 Iteration 수를 입력하세요. (※ 100이상의 자연수, 권장값 = 1000회)1000\n",
      "\n",
      " 최대 토픽 갯수 150개로 1000회씩 학습을 진행합니다.\n"
     ]
    }
   ],
   "source": [
    "upper_topic_num = int(input(\"LDA 모델 최적 토픽 수를 검증하기 위한 최대 토픽 수를 입력하세요. (※ 10이상의 자연수, 권장값 = 250개)\"))\n",
    "iteration = int(input(\"학습 Iteration 수를 입력하세요. (※ 100이상의 자연수, 권장값 = 1000회)\"))\n",
    "\n",
    "print('\\n 최대 토픽 갯수 %s개로 %d회씩 학습을 진행합니다.'%(upper_topic_num,iteration))"
   ]
  },
  {
   "cell_type": "code",
   "execution_count": 19,
   "metadata": {},
   "outputs": [
    {
     "name": "stderr",
     "output_type": "stream",
     "text": [
      "100%|███████████████████████████████████████████████████████████████████████████████| 30/30 [4:23:05<00:00, 526.18s/it]\n"
     ]
    }
   ],
   "source": [
    "score_u_list=[]\n",
    "score_c_list=[]\n",
    "perplexity_list=[]\n",
    "for opt_tp in tqdm(range(5, upper_topic_num+5, 5)): \n",
    "    model=tp.LDAModel(k=opt_tp, min_cf=1001, rm_top=64 ,tw=tp.TermWeight.PMI, seed=42)\n",
    "    for cnt in range(len(corpus)):\n",
    "        model.add_doc(corpus[cnt])\n",
    "    model.train(iter=iteration, workers=0)\n",
    "    perplexity_list.append(math.log10(model.perplexity))\n",
    "    coherence_u=tpc.Coherence(model, coherence='u_mass')\n",
    "    coherence_c=tpc.Coherence(model, coherence='c_v')\n",
    "    score_u=coherence_u.get_score()\n",
    "    score_u_list.append(score_u)\n",
    "    score_c=coherence_c.get_score()\n",
    "    score_c_list.append(score_c)"
   ]
  },
  {
   "cell_type": "markdown",
   "metadata": {},
   "source": [
    "### 2-(1) Coherence graph : 토픽들이 얼마나 일관성 있는지에 대한 판단 지표\n",
    "#### ※ 수치가 높을수록 성능이 좋다고 판단"
   ]
  },
  {
   "cell_type": "code",
   "execution_count": 39,
   "metadata": {
    "scrolled": true
   },
   "outputs": [
    {
     "data": {
      "image/png": "[encoded data removed]",
      "text/plain": [
       "<Figure size 432x288 with 1 Axes>"
      ]
     },
     "metadata": {
      "needs_background": "light"
     },
     "output_type": "display_data"
    }
   ],
   "source": [
    "x=range(5, upper_topic_num+5, 5)\n",
    "plt.plot(x, score_c_list, color='green') \n",
    "plt.xlabel(\"Topic Num\") \n",
    "plt.ylabel(\"Coherence score\") \n",
    "plt.legend((\"coherence_values\"), loc='best')\n",
    "plt.axvline(x=20,color='r')\n",
    "plt.savefig('C:/Users/KISDI/LDA/html/LDA/NTIS/Cor_score_u_'+str(max_index*5)+'.png',facecolor='#eeeeee')\n",
    "plt.show()"
   ]
  },
  {
   "cell_type": "code",
   "execution_count": 21,
   "metadata": {},
   "outputs": [
    {
     "name": "stdout",
     "output_type": "stream",
     "text": [
      "0.7336540468037128\n"
     ]
    },
    {
     "data": {
      "text/plain": [
       "4"
      ]
     },
     "execution_count": 21,
     "metadata": {},
     "output_type": "execute_result"
    }
   ],
   "source": [
    "print(max(score_c_list))\n",
    "max_index = score_c_list.index(max(score_c_list)) +1 \n",
    "max_index"
   ]
  },
  {
   "cell_type": "code",
   "execution_count": null,
   "metadata": {},
   "outputs": [],
   "source": []
  },
  {
   "cell_type": "code",
   "execution_count": 22,
   "metadata": {},
   "outputs": [
    {
     "data": {
      "image/png": "[encoded data removed]",
      "text/plain": [
       "<Figure size 432x288 with 1 Axes>"
      ]
     },
     "metadata": {
      "needs_background": "light"
     },
     "output_type": "display_data"
    }
   ],
   "source": [
    "x=range(5, upper_topic_num+5, 5)\n",
    "plt.plot(x, score_u_list, color='green') \n",
    "plt.xlabel(\"Topic Num\") \n",
    "plt.ylabel(\"Coherence score\") \n",
    "plt.legend((\"coherence_values\"), loc='best')\n",
    "plt.axvline(x=20,color='r')\n",
    "plt.show()"
   ]
  },
  {
   "cell_type": "markdown",
   "metadata": {},
   "source": [
    "#### (2)-2 Perplexity 그래프 : 확률 모델이 얼마나 잘 예측하는지에 대한 판단 지표\n",
    "#### 수치가 낮을수록 잘 예측한다고 해석 할 수 있지만, 실제로 연구자가 보고 해석하기는 어려울 수 있음"
   ]
  },
  {
   "cell_type": "code",
   "execution_count": 41,
   "metadata": {},
   "outputs": [
    {
     "data": {
      "image/png": "[encoded data removed]",
      "text/plain": [
       "<Figure size 432x288 with 1 Axes>"
      ]
     },
     "metadata": {
      "needs_background": "light"
     },
     "output_type": "display_data"
    }
   ],
   "source": [
    "x=range(5, upper_topic_num+5, 5)\n",
    "plt.plot(x, perplexity_list, color='blue') \n",
    "plt.xlabel(\"Topic Num\") \n",
    "plt.ylabel(\"perplexity score\") \n",
    "plt.legend((\"perplexity_values\"), loc='best') \n",
    "plt.axvline(x=20,color='r')\n",
    "plt.savefig('C:/Users/KISDI/LDA/html/LDA/NTIS/Per_score'+str(max_index*5)+'.png',facecolor='#eeeeee')\n",
    "plt.show()"
   ]
  },
  {
   "cell_type": "code",
   "execution_count": null,
   "metadata": {},
   "outputs": [],
   "source": []
  },
  {
   "cell_type": "markdown",
   "metadata": {},
   "source": [
    "### (3) 최종 토픽개수 결정\n",
    "#### ※ 앞서 가장 높았던 토픽개수를 기준으로 가까운 토픽개수를 1단위로 관찰"
   ]
  },
  {
   "cell_type": "code",
   "execution_count": 12,
   "metadata": {},
   "outputs": [
    {
     "name": "stderr",
     "output_type": "stream",
     "text": [
      "100%|█████████████████████████████████████████████████████████████████████████████████| 10/10 [23:37<00:00, 141.71s/it]\n"
     ]
    }
   ],
   "source": [
    "score_u_list_2=[]\n",
    "score_c_list_2=[]\n",
    "perplexity_list_2=[]\n",
    "for opt_tp in tqdm(range(max_index*5-5, max_index*5+5, 1)): \n",
    "    model=tp.LDAModel(k=opt_tp, min_cf=1001, rm_top=64 ,tw=tp.TermWeight.PMI, seed=42)\n",
    "    for cnt in range(len(corpus)):\n",
    "        model.add_doc(corpus[cnt])\n",
    "    model.train(iter=iteration, workers=0)\n",
    "    perplexity_list_2.append(math.log10(model.perplexity))\n",
    "    coherence_u_2=tpc.Coherence(model, coherence='u_mass')\n",
    "    coherence_c_2=tpc.Coherence(model, coherence='c_v')\n",
    "    score_u_2=coherence_u_2.get_score()\n",
    "    score_u_list_2.append(score_u_2)\n",
    "    score_c_2=coherence_c_2.get_score()\n",
    "    score_c_list_2.append(score_c_2)"
   ]
  },
  {
   "cell_type": "code",
   "execution_count": 40,
   "metadata": {
    "scrolled": true
   },
   "outputs": [
    {
     "data": {
      "image/png": "[encoded data removed]",
      "text/plain": [
       "<Figure size 432x288 with 1 Axes>"
      ]
     },
     "metadata": {
      "needs_background": "light"
     },
     "output_type": "display_data"
    }
   ],
   "source": [
    "x=range(max_index*5-5, max_index*5+5, 1)\n",
    "plt.plot(x, score_c_list_2, color='green') \n",
    "plt.xlabel(\"Topic Num\") \n",
    "plt.ylabel(\"Coherence score\") \n",
    "plt.legend((\"coherence_values\"), loc='best') \n",
    "plt.axvline(x=20,color='r')\n",
    "plt.xticks(np.arange(max_index*5-5, max_index*5+5))\n",
    "plt.savefig('C:/Users/KISDI/LDA/html/LDA/NTIS/Cor_score'+str(max_index*5)+'_final.png',facecolor='#eeeeee')\n",
    "plt.show()"
   ]
  },
  {
   "cell_type": "code",
   "execution_count": 14,
   "metadata": {},
   "outputs": [
    {
     "ename": "NameError",
     "evalue": "name 'score_c_list' is not defined",
     "output_type": "error",
     "traceback": [
      "\u001b[1;31m---------------------------------------------------------------------------\u001b[0m",
      "\u001b[1;31mNameError\u001b[0m                                 Traceback (most recent call last)",
      "Input \u001b[1;32mIn [14]\u001b[0m, in \u001b[0;36m<cell line: 1>\u001b[1;34m()\u001b[0m\n\u001b[1;32m----> 1\u001b[0m \u001b[38;5;28mprint\u001b[39m(\u001b[43mscore_c_list\u001b[49m[\u001b[38;5;241m0\u001b[39m:\u001b[38;5;241m20\u001b[39m]\u001b[38;5;241m.\u001b[39mindex(\u001b[38;5;28mmax\u001b[39m(score_c_list[\u001b[38;5;241m0\u001b[39m:\u001b[38;5;241m20\u001b[39m])))\n",
      "\u001b[1;31mNameError\u001b[0m: name 'score_c_list' is not defined"
     ]
    }
   ],
   "source": [
    "print(score_c_list[0:20].index(max(score_c_list[0:20])))"
   ]
  },
  {
   "cell_type": "code",
   "execution_count": null,
   "metadata": {},
   "outputs": [],
   "source": [
    "x=range(10, 30, 1)\n",
    "plt.plot(x, score_u_list[0:20], color='green') \n",
    "plt.xlabel(\"Topic Num\") \n",
    "plt.ylabel(\"Coherence score\") \n",
    "plt.legend((\"coherence_values\"), loc='best') \n",
    "plt.show()"
   ]
  },
  {
   "cell_type": "code",
   "execution_count": null,
   "metadata": {},
   "outputs": [],
   "source": [
    "x=range(10, 30, 1)\n",
    "plt.plot(x, perplexity_list[0:20], color='blue') \n",
    "plt.xlabel(\"Topic Num\") \n",
    "plt.ylabel(\"perplexity score\") \n",
    "plt.legend((\"perplexity_values\"), loc='best')\n",
    "plt.axvline(x=23,color='r')\n",
    "plt.xticks(np.arange(10,31))\n",
    "plt.show()"
   ]
  },
  {
   "cell_type": "code",
   "execution_count": null,
   "metadata": {},
   "outputs": [],
   "source": []
  },
  {
   "cell_type": "code",
   "execution_count": null,
   "metadata": {},
   "outputs": [],
   "source": []
  }
 ],
 "metadata": {
  "kernelspec": {
   "display_name": "Python 3 (ipykernel)",
   "language": "python",
   "name": "python3"
  },
  "language_info": {
   "codemirror_mode": {
    "name": "ipython",
    "version": 3
   },
   "file_extension": ".py",
   "mimetype": "text/x-python",
   "name": "python",
   "nbconvert_exporter": "python",
   "pygments_lexer": "ipython3",
   "version": "3.9.12"
  }
 },
 "nbformat": 4,
 "nbformat_minor": 4
}
