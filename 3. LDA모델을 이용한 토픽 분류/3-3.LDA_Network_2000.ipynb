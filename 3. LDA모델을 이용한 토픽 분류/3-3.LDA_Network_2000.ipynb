{
 "cells": [
  {
   "cell_type": "code",
   "execution_count": null,
   "id": "24575401-8671-46cf-b445-f5ad2aa6d239",
   "metadata": {},
   "outputs": [],
   "source": [
    "# Package Load\n",
    "import pickle\n",
    "import pyLDAvis\n",
    "import math\n",
    "import copy\n",
    "import os\n",
    "import numpy as np\n",
    "import pandas as pd\n",
    "import matplotlib.pyplot as plt\n",
    "from gensim.models.coherencemodel import CoherenceModel\n",
    "import tomotopy as tp\n",
    "import tomotopy.coherence as tpc\n",
    "from gensim.corpora import Dictionary\n",
    "from datetime import datetime\n",
    "from tqdm import tqdm\n",
    "from datetime import datetime\n",
    "from timeit import default_timer\n",
    "import plotly.express as px\n",
    "import plotly.offline\n",
    "from plotly.subplots import make_subplots\n",
    "import plotly.graph_objects as go\n",
    "import plotly.offline as pyo\n",
    "import plotly.graph_objs as go\n",
    "from plotly.subplots import make_subplots\n",
    "version_name=str(datetime.today().strftime(\"%Y%m%d\")) # 버전 정보 변수\n",
    "import os\n",
    "#os.environ[\"CUDA_DEVICE_ORDER\"]=\"PCI_BUS_ID\"\n",
    "os.environ[\"CUDA_VISIBLE_DEVICES\"]=\"-1\""
   ]
  },
  {
   "cell_type": "code",
   "execution_count": 2,
   "id": "67d0ca91-c62f-4efb-947f-fcbd170a4f96",
   "metadata": {},
   "outputs": [],
   "source": [
    "import matplotlib.font_manager as fm\n",
    "import matplotlib as mpl"
   ]
  },
  {
   "cell_type": "code",
   "execution_count": 3,
   "id": "3b805546-a2da-47a7-bd94-61cd38f1b082",
   "metadata": {},
   "outputs": [],
   "source": [
    "import networkx as nx\n",
    "import operator\n",
    "import scipy\n",
    "import itertools\n",
    "#pip install scipy networkx==2.6.3  # coo_array에러나면 실행"
   ]
  },
  {
   "cell_type": "code",
   "execution_count": 4,
   "id": "e5ec57a8-0c28-4343-a7c8-addd9d558ea0",
   "metadata": {},
   "outputs": [],
   "source": [
    "os.chdir(\"C:\\\\Users\\\\newcomer02\\\\NTIS_Project\")"
   ]
  },
  {
   "cell_type": "markdown",
   "id": "ddad3b0b-58c5-4d6a-83ef-be872e38fbf7",
   "metadata": {},
   "source": [
    "# 기존에 학습된 모델 불러오기 "
   ]
  },
  {
   "cell_type": "code",
   "execution_count": 5,
   "id": "5f5609b4-0a69-4d0c-be81-1e519365a616",
   "metadata": {},
   "outputs": [
    {
     "name": "stdin",
     "output_type": "stream",
     "text": [
      "불러올 LDA모델이 담긴 ./data/LDA 내 폴더 명을 입력하세요 (Default: 엔터키) :  \n",
      "모델의 토픽 수를 입력하세요. (※ 권장값 = 180개) 20\n"
     ]
    },
    {
     "name": "stdout",
     "output_type": "stream",
     "text": [
      "\n",
      "Default LDA모델을 불러옵니다.\n"
     ]
    }
   ],
   "source": [
    "# input : model 폴더명, 해당 폴더, 없으면 오류 발생 (원하는 버전 모델 있으면 지정, 없으면 Enter -> Default)\n",
    "# model 폴더 안에 bin, npy 파일 필요, 없으면 오류 발생\n",
    "\n",
    "lda_ver=input(\"불러올 LDA모델이 담긴 ./data/LDA 내 폴더 명을 입력하세요 (Default: 엔터키) : \")\n",
    "topic_num = int(input(\"모델의 토픽 수를 입력하세요. (※ 권장값 = 180개)\"))\n",
    "if lda_ver=='':\n",
    "    print(\"\\nDefault LDA모델을 불러옵니다.\")\n",
    "    mdl=tp.LDAModel.load(\"./model/LDA_MODEL_20.bin\")\n",
    "#    lda_info =np.load(\"./data/LDA/Default/ict_index.npy\")\n",
    "else:\n",
    "    print(\"\\n%s 에 학습된 LDA모델을 불러옵니다.\"%(lda_ver[-8:]))\n",
    "    mdl=tp.LDAModel.load(\"./model/\"+lda_ver+\"/LDA_MODEL_\"+str(topic_num)+\".bin\")\n",
    "#    lda_info =np.load(\"./data/LDA/\"+lda_ver+\"/ict_index.npy\")"
   ]
  },
  {
   "cell_type": "markdown",
   "id": "b1017510-0aa7-4ae6-83b5-0e26803dcc1d",
   "metadata": {},
   "source": [
    "# 파일 불러오기 "
   ]
  },
  {
   "cell_type": "code",
   "execution_count": 6,
   "id": "68d7a75e-8ae3-4bd4-b820-8d8696dc892b",
   "metadata": {},
   "outputs": [
    {
     "name": "stdin",
     "output_type": "stream",
     "text": [
      "사용할 데이터 폴더명을 입력하세요(Default: 엔터키):  NTIS\n"
     ]
    },
    {
     "name": "stdout",
     "output_type": "stream",
     "text": [
      "./data/Default/NTIS/LDA_PRED_NTIS\n"
     ]
    }
   ],
   "source": [
    "folder_name=input(\"사용할 데이터 폴더명을 입력하세요(Default: 엔터키): \")\n",
    "lda_txt=\"LDA_PRED_\"+ folder_name\n",
    "DATA_DIR = \"./data/Default/\"+ folder_name+ \"/\"\n",
    "# NKIS, NTIS, REPORT, GOV\n",
    "print(DATA_DIR + lda_txt)"
   ]
  },
  {
   "cell_type": "code",
   "execution_count": 7,
   "id": "72dd890e-15a2-459c-8697-413e6c51b095",
   "metadata": {},
   "outputs": [
    {
     "name": "stderr",
     "output_type": "stream",
     "text": [
      "76684it [00:03, 21154.19it/s]"
     ]
    },
    {
     "name": "stdout",
     "output_type": "stream",
     "text": [
      "코퍼스 파일 로드가 완료되었습니다.\n"
     ]
    },
    {
     "name": "stderr",
     "output_type": "stream",
     "text": [
      "\n"
     ]
    }
   ],
   "source": [
    "# input : data/LDA 폴더에 txt 형태 코퍼스 파일, 없으면 오류 발생\n",
    "\n",
    "corpus=[]\n",
    "for n, line in tqdm(enumerate(open(DATA_DIR+lda_txt+\".txt\", encoding='CP949'))):\n",
    "    doc=line.strip().split()\n",
    "    corpus.append(doc)\n",
    "print(\"코퍼스 파일 로드가 완료되었습니다.\")"
   ]
  },
  {
   "cell_type": "code",
   "execution_count": 8,
   "id": "1e9a23e1-6fbd-426a-a76d-4ee10899ca9f",
   "metadata": {},
   "outputs": [],
   "source": [
    " ##단어 없는 것 제거\n",
    "temp = []\n",
    "for cnt in range(len(corpus)):\n",
    "    if len(corpus[cnt])  != 0 :\n",
    "        temp.append(corpus[cnt])\n",
    "        \n",
    "corpus = temp"
   ]
  },
  {
   "cell_type": "code",
   "execution_count": 9,
   "id": "bcacd989",
   "metadata": {},
   "outputs": [
    {
     "data": {
      "text/plain": [
       "53"
      ]
     },
     "execution_count": 9,
     "metadata": {},
     "output_type": "execute_result"
    }
   ],
   "source": [
    "## 불용어\n",
    "\n",
    "from string import ascii_lowercase\n",
    "from string import ascii_uppercase\n",
    "alphabet_list = list(ascii_lowercase) + list(ascii_uppercase)\n",
    "alphabet_list.append(\"ㆍ\")\n",
    "#+ list(topic2[\"0\"])\n",
    "#print(len(topic2[\"0\"]))\n",
    "# 52부터 topic2 51까지 알파벳 대소문자 \n",
    "#alphabet_list = alphabet_list[:550] #숫자만 바꿔주면됨 \n",
    "len(alphabet_list)"
   ]
  },
  {
   "cell_type": "code",
   "execution_count": 10,
   "id": "ff9ef35f",
   "metadata": {},
   "outputs": [],
   "source": [
    "unusing_dic = pd.DataFrame()\n",
    "unusing_dic[\"term\"] = alphabet_list"
   ]
  },
  {
   "cell_type": "code",
   "execution_count": 11,
   "id": "4423bf52",
   "metadata": {},
   "outputs": [
    {
     "name": "stderr",
     "output_type": "stream",
     "text": [
      "100%|██████████████████████████████████████████████████████████████████████████| 76684/76684 [00:13<00:00, 5751.01it/s]\n"
     ]
    }
   ],
   "source": [
    "temp_f =[]\n",
    "remove_set =unusing_dic[\"term\"].tolist()\n",
    "\n",
    "for temp_1 in tqdm(corpus) :\n",
    "    temp_t = [temp_2 for temp_2 in temp_1 if temp_2 not in remove_set]\n",
    "    temp_f.append(temp_t)\n",
    "    \n",
    "corpus = temp_f"
   ]
  },
  {
   "cell_type": "code",
   "execution_count": 19,
   "id": "09f41243-e5a1-416c-8286-f62b91100984",
   "metadata": {},
   "outputs": [],
   "source": [
    "wd_network = pd.read_csv(\"./data/Default/\"+folder_name+\"/LDA/\"+folder_name+\"_wd_network_20.csv\",encoding=\"cp949\",index_col=0)"
   ]
  },
  {
   "cell_type": "code",
   "execution_count": 25,
   "id": "1adbecc7",
   "metadata": {},
   "outputs": [],
   "source": [
    "#wd_network= pd.read_csv(\"./data/Default/\"+folder_name+ \"/LDA/\" + folder_name+\"_wd_network_\"+ str(topic_num)+\".csv\",encoding=\"cp949\",index_col=0)"
   ]
  },
  {
   "cell_type": "code",
   "execution_count": null,
   "id": "4df2e96a-49aa-46e8-b1db-5d9216459552",
   "metadata": {},
   "outputs": [],
   "source": [
    "wd_network"
   ]
  },
  {
   "cell_type": "markdown",
   "id": "2513adeb-afdf-4cdf-9a71-f22339f2681b",
   "metadata": {},
   "source": [
    "# 단어 네트워크"
   ]
  },
  {
   "cell_type": "code",
   "execution_count": null,
   "id": "717fa20d-67c8-44a5-a8be-937f289947ff",
   "metadata": {},
   "outputs": [],
   "source": [
    "# lda_year = pd.read_csv(\"HAN_year.csv\",index_col=0)\n",
    "# wd_network[\"year\"] = lda_year[\"year\"].copy()"
   ]
  },
  {
   "cell_type": "code",
   "execution_count": null,
   "id": "e9337dd7-9687-4f6f-a2e2-d6b0e671a339",
   "metadata": {},
   "outputs": [],
   "source": [
    "# wd_network.to_csv(\"wd_network_\"+ str(topic_num) + \".csv\")"
   ]
  },
  {
   "cell_type": "code",
   "execution_count": 21,
   "id": "20ede881-fa38-4b9f-8bdd-ff38aa3d936e",
   "metadata": {},
   "outputs": [],
   "source": [
    "wd_network_lda = wd_network.copy()"
   ]
  },
  {
   "cell_type": "code",
   "execution_count": 22,
   "id": "0f044a01-8d6b-4afe-8693-21758aa7d15b",
   "metadata": {},
   "outputs": [
    {
     "name": "stdin",
     "output_type": "stream",
     "text": [
      "보고싶은 년도를 입력해주시오: ex)2017:0 ~ 2021:4 : 4\n"
     ]
    }
   ],
   "source": [
    "timepoint = int(input(\"보고싶은 년도를 입력해주시오: ex)2017:0 ~ 2021:4 :\"))\n",
    "if timepoint == 0:\n",
    "    wd_network  = wd_network_lda[wd_network_lda[\"year\"]==2017]\n",
    "elif timepoint == 1:\n",
    "    wd_network  = wd_network_lda[wd_network_lda[\"year\"]==2018]\n",
    "elif timepoint == 2:\n",
    "    wd_network  = wd_network_lda[wd_network_lda[\"year\"]==2019]\n",
    "elif timepoint == 3:\n",
    "    wd_network  = wd_network_lda[wd_network_lda[\"year\"]==2020]\n",
    "elif timepoint == 4:\n",
    "    wd_network  = wd_network_lda[wd_network_lda[\"year\"]==2021]"
   ]
  },
  {
   "cell_type": "code",
   "execution_count": 23,
   "id": "e5fc3118-924c-4d8c-abd5-3a4fc28a6b09",
   "metadata": {},
   "outputs": [
    {
     "name": "stdin",
     "output_type": "stream",
     "text": [
      "분석하고 싶은 토픽 번호를 입력하십시오: 14\n"
     ]
    }
   ],
   "source": [
    "topic_num=int(input(\"분석하고 싶은 토픽 번호를 입력하십시오:\"))"
   ]
  },
  {
   "cell_type": "code",
   "execution_count": 24,
   "id": "24227e60-9597-4509-9cda-14b516611263",
   "metadata": {},
   "outputs": [],
   "source": [
    "## 토픽 별 상위 1000개 데이터를 이용한 사전 생성 \n",
    "using_word= []\n",
    "for i in range(500):\n",
    "    using_word.append(mdl.get_topic_words(topic_num-1,top_n=500)[i][0]) "
   ]
  },
  {
   "cell_type": "code",
   "execution_count": null,
   "id": "7999ece6-9148-45e0-aa73-e355da2d8974",
   "metadata": {
    "scrolled": true,
    "tags": []
   },
   "outputs": [],
   "source": [
    "df = pd.DataFrame()\n",
    "for i in tqdm(range(100)):\n",
    "    temp = wd_network[wd_network[\"Topic\"]==topic_num].sort_values(\"Topic_prob\",ascending=False).iloc[i][0]\n",
    "    temp2 = []\n",
    "    for j in (temp.split(\" \")):\n",
    "        if j in using_word:\n",
    "            temp2.append(j)\n",
    "        else:\n",
    "            continue\n",
    "    count = {}\n",
    "    for c,a in tqdm(enumerate(temp2)):  # i는 숫자 a는 1행 \n",
    "        for b in temp2[c+1:]:\n",
    "            if a>b:\n",
    "                count[b,a] = count.get((b,a),0)+1\n",
    "            else:\n",
    "                count[a,b] = count.get((a,b),0)+1\n",
    "    word_df = pd.DataFrame.from_dict(count,orient=\"index\")  \n",
    "    df = pd.concat([df,word_df])"
   ]
  },
  {
   "cell_type": "code",
   "execution_count": 26,
   "id": "29be7509-0960-41f2-9d19-3c1d1058076a",
   "metadata": {},
   "outputs": [
    {
     "data": {
      "text/html": [
       "<div>\n",
       "<style scoped>\n",
       "    .dataframe tbody tr th:only-of-type {\n",
       "        vertical-align: middle;\n",
       "    }\n",
       "\n",
       "    .dataframe tbody tr th {\n",
       "        vertical-align: top;\n",
       "    }\n",
       "\n",
       "    .dataframe thead th {\n",
       "        text-align: right;\n",
       "    }\n",
       "</style>\n",
       "<table border=\"1\" class=\"dataframe\">\n",
       "  <thead>\n",
       "    <tr style=\"text-align: right;\">\n",
       "      <th></th>\n",
       "      <th>0</th>\n",
       "    </tr>\n",
       "    <tr>\n",
       "      <th>index</th>\n",
       "      <th></th>\n",
       "    </tr>\n",
       "  </thead>\n",
       "  <tbody>\n",
       "    <tr>\n",
       "      <th>(1, 100)</th>\n",
       "      <td>36</td>\n",
       "    </tr>\n",
       "    <tr>\n",
       "      <th>(1, 2)</th>\n",
       "      <td>42</td>\n",
       "    </tr>\n",
       "    <tr>\n",
       "      <th>(1, 3)</th>\n",
       "      <td>7</td>\n",
       "    </tr>\n",
       "    <tr>\n",
       "      <th>(1, 30)</th>\n",
       "      <td>4</td>\n",
       "    </tr>\n",
       "    <tr>\n",
       "      <th>(1, 4)</th>\n",
       "      <td>11</td>\n",
       "    </tr>\n",
       "    <tr>\n",
       "      <th>...</th>\n",
       "      <td>...</td>\n",
       "    </tr>\n",
       "    <tr>\n",
       "      <th>(환경, 효율)</th>\n",
       "      <td>9</td>\n",
       "    </tr>\n",
       "    <tr>\n",
       "      <th>(환경, 효율성)</th>\n",
       "      <td>1</td>\n",
       "    </tr>\n",
       "    <tr>\n",
       "      <th>(환경, 히)</th>\n",
       "      <td>1</td>\n",
       "    </tr>\n",
       "    <tr>\n",
       "      <th>(효율, 효율성)</th>\n",
       "      <td>1</td>\n",
       "    </tr>\n",
       "    <tr>\n",
       "      <th>(효율, 히)</th>\n",
       "      <td>6</td>\n",
       "    </tr>\n",
       "  </tbody>\n",
       "</table>\n",
       "<p>46276 rows × 1 columns</p>\n",
       "</div>"
      ],
      "text/plain": [
       "            0\n",
       "index        \n",
       "(1, 100)   36\n",
       "(1, 2)     42\n",
       "(1, 3)      7\n",
       "(1, 30)     4\n",
       "(1, 4)     11\n",
       "...        ..\n",
       "(환경, 효율)    9\n",
       "(환경, 효율성)   1\n",
       "(환경, 히)     1\n",
       "(효율, 효율성)   1\n",
       "(효율, 히)     6\n",
       "\n",
       "[46276 rows x 1 columns]"
      ]
     },
     "execution_count": 26,
     "metadata": {},
     "output_type": "execute_result"
    }
   ],
   "source": [
    "df.reset_index(inplace=True)\n",
    "df[1] = pd.DataFrame(df[\"index\"].tolist())[0]\n",
    "df[2] = pd.DataFrame(df[\"index\"].tolist())[1]\n",
    "df = df[df[1]!=df[2]]\n",
    "df= pd.DataFrame(df.groupby(\"index\")[0].sum())\n",
    "df"
   ]
  },
  {
   "cell_type": "code",
   "execution_count": 27,
   "id": "7d9822b2-7eb3-4709-be0e-95fb334eafd5",
   "metadata": {},
   "outputs": [],
   "source": [
    "list1 = []\n",
    "for i in range(len(df)):\n",
    "    list1.append([df.index[i][0],df.index[i][1],df[0][i]])"
   ]
  },
  {
   "cell_type": "code",
   "execution_count": 28,
   "id": "8d42456f-16e9-4c68-8966-f6221f7213ca",
   "metadata": {},
   "outputs": [],
   "source": [
    "df2 = pd.DataFrame(list1,columns=[\"term1\",\"term2\",\"freq\"])\n",
    "df3 = df2.sort_values(by=[\"freq\"],ascending=False)\n",
    "df3 = df3.reset_index(drop=True)"
   ]
  },
  {
   "cell_type": "code",
   "execution_count": 32,
   "id": "e0eb0da5-1b17-421e-b06d-03fcafe3edd3",
   "metadata": {},
   "outputs": [],
   "source": [
    "df3.to_csv(\"zzz.csv\",index=False,encoding=\"cp949\")"
   ]
  },
  {
   "cell_type": "code",
   "execution_count": 23,
   "id": "d91e9cd3-fb1c-41b7-874c-b84485bfb450",
   "metadata": {},
   "outputs": [
    {
     "name": "stdout",
     "output_type": "stream",
     "text": [
      "638\n"
     ]
    }
   ],
   "source": [
    "i =1\n",
    "while len((np.where(df3[\"freq\"]>=i))[0])>100:\n",
    "    i +=1\n",
    "freq_num=i\n",
    "print(freq_num)"
   ]
  },
  {
   "cell_type": "code",
   "execution_count": 24,
   "id": "509ec922-d1fb-480c-b698-380c1db15f1f",
   "metadata": {},
   "outputs": [
    {
     "name": "stderr",
     "output_type": "stream",
     "text": [
      "100%|█████████████████████████████████████████████████████████████████████████████| 100/100 [00:00<00:00, 24988.41it/s]\n"
     ]
    }
   ],
   "source": [
    "G_centrality = nx.Graph()\n",
    "for i in tqdm(range(len((np.where(df3[\"freq\"]>=freq_num))[0]))):\n",
    "    G_centrality.add_edge(df3[\"term1\"][i],df3[\"term2\"][i],weight=int(df3[\"freq\"][i]))"
   ]
  },
  {
   "cell_type": "code",
   "execution_count": null,
   "id": "cd53ccb5-2f39-4181-b79b-2609f0bef584",
   "metadata": {},
   "outputs": [],
   "source": [
    "dgr = nx.degree_centrality(G_centrality)      #연결 중심성\n",
    "btw = nx.betweenness_centrality(G_centrality) #매개 중심성\n",
    "cls = nx.closeness_centrality(G_centrality)   #근접 중심성\n",
    "egv = nx.eigenvector_centrality(G_centrality) #고유벡터 중심성\n",
    "pgr = nx.pagerank(G_centrality) #페이지랭크 안됨 "
   ]
  },
  {
   "cell_type": "code",
   "execution_count": null,
   "id": "41b7df19-44dd-4d20-be00-e2dc2ae2399a",
   "metadata": {},
   "outputs": [],
   "source": [
    "sorted_dgr = sorted(dgr.items(), key=operator.itemgetter(1), reverse=True)\n",
    "sorted_btw = sorted(btw.items(), key=operator.itemgetter(1), reverse=True)\n",
    "sorted_cls = sorted(cls.items(), key=operator.itemgetter(1), reverse=True)\n",
    "sorted_egv = sorted(egv.items(), key=operator.itemgetter(1), reverse=True)\n",
    "sorted_pgr = sorted(pgr.items(), key=operator.itemgetter(1), reverse=True)"
   ]
  },
  {
   "cell_type": "code",
   "execution_count": null,
   "id": "82152a28-8edf-4941-9f05-01125d8ab758",
   "metadata": {},
   "outputs": [],
   "source": [
    "G= nx.Graph()"
   ]
  },
  {
   "cell_type": "code",
   "execution_count": null,
   "id": "a295d9a8-f4c0-424b-9287-5598ec48d33d",
   "metadata": {},
   "outputs": [],
   "source": [
    "for i in tqdm(range(len(sorted_pgr))):\n",
    "    G.add_node(sorted_pgr[i][0],nodesize=sorted_dgr[i][1])\n",
    "\n",
    "for i in tqdm(range(len((np.where(df3[\"freq\"]>=freq_num))[0]))):\n",
    "    G.add_weighted_edges_from([(df3[\"term1\"][i],df3[\"term2\"][i],int(df3[\"freq\"][i]))])"
   ]
  },
  {
   "cell_type": "code",
   "execution_count": null,
   "id": "de32c066-d1c1-433d-8545-f798b4733410",
   "metadata": {},
   "outputs": [],
   "source": [
    "sizes = [G.nodes[node][\"nodesize\"]*2000 for node in G]"
   ]
  },
  {
   "cell_type": "markdown",
   "id": "986be0df-fff6-4d22-8e07-daa896471b13",
   "metadata": {},
   "source": [
    "## 텍스트 네트워크 폰트 설정 및 그래프 그리기\n",
    "#### <에러나면 아래로 가서 패키지 실행 후 올라오기>"
   ]
  },
  {
   "cell_type": "code",
   "execution_count": null,
   "id": "a3c6e58a-7e49-493d-a95a-dae979c724d4",
   "metadata": {},
   "outputs": [],
   "source": [
    "import matplotlib.pyplot as plt\n",
    "import matplotlib.font_manager as fm\n",
    "import matplotlib as mpl\n",
    "## 마이너스 폰트 깨지는 문제에 대한 대처\n",
    "mpl.rcParams['axes.unicode_minus'] = False"
   ]
  },
  {
   "cell_type": "code",
   "execution_count": null,
   "id": "8af1f409-3df4-4a03-b7d1-e13522ca0922",
   "metadata": {},
   "outputs": [],
   "source": [
    "font_fname = \"C:\\\\Windows\\\\Fonts\\\\NanumGothicCoding-bold.ttf\"\n",
    "fontprop = fm.FontProperties(fname=font_fname,size=10).get_name()"
   ]
  },
  {
   "cell_type": "code",
   "execution_count": null,
   "id": "403eea40-90f9-4c70-867f-ddfabb84aebe",
   "metadata": {},
   "outputs": [],
   "source": [
    "options={\n",
    "    \"edge_color\":'#FFDEA2',\n",
    "    \"width\":1,\n",
    "    \"with_labels\":True,\n",
    "    \"font_weight\":\"bold\",\n",
    "}"
   ]
  },
  {
   "cell_type": "code",
   "execution_count": null,
   "id": "d5685d96",
   "metadata": {},
   "outputs": [],
   "source": [
    "#pos=nx.fruchterman_reingold_layout(G)\n",
    "#pos=nx.spectral_layout(G)\n",
    "#pos=nx.random_layout(G)\n",
    "#pos=nx.shell_layout(G)\n",
    "#pos=nx.circular_layout(G)\n",
    "#pos=nx.spring_layout(G,k=3.5,iterations=100)\n",
    "#pos=nx.kamada_kawai_layout(G)\n",
    "\n",
    "plt.figure(figsize=(16,8)); \n",
    "nx.draw_networkx(G,node_size=sizes,pos=nx.kamada_kawai_layout(G),**options,font_family=fontprop)\n",
    "ax = plt.gca()\n",
    "ax.collections[0].set_edgecolor(\"#555555\")\n",
    "#plt.savefig(\"temp.png\", bbox_inches='tight')\n",
    "plt.show()"
   ]
  },
  {
   "cell_type": "code",
   "execution_count": null,
   "id": "e645f805-4489-448f-9df0-2fb6a1ebda07",
   "metadata": {},
   "outputs": [],
   "source": [
    "timepoint"
   ]
  },
  {
   "cell_type": "code",
   "execution_count": null,
   "id": "3ac1d7b2",
   "metadata": {},
   "outputs": [],
   "source": [
    "#pos=nx.fruchterman_reingold_layout(G)\n",
    "#pos=nx.spectral_layout(G)\n",
    "#pos=nx.random_layout(G)\n",
    "#pos=nx.shell_layout(G)\n",
    "#pos=nx.circular_layout(G)\n",
    "#pos=nx.spring_layout(G,k=3.5,iterations=100)\n",
    "#pos=nx.kamada_kawai_layout(G)\n",
    "\n",
    "plt.figure(figsize=(16,8)); \n",
    "nx.draw_networkx(G,node_size=sizes,pos=nx.spring_layout(G,k=3.5,iterations=100),**options,font_family=fontprop)\n",
    "ax = plt.gca()\n",
    "ax.collections[0].set_edgecolor(\"#555555\")\n",
    "plt.savefig(\".\\\\data\\\\Default\\\\NTIS\\\\LDA\\\\Topic_Network\\\\Topic\"+ str(topic_num) +\"_\"+ str(timepoint+2017) +\".png\", bbox_inches='tight')\n",
    "plt.show()"
   ]
  },
  {
   "cell_type": "code",
   "execution_count": null,
   "id": "fdbb482e-0a3b-46b8-b346-cd3c9981a36d",
   "metadata": {
    "scrolled": true,
    "tags": []
   },
   "outputs": [],
   "source": [
    "print(\"** degree **\")\n",
    "for x in range(len(G)):\n",
    "    print(sorted_dgr[x])"
   ]
  },
  {
   "cell_type": "code",
   "execution_count": null,
   "id": "309b88bd",
   "metadata": {
    "scrolled": true
   },
   "outputs": [],
   "source": [
    "print(\"** betweenness **\")\n",
    "for x in range(len(G)):\n",
    "    print(sorted_btw[x])"
   ]
  },
  {
   "cell_type": "code",
   "execution_count": null,
   "id": "f2ea7e0c",
   "metadata": {
    "scrolled": true
   },
   "outputs": [],
   "source": [
    "print(\"** closeness **\")\n",
    "for x in range(len(G)):\n",
    "    print(sorted_cls[x])"
   ]
  },
  {
   "cell_type": "markdown",
   "id": "942bcf6c-1ee7-4894-839e-47c4b18c7b30",
   "metadata": {},
   "source": [
    "## 최초 1회 실행"
   ]
  },
  {
   "cell_type": "code",
   "execution_count": null,
   "id": "451e6bcc-375f-47c3-b59e-1f7f08184b3d",
   "metadata": {},
   "outputs": [],
   "source": [
    "print ('버전: ', mpl.__version__)\n",
    "print ('설치 위치: ', mpl.__file__)\n",
    "print ('설정 위치: ', mpl.get_configdir())\n",
    "print ('캐시 위치: ', mpl.get_cachedir())"
   ]
  },
  {
   "cell_type": "code",
   "execution_count": null,
   "id": "36eb20a6-2e60-4c07-8603-70b607d4bfbe",
   "metadata": {},
   "outputs": [],
   "source": [
    "print ('설정파일 위치: ', mpl.matplotlib_fname())"
   ]
  },
  {
   "cell_type": "code",
   "execution_count": null,
   "id": "daadcdfb-a448-418b-928d-8ba27ffb6c44",
   "metadata": {},
   "outputs": [],
   "source": [
    "[(f.name, f.fname) for f in fm.fontManager.ttflist if 'Nanum' in f.name]"
   ]
  },
  {
   "cell_type": "code",
   "execution_count": null,
   "id": "02e5b742-f45b-4d2d-a014-7ad9476331fe",
   "metadata": {},
   "outputs": [],
   "source": [
    "plt.rc(\"font\", family=\"NanumGothicCoding\")\n",
    "print(plt.rcParams[\"font.family\"])"
   ]
  },
  {
   "cell_type": "code",
   "execution_count": null,
   "id": "0248f3d0-d113-49cc-af16-29d6e5b04065",
   "metadata": {},
   "outputs": [],
   "source": [
    "#단어끼리 서로 빈도를 세는 데이터셋을 만들었을 때 Gaphi로 시각화하는 것 전단계: graphml 확장자 형식으로 만들기\n",
    "class MakeGraphml:\n",
    "    def make_graphml(self, pair_file, graphml_file):\n",
    "        out = open(graphml_file, 'w', encoding = 'utf-8')\n",
    "        entity = []\n",
    "        e_dict = {}\n",
    "        count = []\n",
    "        for i in range(len(pair_file)):\n",
    "            e1 = pair_file.iloc[i,0]\n",
    "            e2 = pair_file.iloc[i,1]\n",
    "            #frq = ((word_dict[e1], word_dict[e2]),  pair.split('\\t')[2])\n",
    "            frq = ((e1, e2), pair_file.iloc[i,2])\n",
    "            if frq not in count: count.append(frq)   # ((a, b), frq)\n",
    "            if e1 not in entity: entity.append(e1)\n",
    "            if e2 not in entity: entity.append(e2)\n",
    "        print('# terms: %s'% len(entity))\n",
    "        #create e_dict {entity: id} from entity\n",
    "        for i, w in enumerate(entity):\n",
    "            e_dict[w] = i + 1 # {word: id}\n",
    "        out.write(\n",
    "            \"<?xml version=\\\"1.0\\\" encoding=\\\"UTF-8\\\"?><graphml xmlns=\\\"http://graphml.graphdrawing.org/xmlns\\\" xmlns:xsi=\\\"http://www.w3.org/2001/XMLSchema-instance\\\" xsi:schemaLocation=\\\"http://graphml.graphdrawing.org/xmlnshttp://graphml.graphdrawing.org/xmlns/1.0/graphml.xsd\\\">\" +\n",
    "            \"<key id=\\\"d1\\\" for=\\\"edge\\\" attr.name=\\\"weight\\\" attr.type=\\\"double\\\"/>\" +\n",
    "            \"<key id=\\\"d0\\\" for=\\\"node\\\" attr.name=\\\"label\\\" attr.type=\\\"string\\\"/>\" +\n",
    "            \"<graph id=\\\"Entity\\\" edgedefault=\\\"undirected\\\">\" + \"\\n\")\n",
    "        # nodes\n",
    "        for i in entity:\n",
    "            out.write(\"<node id=\\\"\" + str(e_dict[i]) +\"\\\">\" + \"\\n\")\n",
    "            out.write(\"<data key=\\\"d0\\\">\" + i + \"</data>\" + \"\\n\")\n",
    "            out.write(\"</node>\")\n",
    "        # edges\n",
    "        for y in range(len(count)):\n",
    "            out.write(\"<edge source=\\\"\" + str(e_dict[count[y][0][0]]) + \"\\\" target=\\\"\" + str(e_dict[count[y][0][1]]) + \"\\\">\" + \"\\n\")\n",
    "            out.write(\"<data key=\\\"d1\\\">\" + str(count[y][1]) + \"</data>\" + \"\\n\")\n",
    "            #out.write(\"<edge source=\\\"\" + str(count[y][0][0]) + \"\\\" target=\\\"\" + str(count[y][0][1]) +\"\\\">\"+\"\\n\")\n",
    "            #out.write(\"<data key=\\\"d1\\\">\" + str(count[y][1]) +\"</data>\"+\"\\n\")\n",
    "            out.write(\"</edge>\")\n",
    "        out.write(\"</graph> </graphml>\")\n",
    "        print('now you can see %s' % graphml_file)\n",
    "        #pairs.close()\n",
    "        out.close()"
   ]
  },
  {
   "cell_type": "code",
   "execution_count": null,
   "id": "232e40bb-7489-4055-bc73-2792ebe95795",
   "metadata": {},
   "outputs": [],
   "source": [
    "gm = MakeGraphml()"
   ]
  },
  {
   "cell_type": "code",
   "execution_count": null,
   "id": "a193c101-9172-487e-996f-3206d90b0b3e",
   "metadata": {},
   "outputs": [],
   "source": [
    "graphml_file = 'wd_network.graphml'"
   ]
  },
  {
   "cell_type": "code",
   "execution_count": null,
   "id": "ae123cb6-bfaa-4445-a082-1a1fea371540",
   "metadata": {},
   "outputs": [],
   "source": [
    "gm.make_graphml(df3.iloc[0:len((np.where(df3[\"freq\"]>=5))[0]),:], graphml_file)"
   ]
  },
  {
   "cell_type": "markdown",
   "id": "0d85e612-ed5a-4613-a94a-1d7b8b3dc8fb",
   "metadata": {},
   "source": [
    "# 깨진 파일 1개 자동"
   ]
  },
  {
   "cell_type": "code",
   "execution_count": 26,
   "id": "4144be49-753d-432a-966b-00b4bf4301b0",
   "metadata": {},
   "outputs": [],
   "source": [
    "wd_network_lda = wd_network.copy() ## 최초 한번만 실행 그 후로 실행x"
   ]
  },
  {
   "cell_type": "code",
   "execution_count": 48,
   "id": "1e154ff1-46e9-4d21-990d-5b4c81833892",
   "metadata": {},
   "outputs": [
    {
     "name": "stdin",
     "output_type": "stream",
     "text": [
      "분석하고 싶은 토픽 번호를 입력하십시오: 19\n",
      "보고싶은 년도를 입력해주시오: ex)2017:0 ~ 2021:4 : 3\n"
     ]
    }
   ],
   "source": [
    "topic_num=int(input(\"분석하고 싶은 토픽 번호를 입력하십시오:\"))\n",
    "timepoint = int(input(\"보고싶은 년도를 입력해주시오: ex)2017:0 ~ 2021:4 :\"))\n",
    "if timepoint == 0:\n",
    "    wd_network  = wd_network_lda[wd_network_lda[\"year\"]==2017]\n",
    "elif timepoint == 1:\n",
    "    wd_network  = wd_network_lda[wd_network_lda[\"year\"]==2018]\n",
    "elif timepoint == 2:\n",
    "    wd_network  = wd_network_lda[wd_network_lda[\"year\"]==2019]\n",
    "elif timepoint == 3:\n",
    "    wd_network  = wd_network_lda[wd_network_lda[\"year\"]==2020]\n",
    "elif timepoint == 4:\n",
    "    wd_network  = wd_network_lda[wd_network_lda[\"year\"]==2021]"
   ]
  },
  {
   "cell_type": "code",
   "execution_count": 49,
   "id": "679f68e8-013c-43de-8fd3-e347d31f9d33",
   "metadata": {},
   "outputs": [
    {
     "name": "stderr",
     "output_type": "stream",
     "text": [
      "C:\\Users\\newcomer02\\Anaconda3\\envs\\mecab\\lib\\site-packages\\networkx\\algorithms\\link_analysis\\pagerank_alg.py:108: DeprecationWarning:\n",
      "\n",
      "networkx.pagerank_scipy is deprecated and will be removed in NetworkX 3.0, use networkx.pagerank instead.\n",
      "\n"
     ]
    },
    {
     "data": {
      "image/png": "[encoded data removed]",
      "text/plain": [
       "<Figure size 1600x800 with 1 Axes>"
      ]
     },
     "metadata": {},
     "output_type": "display_data"
    }
   ],
   "source": [
    "using_word= []\n",
    "for i in range(500):\n",
    "    using_word.append(mdl.get_topic_words(topic_num-1,top_n=500)[i][0]) \n",
    "    \n",
    "df = pd.DataFrame()\n",
    "for i in range(100):\n",
    "    temp = wd_network[wd_network[\"Topic\"]==topic_num].sort_values(\"Topic_prob\",ascending=False).iloc[i][0]\n",
    "    temp2 = []\n",
    "    for j in (temp.split(\" \")):\n",
    "        if j in using_word:\n",
    "            temp2.append(j)\n",
    "        else:\n",
    "            continue\n",
    "    count = {}\n",
    "    for c,a in enumerate(temp2):  # i는 숫자 a는 1행 \n",
    "        for b in temp2[c+1:]:\n",
    "            if a>b:\n",
    "                count[b,a] = count.get((b,a),0)+1\n",
    "            else:\n",
    "                count[a,b] = count.get((a,b),0)+1\n",
    "    word_df = pd.DataFrame.from_dict(count,orient=\"index\")  \n",
    "    df = pd.concat([df,word_df])\n",
    "    \n",
    "df.reset_index(inplace=True)\n",
    "df[1] = pd.DataFrame(df[\"index\"].tolist())[0]\n",
    "df[2] = pd.DataFrame(df[\"index\"].tolist())[1]\n",
    "df = df[df[1]!=df[2]]\n",
    "df= pd.DataFrame(df.groupby(\"index\")[0].sum())\n",
    "\n",
    "list1 = []\n",
    "for i in range(len(df)):\n",
    "    list1.append([df.index[i][0],df.index[i][1],df[0][i]])\n",
    "    \n",
    "df2 = pd.DataFrame(list1,columns=[\"term1\",\"term2\",\"freq\"])\n",
    "df3 = df2.sort_values(by=[\"freq\"],ascending=False)\n",
    "df3 = df3.reset_index(drop=True)\n",
    "\n",
    "i =1\n",
    "while len((np.where(df3[\"freq\"]>=i))[0])>100:\n",
    "    i +=1\n",
    "freq_num=i\n",
    "\n",
    "G_centrality = nx.Graph()\n",
    "for i in range(len((np.where(df3[\"freq\"]>=freq_num))[0])):\n",
    "    G_centrality.add_edge(df3[\"term1\"][i],df3[\"term2\"][i],weight=int(df3[\"freq\"][i]))\n",
    "    \n",
    "dgr = nx.degree_centrality(G_centrality)      #연결 중심성\n",
    "btw = nx.betweenness_centrality(G_centrality) #매개 중심성\n",
    "cls = nx.closeness_centrality(G_centrality)   #근접 중심성\n",
    "egv = nx.eigenvector_centrality(G_centrality) #고유벡터 중심성\n",
    "pgr = nx.pagerank(G_centrality) #페이지랭크 안됨 \n",
    "\n",
    "sorted_dgr = sorted(dgr.items(), key=operator.itemgetter(1), reverse=True)\n",
    "sorted_btw = sorted(btw.items(), key=operator.itemgetter(1), reverse=True)\n",
    "sorted_cls = sorted(cls.items(), key=operator.itemgetter(1), reverse=True)\n",
    "sorted_egv = sorted(egv.items(), key=operator.itemgetter(1), reverse=True)\n",
    "sorted_pgr = sorted(pgr.items(), key=operator.itemgetter(1), reverse=True)\n",
    "\n",
    "G= nx.Graph()\n",
    "\n",
    "for i in range(len(sorted_pgr)):\n",
    "    G.add_node(sorted_pgr[i][0],nodesize=sorted_dgr[i][1])\n",
    "\n",
    "for i in range(len((np.where(df3[\"freq\"]>=freq_num))[0])):\n",
    "    G.add_weighted_edges_from([(df3[\"term1\"][i],df3[\"term2\"][i],int(df3[\"freq\"][i]))])\n",
    "    \n",
    "sizes = [G.nodes[node][\"nodesize\"]*2000 for node in G]\n",
    "\n",
    "font_fname = \"C:\\\\Windows\\\\Fonts\\\\NanumGothicCoding-bold.ttf\"\n",
    "fontprop = fm.FontProperties(fname=font_fname,size=10).get_name()\n",
    "\n",
    "options={\n",
    "    \"edge_color\":'#FFDEA2',\n",
    "    \"width\":1,\n",
    "    \"with_labels\":True,\n",
    "    \"font_weight\":\"bold\",\n",
    "}\n",
    "\n",
    "plt.figure(figsize=(16,8)); \n",
    "nx.draw_networkx(G,node_size=sizes,pos=nx.spring_layout(G,k=3.5,iterations=100),**options,font_family=fontprop)\n",
    "ax = plt.gca()\n",
    "ax.collections[0].set_edgecolor(\"#555555\")\n",
    "plt.savefig(\".\\\\data\\\\Default\\\\\"+folder_name+\"\\\\LDA\\\\Topic_Network_\"+folder_name+\"\\\\Topic\"+ str(topic_num) +\"_\"+str(timepoint+2017)+\".png\", bbox_inches='tight')\n",
    "plt.show()"
   ]
  },
  {
   "cell_type": "markdown",
   "id": "1a3fd775",
   "metadata": {},
   "source": [
    "# 자동"
   ]
  },
  {
   "cell_type": "code",
   "execution_count": 15,
   "id": "101c05c4-c7d0-4ab5-9020-a898abfa9e9d",
   "metadata": {},
   "outputs": [],
   "source": [
    "wd_network_lda = wd_network.copy() ##최초 1회만 실행"
   ]
  },
  {
   "cell_type": "code",
   "execution_count": 16,
   "id": "908e9db8-cfa2-471a-83ab-ce720ea865f6",
   "metadata": {},
   "outputs": [
    {
     "name": "stdin",
     "output_type": "stream",
     "text": [
      "사용년도의 범위를 입력하시오 ex)2017~2021:5 : 5\n",
      "토픽의 개수를 입력하시오: 20\n"
     ]
    }
   ],
   "source": [
    "year_range = input(\"사용년도의 범위를 입력하시오 ex)2017~2021:5 :\")\n",
    "topic_len = input(\"토픽의 개수를 입력하시오:\")"
   ]
  },
  {
   "cell_type": "code",
   "execution_count": null,
   "id": "5567f5ac-191e-483a-bd2f-f171302df8e5",
   "metadata": {
    "scrolled": true,
    "tags": []
   },
   "outputs": [],
   "source": [
    "for timepoint in tqdm(range(int(year_range))):\n",
    "\n",
    "    if timepoint == 0:\n",
    "        wd_network  = wd_network_lda[wd_network_lda[\"year\"]==2017]\n",
    "    elif timepoint == 1:\n",
    "        wd_network  = wd_network_lda[wd_network_lda[\"year\"]==2018]\n",
    "    elif timepoint == 2:\n",
    "        wd_network  = wd_network_lda[wd_network_lda[\"year\"]==2019]\n",
    "    elif timepoint == 3:\n",
    "        wd_network  = wd_network_lda[wd_network_lda[\"year\"]==2020]\n",
    "    elif timepoint == 4:\n",
    "        wd_network  = wd_network_lda[wd_network_lda[\"year\"]==2021]\n",
    "        \n",
    "\n",
    "    for topic_num in tqdm(range(int(topic_len))):\n",
    "        using_word= []\n",
    "        for i in range(500):\n",
    "            using_word.append(mdl.get_topic_words(topic_num,top_n=500)[i][0]) \n",
    "            \n",
    "        df = pd.DataFrame()\n",
    "        if len(wd_network[wd_network[\"Topic\"]==topic_num+1].sort_values(\"Topic_prob\",ascending=False)) < 100:\n",
    "            a = len(wd_network[wd_network[\"Topic\"]==topic_num+1].sort_values(\"Topic_prob\",ascending=False))\n",
    "        else :\n",
    "            a = 100 \n",
    "        for i in range(a):\n",
    "            temp = wd_network[wd_network[\"Topic\"]==topic_num+1].sort_values(\"Topic_prob\",ascending=False).iloc[i][0]\n",
    "            temp2 = []\n",
    "            for j in (temp.split(\" \")):\n",
    "                if j in using_word:\n",
    "                    temp2.append(j)\n",
    "                else:\n",
    "                    continue\n",
    "            count = {}\n",
    "            for c,a in enumerate(temp2):  # i는 숫자 a는 1행 \n",
    "                for b in temp2[c+1:]:\n",
    "                    if a>b:\n",
    "                        count[b,a] = count.get((b,a),0)+1\n",
    "                    else:\n",
    "                        count[a,b] = count.get((a,b),0)+1\n",
    "            word_df = pd.DataFrame.from_dict(count,orient=\"index\")  \n",
    "            df = pd.concat([df,word_df])\n",
    "            \n",
    "        df.reset_index(inplace=True)\n",
    "        df[1] = pd.DataFrame(df[\"index\"].tolist())[0]\n",
    "        df[2] = pd.DataFrame(df[\"index\"].tolist())[1]\n",
    "        df = df[df[1]!=df[2]]\n",
    "        df= pd.DataFrame(df.groupby(\"index\")[0].sum())\n",
    "        \n",
    "        list1 = []\n",
    "        for i in range(len(df)):\n",
    "            list1.append([df.index[i][0],df.index[i][1],df[0][i]])\n",
    "            \n",
    "        df2 = pd.DataFrame(list1,columns=[\"term1\",\"term2\",\"freq\"])\n",
    "        df3 = df2.sort_values(by=[\"freq\"],ascending=False)\n",
    "        df3 = df3.reset_index(drop=True)\n",
    "        \n",
    "        i =1\n",
    "        while len((np.where(df3[\"freq\"]>=i))[0])>100:\n",
    "            i +=1\n",
    "        freq_num=i\n",
    "        \n",
    "        G_centrality = nx.Graph()\n",
    "        for i in range(len((np.where(df3[\"freq\"]>=freq_num))[0])):\n",
    "            G_centrality.add_edge(df3[\"term1\"][i],df3[\"term2\"][i],weight=int(df3[\"freq\"][i]))\n",
    "            \n",
    "        dgr = nx.degree_centrality(G_centrality)      #연결 중심성\n",
    "        btw = nx.betweenness_centrality(G_centrality) #매개 중심성\n",
    "        cls = nx.closeness_centrality(G_centrality)   #근접 중심성\n",
    "        egv = nx.eigenvector_centrality(G_centrality, tol=1.0e-3) #고유벡터 중심성\n",
    "        pgr = nx.pagerank(G_centrality) #페이지랭크 안됨 \n",
    "        \n",
    "        sorted_dgr = sorted(dgr.items(), key=operator.itemgetter(1), reverse=True)\n",
    "        sorted_btw = sorted(btw.items(), key=operator.itemgetter(1), reverse=True)\n",
    "        sorted_cls = sorted(cls.items(), key=operator.itemgetter(1), reverse=True)\n",
    "        sorted_egv = sorted(egv.items(), key=operator.itemgetter(1), reverse=True)\n",
    "        sorted_pgr = sorted(pgr.items(), key=operator.itemgetter(1), reverse=True)\n",
    "        \n",
    "        G= nx.Graph()\n",
    "        \n",
    "        for i in range(len(sorted_pgr)):\n",
    "            G.add_node(sorted_pgr[i][0],nodesize=sorted_dgr[i][1])\n",
    "        for i in range(len((np.where(df3[\"freq\"]>=freq_num))[0])):\n",
    "            G.add_weighted_edges_from([(df3[\"term1\"][i],df3[\"term2\"][i],int(df3[\"freq\"][i]))])\n",
    "        \n",
    "        sizes = [G.nodes[node][\"nodesize\"]*2000 for node in G]\n",
    "        \n",
    "        ## 마이너스 폰트 깨지는 문제에 대한 대처\n",
    "        mpl.rcParams['axes.unicode_minus'] = False\n",
    "        font_fname = \"C:\\\\Windows\\\\Fonts\\\\NanumGothicCoding-bold.ttf\"\n",
    "        fontprop = fm.FontProperties(fname=font_fname,size=10).get_name()\n",
    "        \n",
    "        options={\n",
    "            \"edge_color\":'#FFDEA2',\n",
    "            \"width\":1,\n",
    "            \"with_labels\":True,\n",
    "            \"font_weight\":\"bold\",\n",
    "        }\n",
    "        \n",
    "        plt.figure(figsize=(16,8)); \n",
    "        nx.draw_networkx(G,node_size=sizes,pos=nx.kamada_kawai_layout(G),**options,font_family=fontprop)\n",
    "        ax = plt.gca()\n",
    "        ax.collections[0].set_edgecolor(\"#555555\")\n",
    "        \n",
    "        plt.savefig(\".\\\\data\\\\Default\\\\\"+folder_name+\"\\\\LDA\\\\Topic_Network_\"+folder_name+\"\\\\Topic\" + str(topic_num+1) +\"_\"+str(timepoint+2017)+\".png\", bbox_inches='tight')"
   ]
  },
  {
   "cell_type": "markdown",
   "id": "328f7e80-c199-4bd0-a254-86e33a1e55cc",
   "metadata": {},
   "source": [
    "# 토픽 별 텍스트 네트워크 자동"
   ]
  },
  {
   "cell_type": "code",
   "execution_count": 35,
   "id": "d471c1ff-614e-45e8-b3db-eff8adce2c11",
   "metadata": {},
   "outputs": [],
   "source": [
    "topic_num = 41 "
   ]
  },
  {
   "cell_type": "code",
   "execution_count": null,
   "id": "e0ab6c64-bc8c-491d-950e-f324252434c2",
   "metadata": {
    "scrolled": true,
    "tags": []
   },
   "outputs": [],
   "source": [
    "for topic_num in tqdm(range(int(topic_num))):\n",
    "    using_word= []\n",
    "    for i in range(500):\n",
    "        using_word.append(mdl.get_topic_words(topic_num,top_n=500)[i][0]) \n",
    "\n",
    "    df = pd.DataFrame()\n",
    "    if len(wd_network[wd_network[\"Topic\"]==topic_num+1].sort_values(\"Topic_prob\",ascending=False)) < 100:\n",
    "        a = len(wd_network[wd_network[\"Topic\"]==topic_num+1].sort_values(\"Topic_prob\",ascending=False))\n",
    "    else :\n",
    "        a = 100 \n",
    "    for i in range(a):\n",
    "        temp = wd_network[wd_network[\"Topic\"]==topic_num+1].sort_values(\"Topic_prob\",ascending=False).iloc[i][0]\n",
    "        temp2 = []\n",
    "        for j in (temp.split(\" \")):\n",
    "            if j in using_word:\n",
    "                temp2.append(j)\n",
    "            else:\n",
    "                continue\n",
    "        count = {}\n",
    "        for c,a in enumerate(temp2):  # i는 숫자 a는 1행 \n",
    "            for b in temp2[c+1:]:\n",
    "                if a>b:\n",
    "                    count[b,a] = count.get((b,a),0)+1\n",
    "                else:\n",
    "                    count[a,b] = count.get((a,b),0)+1\n",
    "        word_df = pd.DataFrame.from_dict(count,orient=\"index\")  \n",
    "        df = pd.concat([df,word_df])\n",
    "\n",
    "    df.reset_index(inplace=True)\n",
    "    df[1] = pd.DataFrame(df[\"index\"].tolist())[0]\n",
    "    df[2] = pd.DataFrame(df[\"index\"].tolist())[1]\n",
    "    df = df[df[1]!=df[2]]\n",
    "    df= pd.DataFrame(df.groupby(\"index\")[0].sum())\n",
    "\n",
    "    list1 = []\n",
    "    for i in range(len(df)):\n",
    "        list1.append([df.index[i][0],df.index[i][1],df[0][i]])\n",
    "\n",
    "    df2 = pd.DataFrame(list1,columns=[\"term1\",\"term2\",\"freq\"])\n",
    "    df3 = df2.sort_values(by=[\"freq\"],ascending=False)\n",
    "    df3 = df3.reset_index(drop=True)\n",
    "\n",
    "    i =1\n",
    "    while len((np.where(df3[\"freq\"]>=i))[0])>100:\n",
    "        i +=1\n",
    "    freq_num=i\n",
    "\n",
    "    G_centrality = nx.Graph()\n",
    "    for i in range(len((np.where(df3[\"freq\"]>=freq_num))[0])):\n",
    "        G_centrality.add_edge(df3[\"term1\"][i],df3[\"term2\"][i],weight=int(df3[\"freq\"][i]))\n",
    "\n",
    "    dgr = nx.degree_centrality(G_centrality)      #연결 중심성\n",
    "    btw = nx.betweenness_centrality(G_centrality) #매개 중심성\n",
    "    cls = nx.closeness_centrality(G_centrality)   #근접 중심성\n",
    "    egv = nx.eigenvector_centrality(G_centrality, tol=1.0e-3) #고유벡터 중심성\n",
    "    pgr = nx.pagerank(G_centrality) #페이지랭크 안됨 \n",
    "\n",
    "    sorted_dgr = sorted(dgr.items(), key=operator.itemgetter(1), reverse=True)\n",
    "    sorted_btw = sorted(btw.items(), key=operator.itemgetter(1), reverse=True)\n",
    "    sorted_cls = sorted(cls.items(), key=operator.itemgetter(1), reverse=True)\n",
    "    sorted_egv = sorted(egv.items(), key=operator.itemgetter(1), reverse=True)\n",
    "    sorted_pgr = sorted(pgr.items(), key=operator.itemgetter(1), reverse=True)\n",
    "\n",
    "    G= nx.Graph()\n",
    "\n",
    "    for i in range(len(sorted_pgr)):\n",
    "        G.add_node(sorted_pgr[i][0],nodesize=sorted_dgr[i][1])\n",
    "    for i in range(len((np.where(df3[\"freq\"]>=freq_num))[0])):\n",
    "        G.add_weighted_edges_from([(df3[\"term1\"][i],df3[\"term2\"][i],int(df3[\"freq\"][i]))])\n",
    "\n",
    "    sizes = [G.nodes[node][\"nodesize\"]*2000 for node in G]\n",
    "\n",
    "    ## 마이너스 폰트 깨지는 문제에 대한 대처\n",
    "    mpl.rcParams['axes.unicode_minus'] = False\n",
    "    font_fname = \"C:\\\\Windows\\\\Fonts\\\\NanumGothicCoding-bold.ttf\"\n",
    "    fontprop = fm.FontProperties(fname=font_fname,size=10).get_name()\n",
    "\n",
    "    options={\n",
    "        \"edge_color\":'#FFDEA2',\n",
    "        \"width\":1,\n",
    "        \"with_labels\":True,\n",
    "        \"font_weight\":\"bold\",\n",
    "    }\n",
    "\n",
    "    plt.figure(figsize=(16,8)); \n",
    "    nx.draw_networkx(G,node_size=sizes,pos=nx.kamada_kawai_layout(G),**options,font_family=fontprop)\n",
    "    ax = plt.gca()\n",
    "    ax.collections[0].set_edgecolor(\"#555555\")\n",
    "\n",
    "    plt.savefig(\"C:\\\\Users\\\\newcomer02\\\\NTIS_Project\\\\data\\\\Default\\\\NTIS\\\\LDA\\\\Topic_Network_NTIS_all\\\\Topic\" + str(topic_num+1) + \".png\", bbox_inches='tight')"
   ]
  },
  {
   "cell_type": "markdown",
   "id": "6b7e85c5-0295-4dd9-a0d1-ce08c05cd975",
   "metadata": {},
   "source": [
    "# 보고서 쓰기위한 워드 데이터프레임 생성"
   ]
  },
  {
   "cell_type": "code",
   "execution_count": 25,
   "id": "dd51cfd3-746f-4d79-8396-dcf6a7d15c79",
   "metadata": {},
   "outputs": [],
   "source": [
    "wd_network = pd.read_excel(\"./data/Default/\"+folder_name+\"/LDA/\"+folder_name+\"_wd_network_topic_20.xlsx\",index_col=0)\n",
    "from collections import Counter\n",
    "han_year = pd.read_csv(\"./data/Default/\"+folder_name+\"/HAN_year_\" + folder_name+ \".csv\",index_col=0)\n",
    "wd_network[\"year\"] = han_year\n",
    "wd_network_lda = wd_network.copy()"
   ]
  },
  {
   "cell_type": "code",
   "execution_count": 32,
   "id": "519b84de-90b4-4a0f-b62a-b52b406eaba5",
   "metadata": {},
   "outputs": [],
   "source": [
    "df = pd.DataFrame()\n",
    "for c in range(2017,2022):\n",
    "    wd_network = wd_network_lda[wd_network_lda[\"year\"]==c]\n",
    "    final = []\n",
    "    for j in range(topic_num):\n",
    "        temp= []\n",
    "        temp2 = []\n",
    "        using_word = np.array(mdl.get_topic_words(j,500))[:,0].tolist()\n",
    "        wd = wd_network[wd_network[\"Topic\"]==j+1]\n",
    "        for i in range(len(wd)):\n",
    "            temp.append(wd[\"corpus\"].iloc[i].split(\" \"))\n",
    "        temp = sum(temp,[])\n",
    "        all_word =Counter(temp).most_common()\n",
    "        for i in (np.array(all_word)[:,0].tolist()):\n",
    "            if i in using_word:\n",
    "                temp2.append(i)\n",
    "                if len(temp2)== 10:\n",
    "                    break\n",
    "        final.append(temp2)\n",
    "    df = pd.concat([df,pd.Series(final)],axis=1)"
   ]
  },
  {
   "cell_type": "code",
   "execution_count": 33,
   "id": "46a56128-4ea3-46d4-8ca8-d3df0446aa8b",
   "metadata": {},
   "outputs": [],
   "source": [
    "df.columns=range(2017,2022)\n",
    "df.index = df.index+1"
   ]
  },
  {
   "cell_type": "code",
   "execution_count": 31,
   "id": "1dd3fd8c-7657-4710-ae90-33197039ed95",
   "metadata": {},
   "outputs": [],
   "source": [
    "df.to_excel(\"./data/Default/\"+folder_name+\"/LDA/\"+folder_name+\"토픽별 주요 단어.xlsx\",index=False)"
   ]
  },
  {
   "cell_type": "code",
   "execution_count": 34,
   "id": "c727d8c7-e408-4a03-9427-caf15c72a1a0",
   "metadata": {},
   "outputs": [
    {
     "data": {
      "text/html": [
       "<div>\n",
       "<style scoped>\n",
       "    .dataframe tbody tr th:only-of-type {\n",
       "        vertical-align: middle;\n",
       "    }\n",
       "\n",
       "    .dataframe tbody tr th {\n",
       "        vertical-align: top;\n",
       "    }\n",
       "\n",
       "    .dataframe thead th {\n",
       "        text-align: right;\n",
       "    }\n",
       "</style>\n",
       "<table border=\"1\" class=\"dataframe\">\n",
       "  <thead>\n",
       "    <tr style=\"text-align: right;\">\n",
       "      <th></th>\n",
       "      <th>2017</th>\n",
       "      <th>2018</th>\n",
       "      <th>2019</th>\n",
       "      <th>2020</th>\n",
       "      <th>2021</th>\n",
       "    </tr>\n",
       "  </thead>\n",
       "  <tbody>\n",
       "    <tr>\n",
       "      <th>1</th>\n",
       "      <td>[소자, 반도체, 물질, 소재, 응용, 박막, 나노, 차세대, 에서, 광]</td>\n",
       "      <td>[소자, 반도체, 물질, 소재, 응용, 박막, 광, 양자, 나노, 에서]</td>\n",
       "      <td>[소자, 반도체, 물질, 소재, 응용, 박막, 양자, 산화물, 나노, 2차원]</td>\n",
       "      <td>[소자, 반도체, 소재, 물질, 양자, 응용, 박막, 나노, 차세대, 발광]</td>\n",
       "      <td>[소자, 소재, 반도체, 물질, 양자, 응용, 차세대, 박막, 디스플레이, 2차원]</td>\n",
       "    </tr>\n",
       "    <tr>\n",
       "      <th>2</th>\n",
       "      <td>[측정, LED, 용, 방식, 레이저, 이상, 광, 카메라, 렌즈, 조명]</td>\n",
       "      <td>[측정, LED, 카메라, 방식, 이상, 레이저, 용, 출력, 렌즈, 온도]</td>\n",
       "      <td>[측정, LED, 이상, 온도, 카메라, 조명, 방식, 레이저, 용, 출력]</td>\n",
       "      <td>[측정, LED, 이상, 용, 레이저, 조명, 카메라, 온도, 신호, 방식]</td>\n",
       "      <td>[측정, 레이저, LED, 이상, 용, 온도, 신호, 렌즈, 광학, 방식]</td>\n",
       "    </tr>\n",
       "    <tr>\n",
       "      <th>3</th>\n",
       "      <td>[SW, 빅데이터, 자동, 수집, 클라우드, 처리, 서버, 생성, 검색, 사용자]</td>\n",
       "      <td>[SW, 빅데이터, 자동, 수집, 처리, 클라우드, 품질, 서버, 솔루션, 생성]</td>\n",
       "      <td>[빅데이터, SW, 수집, 자동, 처리, AI, 스마트팜, 생성, 클라우드, 서버]</td>\n",
       "      <td>[빅데이터, SW, AI, 수집, 자동, 처리, 솔루션, 생성, 이상, 서버]</td>\n",
       "      <td>[AI, 수집, 빅데이터, SW, 자동, 처리, 솔루션, 딥러닝, 작물, 운영]</td>\n",
       "    </tr>\n",
       "    <tr>\n",
       "      <th>4</th>\n",
       "      <td>[진단, 의료, 치료, 측정, 임상, 프로그램, 질환, 암, 자의, 년도]</td>\n",
       "      <td>[진단, 의료, 치료, 임상, 측정, 프로그램, 암, 년도, 질환, 건강]</td>\n",
       "      <td>[진단, 의료, 치료, 임상, 측정, 프로그램, 질환, 자의, 딥러닝, 모니터링]</td>\n",
       "      <td>[진단, 의료, 치료, 임상, 측정, 질환, 프로그램, 병원, 딥러닝, 년도]</td>\n",
       "      <td>[진단, 의료, 치료, 임상, 측정, AI, 프로그램, 질환, 암, 모니터링]</td>\n",
       "    </tr>\n",
       "    <tr>\n",
       "      <th>5</th>\n",
       "      <td>[생산, 장비, 검사, 계획, 경쟁력, 품질, 인력, 억, 수출, 자동]</td>\n",
       "      <td>[생산, 장비, 검사, 작업, 자동, 계획, 품질, 인력, 이상, 경쟁력]</td>\n",
       "      <td>[생산, 장비, 검사, 작업, 자동, 이상, 품질, 설비, 제조, 억]</td>\n",
       "      <td>[생산, 장비, 검사, 제조, 설비, 품질, 작업, 부품, 이상, 자동]</td>\n",
       "      <td>[생산, 장비, 검사, 제조, 자동화, 자동, 품질, 작업, 설비, 부품]</td>\n",
       "    </tr>\n",
       "    <tr>\n",
       "      <th>6</th>\n",
       "      <td>[기업, 교육, 양성, 사업, 인력, 글로벌, SW, 융합, 경쟁력, 창출]</td>\n",
       "      <td>[교육, 기업, 양성, 사업, SW, 인력, 글로벌, 융합, 경쟁력, 창출]</td>\n",
       "      <td>[교육, 양성, 기업, 사업, SW, 인력, 글로벌, 융합, 경쟁력, 창출]</td>\n",
       "      <td>[교육, 양성, 기업, 사업, 글로벌, 융합, 인력, 창출, 인재, AI]</td>\n",
       "      <td>[교육, 기업, 양성, AI, 사업, 융합, 창출, 인력, 글로벌, 운영]</td>\n",
       "    </tr>\n",
       "    <tr>\n",
       "      <th>7</th>\n",
       "      <td>[사용자, 모바일, 디자인, 고객, 콘텐츠, 앱, 자의, 스마트폰, 상품, 광고]</td>\n",
       "      <td>[사용자, 고객, 콘텐츠, 앱, 추천, 자의, 모바일, 연동, 상품, 디자인]</td>\n",
       "      <td>[사용자, 추천, 고객, 디자인, 상품, 자의, 앱, 모바일, 콘텐츠, 연동]</td>\n",
       "      <td>[사용자, 고객, 추천, 상품, 앱, 자의, 모바일, 콘텐츠, 디자인, 솔루션]</td>\n",
       "      <td>[사용자, 추천, AI, 고객, 상품, 앱, 솔루션, 디자인, 콘텐츠, 연동]</td>\n",
       "    </tr>\n",
       "    <tr>\n",
       "      <th>8</th>\n",
       "      <td>[방법, 문제, 에서, 기법, 제시, 모형, 과정, 자료, 요한, 이]</td>\n",
       "      <td>[방법, 문제, 기법, 에서, 모형, 딥러닝, 제시, 응용, 제안, 자료]</td>\n",
       "      <td>[방법, 문제, 기법, 에서, 모형, 딥러닝, 제시, 제안, 응용, 양자]</td>\n",
       "      <td>[방법, 문제, 기법, 딥러닝, 에서, 모형, 제시, 제안, 응용, 자료]</td>\n",
       "      <td>[방법, 문제, 딥러닝, 기법, 에서, 모형, 제시, 제안, 양자, 응용]</td>\n",
       "    </tr>\n",
       "    <tr>\n",
       "      <th>9</th>\n",
       "      <td>[콘텐츠, VR, 게임, 교육, 사용자, 미디어, 가상현실, 방송, AR, 모바일]</td>\n",
       "      <td>[콘텐츠, VR, 교육, 게임, AR, 사용자, 가상현실, 모바일, 컨텐츠, 방송]</td>\n",
       "      <td>[콘텐츠, VR, 교육, AR, 게임, 사용자, 가상현실, 비디오, 공간, 방송]</td>\n",
       "      <td>[콘텐츠, VR, 교육, AR, 사용자, 게임, 가상현실, 비디오, 공간, 미디어]</td>\n",
       "      <td>[콘텐츠, 교육, VR, AR, 사용자, 비디오, 가상현실, 게임, 공간, XR]</td>\n",
       "    </tr>\n",
       "    <tr>\n",
       "      <th>10</th>\n",
       "      <td>[에너지, 전력, 발전, 충전, 태양광, 절감, 설비, 모니터링, 진단, 측면]</td>\n",
       "      <td>[에너지, 전력, 충전, DC, 태양광, 운영, 발전, 배터리, ESS, 절감]</td>\n",
       "      <td>[에너지, 전력, 운영, 충전, 발전, DC, ESS, 설비, 태양광, 배터리]</td>\n",
       "      <td>[에너지, 전력, 운영, 배터리, 충전, 발전, 모니터링, 설비, 태양광, ESS]</td>\n",
       "      <td>[에너지, 운영, 배터리, 전력, 태양광, 충전, 설비, 발전, 실증, 모니터링]</td>\n",
       "    </tr>\n",
       "    <tr>\n",
       "      <th>11</th>\n",
       "      <td>[소자, 메모리, 반도체, 시냅스, 동작, 뉴로모픽, CMOS, 저전력, 응용, 전력]</td>\n",
       "      <td>[소자, 메모리, 반도체, 뉴로모픽, 시냅스, 동작, 차세대, CMOS, 칩, 응용]</td>\n",
       "      <td>[소자, 메모리, 반도체, 뉴로모픽, 시냅스, 동작, CMOS, 저전력, 차세대, ...</td>\n",
       "      <td>[소자, 메모리, 반도체, 시냅스, 뉴로모픽, 저전력, CMOS, 동작, 연산, 집적]</td>\n",
       "      <td>[소자, 메모리, 반도체, 시냅스, 뉴로모픽, 저전력, 연산, 동작, CMOS, 집적]</td>\n",
       "    </tr>\n",
       "    <tr>\n",
       "      <th>12</th>\n",
       "      <td>[드론, 위치, 모니터링, 통신, 기법, 측위, 실내, 수중, 비행, 안전]</td>\n",
       "      <td>[드론, 위치, 모니터링, 안전, 측위, 기법, 통신, 측정, 비행, 탐지]</td>\n",
       "      <td>[드론, 위치, 모니터링, 기법, 통신, 측위, 비행, 안전, 탐지, 운용]</td>\n",
       "      <td>[드론, 모니터링, 위치, 로봇, 측위, 통신, 운용, 기법, 탐지, 상태]</td>\n",
       "      <td>[드론, 모니터링, 위치, 로봇, 탐지, 운용, 기법, 측위, 통신, 교량]</td>\n",
       "    </tr>\n",
       "    <tr>\n",
       "      <th>13</th>\n",
       "      <td>[체계, 방안, 안전, 재난, 제시, 대응, 정책, 운영, 수립, 마련]</td>\n",
       "      <td>[재난, 도시, 안전, 대응, 체계, 운영, 연계, 정책, 수립, 자료]</td>\n",
       "      <td>[도시, 재난, 안전, 대응, 체계, 운영, 연계, 제시, 자료, 마련]</td>\n",
       "      <td>[안전, 대응, 재난, 도시, 체계, 운영, 연계, 제시, 정책, 자료]</td>\n",
       "      <td>[대응, 안전, 도시, 운영, 재난, 체계, 제시, 연계, 방안, 마련]</td>\n",
       "    </tr>\n",
       "    <tr>\n",
       "      <th>14</th>\n",
       "      <td>[통신, 무선, 전송, 안테나, 주파수, 5G, 대역, 전력, 차세대, RF]</td>\n",
       "      <td>[통신, 무선, 전송, 안테나, 5G, 주파수, 전력, 대역, 신호, 기법]</td>\n",
       "      <td>[통신, 무선, 전송, 안테나, 5G, 주파수, 대역, 채널, 전력, 이동통신]</td>\n",
       "      <td>[통신, 무선, 5G, 전송, 안테나, 대역, 주파수, RF, 이동통신, 채널]</td>\n",
       "      <td>[통신, 무선, 안테나, 대역, 5G, 전송, 주파수, RF, 이동통신, 채널]</td>\n",
       "    </tr>\n",
       "    <tr>\n",
       "      <th>15</th>\n",
       "      <td>[소재, 디스플레이, 이상, 여기, 소자, 제조, mm, 최적화, 용, 장비]</td>\n",
       "      <td>[소재, 디스플레이, 이상, 제조, 기판, 소자, 최적화, 여기, mm, 반도체]</td>\n",
       "      <td>[소재, 디스플레이, 이상, 제조, 여기, 소자, 최적화, LED, 반도체, mm]</td>\n",
       "      <td>[소재, 디스플레이, 이상, 제조, 여기, 소자, 반도체, 장비, LED, 용]</td>\n",
       "      <td>[소재, 디스플레이, 제조, 이상, 장비, 반도체, 여기, 최적화, 용, 소자]</td>\n",
       "    </tr>\n",
       "    <tr>\n",
       "      <th>16</th>\n",
       "      <td>[클라우드, 처리, 컴퓨팅, 소프트웨어, 자원, 서버, 기법, 응용, 하드웨어, 에서]</td>\n",
       "      <td>[클라우드, 처리, 소프트웨어, 컴퓨팅, 자원, 기법, 서버, 분산, 응용, 하드웨어]</td>\n",
       "      <td>[클라우드, 처리, 컴퓨팅, 소프트웨어, 자원, 기법, 딥러닝, 분산, 응용, 서버]</td>\n",
       "      <td>[클라우드, 컴퓨팅, 엣지, 처리, 소프트웨어, 자원, 딥러닝, 분산, 서버, 메모리]</td>\n",
       "      <td>[클라우드, 컴퓨팅, 엣지, 처리, 딥러닝, 자원, SW, 분산, 소프트웨어, 기법]</td>\n",
       "    </tr>\n",
       "    <tr>\n",
       "      <th>17</th>\n",
       "      <td>[보안, 인증, 공격, 탐지, 암호, SW, 기법, 대응, 모바일, 클라우드]</td>\n",
       "      <td>[보안, 블록체인, 인증, 공격, 탐지, 암호, 기법, SW, 사용자, 보호]</td>\n",
       "      <td>[보안, 블록체인, 탐지, 공격, 인증, 암호, 기법, 보호, 사용자, SW]</td>\n",
       "      <td>[보안, 블록체인, 공격, 탐지, 암호, 인증, 보호, 사이버, SW, 위협]</td>\n",
       "      <td>[보안, 블록체인, 공격, 탐지, 암호, 취약점, 인증, 사이버, SW, 대응]</td>\n",
       "    </tr>\n",
       "    <tr>\n",
       "      <th>18</th>\n",
       "      <td>[차량, 인식, 자동차, 도로, 주행, 카메라, 자율주행, 상황, 안전, 통신]</td>\n",
       "      <td>[차량, 자율주행, 인식, 자동차, 도로, 주행, 카메라, 상황, 통신, 안전]</td>\n",
       "      <td>[차량, 자율주행, 인식, 자동차, 주행, 상황, 도로, 카메라, 교통, 운전자]</td>\n",
       "      <td>[차량, 자율주행, 인식, 주행, 상황, 도로, 자동차, 카메라, 안전, 교통]</td>\n",
       "      <td>[차량, 자율주행, 주행, 인식, 상황, 도로, 카메라, 교통, 안전, 자동차]</td>\n",
       "    </tr>\n",
       "    <tr>\n",
       "      <th>19</th>\n",
       "      <td>[표준, 시험, 기관, 여기, 표준화, 년도, 테스트, 시제품, 국제, 제안]</td>\n",
       "      <td>[표준, 시험, 여기, 기관, 테스트, 시제품, 표준화, 년도, 국제표준, ISO]</td>\n",
       "      <td>[표준, 시험, 여기, 기관, 테스트, 표준화, 년도, 시제품, 운영, 주관]</td>\n",
       "      <td>[표준, 기관, 여기, 시험, 시제품, 주관, 년도, 테스트, 운영, 표준화]</td>\n",
       "      <td>[표준, 시험, 기관, 여기, 주관, 시제품, 운영, 년도, 테스트, 실증]</td>\n",
       "    </tr>\n",
       "    <tr>\n",
       "      <th>20</th>\n",
       "      <td>[로봇, 3D, 인식, 3차원, 사용자, 물체, 방법, 생성, 작업, 공간]</td>\n",
       "      <td>[로봇, 3D, 인식, 3차원, 사용자, 공간, 이미지, 물체, 방법, 작업]</td>\n",
       "      <td>[로봇, 인식, 3차원, 3D, 작업, 생성, 이미지, 방법, 물체, 딥러닝]</td>\n",
       "      <td>[로봇, 인식, 이미지, 3차원, 3D, 작업, 생성, 딥러닝, 객체, 디지털]</td>\n",
       "      <td>[로봇, 3차원, 3D, 인식, 이미지, 디지털, 공간, 작업, 딥러닝, 생성]</td>\n",
       "    </tr>\n",
       "  </tbody>\n",
       "</table>\n",
       "</div>"
      ],
      "text/plain": [
       "                                                2017  \\\n",
       "1          [소자, 반도체, 물질, 소재, 응용, 박막, 나노, 차세대, 에서, 광]   \n",
       "2          [측정, LED, 용, 방식, 레이저, 이상, 광, 카메라, 렌즈, 조명]   \n",
       "3      [SW, 빅데이터, 자동, 수집, 클라우드, 처리, 서버, 생성, 검색, 사용자]   \n",
       "4          [진단, 의료, 치료, 측정, 임상, 프로그램, 질환, 암, 자의, 년도]   \n",
       "5           [생산, 장비, 검사, 계획, 경쟁력, 품질, 인력, 억, 수출, 자동]   \n",
       "6         [기업, 교육, 양성, 사업, 인력, 글로벌, SW, 융합, 경쟁력, 창출]   \n",
       "7      [사용자, 모바일, 디자인, 고객, 콘텐츠, 앱, 자의, 스마트폰, 상품, 광고]   \n",
       "8            [방법, 문제, 에서, 기법, 제시, 모형, 과정, 자료, 요한, 이]   \n",
       "9     [콘텐츠, VR, 게임, 교육, 사용자, 미디어, 가상현실, 방송, AR, 모바일]   \n",
       "10      [에너지, 전력, 발전, 충전, 태양광, 절감, 설비, 모니터링, 진단, 측면]   \n",
       "11  [소자, 메모리, 반도체, 시냅스, 동작, 뉴로모픽, CMOS, 저전력, 응용, 전력]   \n",
       "12        [드론, 위치, 모니터링, 통신, 기법, 측위, 실내, 수중, 비행, 안전]   \n",
       "13          [체계, 방안, 안전, 재난, 제시, 대응, 정책, 운영, 수립, 마련]   \n",
       "14       [통신, 무선, 전송, 안테나, 주파수, 5G, 대역, 전력, 차세대, RF]   \n",
       "15       [소재, 디스플레이, 이상, 여기, 소자, 제조, mm, 최적화, 용, 장비]   \n",
       "16  [클라우드, 처리, 컴퓨팅, 소프트웨어, 자원, 서버, 기법, 응용, 하드웨어, 에서]   \n",
       "17       [보안, 인증, 공격, 탐지, 암호, SW, 기법, 대응, 모바일, 클라우드]   \n",
       "18      [차량, 인식, 자동차, 도로, 주행, 카메라, 자율주행, 상황, 안전, 통신]   \n",
       "19       [표준, 시험, 기관, 여기, 표준화, 년도, 테스트, 시제품, 국제, 제안]   \n",
       "20        [로봇, 3D, 인식, 3차원, 사용자, 물체, 방법, 생성, 작업, 공간]   \n",
       "\n",
       "                                                2018  \\\n",
       "1           [소자, 반도체, 물질, 소재, 응용, 박막, 광, 양자, 나노, 에서]   \n",
       "2         [측정, LED, 카메라, 방식, 이상, 레이저, 용, 출력, 렌즈, 온도]   \n",
       "3      [SW, 빅데이터, 자동, 수집, 처리, 클라우드, 품질, 서버, 솔루션, 생성]   \n",
       "4          [진단, 의료, 치료, 임상, 측정, 프로그램, 암, 년도, 질환, 건강]   \n",
       "5          [생산, 장비, 검사, 작업, 자동, 계획, 품질, 인력, 이상, 경쟁력]   \n",
       "6         [교육, 기업, 양성, 사업, SW, 인력, 글로벌, 융합, 경쟁력, 창출]   \n",
       "7        [사용자, 고객, 콘텐츠, 앱, 추천, 자의, 모바일, 연동, 상품, 디자인]   \n",
       "8          [방법, 문제, 기법, 에서, 모형, 딥러닝, 제시, 응용, 제안, 자료]   \n",
       "9     [콘텐츠, VR, 교육, 게임, AR, 사용자, 가상현실, 모바일, 컨텐츠, 방송]   \n",
       "10      [에너지, 전력, 충전, DC, 태양광, 운영, 발전, 배터리, ESS, 절감]   \n",
       "11   [소자, 메모리, 반도체, 뉴로모픽, 시냅스, 동작, 차세대, CMOS, 칩, 응용]   \n",
       "12        [드론, 위치, 모니터링, 안전, 측위, 기법, 통신, 측정, 비행, 탐지]   \n",
       "13          [재난, 도시, 안전, 대응, 체계, 운영, 연계, 정책, 수립, 자료]   \n",
       "14        [통신, 무선, 전송, 안테나, 5G, 주파수, 전력, 대역, 신호, 기법]   \n",
       "15     [소재, 디스플레이, 이상, 제조, 기판, 소자, 최적화, 여기, mm, 반도체]   \n",
       "16  [클라우드, 처리, 소프트웨어, 컴퓨팅, 자원, 기법, 서버, 분산, 응용, 하드웨어]   \n",
       "17       [보안, 블록체인, 인증, 공격, 탐지, 암호, 기법, SW, 사용자, 보호]   \n",
       "18      [차량, 자율주행, 인식, 자동차, 도로, 주행, 카메라, 상황, 통신, 안전]   \n",
       "19    [표준, 시험, 여기, 기관, 테스트, 시제품, 표준화, 년도, 국제표준, ISO]   \n",
       "20       [로봇, 3D, 인식, 3차원, 사용자, 공간, 이미지, 물체, 방법, 작업]   \n",
       "\n",
       "                                                 2019  \\\n",
       "1         [소자, 반도체, 물질, 소재, 응용, 박막, 양자, 산화물, 나노, 2차원]   \n",
       "2          [측정, LED, 이상, 온도, 카메라, 조명, 방식, 레이저, 용, 출력]   \n",
       "3      [빅데이터, SW, 수집, 자동, 처리, AI, 스마트팜, 생성, 클라우드, 서버]   \n",
       "4       [진단, 의료, 치료, 임상, 측정, 프로그램, 질환, 자의, 딥러닝, 모니터링]   \n",
       "5             [생산, 장비, 검사, 작업, 자동, 이상, 품질, 설비, 제조, 억]   \n",
       "6          [교육, 양성, 기업, 사업, SW, 인력, 글로벌, 융합, 경쟁력, 창출]   \n",
       "7         [사용자, 추천, 고객, 디자인, 상품, 자의, 앱, 모바일, 콘텐츠, 연동]   \n",
       "8           [방법, 문제, 기법, 에서, 모형, 딥러닝, 제시, 제안, 응용, 양자]   \n",
       "9       [콘텐츠, VR, 교육, AR, 게임, 사용자, 가상현실, 비디오, 공간, 방송]   \n",
       "10       [에너지, 전력, 운영, 충전, 발전, DC, ESS, 설비, 태양광, 배터리]   \n",
       "11  [소자, 메모리, 반도체, 뉴로모픽, 시냅스, 동작, CMOS, 저전력, 차세대, ...   \n",
       "12         [드론, 위치, 모니터링, 기법, 통신, 측위, 비행, 안전, 탐지, 운용]   \n",
       "13           [도시, 재난, 안전, 대응, 체계, 운영, 연계, 제시, 자료, 마련]   \n",
       "14       [통신, 무선, 전송, 안테나, 5G, 주파수, 대역, 채널, 전력, 이동통신]   \n",
       "15     [소재, 디스플레이, 이상, 제조, 여기, 소자, 최적화, LED, 반도체, mm]   \n",
       "16    [클라우드, 처리, 컴퓨팅, 소프트웨어, 자원, 기법, 딥러닝, 분산, 응용, 서버]   \n",
       "17        [보안, 블록체인, 탐지, 공격, 인증, 암호, 기법, 보호, 사용자, SW]   \n",
       "18      [차량, 자율주행, 인식, 자동차, 주행, 상황, 도로, 카메라, 교통, 운전자]   \n",
       "19        [표준, 시험, 여기, 기관, 테스트, 표준화, 년도, 시제품, 운영, 주관]   \n",
       "20        [로봇, 인식, 3차원, 3D, 작업, 생성, 이미지, 방법, 물체, 딥러닝]   \n",
       "\n",
       "                                                2020  \\\n",
       "1         [소자, 반도체, 소재, 물질, 양자, 응용, 박막, 나노, 차세대, 발광]   \n",
       "2         [측정, LED, 이상, 용, 레이저, 조명, 카메라, 온도, 신호, 방식]   \n",
       "3        [빅데이터, SW, AI, 수집, 자동, 처리, 솔루션, 생성, 이상, 서버]   \n",
       "4        [진단, 의료, 치료, 임상, 측정, 질환, 프로그램, 병원, 딥러닝, 년도]   \n",
       "5           [생산, 장비, 검사, 제조, 설비, 품질, 작업, 부품, 이상, 자동]   \n",
       "6          [교육, 양성, 기업, 사업, 글로벌, 융합, 인력, 창출, 인재, AI]   \n",
       "7       [사용자, 고객, 추천, 상품, 앱, 자의, 모바일, 콘텐츠, 디자인, 솔루션]   \n",
       "8          [방법, 문제, 기법, 딥러닝, 에서, 모형, 제시, 제안, 응용, 자료]   \n",
       "9     [콘텐츠, VR, 교육, AR, 사용자, 게임, 가상현실, 비디오, 공간, 미디어]   \n",
       "10    [에너지, 전력, 운영, 배터리, 충전, 발전, 모니터링, 설비, 태양광, ESS]   \n",
       "11  [소자, 메모리, 반도체, 시냅스, 뉴로모픽, 저전력, CMOS, 동작, 연산, 집적]   \n",
       "12        [드론, 모니터링, 위치, 로봇, 측위, 통신, 운용, 기법, 탐지, 상태]   \n",
       "13          [안전, 대응, 재난, 도시, 체계, 운영, 연계, 제시, 정책, 자료]   \n",
       "14      [통신, 무선, 5G, 전송, 안테나, 대역, 주파수, RF, 이동통신, 채널]   \n",
       "15      [소재, 디스플레이, 이상, 제조, 여기, 소자, 반도체, 장비, LED, 용]   \n",
       "16  [클라우드, 컴퓨팅, 엣지, 처리, 소프트웨어, 자원, 딥러닝, 분산, 서버, 메모리]   \n",
       "17       [보안, 블록체인, 공격, 탐지, 암호, 인증, 보호, 사이버, SW, 위협]   \n",
       "18      [차량, 자율주행, 인식, 주행, 상황, 도로, 자동차, 카메라, 안전, 교통]   \n",
       "19       [표준, 기관, 여기, 시험, 시제품, 주관, 년도, 테스트, 운영, 표준화]   \n",
       "20      [로봇, 인식, 이미지, 3차원, 3D, 작업, 생성, 딥러닝, 객체, 디지털]   \n",
       "\n",
       "                                                2021  \n",
       "1     [소자, 소재, 반도체, 물질, 양자, 응용, 차세대, 박막, 디스플레이, 2차원]  \n",
       "2          [측정, 레이저, LED, 이상, 용, 온도, 신호, 렌즈, 광학, 방식]  \n",
       "3       [AI, 수집, 빅데이터, SW, 자동, 처리, 솔루션, 딥러닝, 작물, 운영]  \n",
       "4        [진단, 의료, 치료, 임상, 측정, AI, 프로그램, 질환, 암, 모니터링]  \n",
       "5          [생산, 장비, 검사, 제조, 자동화, 자동, 품질, 작업, 설비, 부품]  \n",
       "6          [교육, 기업, 양성, AI, 사업, 융합, 창출, 인력, 글로벌, 운영]  \n",
       "7        [사용자, 추천, AI, 고객, 상품, 앱, 솔루션, 디자인, 콘텐츠, 연동]  \n",
       "8          [방법, 문제, 딥러닝, 기법, 에서, 모형, 제시, 제안, 양자, 응용]  \n",
       "9      [콘텐츠, 교육, VR, AR, 사용자, 비디오, 가상현실, 게임, 공간, XR]  \n",
       "10     [에너지, 운영, 배터리, 전력, 태양광, 충전, 설비, 발전, 실증, 모니터링]  \n",
       "11  [소자, 메모리, 반도체, 시냅스, 뉴로모픽, 저전력, 연산, 동작, CMOS, 집적]  \n",
       "12        [드론, 모니터링, 위치, 로봇, 탐지, 운용, 기법, 측위, 통신, 교량]  \n",
       "13          [대응, 안전, 도시, 운영, 재난, 체계, 제시, 연계, 방안, 마련]  \n",
       "14      [통신, 무선, 안테나, 대역, 5G, 전송, 주파수, RF, 이동통신, 채널]  \n",
       "15      [소재, 디스플레이, 제조, 이상, 장비, 반도체, 여기, 최적화, 용, 소자]  \n",
       "16   [클라우드, 컴퓨팅, 엣지, 처리, 딥러닝, 자원, SW, 분산, 소프트웨어, 기법]  \n",
       "17      [보안, 블록체인, 공격, 탐지, 암호, 취약점, 인증, 사이버, SW, 대응]  \n",
       "18      [차량, 자율주행, 주행, 인식, 상황, 도로, 카메라, 교통, 안전, 자동차]  \n",
       "19        [표준, 시험, 기관, 여기, 주관, 시제품, 운영, 년도, 테스트, 실증]  \n",
       "20      [로봇, 3차원, 3D, 인식, 이미지, 디지털, 공간, 작업, 딥러닝, 생성]  "
      ]
     },
     "execution_count": 34,
     "metadata": {},
     "output_type": "execute_result"
    }
   ],
   "source": [
    "df"
   ]
  },
  {
   "cell_type": "code",
   "execution_count": null,
   "id": "ba4b4cd6-c560-4aa1-87bb-56a8c4091e3e",
   "metadata": {},
   "outputs": [],
   "source": []
  }
 ],
 "metadata": {
  "kernelspec": {
   "display_name": "mecab",
   "language": "python",
   "name": "mecab"
  },
  "language_info": {
   "codemirror_mode": {
    "name": "ipython",
    "version": 3
   },
   "file_extension": ".py",
   "mimetype": "text/x-python",
   "name": "python",
   "nbconvert_exporter": "python",
   "pygments_lexer": "ipython3",
   "version": "3.8.0"
  }
 },
 "nbformat": 4,
 "nbformat_minor": 5
}
