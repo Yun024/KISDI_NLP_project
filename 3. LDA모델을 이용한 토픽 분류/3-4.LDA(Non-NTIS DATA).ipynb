{
 "cells": [
  {
   "cell_type": "code",
   "execution_count": null,
   "id": "24575401-8671-46cf-b445-f5ad2aa6d239",
   "metadata": {
    "tags": []
   },
   "outputs": [],
   "source": [
    "# Package Load\n",
    "import pickle\n",
    "import pyLDAvis\n",
    "import math\n",
    "import copy\n",
    "import os\n",
    "import numpy as np\n",
    "import pandas as pd\n",
    "import matplotlib.pyplot as plt\n",
    "from gensim.models.coherencemodel import CoherenceModel\n",
    "import tomotopy as tp\n",
    "import tomotopy.coherence as tpc\n",
    "from gensim.corpora import Dictionary\n",
    "from datetime import datetime\n",
    "from tqdm import tqdm\n",
    "from datetime import datetime\n",
    "from timeit import default_timer\n",
    "import plotly.express as px\n",
    "import plotly.offline\n",
    "from plotly.subplots import make_subplots\n",
    "import plotly.graph_objects as go\n",
    "import plotly.offline as pyo\n",
    "import plotly.graph_objs as go\n",
    "from plotly.subplots import make_subplots\n",
    "version_name=str(datetime.today().strftime(\"%Y%m%d\")) # 버전 정보 변수\n",
    "import os\n",
    "#os.environ[\"CUDA_DEVICE_ORDER\"]=\"PCI_BUS_ID\"\n",
    "os.environ[\"CUDA_VISIBLE_DEVICES\"]=\"-1\""
   ]
  },
  {
   "cell_type": "code",
   "execution_count": 2,
   "id": "67d0ca91-c62f-4efb-947f-fcbd170a4f96",
   "metadata": {},
   "outputs": [],
   "source": [
    "import matplotlib.font_manager as fm\n",
    "import matplotlib as mpl"
   ]
  },
  {
   "cell_type": "code",
   "execution_count": 3,
   "id": "3b805546-a2da-47a7-bd94-61cd38f1b082",
   "metadata": {},
   "outputs": [],
   "source": [
    "import networkx as nx\n",
    "import operator\n",
    "import scipy\n",
    "import itertools\n",
    "#pip install scipy networkx==2.6.3  # coo_array에러나면 실행"
   ]
  },
  {
   "cell_type": "code",
   "execution_count": 4,
   "id": "e5ec57a8-0c28-4343-a7c8-addd9d558ea0",
   "metadata": {},
   "outputs": [],
   "source": [
    "os.chdir(\"C:\\\\Users\\\\newcomer02\\\\NTIS_Project\")"
   ]
  },
  {
   "cell_type": "markdown",
   "id": "ddad3b0b-58c5-4d6a-83ef-be872e38fbf7",
   "metadata": {},
   "source": [
    "# 기존에 학습된 모델 불러오기 "
   ]
  },
  {
   "cell_type": "code",
   "execution_count": 5,
   "id": "5f5609b4-0a69-4d0c-be81-1e519365a616",
   "metadata": {},
   "outputs": [
    {
     "name": "stdin",
     "output_type": "stream",
     "text": [
      "불러올 LDA모델이 담긴 ./data/LDA 내 폴더 명을 입력하세요 (Default: 엔터키) :  \n",
      "모델의 토픽 수를 입력하세요. (※ 권장값 = 180개) 20\n"
     ]
    },
    {
     "name": "stdout",
     "output_type": "stream",
     "text": [
      "\n",
      "Default LDA모델을 불러옵니다.\n"
     ]
    }
   ],
   "source": [
    "# input : model 폴더명, 해당 폴더, 없으면 오류 발생 (원하는 버전 모델 있으면 지정, 없으면 Enter -> Default)\n",
    "# model 폴더 안에 bin, npy 파일 필요, 없으면 오류 발생\n",
    "\n",
    "lda_ver=input(\"불러올 LDA모델이 담긴 ./data/LDA 내 폴더 명을 입력하세요 (Default: 엔터키) : \")\n",
    "topic_num = int(input(\"모델의 토픽 수를 입력하세요. (※ 권장값 = 180개)\"))\n",
    "if lda_ver=='':\n",
    "    print(\"\\nDefault LDA모델을 불러옵니다.\")\n",
    "    mdl=tp.LDAModel.load(\"./model/LDA_MODEL_20.bin\")\n",
    "#    lda_info =np.load(\"./data/LDA/Default/ict_index.npy\")\n",
    "else:\n",
    "    print(\"\\n%s 에 학습된 LDA모델을 불러옵니다.\"%(lda_ver[-8:]))\n",
    "    mdl=tp.LDAModel.load(\"./model/\"+lda_ver+\"/LDA_MODEL_\"+str(topic_num)+\".bin\")\n",
    "#    lda_info =np.load(\"./data/LDA/\"+lda_ver+\"/ict_index.npy\")"
   ]
  },
  {
   "cell_type": "markdown",
   "id": "b1017510-0aa7-4ae6-83b5-0e26803dcc1d",
   "metadata": {},
   "source": [
    "# 파일 불러오기 "
   ]
  },
  {
   "cell_type": "code",
   "execution_count": 6,
   "id": "68d7a75e-8ae3-4bd4-b820-8d8696dc892b",
   "metadata": {},
   "outputs": [
    {
     "name": "stdin",
     "output_type": "stream",
     "text": [
      "사용할 데이터 폴더명을 입력하세요(Default: 엔터키):  GOV\n"
     ]
    },
    {
     "name": "stdout",
     "output_type": "stream",
     "text": [
      "./data/Default/GOV/LDA_PRED_GOV\n"
     ]
    }
   ],
   "source": [
    "folder_name=input(\"사용할 데이터 폴더명을 입력하세요(Default: 엔터키): \")\n",
    "lda_txt=\"LDA_PRED_\"+ folder_name\n",
    "DATA_DIR = \"./data/Default/\"+ folder_name+ \"/\"\n",
    "# NKIS, NTIS, REPORT, GOV\n",
    "print(DATA_DIR + lda_txt)"
   ]
  },
  {
   "cell_type": "code",
   "execution_count": 7,
   "id": "72dd890e-15a2-459c-8697-413e6c51b095",
   "metadata": {},
   "outputs": [
    {
     "name": "stderr",
     "output_type": "stream",
     "text": [
      "48it [00:00, 23927.57it/s]"
     ]
    },
    {
     "name": "stdout",
     "output_type": "stream",
     "text": [
      "코퍼스 파일 로드가 완료되었습니다.\n"
     ]
    },
    {
     "name": "stderr",
     "output_type": "stream",
     "text": [
      "\n"
     ]
    }
   ],
   "source": [
    "# input : data/LDA 폴더에 txt 형태 코퍼스 파일, 없으면 오류 발생\n",
    "\n",
    "corpus=[]\n",
    "for n, line in tqdm(enumerate(open(DATA_DIR+lda_txt+\".txt\", encoding='CP949'))):\n",
    "    doc=line.strip().split()\n",
    "    corpus.append(doc)\n",
    "print(\"코퍼스 파일 로드가 완료되었습니다.\")"
   ]
  },
  {
   "cell_type": "markdown",
   "id": "fdd3673d-346e-4758-8a85-2e5b5b3135c0",
   "metadata": {},
   "source": [
    "# corpus파일 전처리"
   ]
  },
  {
   "cell_type": "code",
   "execution_count": 8,
   "id": "1e9a23e1-6fbd-426a-a76d-4ee10899ca9f",
   "metadata": {},
   "outputs": [],
   "source": [
    " ##단어 없는 것 제거\n",
    "temp = []\n",
    "for cnt in range(len(corpus)):\n",
    "    if len(corpus[cnt])  != 0 :\n",
    "        temp.append(corpus[cnt])\n",
    "        \n",
    "corpus = temp"
   ]
  },
  {
   "cell_type": "code",
   "execution_count": 9,
   "id": "bcacd989",
   "metadata": {},
   "outputs": [
    {
     "data": {
      "text/plain": [
       "53"
      ]
     },
     "execution_count": 9,
     "metadata": {},
     "output_type": "execute_result"
    }
   ],
   "source": [
    "## 불용어\n",
    "\n",
    "from string import ascii_lowercase\n",
    "from string import ascii_uppercase\n",
    "alphabet_list = list(ascii_lowercase) + list(ascii_uppercase)\n",
    "alphabet_list.append(\"ㆍ\")\n",
    "#+ list(topic2[\"0\"])\n",
    "#print(len(topic2[\"0\"]))\n",
    "# 52부터 topic2 51까지 알파벳 대소문자 \n",
    "#alphabet_list = alphabet_list[:550] #숫자만 바꿔주면됨 \n",
    "len(alphabet_list)"
   ]
  },
  {
   "cell_type": "code",
   "execution_count": 10,
   "id": "ff9ef35f",
   "metadata": {},
   "outputs": [],
   "source": [
    "unusing_dic = pd.DataFrame()\n",
    "unusing_dic[\"term\"] = alphabet_list"
   ]
  },
  {
   "cell_type": "code",
   "execution_count": 11,
   "id": "4423bf52",
   "metadata": {},
   "outputs": [
    {
     "name": "stderr",
     "output_type": "stream",
     "text": [
      "100%|████████████████████████████████████████████████████████████████████████████████| 48/48 [00:00<00:00, 7999.31it/s]\n"
     ]
    }
   ],
   "source": [
    "temp_f =[]\n",
    "remove_set =unusing_dic[\"term\"].tolist()\n",
    "\n",
    "for temp_1 in tqdm(corpus) :\n",
    "    temp_t = [temp_2 for temp_2 in temp_1 if temp_2 not in remove_set]\n",
    "    temp_f.append(temp_t)\n",
    "    \n",
    "corpus = temp_f"
   ]
  },
  {
   "cell_type": "markdown",
   "id": "79e678e1-bdfd-432d-b6cd-d1f1268a2f19",
   "metadata": {},
   "source": [
    "# 모델 밖의 문헌 생성 후 추론하기"
   ]
  },
  {
   "cell_type": "code",
   "execution_count": 12,
   "id": "31402a29-849b-450f-87ac-f9404f6312a9",
   "metadata": {},
   "outputs": [],
   "source": [
    "doc_insts = []\n",
    "for i in range(len(corpus)) :\n",
    "        doc_insts.append(mdl.make_doc(corpus[i]))\n",
    "topic_dist, ll = mdl.infer([doc_insts][0])"
   ]
  },
  {
   "cell_type": "markdown",
   "id": "f92387a8-d9cd-45d4-a0a7-e058faddcc16",
   "metadata": {},
   "source": [
    "# 년도별 토픽 분포 그래프 "
   ]
  },
  {
   "cell_type": "code",
   "execution_count": 88,
   "id": "68998867-70ed-4b60-bcdd-5fbf31c35b79",
   "metadata": {},
   "outputs": [],
   "source": [
    "#cc = pd.read_pickle(\"./data/Default/\"+ folder_name + \"/HAN_Filtered_\" + folder_name+ \".pkl\")\n",
    "#cc =cc[cc[\"filtered_ICT\"]==1][[\"year\"]].reset_index(drop=True)\n",
    "#cc.to_csv(\"./data/Default/\"+ folder_name + \"/HAN_year_\" +folder_name+ \".csv\")"
   ]
  },
  {
   "cell_type": "code",
   "execution_count": 161,
   "id": "841c079a-55cd-45cd-b5ff-5a143d65dda5",
   "metadata": {},
   "outputs": [],
   "source": [
    "if folder_name == \"GOV\":\n",
    "    df = pd.read_pickle(\"./data/Default/\"+ folder_name + \"/HAN_Filtered_\" + folder_name+ \".pkl\")\n",
    "    df = df[df[\"filtered_ICT\"]==1]\n",
    "    df[\"year\"] = 2023\n",
    "    df = pd.DataFrame(df[\"year\"]).reset_index(drop=True)\n",
    "else:\n",
    "    df = pd.read_csv(\"./data/Default/\"+folder_name+\"/HAN_year_\" + folder_name+ \".csv\",index_col=0)\n",
    "    df = pd.DataFrame(df[\"year\"].replace(2022,2021)) \n",
    "\n",
    "## 2022년 데이터 2021데이터로 변경 "
   ]
  },
  {
   "cell_type": "code",
   "execution_count": 162,
   "id": "9d5f00fb-037c-419f-b0b2-cd24deca8712",
   "metadata": {},
   "outputs": [
    {
     "data": {
      "text/plain": [
       "year\n",
       "2023    48\n",
       "dtype: int64"
      ]
     },
     "execution_count": 162,
     "metadata": {},
     "output_type": "execute_result"
    }
   ],
   "source": [
    "df.value_counts()"
   ]
  },
  {
   "cell_type": "code",
   "execution_count": 163,
   "id": "cfd9f626-c765-4aa3-a511-f7ad94485fb3",
   "metadata": {},
   "outputs": [
    {
     "name": "stdin",
     "output_type": "stream",
     "text": [
      "몇개년 데이터인지 입력하시오 ex)5개년:5, 1개년:1 : 1\n",
      "시작년도를 입력하시오: 2023\n",
      "마지막년도를 입력하시오: 2023\n"
     ]
    }
   ],
   "source": [
    "year_range= int(input(\"몇개년 데이터인지 입력하시오 ex)5개년:5, 1개년:1 :\"))\n",
    "start_num = int(input(\"시작년도를 입력하시오:\"))\n",
    "end_num = int(input(\"마지막년도를 입력하시오:\"))"
   ]
  },
  {
   "cell_type": "code",
   "execution_count": 164,
   "id": "f277eb62-12b2-42e5-90df-24ef5142ad19",
   "metadata": {},
   "outputs": [],
   "source": [
    "year_list = []\n",
    "for i in range(year_range):\n",
    "    globals()[\"year_{}\".format(str(i+start_num))] = []\n",
    "for i in range(year_range):\n",
    "    year_list.append(globals()[\"year_{}\".format(str(i+start_num))])"
   ]
  },
  {
   "cell_type": "code",
   "execution_count": 165,
   "id": "52252023-0e3c-4758-82a0-fb765bfe1ed3",
   "metadata": {},
   "outputs": [],
   "source": [
    "j = 0\n",
    "for i in range(start_num,(end_num+1)):\n",
    "    year_list[j] = df[df==i].dropna().index.tolist()\n",
    "    j +=1 "
   ]
  },
  {
   "cell_type": "code",
   "execution_count": 166,
   "id": "608697c7-6c8f-40e8-a6af-99b8747faf86",
   "metadata": {},
   "outputs": [],
   "source": [
    "idx_list = []\n",
    "for i in range(year_range):\n",
    "    globals()[\"year_{}\".format(str(i+start_num))] = []\n",
    "for i in range(year_range):\n",
    "    idx_list.append(globals()[\"year_{}\".format(str(i+start_num))])\n",
    "for i in range(len(year_list)):\n",
    "    for j in year_list[i]:\n",
    "        idx_list[i].append(topic_dist[j])"
   ]
  },
  {
   "cell_type": "code",
   "execution_count": 167,
   "id": "19b2598c-89b6-4a76-ad7a-cf8262631592",
   "metadata": {},
   "outputs": [],
   "source": [
    "df_list = [] \n",
    "for i in range(year_range):\n",
    "    globals()[\"year_{}\".format(str(i+start_num))] = pd.DataFrame()\n",
    "for i in range(year_range):\n",
    "    df_list.append(globals()[\"year_{}\".format(str(i+start_num))])\n",
    "for i in range(year_range):\n",
    "    for j in range(len(idx_list[i])):\n",
    "        df_list[i] = pd.concat([df_list[i], pd.DataFrame(idx_list[i][j])],axis=1)"
   ]
  },
  {
   "cell_type": "code",
   "execution_count": 168,
   "id": "b3603e97-4045-4d2e-a4b3-8c6ee7b00af3",
   "metadata": {},
   "outputs": [],
   "source": [
    "total_dist = pd.DataFrame()\n",
    "for i in range(year_range):\n",
    "    total_dist=pd.concat([total_dist,pd.DataFrame(df_list[i].sum(axis=1))],axis=1)\n",
    "total_dist.columns = [i for i in range(start_num,end_num+1)]"
   ]
  },
  {
   "cell_type": "code",
   "execution_count": 169,
   "id": "1b8e77e6-a140-4ed8-8393-feadd4f8a134",
   "metadata": {
    "scrolled": true,
    "tags": []
   },
   "outputs": [],
   "source": [
    "dist=total_dist/np.array(total_dist.sum())"
   ]
  },
  {
   "cell_type": "code",
   "execution_count": 170,
   "id": "eb74abfd-bf54-4c28-9d19-099a8ac7fe50",
   "metadata": {},
   "outputs": [
    {
     "data": {
      "text/html": [
       "<div>\n",
       "<style scoped>\n",
       "    .dataframe tbody tr th:only-of-type {\n",
       "        vertical-align: middle;\n",
       "    }\n",
       "\n",
       "    .dataframe tbody tr th {\n",
       "        vertical-align: top;\n",
       "    }\n",
       "\n",
       "    .dataframe thead th {\n",
       "        text-align: right;\n",
       "    }\n",
       "</style>\n",
       "<table border=\"1\" class=\"dataframe\">\n",
       "  <thead>\n",
       "    <tr style=\"text-align: right;\">\n",
       "      <th></th>\n",
       "      <th>2023</th>\n",
       "    </tr>\n",
       "  </thead>\n",
       "  <tbody>\n",
       "    <tr>\n",
       "      <th>0</th>\n",
       "      <td>0.000039</td>\n",
       "    </tr>\n",
       "    <tr>\n",
       "      <th>1</th>\n",
       "      <td>0.000568</td>\n",
       "    </tr>\n",
       "    <tr>\n",
       "      <th>2</th>\n",
       "      <td>0.005089</td>\n",
       "    </tr>\n",
       "    <tr>\n",
       "      <th>3</th>\n",
       "      <td>0.020810</td>\n",
       "    </tr>\n",
       "    <tr>\n",
       "      <th>4</th>\n",
       "      <td>0.033598</td>\n",
       "    </tr>\n",
       "    <tr>\n",
       "      <th>5</th>\n",
       "      <td>0.486208</td>\n",
       "    </tr>\n",
       "    <tr>\n",
       "      <th>6</th>\n",
       "      <td>0.049721</td>\n",
       "    </tr>\n",
       "    <tr>\n",
       "      <th>7</th>\n",
       "      <td>0.001856</td>\n",
       "    </tr>\n",
       "    <tr>\n",
       "      <th>8</th>\n",
       "      <td>0.040492</td>\n",
       "    </tr>\n",
       "    <tr>\n",
       "      <th>9</th>\n",
       "      <td>0.009086</td>\n",
       "    </tr>\n",
       "    <tr>\n",
       "      <th>10</th>\n",
       "      <td>0.000568</td>\n",
       "    </tr>\n",
       "    <tr>\n",
       "      <th>11</th>\n",
       "      <td>0.010439</td>\n",
       "    </tr>\n",
       "    <tr>\n",
       "      <th>12</th>\n",
       "      <td>0.266541</td>\n",
       "    </tr>\n",
       "    <tr>\n",
       "      <th>13</th>\n",
       "      <td>0.006019</td>\n",
       "    </tr>\n",
       "    <tr>\n",
       "      <th>14</th>\n",
       "      <td>0.005372</td>\n",
       "    </tr>\n",
       "    <tr>\n",
       "      <th>15</th>\n",
       "      <td>0.002119</td>\n",
       "    </tr>\n",
       "    <tr>\n",
       "      <th>16</th>\n",
       "      <td>0.036953</td>\n",
       "    </tr>\n",
       "    <tr>\n",
       "      <th>17</th>\n",
       "      <td>0.017495</td>\n",
       "    </tr>\n",
       "    <tr>\n",
       "      <th>18</th>\n",
       "      <td>0.006963</td>\n",
       "    </tr>\n",
       "    <tr>\n",
       "      <th>19</th>\n",
       "      <td>0.000064</td>\n",
       "    </tr>\n",
       "  </tbody>\n",
       "</table>\n",
       "</div>"
      ],
      "text/plain": [
       "        2023\n",
       "0   0.000039\n",
       "1   0.000568\n",
       "2   0.005089\n",
       "3   0.020810\n",
       "4   0.033598\n",
       "5   0.486208\n",
       "6   0.049721\n",
       "7   0.001856\n",
       "8   0.040492\n",
       "9   0.009086\n",
       "10  0.000568\n",
       "11  0.010439\n",
       "12  0.266541\n",
       "13  0.006019\n",
       "14  0.005372\n",
       "15  0.002119\n",
       "16  0.036953\n",
       "17  0.017495\n",
       "18  0.006963\n",
       "19  0.000064"
      ]
     },
     "execution_count": 170,
     "metadata": {},
     "output_type": "execute_result"
    }
   ],
   "source": [
    "dist"
   ]
  },
  {
   "cell_type": "code",
   "execution_count": 171,
   "id": "87a63dea-7cb2-4718-84b1-813c6153d0cb",
   "metadata": {},
   "outputs": [
    {
     "data": {
      "text/plain": [
       "2023    1.0\n",
       "dtype: float32"
      ]
     },
     "execution_count": 171,
     "metadata": {},
     "output_type": "execute_result"
    }
   ],
   "source": [
    "#검산\n",
    "dist.sum(axis=0) # 컬럼 별 1이 나오면 됨"
   ]
  },
  {
   "cell_type": "code",
   "execution_count": 172,
   "id": "f015a923-c546-48ee-8796-764f3c2d3b18",
   "metadata": {},
   "outputs": [],
   "source": [
    "topics_d = []\n",
    "for i in range(mdl.k):\n",
    "    topic_d = str(\"topic_\") + str(i+1)\n",
    "    topics_d.append(topic_d)"
   ]
  },
  {
   "cell_type": "markdown",
   "id": "efbd117d-7376-4e5c-ba6b-054ffa864ea1",
   "metadata": {},
   "source": [
    "## 5개년 합산 평균 분포 그래프 "
   ]
  },
  {
   "cell_type": "code",
   "execution_count": 173,
   "id": "df8e5ea8-24d6-4f99-b52d-b8be216d521a",
   "metadata": {},
   "outputs": [
    {
     "name": "stderr",
     "output_type": "stream",
     "text": [
      "C:\\Users\\newcomer02\\Anaconda3\\envs\\mecab\\lib\\site-packages\\plotly\\io\\_renderers.py:395: DeprecationWarning:\n",
      "\n",
      "distutils Version classes are deprecated. Use packaging.version instead.\n",
      "\n",
      "C:\\Users\\newcomer02\\Anaconda3\\envs\\mecab\\lib\\site-packages\\plotly\\io\\_renderers.py:395: DeprecationWarning:\n",
      "\n",
      "distutils Version classes are deprecated. Use packaging.version instead.\n",
      "\n"
     ]
    },
    {
     "data": {
      "application/vnd.plotly.v1+json": {
       "config": {
        "plotlyServerURL": "https://plot.ly"
       },
       "data": [
        {
         "name": "REPORT",
         "type": "bar",
         "x": [
          "1",
          "2",
          "3",
          "4",
          "5",
          "6",
          "7",
          "8",
          "9",
          "10",
          "11",
          "12",
          "13",
          "14",
          "15",
          "16",
          "17",
          "18",
          "19",
          "20"
         ],
         "xaxis": "x",
         "y": [
          7.842309969419148e-06,
          0.00011356807226547971,
          0.0010177105432376266,
          0.004162093624472618,
          0.006719517055898905,
          0.09724164009094238,
          0.009944257326424122,
          0.0003712362376973033,
          0.008098427206277847,
          0.0018171572592109442,
          0.00011363817611709237,
          0.002087705535814166,
          0.05330826714634895,
          0.0012037870474159718,
          0.0010743641760200262,
          0.0004237762186676264,
          0.0073905689641833305,
          0.0034990657586604357,
          0.0013925208477303386,
          1.2857419278589077e-05
         ],
         "yaxis": "y"
        }
       ],
       "layout": {
        "autosize": true,
        "template": {
         "data": {
          "bar": [
           {
            "error_x": {
             "color": "#2a3f5f"
            },
            "error_y": {
             "color": "#2a3f5f"
            },
            "marker": {
             "line": {
              "color": "#E5ECF6",
              "width": 0.5
             },
             "pattern": {
              "fillmode": "overlay",
              "size": 10,
              "solidity": 0.2
             }
            },
            "type": "bar"
           }
          ],
          "barpolar": [
           {
            "marker": {
             "line": {
              "color": "#E5ECF6",
              "width": 0.5
             },
             "pattern": {
              "fillmode": "overlay",
              "size": 10,
              "solidity": 0.2
             }
            },
            "type": "barpolar"
           }
          ],
          "carpet": [
           {
            "aaxis": {
             "endlinecolor": "#2a3f5f",
             "gridcolor": "white",
             "linecolor": "white",
             "minorgridcolor": "white",
             "startlinecolor": "#2a3f5f"
            },
            "baxis": {
             "endlinecolor": "#2a3f5f",
             "gridcolor": "white",
             "linecolor": "white",
             "minorgridcolor": "white",
             "startlinecolor": "#2a3f5f"
            },
            "type": "carpet"
           }
          ],
          "choropleth": [
           {
            "colorbar": {
             "outlinewidth": 0,
             "ticks": ""
            },
            "type": "choropleth"
           }
          ],
          "contour": [
           {
            "colorbar": {
             "outlinewidth": 0,
             "ticks": ""
            },
            "colorscale": [
             [
              0,
              "#0d0887"
             ],
             [
              0.1111111111111111,
              "#46039f"
             ],
             [
              0.2222222222222222,
              "#7201a8"
             ],
             [
              0.3333333333333333,
              "#9c179e"
             ],
             [
              0.4444444444444444,
              "#bd3786"
             ],
             [
              0.5555555555555556,
              "#d8576b"
             ],
             [
              0.6666666666666666,
              "#ed7953"
             ],
             [
              0.7777777777777778,
              "#fb9f3a"
             ],
             [
              0.8888888888888888,
              "#fdca26"
             ],
             [
              1,
              "#f0f921"
             ]
            ],
            "type": "contour"
           }
          ],
          "contourcarpet": [
           {
            "colorbar": {
             "outlinewidth": 0,
             "ticks": ""
            },
            "type": "contourcarpet"
           }
          ],
          "heatmap": [
           {
            "colorbar": {
             "outlinewidth": 0,
             "ticks": ""
            },
            "colorscale": [
             [
              0,
              "#0d0887"
             ],
             [
              0.1111111111111111,
              "#46039f"
             ],
             [
              0.2222222222222222,
              "#7201a8"
             ],
             [
              0.3333333333333333,
              "#9c179e"
             ],
             [
              0.4444444444444444,
              "#bd3786"
             ],
             [
              0.5555555555555556,
              "#d8576b"
             ],
             [
              0.6666666666666666,
              "#ed7953"
             ],
             [
              0.7777777777777778,
              "#fb9f3a"
             ],
             [
              0.8888888888888888,
              "#fdca26"
             ],
             [
              1,
              "#f0f921"
             ]
            ],
            "type": "heatmap"
           }
          ],
          "heatmapgl": [
           {
            "colorbar": {
             "outlinewidth": 0,
             "ticks": ""
            },
            "colorscale": [
             [
              0,
              "#0d0887"
             ],
             [
              0.1111111111111111,
              "#46039f"
             ],
             [
              0.2222222222222222,
              "#7201a8"
             ],
             [
              0.3333333333333333,
              "#9c179e"
             ],
             [
              0.4444444444444444,
              "#bd3786"
             ],
             [
              0.5555555555555556,
              "#d8576b"
             ],
             [
              0.6666666666666666,
              "#ed7953"
             ],
             [
              0.7777777777777778,
              "#fb9f3a"
             ],
             [
              0.8888888888888888,
              "#fdca26"
             ],
             [
              1,
              "#f0f921"
             ]
            ],
            "type": "heatmapgl"
           }
          ],
          "histogram": [
           {
            "marker": {
             "pattern": {
              "fillmode": "overlay",
              "size": 10,
              "solidity": 0.2
             }
            },
            "type": "histogram"
           }
          ],
          "histogram2d": [
           {
            "colorbar": {
             "outlinewidth": 0,
             "ticks": ""
            },
            "colorscale": [
             [
              0,
              "#0d0887"
             ],
             [
              0.1111111111111111,
              "#46039f"
             ],
             [
              0.2222222222222222,
              "#7201a8"
             ],
             [
              0.3333333333333333,
              "#9c179e"
             ],
             [
              0.4444444444444444,
              "#bd3786"
             ],
             [
              0.5555555555555556,
              "#d8576b"
             ],
             [
              0.6666666666666666,
              "#ed7953"
             ],
             [
              0.7777777777777778,
              "#fb9f3a"
             ],
             [
              0.8888888888888888,
              "#fdca26"
             ],
             [
              1,
              "#f0f921"
             ]
            ],
            "type": "histogram2d"
           }
          ],
          "histogram2dcontour": [
           {
            "colorbar": {
             "outlinewidth": 0,
             "ticks": ""
            },
            "colorscale": [
             [
              0,
              "#0d0887"
             ],
             [
              0.1111111111111111,
              "#46039f"
             ],
             [
              0.2222222222222222,
              "#7201a8"
             ],
             [
              0.3333333333333333,
              "#9c179e"
             ],
             [
              0.4444444444444444,
              "#bd3786"
             ],
             [
              0.5555555555555556,
              "#d8576b"
             ],
             [
              0.6666666666666666,
              "#ed7953"
             ],
             [
              0.7777777777777778,
              "#fb9f3a"
             ],
             [
              0.8888888888888888,
              "#fdca26"
             ],
             [
              1,
              "#f0f921"
             ]
            ],
            "type": "histogram2dcontour"
           }
          ],
          "mesh3d": [
           {
            "colorbar": {
             "outlinewidth": 0,
             "ticks": ""
            },
            "type": "mesh3d"
           }
          ],
          "parcoords": [
           {
            "line": {
             "colorbar": {
              "outlinewidth": 0,
              "ticks": ""
             }
            },
            "type": "parcoords"
           }
          ],
          "pie": [
           {
            "automargin": true,
            "type": "pie"
           }
          ],
          "scatter": [
           {
            "fillpattern": {
             "fillmode": "overlay",
             "size": 10,
             "solidity": 0.2
            },
            "type": "scatter"
           }
          ],
          "scatter3d": [
           {
            "line": {
             "colorbar": {
              "outlinewidth": 0,
              "ticks": ""
             }
            },
            "marker": {
             "colorbar": {
              "outlinewidth": 0,
              "ticks": ""
             }
            },
            "type": "scatter3d"
           }
          ],
          "scattercarpet": [
           {
            "marker": {
             "colorbar": {
              "outlinewidth": 0,
              "ticks": ""
             }
            },
            "type": "scattercarpet"
           }
          ],
          "scattergeo": [
           {
            "marker": {
             "colorbar": {
              "outlinewidth": 0,
              "ticks": ""
             }
            },
            "type": "scattergeo"
           }
          ],
          "scattergl": [
           {
            "marker": {
             "colorbar": {
              "outlinewidth": 0,
              "ticks": ""
             }
            },
            "type": "scattergl"
           }
          ],
          "scattermapbox": [
           {
            "marker": {
             "colorbar": {
              "outlinewidth": 0,
              "ticks": ""
             }
            },
            "type": "scattermapbox"
           }
          ],
          "scatterpolar": [
           {
            "marker": {
             "colorbar": {
              "outlinewidth": 0,
              "ticks": ""
             }
            },
            "type": "scatterpolar"
           }
          ],
          "scatterpolargl": [
           {
            "marker": {
             "colorbar": {
              "outlinewidth": 0,
              "ticks": ""
             }
            },
            "type": "scatterpolargl"
           }
          ],
          "scatterternary": [
           {
            "marker": {
             "colorbar": {
              "outlinewidth": 0,
              "ticks": ""
             }
            },
            "type": "scatterternary"
           }
          ],
          "surface": [
           {
            "colorbar": {
             "outlinewidth": 0,
             "ticks": ""
            },
            "colorscale": [
             [
              0,
              "#0d0887"
             ],
             [
              0.1111111111111111,
              "#46039f"
             ],
             [
              0.2222222222222222,
              "#7201a8"
             ],
             [
              0.3333333333333333,
              "#9c179e"
             ],
             [
              0.4444444444444444,
              "#bd3786"
             ],
             [
              0.5555555555555556,
              "#d8576b"
             ],
             [
              0.6666666666666666,
              "#ed7953"
             ],
             [
              0.7777777777777778,
              "#fb9f3a"
             ],
             [
              0.8888888888888888,
              "#fdca26"
             ],
             [
              1,
              "#f0f921"
             ]
            ],
            "type": "surface"
           }
          ],
          "table": [
           {
            "cells": {
             "fill": {
              "color": "#EBF0F8"
             },
             "line": {
              "color": "white"
             }
            },
            "header": {
             "fill": {
              "color": "#C8D4E3"
             },
             "line": {
              "color": "white"
             }
            },
            "type": "table"
           }
          ]
         },
         "layout": {
          "annotationdefaults": {
           "arrowcolor": "#2a3f5f",
           "arrowhead": 0,
           "arrowwidth": 1
          },
          "autotypenumbers": "strict",
          "coloraxis": {
           "colorbar": {
            "outlinewidth": 0,
            "ticks": ""
           }
          },
          "colorscale": {
           "diverging": [
            [
             0,
             "#8e0152"
            ],
            [
             0.1,
             "#c51b7d"
            ],
            [
             0.2,
             "#de77ae"
            ],
            [
             0.3,
             "#f1b6da"
            ],
            [
             0.4,
             "#fde0ef"
            ],
            [
             0.5,
             "#f7f7f7"
            ],
            [
             0.6,
             "#e6f5d0"
            ],
            [
             0.7,
             "#b8e186"
            ],
            [
             0.8,
             "#7fbc41"
            ],
            [
             0.9,
             "#4d9221"
            ],
            [
             1,
             "#276419"
            ]
           ],
           "sequential": [
            [
             0,
             "#0d0887"
            ],
            [
             0.1111111111111111,
             "#46039f"
            ],
            [
             0.2222222222222222,
             "#7201a8"
            ],
            [
             0.3333333333333333,
             "#9c179e"
            ],
            [
             0.4444444444444444,
             "#bd3786"
            ],
            [
             0.5555555555555556,
             "#d8576b"
            ],
            [
             0.6666666666666666,
             "#ed7953"
            ],
            [
             0.7777777777777778,
             "#fb9f3a"
            ],
            [
             0.8888888888888888,
             "#fdca26"
            ],
            [
             1,
             "#f0f921"
            ]
           ],
           "sequentialminus": [
            [
             0,
             "#0d0887"
            ],
            [
             0.1111111111111111,
             "#46039f"
            ],
            [
             0.2222222222222222,
             "#7201a8"
            ],
            [
             0.3333333333333333,
             "#9c179e"
            ],
            [
             0.4444444444444444,
             "#bd3786"
            ],
            [
             0.5555555555555556,
             "#d8576b"
            ],
            [
             0.6666666666666666,
             "#ed7953"
            ],
            [
             0.7777777777777778,
             "#fb9f3a"
            ],
            [
             0.8888888888888888,
             "#fdca26"
            ],
            [
             1,
             "#f0f921"
            ]
           ]
          },
          "colorway": [
           "#636efa",
           "#EF553B",
           "#00cc96",
           "#ab63fa",
           "#FFA15A",
           "#19d3f3",
           "#FF6692",
           "#B6E880",
           "#FF97FF",
           "#FECB52"
          ],
          "font": {
           "color": "#2a3f5f"
          },
          "geo": {
           "bgcolor": "white",
           "lakecolor": "white",
           "landcolor": "#E5ECF6",
           "showlakes": true,
           "showland": true,
           "subunitcolor": "white"
          },
          "hoverlabel": {
           "align": "left"
          },
          "hovermode": "closest",
          "mapbox": {
           "style": "light"
          },
          "paper_bgcolor": "white",
          "plot_bgcolor": "#E5ECF6",
          "polar": {
           "angularaxis": {
            "gridcolor": "white",
            "linecolor": "white",
            "ticks": ""
           },
           "bgcolor": "#E5ECF6",
           "radialaxis": {
            "gridcolor": "white",
            "linecolor": "white",
            "ticks": ""
           }
          },
          "scene": {
           "xaxis": {
            "backgroundcolor": "#E5ECF6",
            "gridcolor": "white",
            "gridwidth": 2,
            "linecolor": "white",
            "showbackground": true,
            "ticks": "",
            "zerolinecolor": "white"
           },
           "yaxis": {
            "backgroundcolor": "#E5ECF6",
            "gridcolor": "white",
            "gridwidth": 2,
            "linecolor": "white",
            "showbackground": true,
            "ticks": "",
            "zerolinecolor": "white"
           },
           "zaxis": {
            "backgroundcolor": "#E5ECF6",
            "gridcolor": "white",
            "gridwidth": 2,
            "linecolor": "white",
            "showbackground": true,
            "ticks": "",
            "zerolinecolor": "white"
           }
          },
          "shapedefaults": {
           "line": {
            "color": "#2a3f5f"
           }
          },
          "ternary": {
           "aaxis": {
            "gridcolor": "white",
            "linecolor": "white",
            "ticks": ""
           },
           "baxis": {
            "gridcolor": "white",
            "linecolor": "white",
            "ticks": ""
           },
           "bgcolor": "#E5ECF6",
           "caxis": {
            "gridcolor": "white",
            "linecolor": "white",
            "ticks": ""
           }
          },
          "title": {
           "x": 0.05
          },
          "xaxis": {
           "automargin": true,
           "gridcolor": "white",
           "linecolor": "white",
           "ticks": "",
           "title": {
            "standoff": 15
           },
           "zerolinecolor": "white",
           "zerolinewidth": 2
          },
          "yaxis": {
           "automargin": true,
           "gridcolor": "white",
           "linecolor": "white",
           "ticks": "",
           "title": {
            "standoff": 15
           },
           "zerolinecolor": "white",
           "zerolinewidth": 2
          }
         }
        },
        "title": {
         "font": {
          "size": 20
         },
         "text": "GOV Average LDA Topic Distribution"
        },
        "xaxis": {
         "anchor": "y",
         "autorange": true,
         "domain": [
          0,
          1
         ],
         "range": [
          -0.5,
          19.5
         ],
         "showticklabels": true,
         "type": "category",
         "visible": true
        },
        "yaxis": {
         "anchor": "x",
         "autorange": true,
         "domain": [
          0,
          1
         ],
         "range": [
          0,
          0.1023596211483604
         ],
         "showticklabels": true,
         "title": {
          "text": "Prob"
         },
         "type": "linear",
         "visible": true
        }
       }
      },
      "image/png": "[encoded data removed]",
      "text/html": [
       "<div>                            <div id=\"5863de21-9877-44af-8eb2-946c8a29d285\" class=\"plotly-graph-div\" style=\"height:600px; width:100%;\"></div>            <script type=\"text/javascript\">                require([\"plotly\"], function(Plotly) {                    window.PLOTLYENV=window.PLOTLYENV || {};                                    if (document.getElementById(\"5863de21-9877-44af-8eb2-946c8a29d285\")) {                    Plotly.newPlot(                        \"5863de21-9877-44af-8eb2-946c8a29d285\",                        [{\"name\":\"REPORT\",\"x\":[\"1\",\"2\",\"3\",\"4\",\"5\",\"6\",\"7\",\"8\",\"9\",\"10\",\"11\",\"12\",\"13\",\"14\",\"15\",\"16\",\"17\",\"18\",\"19\",\"20\"],\"y\":[7.842309969419148e-06,0.00011356807226547971,0.0010177105432376266,0.004162093624472618,0.006719517055898905,0.09724164009094238,0.009944257326424122,0.0003712362376973033,0.008098427206277847,0.0018171572592109442,0.00011363817611709237,0.002087705535814166,0.05330826714634895,0.0012037870474159718,0.0010743641760200262,0.0004237762186676264,0.0073905689641833305,0.0034990657586604357,0.0013925208477303386,1.2857419278589077e-05],\"type\":\"bar\",\"xaxis\":\"x\",\"yaxis\":\"y\"}],                        {\"template\":{\"data\":{\"histogram2dcontour\":[{\"type\":\"histogram2dcontour\",\"colorbar\":{\"outlinewidth\":0,\"ticks\":\"\"},\"colorscale\":[[0.0,\"#0d0887\"],[0.1111111111111111,\"#46039f\"],[0.2222222222222222,\"#7201a8\"],[0.3333333333333333,\"#9c179e\"],[0.4444444444444444,\"#bd3786\"],[0.5555555555555556,\"#d8576b\"],[0.6666666666666666,\"#ed7953\"],[0.7777777777777778,\"#fb9f3a\"],[0.8888888888888888,\"#fdca26\"],[1.0,\"#f0f921\"]]}],\"choropleth\":[{\"type\":\"choropleth\",\"colorbar\":{\"outlinewidth\":0,\"ticks\":\"\"}}],\"histogram2d\":[{\"type\":\"histogram2d\",\"colorbar\":{\"outlinewidth\":0,\"ticks\":\"\"},\"colorscale\":[[0.0,\"#0d0887\"],[0.1111111111111111,\"#46039f\"],[0.2222222222222222,\"#7201a8\"],[0.3333333333333333,\"#9c179e\"],[0.4444444444444444,\"#bd3786\"],[0.5555555555555556,\"#d8576b\"],[0.6666666666666666,\"#ed7953\"],[0.7777777777777778,\"#fb9f3a\"],[0.8888888888888888,\"#fdca26\"],[1.0,\"#f0f921\"]]}],\"heatmap\":[{\"type\":\"heatmap\",\"colorbar\":{\"outlinewidth\":0,\"ticks\":\"\"},\"colorscale\":[[0.0,\"#0d0887\"],[0.1111111111111111,\"#46039f\"],[0.2222222222222222,\"#7201a8\"],[0.3333333333333333,\"#9c179e\"],[0.4444444444444444,\"#bd3786\"],[0.5555555555555556,\"#d8576b\"],[0.6666666666666666,\"#ed7953\"],[0.7777777777777778,\"#fb9f3a\"],[0.8888888888888888,\"#fdca26\"],[1.0,\"#f0f921\"]]}],\"heatmapgl\":[{\"type\":\"heatmapgl\",\"colorbar\":{\"outlinewidth\":0,\"ticks\":\"\"},\"colorscale\":[[0.0,\"#0d0887\"],[0.1111111111111111,\"#46039f\"],[0.2222222222222222,\"#7201a8\"],[0.3333333333333333,\"#9c179e\"],[0.4444444444444444,\"#bd3786\"],[0.5555555555555556,\"#d8576b\"],[0.6666666666666666,\"#ed7953\"],[0.7777777777777778,\"#fb9f3a\"],[0.8888888888888888,\"#fdca26\"],[1.0,\"#f0f921\"]]}],\"contourcarpet\":[{\"type\":\"contourcarpet\",\"colorbar\":{\"outlinewidth\":0,\"ticks\":\"\"}}],\"contour\":[{\"type\":\"contour\",\"colorbar\":{\"outlinewidth\":0,\"ticks\":\"\"},\"colorscale\":[[0.0,\"#0d0887\"],[0.1111111111111111,\"#46039f\"],[0.2222222222222222,\"#7201a8\"],[0.3333333333333333,\"#9c179e\"],[0.4444444444444444,\"#bd3786\"],[0.5555555555555556,\"#d8576b\"],[0.6666666666666666,\"#ed7953\"],[0.7777777777777778,\"#fb9f3a\"],[0.8888888888888888,\"#fdca26\"],[1.0,\"#f0f921\"]]}],\"surface\":[{\"type\":\"surface\",\"colorbar\":{\"outlinewidth\":0,\"ticks\":\"\"},\"colorscale\":[[0.0,\"#0d0887\"],[0.1111111111111111,\"#46039f\"],[0.2222222222222222,\"#7201a8\"],[0.3333333333333333,\"#9c179e\"],[0.4444444444444444,\"#bd3786\"],[0.5555555555555556,\"#d8576b\"],[0.6666666666666666,\"#ed7953\"],[0.7777777777777778,\"#fb9f3a\"],[0.8888888888888888,\"#fdca26\"],[1.0,\"#f0f921\"]]}],\"mesh3d\":[{\"type\":\"mesh3d\",\"colorbar\":{\"outlinewidth\":0,\"ticks\":\"\"}}],\"scatter\":[{\"fillpattern\":{\"fillmode\":\"overlay\",\"size\":10,\"solidity\":0.2},\"type\":\"scatter\"}],\"parcoords\":[{\"type\":\"parcoords\",\"line\":{\"colorbar\":{\"outlinewidth\":0,\"ticks\":\"\"}}}],\"scatterpolargl\":[{\"type\":\"scatterpolargl\",\"marker\":{\"colorbar\":{\"outlinewidth\":0,\"ticks\":\"\"}}}],\"bar\":[{\"error_x\":{\"color\":\"#2a3f5f\"},\"error_y\":{\"color\":\"#2a3f5f\"},\"marker\":{\"line\":{\"color\":\"#E5ECF6\",\"width\":0.5},\"pattern\":{\"fillmode\":\"overlay\",\"size\":10,\"solidity\":0.2}},\"type\":\"bar\"}],\"scattergeo\":[{\"type\":\"scattergeo\",\"marker\":{\"colorbar\":{\"outlinewidth\":0,\"ticks\":\"\"}}}],\"scatterpolar\":[{\"type\":\"scatterpolar\",\"marker\":{\"colorbar\":{\"outlinewidth\":0,\"ticks\":\"\"}}}],\"histogram\":[{\"marker\":{\"pattern\":{\"fillmode\":\"overlay\",\"size\":10,\"solidity\":0.2}},\"type\":\"histogram\"}],\"scattergl\":[{\"type\":\"scattergl\",\"marker\":{\"colorbar\":{\"outlinewidth\":0,\"ticks\":\"\"}}}],\"scatter3d\":[{\"type\":\"scatter3d\",\"line\":{\"colorbar\":{\"outlinewidth\":0,\"ticks\":\"\"}},\"marker\":{\"colorbar\":{\"outlinewidth\":0,\"ticks\":\"\"}}}],\"scattermapbox\":[{\"type\":\"scattermapbox\",\"marker\":{\"colorbar\":{\"outlinewidth\":0,\"ticks\":\"\"}}}],\"scatterternary\":[{\"type\":\"scatterternary\",\"marker\":{\"colorbar\":{\"outlinewidth\":0,\"ticks\":\"\"}}}],\"scattercarpet\":[{\"type\":\"scattercarpet\",\"marker\":{\"colorbar\":{\"outlinewidth\":0,\"ticks\":\"\"}}}],\"carpet\":[{\"aaxis\":{\"endlinecolor\":\"#2a3f5f\",\"gridcolor\":\"white\",\"linecolor\":\"white\",\"minorgridcolor\":\"white\",\"startlinecolor\":\"#2a3f5f\"},\"baxis\":{\"endlinecolor\":\"#2a3f5f\",\"gridcolor\":\"white\",\"linecolor\":\"white\",\"minorgridcolor\":\"white\",\"startlinecolor\":\"#2a3f5f\"},\"type\":\"carpet\"}],\"table\":[{\"cells\":{\"fill\":{\"color\":\"#EBF0F8\"},\"line\":{\"color\":\"white\"}},\"header\":{\"fill\":{\"color\":\"#C8D4E3\"},\"line\":{\"color\":\"white\"}},\"type\":\"table\"}],\"barpolar\":[{\"marker\":{\"line\":{\"color\":\"#E5ECF6\",\"width\":0.5},\"pattern\":{\"fillmode\":\"overlay\",\"size\":10,\"solidity\":0.2}},\"type\":\"barpolar\"}],\"pie\":[{\"automargin\":true,\"type\":\"pie\"}]},\"layout\":{\"autotypenumbers\":\"strict\",\"colorway\":[\"#636efa\",\"#EF553B\",\"#00cc96\",\"#ab63fa\",\"#FFA15A\",\"#19d3f3\",\"#FF6692\",\"#B6E880\",\"#FF97FF\",\"#FECB52\"],\"font\":{\"color\":\"#2a3f5f\"},\"hovermode\":\"closest\",\"hoverlabel\":{\"align\":\"left\"},\"paper_bgcolor\":\"white\",\"plot_bgcolor\":\"#E5ECF6\",\"polar\":{\"bgcolor\":\"#E5ECF6\",\"angularaxis\":{\"gridcolor\":\"white\",\"linecolor\":\"white\",\"ticks\":\"\"},\"radialaxis\":{\"gridcolor\":\"white\",\"linecolor\":\"white\",\"ticks\":\"\"}},\"ternary\":{\"bgcolor\":\"#E5ECF6\",\"aaxis\":{\"gridcolor\":\"white\",\"linecolor\":\"white\",\"ticks\":\"\"},\"baxis\":{\"gridcolor\":\"white\",\"linecolor\":\"white\",\"ticks\":\"\"},\"caxis\":{\"gridcolor\":\"white\",\"linecolor\":\"white\",\"ticks\":\"\"}},\"coloraxis\":{\"colorbar\":{\"outlinewidth\":0,\"ticks\":\"\"}},\"colorscale\":{\"sequential\":[[0.0,\"#0d0887\"],[0.1111111111111111,\"#46039f\"],[0.2222222222222222,\"#7201a8\"],[0.3333333333333333,\"#9c179e\"],[0.4444444444444444,\"#bd3786\"],[0.5555555555555556,\"#d8576b\"],[0.6666666666666666,\"#ed7953\"],[0.7777777777777778,\"#fb9f3a\"],[0.8888888888888888,\"#fdca26\"],[1.0,\"#f0f921\"]],\"sequentialminus\":[[0.0,\"#0d0887\"],[0.1111111111111111,\"#46039f\"],[0.2222222222222222,\"#7201a8\"],[0.3333333333333333,\"#9c179e\"],[0.4444444444444444,\"#bd3786\"],[0.5555555555555556,\"#d8576b\"],[0.6666666666666666,\"#ed7953\"],[0.7777777777777778,\"#fb9f3a\"],[0.8888888888888888,\"#fdca26\"],[1.0,\"#f0f921\"]],\"diverging\":[[0,\"#8e0152\"],[0.1,\"#c51b7d\"],[0.2,\"#de77ae\"],[0.3,\"#f1b6da\"],[0.4,\"#fde0ef\"],[0.5,\"#f7f7f7\"],[0.6,\"#e6f5d0\"],[0.7,\"#b8e186\"],[0.8,\"#7fbc41\"],[0.9,\"#4d9221\"],[1,\"#276419\"]]},\"xaxis\":{\"gridcolor\":\"white\",\"linecolor\":\"white\",\"ticks\":\"\",\"title\":{\"standoff\":15},\"zerolinecolor\":\"white\",\"automargin\":true,\"zerolinewidth\":2},\"yaxis\":{\"gridcolor\":\"white\",\"linecolor\":\"white\",\"ticks\":\"\",\"title\":{\"standoff\":15},\"zerolinecolor\":\"white\",\"automargin\":true,\"zerolinewidth\":2},\"scene\":{\"xaxis\":{\"backgroundcolor\":\"#E5ECF6\",\"gridcolor\":\"white\",\"linecolor\":\"white\",\"showbackground\":true,\"ticks\":\"\",\"zerolinecolor\":\"white\",\"gridwidth\":2},\"yaxis\":{\"backgroundcolor\":\"#E5ECF6\",\"gridcolor\":\"white\",\"linecolor\":\"white\",\"showbackground\":true,\"ticks\":\"\",\"zerolinecolor\":\"white\",\"gridwidth\":2},\"zaxis\":{\"backgroundcolor\":\"#E5ECF6\",\"gridcolor\":\"white\",\"linecolor\":\"white\",\"showbackground\":true,\"ticks\":\"\",\"zerolinecolor\":\"white\",\"gridwidth\":2}},\"shapedefaults\":{\"line\":{\"color\":\"#2a3f5f\"}},\"annotationdefaults\":{\"arrowcolor\":\"#2a3f5f\",\"arrowhead\":0,\"arrowwidth\":1},\"geo\":{\"bgcolor\":\"white\",\"landcolor\":\"#E5ECF6\",\"subunitcolor\":\"white\",\"showland\":true,\"showlakes\":true,\"lakecolor\":\"white\"},\"title\":{\"x\":0.05},\"mapbox\":{\"style\":\"light\"}}},\"xaxis\":{\"anchor\":\"y\",\"domain\":[0.0,1.0],\"visible\":true,\"showticklabels\":true},\"yaxis\":{\"anchor\":\"x\",\"domain\":[0.0,1.0],\"title\":{\"text\":\"Prob\"},\"visible\":true,\"showticklabels\":true},\"title\":{\"font\":{\"size\":20},\"text\":\"GOV Average LDA Topic Distribution\"},\"height\":600},                        {\"responsive\": true}                    ).then(function(){\n",
       "                            \n",
       "var gd = document.getElementById('5863de21-9877-44af-8eb2-946c8a29d285');\n",
       "var x = new MutationObserver(function (mutations, observer) {{\n",
       "        var display = window.getComputedStyle(gd).display;\n",
       "        if (!display || display === 'none') {{\n",
       "            console.log([gd, 'removed!']);\n",
       "            Plotly.purge(gd);\n",
       "            observer.disconnect();\n",
       "        }}\n",
       "}});\n",
       "\n",
       "// Listen for the removal of the full notebook cells\n",
       "var notebookContainer = gd.closest('#notebook-container');\n",
       "if (notebookContainer) {{\n",
       "    x.observe(notebookContainer, {childList: true});\n",
       "}}\n",
       "\n",
       "// Listen for the clearing of the current output cell\n",
       "var outputEl = gd.closest('.output');\n",
       "if (outputEl) {{\n",
       "    x.observe(outputEl, {childList: true});\n",
       "}}\n",
       "\n",
       "                        })                };                });            </script>        </div>"
      ]
     },
     "metadata": {},
     "output_type": "display_data"
    }
   ],
   "source": [
    "dist_one = pd.DataFrame(dist.sum(axis=1)/5)\n",
    "for i in dist_one.columns.tolist():\n",
    "    # output type : Average ICT NTIS/NEWS 연도별 html 파일 (html/DTM 폴더)\n",
    "\n",
    "    fig = make_subplots(\n",
    "            rows=1, cols=1, shared_xaxes=True, vertical_spacing=0.1\n",
    "        )\n",
    "    fig.add_bar(x=[str(i+1) for i in range(len(topics_d))], y=dist_one[i], name =\"REPORT\", row=1, col=1)\n",
    "    fig.update_layout(title=go.layout.Title(text=folder_name+ \" Average LDA Topic Distribution\",\n",
    "                                            font=go.layout.title.Font(size=20)),\n",
    "                     yaxis_title=\"Prob\",height=600)\n",
    "\n",
    "    fig.update_xaxes(visible=True, showticklabels=True)\n",
    "    fig.update_yaxes(visible=True, showticklabels=True)\n",
    "    fig.show()\n",
    "    #fig.write_html('./html/DTM/Average_DTM'+str(num_topics)+'.html')\n",
    "    #fig.write_html('./html/DTM/Average_DTM'+str(23)+'.html')"
   ]
  },
  {
   "cell_type": "markdown",
   "id": "5d178eb3-084d-4e7c-be25-da7d7dc33e1e",
   "metadata": {},
   "source": [
    "## 5개년 년도 별 분포 그래프"
   ]
  },
  {
   "cell_type": "code",
   "execution_count": 175,
   "id": "d72e930d-cd29-418e-ba7d-d33b1de67b1f",
   "metadata": {},
   "outputs": [
    {
     "name": "stderr",
     "output_type": "stream",
     "text": [
      "C:\\Users\\newcomer02\\Anaconda3\\envs\\mecab\\lib\\site-packages\\plotly\\io\\_renderers.py:395: DeprecationWarning:\n",
      "\n",
      "distutils Version classes are deprecated. Use packaging.version instead.\n",
      "\n",
      "C:\\Users\\newcomer02\\Anaconda3\\envs\\mecab\\lib\\site-packages\\plotly\\io\\_renderers.py:395: DeprecationWarning:\n",
      "\n",
      "distutils Version classes are deprecated. Use packaging.version instead.\n",
      "\n"
     ]
    },
    {
     "data": {
      "application/vnd.plotly.v1+json": {
       "config": {
        "plotlyServerURL": "https://plot.ly"
       },
       "data": [
        {
         "name": "NKIS",
         "type": "bar",
         "x": [
          "topic_1",
          "topic_2",
          "topic_3",
          "topic_4",
          "topic_5",
          "topic_6",
          "topic_7",
          "topic_8",
          "topic_9",
          "topic_10",
          "topic_11",
          "topic_12",
          "topic_13",
          "topic_14",
          "topic_15",
          "topic_16",
          "topic_17",
          "topic_18",
          "topic_19",
          "topic_20"
         ],
         "xaxis": "x",
         "y": [
          3.921155075659044e-05,
          0.000567840354051441,
          0.005088552832603455,
          0.02081046812236309,
          0.03359758481383324,
          0.4862082004547119,
          0.049721285700798035,
          0.0018561811884865165,
          0.040492136031389236,
          0.009085786528885365,
          0.0005681908805854619,
          0.010438527911901474,
          0.26654133200645447,
          0.006018935237079859,
          0.005371820647269487,
          0.002118881093338132,
          0.03695284575223923,
          0.017495328560471535,
          0.006962604355067015,
          6.428709457395598e-05
         ],
         "yaxis": "y"
        }
       ],
       "layout": {
        "autosize": true,
        "template": {
         "data": {
          "bar": [
           {
            "error_x": {
             "color": "#2a3f5f"
            },
            "error_y": {
             "color": "#2a3f5f"
            },
            "marker": {
             "line": {
              "color": "#E5ECF6",
              "width": 0.5
             },
             "pattern": {
              "fillmode": "overlay",
              "size": 10,
              "solidity": 0.2
             }
            },
            "type": "bar"
           }
          ],
          "barpolar": [
           {
            "marker": {
             "line": {
              "color": "#E5ECF6",
              "width": 0.5
             },
             "pattern": {
              "fillmode": "overlay",
              "size": 10,
              "solidity": 0.2
             }
            },
            "type": "barpolar"
           }
          ],
          "carpet": [
           {
            "aaxis": {
             "endlinecolor": "#2a3f5f",
             "gridcolor": "white",
             "linecolor": "white",
             "minorgridcolor": "white",
             "startlinecolor": "#2a3f5f"
            },
            "baxis": {
             "endlinecolor": "#2a3f5f",
             "gridcolor": "white",
             "linecolor": "white",
             "minorgridcolor": "white",
             "startlinecolor": "#2a3f5f"
            },
            "type": "carpet"
           }
          ],
          "choropleth": [
           {
            "colorbar": {
             "outlinewidth": 0,
             "ticks": ""
            },
            "type": "choropleth"
           }
          ],
          "contour": [
           {
            "colorbar": {
             "outlinewidth": 0,
             "ticks": ""
            },
            "colorscale": [
             [
              0,
              "#0d0887"
             ],
             [
              0.1111111111111111,
              "#46039f"
             ],
             [
              0.2222222222222222,
              "#7201a8"
             ],
             [
              0.3333333333333333,
              "#9c179e"
             ],
             [
              0.4444444444444444,
              "#bd3786"
             ],
             [
              0.5555555555555556,
              "#d8576b"
             ],
             [
              0.6666666666666666,
              "#ed7953"
             ],
             [
              0.7777777777777778,
              "#fb9f3a"
             ],
             [
              0.8888888888888888,
              "#fdca26"
             ],
             [
              1,
              "#f0f921"
             ]
            ],
            "type": "contour"
           }
          ],
          "contourcarpet": [
           {
            "colorbar": {
             "outlinewidth": 0,
             "ticks": ""
            },
            "type": "contourcarpet"
           }
          ],
          "heatmap": [
           {
            "colorbar": {
             "outlinewidth": 0,
             "ticks": ""
            },
            "colorscale": [
             [
              0,
              "#0d0887"
             ],
             [
              0.1111111111111111,
              "#46039f"
             ],
             [
              0.2222222222222222,
              "#7201a8"
             ],
             [
              0.3333333333333333,
              "#9c179e"
             ],
             [
              0.4444444444444444,
              "#bd3786"
             ],
             [
              0.5555555555555556,
              "#d8576b"
             ],
             [
              0.6666666666666666,
              "#ed7953"
             ],
             [
              0.7777777777777778,
              "#fb9f3a"
             ],
             [
              0.8888888888888888,
              "#fdca26"
             ],
             [
              1,
              "#f0f921"
             ]
            ],
            "type": "heatmap"
           }
          ],
          "heatmapgl": [
           {
            "colorbar": {
             "outlinewidth": 0,
             "ticks": ""
            },
            "colorscale": [
             [
              0,
              "#0d0887"
             ],
             [
              0.1111111111111111,
              "#46039f"
             ],
             [
              0.2222222222222222,
              "#7201a8"
             ],
             [
              0.3333333333333333,
              "#9c179e"
             ],
             [
              0.4444444444444444,
              "#bd3786"
             ],
             [
              0.5555555555555556,
              "#d8576b"
             ],
             [
              0.6666666666666666,
              "#ed7953"
             ],
             [
              0.7777777777777778,
              "#fb9f3a"
             ],
             [
              0.8888888888888888,
              "#fdca26"
             ],
             [
              1,
              "#f0f921"
             ]
            ],
            "type": "heatmapgl"
           }
          ],
          "histogram": [
           {
            "marker": {
             "pattern": {
              "fillmode": "overlay",
              "size": 10,
              "solidity": 0.2
             }
            },
            "type": "histogram"
           }
          ],
          "histogram2d": [
           {
            "colorbar": {
             "outlinewidth": 0,
             "ticks": ""
            },
            "colorscale": [
             [
              0,
              "#0d0887"
             ],
             [
              0.1111111111111111,
              "#46039f"
             ],
             [
              0.2222222222222222,
              "#7201a8"
             ],
             [
              0.3333333333333333,
              "#9c179e"
             ],
             [
              0.4444444444444444,
              "#bd3786"
             ],
             [
              0.5555555555555556,
              "#d8576b"
             ],
             [
              0.6666666666666666,
              "#ed7953"
             ],
             [
              0.7777777777777778,
              "#fb9f3a"
             ],
             [
              0.8888888888888888,
              "#fdca26"
             ],
             [
              1,
              "#f0f921"
             ]
            ],
            "type": "histogram2d"
           }
          ],
          "histogram2dcontour": [
           {
            "colorbar": {
             "outlinewidth": 0,
             "ticks": ""
            },
            "colorscale": [
             [
              0,
              "#0d0887"
             ],
             [
              0.1111111111111111,
              "#46039f"
             ],
             [
              0.2222222222222222,
              "#7201a8"
             ],
             [
              0.3333333333333333,
              "#9c179e"
             ],
             [
              0.4444444444444444,
              "#bd3786"
             ],
             [
              0.5555555555555556,
              "#d8576b"
             ],
             [
              0.6666666666666666,
              "#ed7953"
             ],
             [
              0.7777777777777778,
              "#fb9f3a"
             ],
             [
              0.8888888888888888,
              "#fdca26"
             ],
             [
              1,
              "#f0f921"
             ]
            ],
            "type": "histogram2dcontour"
           }
          ],
          "mesh3d": [
           {
            "colorbar": {
             "outlinewidth": 0,
             "ticks": ""
            },
            "type": "mesh3d"
           }
          ],
          "parcoords": [
           {
            "line": {
             "colorbar": {
              "outlinewidth": 0,
              "ticks": ""
             }
            },
            "type": "parcoords"
           }
          ],
          "pie": [
           {
            "automargin": true,
            "type": "pie"
           }
          ],
          "scatter": [
           {
            "fillpattern": {
             "fillmode": "overlay",
             "size": 10,
             "solidity": 0.2
            },
            "type": "scatter"
           }
          ],
          "scatter3d": [
           {
            "line": {
             "colorbar": {
              "outlinewidth": 0,
              "ticks": ""
             }
            },
            "marker": {
             "colorbar": {
              "outlinewidth": 0,
              "ticks": ""
             }
            },
            "type": "scatter3d"
           }
          ],
          "scattercarpet": [
           {
            "marker": {
             "colorbar": {
              "outlinewidth": 0,
              "ticks": ""
             }
            },
            "type": "scattercarpet"
           }
          ],
          "scattergeo": [
           {
            "marker": {
             "colorbar": {
              "outlinewidth": 0,
              "ticks": ""
             }
            },
            "type": "scattergeo"
           }
          ],
          "scattergl": [
           {
            "marker": {
             "colorbar": {
              "outlinewidth": 0,
              "ticks": ""
             }
            },
            "type": "scattergl"
           }
          ],
          "scattermapbox": [
           {
            "marker": {
             "colorbar": {
              "outlinewidth": 0,
              "ticks": ""
             }
            },
            "type": "scattermapbox"
           }
          ],
          "scatterpolar": [
           {
            "marker": {
             "colorbar": {
              "outlinewidth": 0,
              "ticks": ""
             }
            },
            "type": "scatterpolar"
           }
          ],
          "scatterpolargl": [
           {
            "marker": {
             "colorbar": {
              "outlinewidth": 0,
              "ticks": ""
             }
            },
            "type": "scatterpolargl"
           }
          ],
          "scatterternary": [
           {
            "marker": {
             "colorbar": {
              "outlinewidth": 0,
              "ticks": ""
             }
            },
            "type": "scatterternary"
           }
          ],
          "surface": [
           {
            "colorbar": {
             "outlinewidth": 0,
             "ticks": ""
            },
            "colorscale": [
             [
              0,
              "#0d0887"
             ],
             [
              0.1111111111111111,
              "#46039f"
             ],
             [
              0.2222222222222222,
              "#7201a8"
             ],
             [
              0.3333333333333333,
              "#9c179e"
             ],
             [
              0.4444444444444444,
              "#bd3786"
             ],
             [
              0.5555555555555556,
              "#d8576b"
             ],
             [
              0.6666666666666666,
              "#ed7953"
             ],
             [
              0.7777777777777778,
              "#fb9f3a"
             ],
             [
              0.8888888888888888,
              "#fdca26"
             ],
             [
              1,
              "#f0f921"
             ]
            ],
            "type": "surface"
           }
          ],
          "table": [
           {
            "cells": {
             "fill": {
              "color": "#EBF0F8"
             },
             "line": {
              "color": "white"
             }
            },
            "header": {
             "fill": {
              "color": "#C8D4E3"
             },
             "line": {
              "color": "white"
             }
            },
            "type": "table"
           }
          ]
         },
         "layout": {
          "annotationdefaults": {
           "arrowcolor": "#2a3f5f",
           "arrowhead": 0,
           "arrowwidth": 1
          },
          "autotypenumbers": "strict",
          "coloraxis": {
           "colorbar": {
            "outlinewidth": 0,
            "ticks": ""
           }
          },
          "colorscale": {
           "diverging": [
            [
             0,
             "#8e0152"
            ],
            [
             0.1,
             "#c51b7d"
            ],
            [
             0.2,
             "#de77ae"
            ],
            [
             0.3,
             "#f1b6da"
            ],
            [
             0.4,
             "#fde0ef"
            ],
            [
             0.5,
             "#f7f7f7"
            ],
            [
             0.6,
             "#e6f5d0"
            ],
            [
             0.7,
             "#b8e186"
            ],
            [
             0.8,
             "#7fbc41"
            ],
            [
             0.9,
             "#4d9221"
            ],
            [
             1,
             "#276419"
            ]
           ],
           "sequential": [
            [
             0,
             "#0d0887"
            ],
            [
             0.1111111111111111,
             "#46039f"
            ],
            [
             0.2222222222222222,
             "#7201a8"
            ],
            [
             0.3333333333333333,
             "#9c179e"
            ],
            [
             0.4444444444444444,
             "#bd3786"
            ],
            [
             0.5555555555555556,
             "#d8576b"
            ],
            [
             0.6666666666666666,
             "#ed7953"
            ],
            [
             0.7777777777777778,
             "#fb9f3a"
            ],
            [
             0.8888888888888888,
             "#fdca26"
            ],
            [
             1,
             "#f0f921"
            ]
           ],
           "sequentialminus": [
            [
             0,
             "#0d0887"
            ],
            [
             0.1111111111111111,
             "#46039f"
            ],
            [
             0.2222222222222222,
             "#7201a8"
            ],
            [
             0.3333333333333333,
             "#9c179e"
            ],
            [
             0.4444444444444444,
             "#bd3786"
            ],
            [
             0.5555555555555556,
             "#d8576b"
            ],
            [
             0.6666666666666666,
             "#ed7953"
            ],
            [
             0.7777777777777778,
             "#fb9f3a"
            ],
            [
             0.8888888888888888,
             "#fdca26"
            ],
            [
             1,
             "#f0f921"
            ]
           ]
          },
          "colorway": [
           "#636efa",
           "#EF553B",
           "#00cc96",
           "#ab63fa",
           "#FFA15A",
           "#19d3f3",
           "#FF6692",
           "#B6E880",
           "#FF97FF",
           "#FECB52"
          ],
          "font": {
           "color": "#2a3f5f"
          },
          "geo": {
           "bgcolor": "white",
           "lakecolor": "white",
           "landcolor": "#E5ECF6",
           "showlakes": true,
           "showland": true,
           "subunitcolor": "white"
          },
          "hoverlabel": {
           "align": "left"
          },
          "hovermode": "closest",
          "mapbox": {
           "style": "light"
          },
          "paper_bgcolor": "white",
          "plot_bgcolor": "#E5ECF6",
          "polar": {
           "angularaxis": {
            "gridcolor": "white",
            "linecolor": "white",
            "ticks": ""
           },
           "bgcolor": "#E5ECF6",
           "radialaxis": {
            "gridcolor": "white",
            "linecolor": "white",
            "ticks": ""
           }
          },
          "scene": {
           "xaxis": {
            "backgroundcolor": "#E5ECF6",
            "gridcolor": "white",
            "gridwidth": 2,
            "linecolor": "white",
            "showbackground": true,
            "ticks": "",
            "zerolinecolor": "white"
           },
           "yaxis": {
            "backgroundcolor": "#E5ECF6",
            "gridcolor": "white",
            "gridwidth": 2,
            "linecolor": "white",
            "showbackground": true,
            "ticks": "",
            "zerolinecolor": "white"
           },
           "zaxis": {
            "backgroundcolor": "#E5ECF6",
            "gridcolor": "white",
            "gridwidth": 2,
            "linecolor": "white",
            "showbackground": true,
            "ticks": "",
            "zerolinecolor": "white"
           }
          },
          "shapedefaults": {
           "line": {
            "color": "#2a3f5f"
           }
          },
          "ternary": {
           "aaxis": {
            "gridcolor": "white",
            "linecolor": "white",
            "ticks": ""
           },
           "baxis": {
            "gridcolor": "white",
            "linecolor": "white",
            "ticks": ""
           },
           "bgcolor": "#E5ECF6",
           "caxis": {
            "gridcolor": "white",
            "linecolor": "white",
            "ticks": ""
           }
          },
          "title": {
           "x": 0.05
          },
          "xaxis": {
           "automargin": true,
           "gridcolor": "white",
           "linecolor": "white",
           "ticks": "",
           "title": {
            "standoff": 15
           },
           "zerolinecolor": "white",
           "zerolinewidth": 2
          },
          "yaxis": {
           "automargin": true,
           "gridcolor": "white",
           "linecolor": "white",
           "ticks": "",
           "title": {
            "standoff": 15
           },
           "zerolinecolor": "white",
           "zerolinewidth": 2
          }
         }
        },
        "title": {
         "font": {
          "size": 20
         },
         "text": "GOV Average LDA Topic Distribution 2023"
        },
        "xaxis": {
         "anchor": "y",
         "autorange": true,
         "domain": [
          0,
          1
         ],
         "range": [
          -0.5,
          19.5
         ],
         "showticklabels": true,
         "type": "category",
         "visible": true
        },
        "yaxis": {
         "anchor": "x",
         "autorange": true,
         "domain": [
          0,
          1
         ],
         "range": [
          0,
          0.5117981057418021
         ],
         "showticklabels": true,
         "title": {
          "text": "Prob"
         },
         "type": "linear",
         "visible": true
        }
       }
      },
      "image/png": "[encoded data removed]",
      "text/html": [
       "<div>                            <div id=\"be92756b-eb30-4b47-ba49-f661884bed8a\" class=\"plotly-graph-div\" style=\"height:1000px; width:100%;\"></div>            <script type=\"text/javascript\">                require([\"plotly\"], function(Plotly) {                    window.PLOTLYENV=window.PLOTLYENV || {};                                    if (document.getElementById(\"be92756b-eb30-4b47-ba49-f661884bed8a\")) {                    Plotly.newPlot(                        \"be92756b-eb30-4b47-ba49-f661884bed8a\",                        [{\"name\":\"NKIS\",\"x\":[\"topic_1\",\"topic_2\",\"topic_3\",\"topic_4\",\"topic_5\",\"topic_6\",\"topic_7\",\"topic_8\",\"topic_9\",\"topic_10\",\"topic_11\",\"topic_12\",\"topic_13\",\"topic_14\",\"topic_15\",\"topic_16\",\"topic_17\",\"topic_18\",\"topic_19\",\"topic_20\"],\"y\":[3.921155075659044e-05,0.000567840354051441,0.005088552832603455,0.02081046812236309,0.03359758481383324,0.4862082004547119,0.049721285700798035,0.0018561811884865165,0.040492136031389236,0.009085786528885365,0.0005681908805854619,0.010438527911901474,0.26654133200645447,0.006018935237079859,0.005371820647269487,0.002118881093338132,0.03695284575223923,0.017495328560471535,0.006962604355067015,6.428709457395598e-05],\"type\":\"bar\",\"xaxis\":\"x\",\"yaxis\":\"y\"}],                        {\"template\":{\"data\":{\"histogram2dcontour\":[{\"type\":\"histogram2dcontour\",\"colorbar\":{\"outlinewidth\":0,\"ticks\":\"\"},\"colorscale\":[[0.0,\"#0d0887\"],[0.1111111111111111,\"#46039f\"],[0.2222222222222222,\"#7201a8\"],[0.3333333333333333,\"#9c179e\"],[0.4444444444444444,\"#bd3786\"],[0.5555555555555556,\"#d8576b\"],[0.6666666666666666,\"#ed7953\"],[0.7777777777777778,\"#fb9f3a\"],[0.8888888888888888,\"#fdca26\"],[1.0,\"#f0f921\"]]}],\"choropleth\":[{\"type\":\"choropleth\",\"colorbar\":{\"outlinewidth\":0,\"ticks\":\"\"}}],\"histogram2d\":[{\"type\":\"histogram2d\",\"colorbar\":{\"outlinewidth\":0,\"ticks\":\"\"},\"colorscale\":[[0.0,\"#0d0887\"],[0.1111111111111111,\"#46039f\"],[0.2222222222222222,\"#7201a8\"],[0.3333333333333333,\"#9c179e\"],[0.4444444444444444,\"#bd3786\"],[0.5555555555555556,\"#d8576b\"],[0.6666666666666666,\"#ed7953\"],[0.7777777777777778,\"#fb9f3a\"],[0.8888888888888888,\"#fdca26\"],[1.0,\"#f0f921\"]]}],\"heatmap\":[{\"type\":\"heatmap\",\"colorbar\":{\"outlinewidth\":0,\"ticks\":\"\"},\"colorscale\":[[0.0,\"#0d0887\"],[0.1111111111111111,\"#46039f\"],[0.2222222222222222,\"#7201a8\"],[0.3333333333333333,\"#9c179e\"],[0.4444444444444444,\"#bd3786\"],[0.5555555555555556,\"#d8576b\"],[0.6666666666666666,\"#ed7953\"],[0.7777777777777778,\"#fb9f3a\"],[0.8888888888888888,\"#fdca26\"],[1.0,\"#f0f921\"]]}],\"heatmapgl\":[{\"type\":\"heatmapgl\",\"colorbar\":{\"outlinewidth\":0,\"ticks\":\"\"},\"colorscale\":[[0.0,\"#0d0887\"],[0.1111111111111111,\"#46039f\"],[0.2222222222222222,\"#7201a8\"],[0.3333333333333333,\"#9c179e\"],[0.4444444444444444,\"#bd3786\"],[0.5555555555555556,\"#d8576b\"],[0.6666666666666666,\"#ed7953\"],[0.7777777777777778,\"#fb9f3a\"],[0.8888888888888888,\"#fdca26\"],[1.0,\"#f0f921\"]]}],\"contourcarpet\":[{\"type\":\"contourcarpet\",\"colorbar\":{\"outlinewidth\":0,\"ticks\":\"\"}}],\"contour\":[{\"type\":\"contour\",\"colorbar\":{\"outlinewidth\":0,\"ticks\":\"\"},\"colorscale\":[[0.0,\"#0d0887\"],[0.1111111111111111,\"#46039f\"],[0.2222222222222222,\"#7201a8\"],[0.3333333333333333,\"#9c179e\"],[0.4444444444444444,\"#bd3786\"],[0.5555555555555556,\"#d8576b\"],[0.6666666666666666,\"#ed7953\"],[0.7777777777777778,\"#fb9f3a\"],[0.8888888888888888,\"#fdca26\"],[1.0,\"#f0f921\"]]}],\"surface\":[{\"type\":\"surface\",\"colorbar\":{\"outlinewidth\":0,\"ticks\":\"\"},\"colorscale\":[[0.0,\"#0d0887\"],[0.1111111111111111,\"#46039f\"],[0.2222222222222222,\"#7201a8\"],[0.3333333333333333,\"#9c179e\"],[0.4444444444444444,\"#bd3786\"],[0.5555555555555556,\"#d8576b\"],[0.6666666666666666,\"#ed7953\"],[0.7777777777777778,\"#fb9f3a\"],[0.8888888888888888,\"#fdca26\"],[1.0,\"#f0f921\"]]}],\"mesh3d\":[{\"type\":\"mesh3d\",\"colorbar\":{\"outlinewidth\":0,\"ticks\":\"\"}}],\"scatter\":[{\"fillpattern\":{\"fillmode\":\"overlay\",\"size\":10,\"solidity\":0.2},\"type\":\"scatter\"}],\"parcoords\":[{\"type\":\"parcoords\",\"line\":{\"colorbar\":{\"outlinewidth\":0,\"ticks\":\"\"}}}],\"scatterpolargl\":[{\"type\":\"scatterpolargl\",\"marker\":{\"colorbar\":{\"outlinewidth\":0,\"ticks\":\"\"}}}],\"bar\":[{\"error_x\":{\"color\":\"#2a3f5f\"},\"error_y\":{\"color\":\"#2a3f5f\"},\"marker\":{\"line\":{\"color\":\"#E5ECF6\",\"width\":0.5},\"pattern\":{\"fillmode\":\"overlay\",\"size\":10,\"solidity\":0.2}},\"type\":\"bar\"}],\"scattergeo\":[{\"type\":\"scattergeo\",\"marker\":{\"colorbar\":{\"outlinewidth\":0,\"ticks\":\"\"}}}],\"scatterpolar\":[{\"type\":\"scatterpolar\",\"marker\":{\"colorbar\":{\"outlinewidth\":0,\"ticks\":\"\"}}}],\"histogram\":[{\"marker\":{\"pattern\":{\"fillmode\":\"overlay\",\"size\":10,\"solidity\":0.2}},\"type\":\"histogram\"}],\"scattergl\":[{\"type\":\"scattergl\",\"marker\":{\"colorbar\":{\"outlinewidth\":0,\"ticks\":\"\"}}}],\"scatter3d\":[{\"type\":\"scatter3d\",\"line\":{\"colorbar\":{\"outlinewidth\":0,\"ticks\":\"\"}},\"marker\":{\"colorbar\":{\"outlinewidth\":0,\"ticks\":\"\"}}}],\"scattermapbox\":[{\"type\":\"scattermapbox\",\"marker\":{\"colorbar\":{\"outlinewidth\":0,\"ticks\":\"\"}}}],\"scatterternary\":[{\"type\":\"scatterternary\",\"marker\":{\"colorbar\":{\"outlinewidth\":0,\"ticks\":\"\"}}}],\"scattercarpet\":[{\"type\":\"scattercarpet\",\"marker\":{\"colorbar\":{\"outlinewidth\":0,\"ticks\":\"\"}}}],\"carpet\":[{\"aaxis\":{\"endlinecolor\":\"#2a3f5f\",\"gridcolor\":\"white\",\"linecolor\":\"white\",\"minorgridcolor\":\"white\",\"startlinecolor\":\"#2a3f5f\"},\"baxis\":{\"endlinecolor\":\"#2a3f5f\",\"gridcolor\":\"white\",\"linecolor\":\"white\",\"minorgridcolor\":\"white\",\"startlinecolor\":\"#2a3f5f\"},\"type\":\"carpet\"}],\"table\":[{\"cells\":{\"fill\":{\"color\":\"#EBF0F8\"},\"line\":{\"color\":\"white\"}},\"header\":{\"fill\":{\"color\":\"#C8D4E3\"},\"line\":{\"color\":\"white\"}},\"type\":\"table\"}],\"barpolar\":[{\"marker\":{\"line\":{\"color\":\"#E5ECF6\",\"width\":0.5},\"pattern\":{\"fillmode\":\"overlay\",\"size\":10,\"solidity\":0.2}},\"type\":\"barpolar\"}],\"pie\":[{\"automargin\":true,\"type\":\"pie\"}]},\"layout\":{\"autotypenumbers\":\"strict\",\"colorway\":[\"#636efa\",\"#EF553B\",\"#00cc96\",\"#ab63fa\",\"#FFA15A\",\"#19d3f3\",\"#FF6692\",\"#B6E880\",\"#FF97FF\",\"#FECB52\"],\"font\":{\"color\":\"#2a3f5f\"},\"hovermode\":\"closest\",\"hoverlabel\":{\"align\":\"left\"},\"paper_bgcolor\":\"white\",\"plot_bgcolor\":\"#E5ECF6\",\"polar\":{\"bgcolor\":\"#E5ECF6\",\"angularaxis\":{\"gridcolor\":\"white\",\"linecolor\":\"white\",\"ticks\":\"\"},\"radialaxis\":{\"gridcolor\":\"white\",\"linecolor\":\"white\",\"ticks\":\"\"}},\"ternary\":{\"bgcolor\":\"#E5ECF6\",\"aaxis\":{\"gridcolor\":\"white\",\"linecolor\":\"white\",\"ticks\":\"\"},\"baxis\":{\"gridcolor\":\"white\",\"linecolor\":\"white\",\"ticks\":\"\"},\"caxis\":{\"gridcolor\":\"white\",\"linecolor\":\"white\",\"ticks\":\"\"}},\"coloraxis\":{\"colorbar\":{\"outlinewidth\":0,\"ticks\":\"\"}},\"colorscale\":{\"sequential\":[[0.0,\"#0d0887\"],[0.1111111111111111,\"#46039f\"],[0.2222222222222222,\"#7201a8\"],[0.3333333333333333,\"#9c179e\"],[0.4444444444444444,\"#bd3786\"],[0.5555555555555556,\"#d8576b\"],[0.6666666666666666,\"#ed7953\"],[0.7777777777777778,\"#fb9f3a\"],[0.8888888888888888,\"#fdca26\"],[1.0,\"#f0f921\"]],\"sequentialminus\":[[0.0,\"#0d0887\"],[0.1111111111111111,\"#46039f\"],[0.2222222222222222,\"#7201a8\"],[0.3333333333333333,\"#9c179e\"],[0.4444444444444444,\"#bd3786\"],[0.5555555555555556,\"#d8576b\"],[0.6666666666666666,\"#ed7953\"],[0.7777777777777778,\"#fb9f3a\"],[0.8888888888888888,\"#fdca26\"],[1.0,\"#f0f921\"]],\"diverging\":[[0,\"#8e0152\"],[0.1,\"#c51b7d\"],[0.2,\"#de77ae\"],[0.3,\"#f1b6da\"],[0.4,\"#fde0ef\"],[0.5,\"#f7f7f7\"],[0.6,\"#e6f5d0\"],[0.7,\"#b8e186\"],[0.8,\"#7fbc41\"],[0.9,\"#4d9221\"],[1,\"#276419\"]]},\"xaxis\":{\"gridcolor\":\"white\",\"linecolor\":\"white\",\"ticks\":\"\",\"title\":{\"standoff\":15},\"zerolinecolor\":\"white\",\"automargin\":true,\"zerolinewidth\":2},\"yaxis\":{\"gridcolor\":\"white\",\"linecolor\":\"white\",\"ticks\":\"\",\"title\":{\"standoff\":15},\"zerolinecolor\":\"white\",\"automargin\":true,\"zerolinewidth\":2},\"scene\":{\"xaxis\":{\"backgroundcolor\":\"#E5ECF6\",\"gridcolor\":\"white\",\"linecolor\":\"white\",\"showbackground\":true,\"ticks\":\"\",\"zerolinecolor\":\"white\",\"gridwidth\":2},\"yaxis\":{\"backgroundcolor\":\"#E5ECF6\",\"gridcolor\":\"white\",\"linecolor\":\"white\",\"showbackground\":true,\"ticks\":\"\",\"zerolinecolor\":\"white\",\"gridwidth\":2},\"zaxis\":{\"backgroundcolor\":\"#E5ECF6\",\"gridcolor\":\"white\",\"linecolor\":\"white\",\"showbackground\":true,\"ticks\":\"\",\"zerolinecolor\":\"white\",\"gridwidth\":2}},\"shapedefaults\":{\"line\":{\"color\":\"#2a3f5f\"}},\"annotationdefaults\":{\"arrowcolor\":\"#2a3f5f\",\"arrowhead\":0,\"arrowwidth\":1},\"geo\":{\"bgcolor\":\"white\",\"landcolor\":\"#E5ECF6\",\"subunitcolor\":\"white\",\"showland\":true,\"showlakes\":true,\"lakecolor\":\"white\"},\"title\":{\"x\":0.05},\"mapbox\":{\"style\":\"light\"}}},\"xaxis\":{\"anchor\":\"y\",\"domain\":[0.0,1.0],\"visible\":true,\"showticklabels\":true},\"yaxis\":{\"anchor\":\"x\",\"domain\":[0.0,1.0],\"title\":{\"text\":\"Prob\"},\"visible\":true,\"showticklabels\":true},\"title\":{\"font\":{\"size\":20},\"text\":\"GOV Average LDA Topic Distribution 2023\"},\"height\":1000},                        {\"responsive\": true}                    ).then(function(){\n",
       "                            \n",
       "var gd = document.getElementById('be92756b-eb30-4b47-ba49-f661884bed8a');\n",
       "var x = new MutationObserver(function (mutations, observer) {{\n",
       "        var display = window.getComputedStyle(gd).display;\n",
       "        if (!display || display === 'none') {{\n",
       "            console.log([gd, 'removed!']);\n",
       "            Plotly.purge(gd);\n",
       "            observer.disconnect();\n",
       "        }}\n",
       "}});\n",
       "\n",
       "// Listen for the removal of the full notebook cells\n",
       "var notebookContainer = gd.closest('#notebook-container');\n",
       "if (notebookContainer) {{\n",
       "    x.observe(notebookContainer, {childList: true});\n",
       "}}\n",
       "\n",
       "// Listen for the clearing of the current output cell\n",
       "var outputEl = gd.closest('.output');\n",
       "if (outputEl) {{\n",
       "    x.observe(outputEl, {childList: true});\n",
       "}}\n",
       "\n",
       "                        })                };                });            </script>        </div>"
      ]
     },
     "metadata": {},
     "output_type": "display_data"
    }
   ],
   "source": [
    "for i in dist.columns.tolist():\n",
    "    # output type : Average ICT NTIS/NEWS 연도별 html 파일 (html/DTM 폴더)\n",
    "\n",
    "    fig = make_subplots(\n",
    "            rows=1, cols=1, shared_xaxes=True, vertical_spacing=0.1\n",
    "        )\n",
    "    fig.add_bar(x=topics_d, y=dist[i], name =\"NKIS\", row=1, col=1)\n",
    "    fig.update_layout(title=go.layout.Title(text=folder_name+\" Average LDA Topic Distribution \"+ str(i) ,\n",
    "                                            font=go.layout.title.Font(size=20)),\n",
    "                     yaxis_title=\"Prob\",height=1000)\n",
    "\n",
    "    fig.update_xaxes(visible=True, showticklabels=True)\n",
    "    fig.update_yaxes(visible=True, showticklabels=True)\n",
    "    fig.show()\n",
    "    #fig.write_html('./html/DTM/Average_DTM'+str(num_topics)+'.html')\n",
    "    #fig.write_html('./html/DTM/Average_DTM'+str(23)+'.html')"
   ]
  },
  {
   "cell_type": "markdown",
   "id": "09e8ad6a-7713-4cfa-9d2d-f21fc4aaaf54",
   "metadata": {},
   "source": [
    "# 5개년 상위 토픽별 꺾은선 그래프 "
   ]
  },
  {
   "cell_type": "code",
   "execution_count": 138,
   "id": "ec991b1e-f780-43d7-af62-db4f877bb9fe",
   "metadata": {},
   "outputs": [],
   "source": [
    "topn = pd.DataFrame(dist.sum(axis=1)).reset_index()\n",
    "topn.set_index([\"index\"],inplace=True)\n",
    "topn.sort_values(0,inplace=True,ascending=False)"
   ]
  },
  {
   "cell_type": "code",
   "execution_count": 139,
   "id": "034a0d8d-b306-4e0e-b464-d76192ebe65a",
   "metadata": {},
   "outputs": [],
   "source": [
    "color=[ 'aquamarine', 'black', 'blue',\n",
    "            'blueviolet', 'brown', 'burlywood', 'cadetblue',\n",
    "            'chartreuse', 'chocolate', 'coral', 'cornflowerblue',\n",
    "            'cornsilk', 'crimson', 'cyan', 'darkblue', 'darkcyan',\n",
    "            'darkgoldenrod', 'darkgray', 'darkgrey', 'darkgreen',\n",
    "            'darkkhaki', 'darkmagenta', 'darkolivegreen', 'darkorange',\n",
    "            'darkorchid', 'darkred', 'darksalmon', 'darkseagreen',\n",
    "            'darkslateblue', 'darkslategray', 'darkslategrey',\n",
    "            'darkturquoise', 'darkviolet', 'deeppink', 'deepskyblue',\n",
    "            'dimgray', 'dimgrey', 'dodgerblue', 'firebrick',\n",
    "            'floralwhite', 'forestgreen', 'fuchsia', 'gainsboro',\n",
    "            'ghostwhite', 'gold', 'goldenrod', 'gray', 'grey', 'green',\n",
    "            'greenyellow', 'honeydew', 'hotpink', 'indianred', 'indigo',\n",
    "            'ivory', 'khaki', 'lavender', 'lavenderblush', 'lawngreen',\n",
    "            'lemonchiffon', 'lightblue', 'lightcoral', 'lightcyan',\n",
    "            'lightgoldenrodyellow', 'lightgray', 'lightgrey',\n",
    "            'lightgreen', 'lightpink', 'lightsalmon', 'lightseagreen',\n",
    "            'lightskyblue', 'lightslategray', 'lightslategrey',\n",
    "            'lightsteelblue', 'lightyellow', 'lime', 'limegreen',\n",
    "   #         linen, magenta, maroon, mediumaquamarine,\n",
    "   #         mediumblue, mediumorchid, mediumpurple,\n",
    "   ##         mediumseagreen, mediumslateblue, mediumspringgreen,\n",
    "   #         mediumturquoise, mediumvioletred, midnightblue,\n",
    "   #         mintcream, mistyrose, moccasin, navajowhite, navy,\n",
    "   #         oldlace, olive, olivedrab, orange, orangered,\n",
    "   #         orchid, palegoldenrod, palegreen, paleturquoise,\n",
    "   #         palevioletred, papayawhip, peachpuff, peru, pink,\n",
    "   #         plum, powderblue, purple, red, rosybrown,\n",
    "   #         royalblue, rebeccapurple, saddlebrown, salmon,\n",
    "   #         sandybrown, seagreen, seashell, sienna, silver,\n",
    "   #         skyblue, slateblue, slategray, slategrey, snow,\n",
    "    #        springgreen, steelblue, tan, teal, thistle, tomato,\n",
    "    #        turquoise, violet, wheat, white, whitesmoke,\n",
    "            'yellow', 'yellowgreen']"
   ]
  },
  {
   "cell_type": "code",
   "execution_count": 140,
   "id": "e8999252-0faa-40ba-abc4-d5bf89b637ca",
   "metadata": {},
   "outputs": [
    {
     "name": "stdin",
     "output_type": "stream",
     "text": [
      "상위 토픽개수를 정해주시오: 20\n"
     ]
    }
   ],
   "source": [
    "zz = topn[:int(input(\"상위 토픽개수를 정해주시오:\"))].index.tolist()"
   ]
  },
  {
   "cell_type": "code",
   "execution_count": 182,
   "id": "f74d53ae-bfac-42ad-b415-456fdbe05f2d",
   "metadata": {},
   "outputs": [],
   "source": [
    "# zz = topn[6:].index.tolist() \n",
    "# dist = dist.drop([22,24,40,30,39,11])\n",
    "# print(len(zz),len(dist))"
   ]
  },
  {
   "cell_type": "code",
   "execution_count": null,
   "id": "6d3db54e-2241-4c31-bae4-b7456995dab3",
   "metadata": {},
   "outputs": [],
   "source": [
    "    total_ntis = []\n",
    "    for i in zz:\n",
    "        trace = go.Scatter(y = dist.iloc[i], mode = 'lines+markers',\n",
    "                            hovertext='NKIS '+ str(i+1), \n",
    "                           hoverinfo='text',\n",
    "                           name = 'NKIS_Topic '+ str(i+1),\n",
    "                           marker=dict(symbol='cross', color=color[i]),\n",
    "                          )\n",
    "        total_ntis.append(trace)\n",
    "\n",
    "    \n",
    "    layout = go.Layout(title=folder_name + ' LDA 상위 '+str(len(zz))+'개 토픽별 트렌드',legend=dict(font=dict(size=15)),margin=dict(l=20, r=20, t=60, b=100),paper_bgcolor=\"White\",\n",
    "                       autosize=True,title_font_size=20,font=dict(size=15),hoverlabel=dict(\n",
    "        \n",
    "        font_size=16,\n",
    "        font_family=\"Rockwell\"\n",
    "    ),\n",
    "                    xaxis=dict({\"tickvals\":[0,1,2,3,4],\n",
    "                            \"ticktext\":dist.columns[:5].tolist(),\n",
    "                           \"title\":\"Year\"}),\n",
    "                    yaxis=dict({\"title\":\"Prob\"}),\n",
    "                    height=500,width=500)\n",
    "    \n",
    "    gen_ntis = go.Figure(data=total_ntis, layout=layout)\n",
    "    pyo.iplot(gen_ntis)"
   ]
  },
  {
   "cell_type": "markdown",
   "id": "4fbf593b-36ec-41bd-8512-a0c8ae560ee3",
   "metadata": {},
   "source": [
    "# 년도에 따른 토픽 별 대표문서 보기"
   ]
  },
  {
   "cell_type": "code",
   "execution_count": 73,
   "id": "4b6af537-f6c7-461c-86d9-d8885188159d",
   "metadata": {},
   "outputs": [],
   "source": [
    "doc_list = []\n",
    "for i in range(int(year_range)):\n",
    "    globals()[\"year_{}\".format(str(i+2017))] = []\n",
    "for i in range(int(year_range)):\n",
    "    doc_list.append(globals()[\"year_{}\".format(str(i+2017))])\n",
    "    for j in range(mdl.k):\n",
    "        globals()[\"topic_{}\".format(str(j+1))] = pd.DataFrame(columns=[\"index\",\"prob\"])\n",
    "    for j in range(mdl.k):\n",
    "        doc_list[i].append(globals()[\"topic_{}\".format(str(j+1))])"
   ]
  },
  {
   "cell_type": "code",
   "execution_count": 74,
   "id": "7c123202-7cf1-4bed-9934-9d2a3b6fcc0b",
   "metadata": {},
   "outputs": [
    {
     "name": "stderr",
     "output_type": "stream",
     "text": [
      "100%|████████████████████████████████████████████████████████████████████████████████████| 5/5 [00:00<00:00, 16.03it/s]\n"
     ]
    }
   ],
   "source": [
    "for i in tqdm(range(len(year_list))):\n",
    "    for j in year_list[i]:\n",
    "        #if mdl.docs[j].get_topics()[0][1] > 0.5:\n",
    "            doc_list[i][doc_insts[j].get_topics()[0][0]] =\\\n",
    "            pd.concat([doc_list[i][doc_insts[j].get_topics()[0][0]],\n",
    "                   pd.DataFrame([(j,doc_insts[j].get_topics()[0][1])],columns=[\"index\",\"prob\"])])"
   ]
  },
  {
   "cell_type": "code",
   "execution_count": 75,
   "id": "73102099-5fc2-4205-9837-b5cf48f2f5cb",
   "metadata": {},
   "outputs": [
    {
     "name": "stderr",
     "output_type": "stream",
     "text": [
      "100%|███████████████████████████████████████████████████████████████████████████████████| 5/5 [00:00<00:00, 263.13it/s]\n"
     ]
    }
   ],
   "source": [
    "for i in tqdm(range(len(doc_list))):\n",
    "    for j in range(len(doc_list[i])):\n",
    "        doc_list[i][j] = doc_list[i][j].sort_values(\"prob\",ascending=False)"
   ]
  },
  {
   "cell_type": "code",
   "execution_count": 76,
   "id": "ff87d873-5506-4d88-8958-beea7be2741e",
   "metadata": {},
   "outputs": [
    {
     "name": "stdin",
     "output_type": "stream",
     "text": [
      "상위 몇개 토픽을 볼 것인지 입력하시오: 3\n"
     ]
    }
   ],
   "source": [
    "tt  = int(input(\"상위 몇개 토픽을 볼 것인지 입력하시오:\"))"
   ]
  },
  {
   "cell_type": "code",
   "execution_count": null,
   "id": "e7e516c9-bacb-44f5-b565-5a3ee56af4b6",
   "metadata": {
    "scrolled": true,
    "tags": []
   },
   "outputs": [],
   "source": [
    "for i in tqdm(range(mdl.k)) : \n",
    "    print(\"\\n\\n\\n topic_\" + str(i+1))\n",
    "    for u in range(len(doc_list)):\n",
    "        print(\"\\n\\nYear_\"+str(u+2017))\n",
    "        for j in range(tt):\n",
    "            try:    \n",
    "                print(\"\\nindex : \" + str(doc_list[u][i][\"index\"].iloc[:j+1].tolist()[j]))\n",
    "                print(\"prob : \" + str(doc_list[u][i][\"prob\"].iloc[:j+1].tolist()[j]))\n",
    "                print(doc_insts[doc_list[u][i][\"index\"].iloc[:j+1].tolist()[j]])\n",
    "            except IndexError:\n",
    "                print(\"\\n해당 토픽과 년도에 존재하는 문서가 없음\")\n"
   ]
  },
  {
   "cell_type": "code",
   "execution_count": 78,
   "id": "ff94d597-a6dd-4697-b5b6-ea421dd9b398",
   "metadata": {},
   "outputs": [],
   "source": [
    "cc = pd.read_pickle(\"./data/Default/\"+ folder_name + \"/HAN_Filtered_\" + folder_name+ \".pkl\")\n",
    "cc =cc[cc[\"filtered_ICT\"]==1].reset_index(drop=True)"
   ]
  },
  {
   "cell_type": "code",
   "execution_count": 82,
   "id": "ed9427b1-7b19-47d8-8f39-b9554f60a350",
   "metadata": {},
   "outputs": [
    {
     "data": {
      "text/plain": [
       "'초광대역  초고신뢰성 저지연  대규모 기기간통신으로 대변되는 5G 이동통신 서비스 구현을 위해 고밀집 스몰셀의 활용이 증가할 것으로 예상되고 있으며 이어 따른 전송망 수요도 증가할 것으로 전망된다  전송망은 대용량 전송이 필요해 주로 광케이블이 이용되고 있으나 스몰셀 밀집도 증가에 따라 경제적이고 용이한 설치가 가능한 무선 전송망의 역할도 필요할 것으로 예상할 수 있으며 이를 위한 주파수 확보도 필요할 것으로 전망된다  이에 ITU 등 국제기구  미국  영국 등 주요국은 고정업무용 주파수를 활용한 전송망용 주파수 확보방안을 검토하고 있다  기존에 고정업무로 활용되고 있는 60 GHz 대역  70 80 GHz 대역의 대역폭을 확대하거나 90 GHz 대역 및 100 GHz 이상 대역의 신규 분배를 검토하고 있으며  최근 mm파 대역의 5G 이동통신용 신규 지정 시 유연한 주파수 활용을 위해 이동업무와 고정업무를 모두 허용하는 방안이 검토되고 있다  이에 국내에서도 5G 상용화 진행에 따른 트래픽 증가 추세  서비스 사업자 수요 등을 고려해 전송망용 주파수 활용을 위한 신규분배  채널폭 확대  기술기준개정  이동 고정 용도 유연화 검토가 필요하다  I   II  무선 전송망의 특징1  이동통신 시스템의 전송망 2  무선 전송망 주파수 선택을 위한 고려사항3  무선 전송망 기술발전 동향III  해외 고정업무용 주파수 확보 동향1  ITU R  2  유럽 CEPT  3  미국 FCC  4  영국  Ofcom   5  시사점 IV  결론'"
      ]
     },
     "execution_count": 82,
     "metadata": {},
     "output_type": "execute_result"
    }
   ],
   "source": [
    "a = cc.iloc[33,:][\"contents\"].replace(\"\\r\",\"\")\n",
    "b = a.replace(\"\\n\",\"\")\n",
    "b.replace(\"tag\",\"\")"
   ]
  },
  {
   "cell_type": "code",
   "execution_count": null,
   "id": "cf97854b-f987-417c-80b6-cc43188fa7d9",
   "metadata": {},
   "outputs": [],
   "source": [
    "## 문서가 제대로 들어가있는지 확인하는 반복문\n",
    "for j in range(5):\n",
    "    z = 0\n",
    "    for i in range(41):\n",
    "        z +=len(doc_list[j][i])\n",
    "    print(z)"
   ]
  },
  {
   "cell_type": "markdown",
   "id": "bf4f560a-5925-47fc-888d-f44c2889737e",
   "metadata": {},
   "source": [
    "# 년도에 따른 토픽 별 텍스트 네트워크 "
   ]
  },
  {
   "cell_type": "code",
   "execution_count": 149,
   "id": "32edb4de-eda7-4c3a-8bf4-f3314d9f1446",
   "metadata": {},
   "outputs": [
    {
     "name": "stderr",
     "output_type": "stream",
     "text": [
      "100%|███████████████████████████████████████████████████████████████████████████████| 48/48 [00:00<00:00, 11996.58it/s]\n",
      "100%|███████████████████████████████████████████████████████████████████████████████| 48/48 [00:00<00:00, 24093.66it/s]\n",
      "100%|███████████████████████████████████████████████████████████████████████████████| 48/48 [00:00<00:00, 24039.00it/s]\n",
      "100%|███████████████████████████████████████████████████████████████████████████████| 48/48 [00:00<00:00, 16016.44it/s]\n"
     ]
    }
   ],
   "source": [
    "wd_network = pd.DataFrame(index=range(len(corpus)),columns=[\"corpus\",\"mdl.docs\",\"Topic\",\"Topic_prob\"])\n",
    "\n",
    "for i in tqdm(range(len(corpus))):\n",
    "    wd_network.iloc[i][0] =  ' '.join(map(str, corpus[i]))\n",
    "\n",
    "for j in tqdm(range(len(doc_insts))):\n",
    "    wd_network.iloc[j][1] = doc_insts[j]\n",
    "\n",
    "for z in tqdm(range(len(doc_insts))):\n",
    "    wd_network.iloc[z][2] = doc_insts[z].get_topics(top_n=mdl.k)[0][0] + 1\n",
    "\n",
    "for c in tqdm(range(len(doc_insts))):\n",
    "    wd_network.iloc[c][3] = doc_insts[c].get_topics(top_n=mdl.k)[0][1]\n",
    "\n",
    "wd_network[\"year\"] = df[\"year\"].astype(int).copy()\n",
    "if folder_name != \"GOV\":\n",
    "    wd_network[\"year\"] = wd_network[\"year\"].replace(2022,2021)\n",
    "else:\n",
    "    pass"
   ]
  },
  {
   "cell_type": "code",
   "execution_count": 150,
   "id": "d0b5d631-f2d8-45a6-a809-9909b4e45c14",
   "metadata": {},
   "outputs": [
    {
     "data": {
      "text/html": [
       "<div>\n",
       "<style scoped>\n",
       "    .dataframe tbody tr th:only-of-type {\n",
       "        vertical-align: middle;\n",
       "    }\n",
       "\n",
       "    .dataframe tbody tr th {\n",
       "        vertical-align: top;\n",
       "    }\n",
       "\n",
       "    .dataframe thead th {\n",
       "        text-align: right;\n",
       "    }\n",
       "</style>\n",
       "<table border=\"1\" class=\"dataframe\">\n",
       "  <thead>\n",
       "    <tr style=\"text-align: right;\">\n",
       "      <th></th>\n",
       "      <th>corpus</th>\n",
       "      <th>mdl.docs</th>\n",
       "      <th>Topic</th>\n",
       "      <th>Topic_prob</th>\n",
       "      <th>year</th>\n",
       "    </tr>\n",
       "  </thead>\n",
       "  <tbody>\n",
       "    <tr>\n",
       "      <th>0</th>\n",
       "      <td>민 관 디지털 경제 패권 국가 실현 전 세계 디지털 전환 과 기술 패권 경쟁 속 민...</td>\n",
       "      <td>(민, 관, 디지털, 경제, 패권, 국가, 실현, 전, 세계, 디지털, 전환, 과,...</td>\n",
       "      <td>6</td>\n",
       "      <td>0.621606</td>\n",
       "      <td>2022</td>\n",
       "    </tr>\n",
       "    <tr>\n",
       "      <th>1</th>\n",
       "      <td>선진 재난안전 관리체계 구축 기후변화 신종 감염병 등 복잡 대 재난 에 신속 과학적...</td>\n",
       "      <td>(선진, 재난안전, 관리체계, 구축, 기후변화, 신종, 감염병, 등, 복잡, 대, ...</td>\n",
       "      <td>13</td>\n",
       "      <td>0.964096</td>\n",
       "      <td>2022</td>\n",
       "    </tr>\n",
       "    <tr>\n",
       "      <th>2</th>\n",
       "      <td>콘텐츠 의 매력 영향력 지속 을 콘텐츠 의 매력 콘텐츠 의 지속가능한 발전 공정 미...</td>\n",
       "      <td>(콘텐츠, 의, 매력, 영향력, 지속, 을, 콘텐츠, 의, 매력, 콘텐츠, 의, 지...</td>\n",
       "      <td>6</td>\n",
       "      <td>0.495383</td>\n",
       "      <td>2022</td>\n",
       "    </tr>\n",
       "    <tr>\n",
       "      <th>3</th>\n",
       "      <td>국민 생애 단계별 직업 능력 개발 과 일터 지원 국민 평생 요한 직업 능력 개발 기...</td>\n",
       "      <td>(국민, 생애, 단계별, 직업, 능력, 개발, 과, 일터, 지원, 국민, 평생, 요...</td>\n",
       "      <td>6</td>\n",
       "      <td>0.674677</td>\n",
       "      <td>2022</td>\n",
       "    </tr>\n",
       "    <tr>\n",
       "      <th>4</th>\n",
       "      <td>글로벌 미디어 강국 실현 미디어 규제 개선 및 OTT 등 디지털미디어 콘텐츠 산업 ...</td>\n",
       "      <td>(글로벌, 미디어, 강국, 실현, 미디어, 규제, 개선, 및, OTT, 등, 디지털...</td>\n",
       "      <td>9</td>\n",
       "      <td>0.524932</td>\n",
       "      <td>2022</td>\n",
       "    </tr>\n",
       "    <tr>\n",
       "      <th>5</th>\n",
       "      <td>세계 최고 의 네트워크 구축 및 디지털 5G 6G 네트워크 인프라 고도 네트워크 안...</td>\n",
       "      <td>(세계, 최고, 의, 네트워크, 구축, 및, 디지털, 5G, 6G, 네트워크, 인프...</td>\n",
       "      <td>6</td>\n",
       "      <td>0.762918</td>\n",
       "      <td>2022</td>\n",
       "    </tr>\n",
       "    <tr>\n",
       "      <th>6</th>\n",
       "      <td>공공기관 이전 등 지역 성장 거점 육성 수도 완성 세종 국가균형발전 거점 육성 공공...</td>\n",
       "      <td>(공공기관, 이전, 등, 지역, 성장, 거점, 육성, 수도, 완성, 세종, 국가균형...</td>\n",
       "      <td>6</td>\n",
       "      <td>0.998644</td>\n",
       "      <td>2022</td>\n",
       "    </tr>\n",
       "    <tr>\n",
       "      <th>7</th>\n",
       "      <td>코로나19 소상공인 자영업자 의 완전한 도약 온전 손실보상 경영 부담 완화 등 긴급...</td>\n",
       "      <td>(코로나19, 소상공인, 자영업자, 의, 완전한, 도약, 온전, 손실보상, 경영, ...</td>\n",
       "      <td>7</td>\n",
       "      <td>0.531476</td>\n",
       "      <td>2022</td>\n",
       "    </tr>\n",
       "    <tr>\n",
       "      <th>8</th>\n",
       "      <td>국민 과 동행 디지털 미디어 세상 소외 계층 을 포함 국민 대상 미디어 접근성 및 ...</td>\n",
       "      <td>(국민, 과, 동행, 디지털, 미디어, 세상, 소외, 계층, 을, 포함, 국민, 대...</td>\n",
       "      <td>9</td>\n",
       "      <td>0.421925</td>\n",
       "      <td>2022</td>\n",
       "    </tr>\n",
       "    <tr>\n",
       "      <th>9</th>\n",
       "      <td>미래 금융 디지털 금융혁신 금융 의 자의 재량 여지 축소 및 금융권 자율 성과 책임...</td>\n",
       "      <td>(미래, 금융, 디지털, 금융혁신, 금융, 의, 자의, 재량, 여지, 축소, 및, ...</td>\n",
       "      <td>17</td>\n",
       "      <td>0.476542</td>\n",
       "      <td>2022</td>\n",
       "    </tr>\n",
       "    <tr>\n",
       "      <th>10</th>\n",
       "      <td>청년 참 여의 장 을 대폭 청년 정책 과정 수 기회 의 폭 을 종합 청년 정책 추진...</td>\n",
       "      <td>(청년, 참, 여의, 장, 을, 대폭, 청년, 정책, 과정, 수, 기회, 의, 폭,...</td>\n",
       "      <td>6</td>\n",
       "      <td>0.924529</td>\n",
       "      <td>2022</td>\n",
       "    </tr>\n",
       "    <tr>\n",
       "      <th>11</th>\n",
       "      <td>금융 소비자 보호 및 권익 국민 의 상과 밀접 히 관련 금융 개선 국민생활 금융 을...</td>\n",
       "      <td>(금융, 소비자, 보호, 및, 권익, 국민, 의, 상과, 밀접, 히, 관련, 금융,...</td>\n",
       "      <td>7</td>\n",
       "      <td>0.520476</td>\n",
       "      <td>2022</td>\n",
       "    </tr>\n",
       "    <tr>\n",
       "      <th>12</th>\n",
       "      <td>데이터 연결 세계 최고 의 디지털플랫폼 정부 구현 데이터 연결 디지털 플랫폼 위 국...</td>\n",
       "      <td>(데이터, 연결, 세계, 최고, 의, 디지털플랫폼, 정부, 구현, 데이터, 연결, ...</td>\n",
       "      <td>13</td>\n",
       "      <td>0.623087</td>\n",
       "      <td>2022</td>\n",
       "    </tr>\n",
       "    <tr>\n",
       "      <th>13</th>\n",
       "      <td>모빌리티 시대 본격 개막 및 국토교통 산업의 미래 전략산업 국토교통 산업의 4차 산...</td>\n",
       "      <td>(모빌리티, 시대, 본격, 개막, 및, 국토교통, 산업의, 미래, 전략산업, 국토교...</td>\n",
       "      <td>6</td>\n",
       "      <td>0.395753</td>\n",
       "      <td>2022</td>\n",
       "    </tr>\n",
       "    <tr>\n",
       "      <th>14</th>\n",
       "      <td>100세 시대 일자리 건강 체계 강화 어르신 노후 수 일자리 건강 지원 어르신 일자...</td>\n",
       "      <td>(100세, 시대, 일자리, 건강, 체계, 강화, 어르신, 노후, 수, 일자리, 건...</td>\n",
       "      <td>6</td>\n",
       "      <td>0.408177</td>\n",
       "      <td>2022</td>\n",
       "    </tr>\n",
       "    <tr>\n",
       "      <th>15</th>\n",
       "      <td>공정 과 책임 역량 공직 사회 실현 직무 중심 의 공정 인사 시스템 과 소신 껏 수...</td>\n",
       "      <td>(공정, 과, 책임, 역량, 공직, 사회, 실현, 직무, 중심, 의, 공정, 인사,...</td>\n",
       "      <td>6</td>\n",
       "      <td>0.533758</td>\n",
       "      <td>2022</td>\n",
       "    </tr>\n",
       "    <tr>\n",
       "      <th>16</th>\n",
       "      <td>100 만 디지털 인재양성 디지털 반도체 등 역량 신산업 신기술 분야 의 인재 적기...</td>\n",
       "      <td>(100, 만, 디지털, 인재양성, 디지털, 반도체, 등, 역량, 신산업, 신기술,...</td>\n",
       "      <td>6</td>\n",
       "      <td>0.920056</td>\n",
       "      <td>2022</td>\n",
       "    </tr>\n",
       "    <tr>\n",
       "      <th>17</th>\n",
       "      <td>지방자치단체 의 자치 역량 소통 강화 지방자치단체 수 자치 역량 을 지방자치단체 의...</td>\n",
       "      <td>(지방자치단체, 의, 자치, 역량, 소통, 강화, 지방자치단체, 수, 자치, 역량,...</td>\n",
       "      <td>6</td>\n",
       "      <td>0.496385</td>\n",
       "      <td>2022</td>\n",
       "    </tr>\n",
       "    <tr>\n",
       "      <th>18</th>\n",
       "      <td>디지털 자산 인프라 및 규율 체계 구축 투자자 디지털자산 투자 수 여건 조성 투자자...</td>\n",
       "      <td>(디지털, 자산, 인프라, 및, 규율, 체계, 구축, 투자자, 디지털자산, 투자, ...</td>\n",
       "      <td>13</td>\n",
       "      <td>0.937397</td>\n",
       "      <td>2022</td>\n",
       "    </tr>\n",
       "    <tr>\n",
       "      <th>19</th>\n",
       "      <td>국가 교육책 임제 강화로 교육 격차 들이 성장 수 교육 과 돌 국가책임 을 강화 소...</td>\n",
       "      <td>(국가, 임제, 강화로, 교육, 격차, 들이, 성장, 수, 교육, 과, 돌, 국가책...</td>\n",
       "      <td>6</td>\n",
       "      <td>0.544179</td>\n",
       "      <td>2022</td>\n",
       "    </tr>\n",
       "    <tr>\n",
       "      <th>20</th>\n",
       "      <td>중소기업 정책 을 민간주도 관점 재설계 중소기업 의 생존 지원 위주 의 정책 근본적...</td>\n",
       "      <td>(중소기업, 정책, 을, 민간주도, 관점, 재설계, 중소기업, 의, 생존, 지원, ...</td>\n",
       "      <td>6</td>\n",
       "      <td>0.730568</td>\n",
       "      <td>2022</td>\n",
       "    </tr>\n",
       "    <tr>\n",
       "      <th>21</th>\n",
       "      <td>제조업 등 주력산업 고도 일자리 창출 기반 마련 디지털 등 산업경쟁력 원천 변화 대...</td>\n",
       "      <td>(제조업, 등, 주력산업, 고도, 일자리, 창출, 기반, 마련, 디지털, 등, 산업...</td>\n",
       "      <td>6</td>\n",
       "      <td>0.717602</td>\n",
       "      <td>2022</td>\n",
       "    </tr>\n",
       "    <tr>\n",
       "      <th>22</th>\n",
       "      <td>공공기관 대국민 서비스 제공 공공기관 을 재무 건전성 을 공공기관 의 자율 책임 경...</td>\n",
       "      <td>(공공기관, 대국민, 서비스, 제공, 공공기관, 을, 재무, 건전성, 을, 공공기관...</td>\n",
       "      <td>13</td>\n",
       "      <td>0.617844</td>\n",
       "      <td>2022</td>\n",
       "    </tr>\n",
       "    <tr>\n",
       "      <th>23</th>\n",
       "      <td>국민 안심 생활 안전 확보 교통 및 건설 건축 의 안전 관리 체계 과 치안 약자 등...</td>\n",
       "      <td>(국민, 안심, 생활, 안전, 확보, 교통, 및, 건설, 건축, 의, 안전, 관리,...</td>\n",
       "      <td>13</td>\n",
       "      <td>0.850581</td>\n",
       "      <td>2022</td>\n",
       "    </tr>\n",
       "    <tr>\n",
       "      <th>24</th>\n",
       "      <td>사회서비스 혁신 복지 돌봄서비스 고도화 다양 공급 주체 서비스 제공 누구 나 서비스...</td>\n",
       "      <td>(사회서비스, 혁신, 복지, 돌봄서비스, 고도화, 다양, 공급, 주체, 서비스, 제...</td>\n",
       "      <td>13</td>\n",
       "      <td>0.520232</td>\n",
       "      <td>2022</td>\n",
       "    </tr>\n",
       "    <tr>\n",
       "      <th>25</th>\n",
       "      <td>국토 공간 의 성장 전략 지원 그간 균형발전 노력 에도 불구 수도권 경제 집중 은 ...</td>\n",
       "      <td>(국토, 공간, 의, 성장, 전략, 지원, 그간, 균형발전, 노력, 에도, 불구, ...</td>\n",
       "      <td>13</td>\n",
       "      <td>0.627619</td>\n",
       "      <td>2022</td>\n",
       "    </tr>\n",
       "    <tr>\n",
       "      <th>26</th>\n",
       "      <td>안심 먹거리 건강한 생활환경 일상 의 먹거리 안전 망 과 건강 요인 통합 관리 로 ...</td>\n",
       "      <td>(안심, 먹거리, 건강한, 생활환경, 일상, 의, 먹거리, 안전, 망, 과, 건강,...</td>\n",
       "      <td>13</td>\n",
       "      <td>0.603979</td>\n",
       "      <td>2022</td>\n",
       "    </tr>\n",
       "    <tr>\n",
       "      <th>27</th>\n",
       "      <td>필수 의료 기반 강화 및 의료비 부담 완화 언제 어디 국민 의 생명 수 필수 의료 ...</td>\n",
       "      <td>(필수, 의료, 기반, 강화, 및, 의료비, 부담, 완화, 언제, 어디, 국민, 의...</td>\n",
       "      <td>4</td>\n",
       "      <td>0.440157</td>\n",
       "      <td>2022</td>\n",
       "    </tr>\n",
       "    <tr>\n",
       "      <th>28</th>\n",
       "      <td>예비 창업 글로벌 유니콘 까지 완결형 벤처생태계 구현 창업 실제 사업화 성숙 단계 ...</td>\n",
       "      <td>(예비, 창업, 글로벌, 유니콘, 까지, 완결형, 구현, 창업, 실제, 사업화, 성...</td>\n",
       "      <td>6</td>\n",
       "      <td>0.859692</td>\n",
       "      <td>2022</td>\n",
       "    </tr>\n",
       "    <tr>\n",
       "      <th>29</th>\n",
       "      <td>중소기업 자영업자 맞춤형 직업훈련 지원 강화 중소기업 재직자 직업훈련 참여 직업 능...</td>\n",
       "      <td>(중소기업, 자영업자, 맞춤형, 직업훈련, 지원, 강화, 중소기업, 재직자, 직업훈...</td>\n",
       "      <td>6</td>\n",
       "      <td>0.522267</td>\n",
       "      <td>2022</td>\n",
       "    </tr>\n",
       "    <tr>\n",
       "      <th>30</th>\n",
       "      <td>자본시장 과 투자자 신뢰 모험 자본 우리 자본시장 의 공정성 제고 투자자 로부 터 ...</td>\n",
       "      <td>(자본시장, 과, 투자자, 신뢰, 모험, 자본, 우리, 자본시장, 의, 공정성, 제...</td>\n",
       "      <td>17</td>\n",
       "      <td>0.364518</td>\n",
       "      <td>2022</td>\n",
       "    </tr>\n",
       "    <tr>\n",
       "      <th>31</th>\n",
       "      <td>일자리 사업 의 제고 및 비스 고도화 구직자 기업 수요 맞춤형 취업 채용지원 비스 ...</td>\n",
       "      <td>(일자리, 사업, 의, 제고, 및, 비스, 고도화, 구직자, 기업, 수요, 맞춤형,...</td>\n",
       "      <td>6</td>\n",
       "      <td>0.753665</td>\n",
       "      <td>2022</td>\n",
       "    </tr>\n",
       "    <tr>\n",
       "      <th>32</th>\n",
       "      <td>인재 로 양 AI 등 신기술 을 교육 혁신 미래 인재 양성 개개인 국가 책임 의 지...</td>\n",
       "      <td>(인재, 로, 양, AI, 등, 신기술, 을, 교육, 혁신, 미래, 인재, 양성, ...</td>\n",
       "      <td>6</td>\n",
       "      <td>0.921932</td>\n",
       "      <td>2022</td>\n",
       "    </tr>\n",
       "    <tr>\n",
       "      <th>33</th>\n",
       "      <td>산업재해 예방 강화 율의 안전관리체계 구축 지원 산업재해 취약부 문에 산업재해 방을...</td>\n",
       "      <td>(산업재해, 예방, 강화, 율의, 안전관리체계, 구축, 지원, 산업재해, 취약부, ...</td>\n",
       "      <td>13</td>\n",
       "      <td>0.751624</td>\n",
       "      <td>2022</td>\n",
       "    </tr>\n",
       "    <tr>\n",
       "      <th>34</th>\n",
       "      <td>세계 선도 물류 체계 구축 선박 물류거점 스마트항만 구축 산업 경쟁력 디지털 망 구...</td>\n",
       "      <td>(세계, 선도, 물류, 체계, 구축, 선박, 물류거점, 스마트항만, 구축, 산업, ...</td>\n",
       "      <td>5</td>\n",
       "      <td>0.431128</td>\n",
       "      <td>2022</td>\n",
       "    </tr>\n",
       "    <tr>\n",
       "      <th>35</th>\n",
       "      <td>일상 보편적 문화 복지 실현 취약계층 등 문화 기회 대로 공정 문화 접근 기회 보장...</td>\n",
       "      <td>(일상, 보편적, 문화, 복지, 실현, 취약계층, 등, 문화, 기회, 대로, 공정,...</td>\n",
       "      <td>9</td>\n",
       "      <td>0.499413</td>\n",
       "      <td>2022</td>\n",
       "    </tr>\n",
       "    <tr>\n",
       "      <th>36</th>\n",
       "      <td>창군 수준의 국방 추진 AI 과학기술 강군 육성 국방 민 관 위원회 창군 수준 국방...</td>\n",
       "      <td>(수준의, 국방, 추진, AI, 과학기술, 강군, 육성, 국방, 민, 관, 위원회,...</td>\n",
       "      <td>6</td>\n",
       "      <td>0.483426</td>\n",
       "      <td>2022</td>\n",
       "    </tr>\n",
       "    <tr>\n",
       "      <th>37</th>\n",
       "      <td>청년 주거 일자리 교육 등 맞춤형 지원 청 년세 대의 내 집 마련 기회 등 주거 사...</td>\n",
       "      <td>(청년, 주거, 일자리, 교육, 등, 맞춤형, 지원, 청, 년세, 대의, 내, 집,...</td>\n",
       "      <td>6</td>\n",
       "      <td>0.875221</td>\n",
       "      <td>2022</td>\n",
       "    </tr>\n",
       "    <tr>\n",
       "      <th>38</th>\n",
       "      <td>지방 소멸 방지 균형발전 추진체계 강화 지역 지역 여건 정책 마련 국가 가 재정적 ...</td>\n",
       "      <td>(지방, 소멸, 방지, 균형발전, 추진체계, 강화, 지역, 지역, 여건, 정책, 마...</td>\n",
       "      <td>13</td>\n",
       "      <td>0.877932</td>\n",
       "      <td>2022</td>\n",
       "    </tr>\n",
       "    <tr>\n",
       "      <th>39</th>\n",
       "      <td>청년 공정 약의 기회 보장 청 년세 대의 공정 기회 보장 제도적 지원 강화 사회 출...</td>\n",
       "      <td>(청년, 공정, 약의, 기회, 보장, 청, 년세, 대의, 공정, 기회, 보장, 제도...</td>\n",
       "      <td>6</td>\n",
       "      <td>0.702048</td>\n",
       "      <td>2022</td>\n",
       "    </tr>\n",
       "    <tr>\n",
       "      <th>40</th>\n",
       "      <td>대학 자 역동적 구축 4차 산업혁명 대응 자율 과 유연한 운영 지원 기술 자원 을 ...</td>\n",
       "      <td>(대학, 자, 역동적, 구축, 4차, 산업혁명, 대응, 자율, 과, 유연한, 운영,...</td>\n",
       "      <td>6</td>\n",
       "      <td>0.854501</td>\n",
       "      <td>2022</td>\n",
       "    </tr>\n",
       "    <tr>\n",
       "      <th>41</th>\n",
       "      <td>신성장동력 서비스 촉진 신기술 신산업 을 선도 서비스산업 발전 인프라 구축 제조업 ...</td>\n",
       "      <td>(신성장동력, 서비스, 촉진, 신기술, 신산업, 을, 선도, 서비스산업, 발전, 인...</td>\n",
       "      <td>6</td>\n",
       "      <td>0.954145</td>\n",
       "      <td>2022</td>\n",
       "    </tr>\n",
       "    <tr>\n",
       "      <th>42</th>\n",
       "      <td>불공정 거래 기술 탈취 근절 및 중소기업 동반성장 불공정 거래 기술 탈취 방지 분쟁...</td>\n",
       "      <td>(불공정, 거래, 기술, 탈취, 근절, 및, 중소기업, 동반성장, 불공정, 거래, ...</td>\n",
       "      <td>13</td>\n",
       "      <td>0.376523</td>\n",
       "      <td>2022</td>\n",
       "    </tr>\n",
       "    <tr>\n",
       "      <th>43</th>\n",
       "      <td>지역 맞춤형 창업 조성 지역 주도 창의 거점 조성 및 관련 기업 의 집중 지원 지역...</td>\n",
       "      <td>(지역, 맞춤형, 창업, 조성, 지역, 주도, 창의, 거점, 조성, 및, 관련, 기...</td>\n",
       "      <td>6</td>\n",
       "      <td>0.988763</td>\n",
       "      <td>2022</td>\n",
       "    </tr>\n",
       "    <tr>\n",
       "      <th>44</th>\n",
       "      <td>반도체 AI 배터리 등 미래 전략산업 초 격차 경제 안보 국가 경쟁력 과 직결 첨단...</td>\n",
       "      <td>(반도체, AI, 배터리, 등, 미래, 전략산업, 초, 격차, 경제, 안보, 국가,...</td>\n",
       "      <td>6</td>\n",
       "      <td>0.592745</td>\n",
       "      <td>2022</td>\n",
       "    </tr>\n",
       "    <tr>\n",
       "      <th>45</th>\n",
       "      <td>대출 규제 정상화 등 주택 금융 제도 개선 단기간 주택가격 상승 등 상황 도입 대출...</td>\n",
       "      <td>(대출, 규제, 정상화, 등, 주택, 금융, 제도, 개선, 단기간, 주택가격, 상승...</td>\n",
       "      <td>13</td>\n",
       "      <td>0.514726</td>\n",
       "      <td>2022</td>\n",
       "    </tr>\n",
       "    <tr>\n",
       "      <th>46</th>\n",
       "      <td>격차 전략기술 육성 과학기술 도약 기술 패권 경쟁 시대 글로벌 시장 국익 안보 필수...</td>\n",
       "      <td>(격차, 전략기술, 육성, 과학기술, 도약, 기술, 패권, 경쟁, 시대, 글로벌, ...</td>\n",
       "      <td>6</td>\n",
       "      <td>0.787397</td>\n",
       "      <td>2022</td>\n",
       "    </tr>\n",
       "    <tr>\n",
       "      <th>47</th>\n",
       "      <td>지구촌 공동체 구축 재외 국민 보호 역량 을 사회 안전망 구축 재외 동포 지원 을 ...</td>\n",
       "      <td>(지구촌, 공동체, 구축, 재외, 국민, 보호, 역량, 을, 사회, 안전망, 구축,...</td>\n",
       "      <td>13</td>\n",
       "      <td>0.419715</td>\n",
       "      <td>2022</td>\n",
       "    </tr>\n",
       "  </tbody>\n",
       "</table>\n",
       "</div>"
      ],
      "text/plain": [
       "                                               corpus  \\\n",
       "0   민 관 디지털 경제 패권 국가 실현 전 세계 디지털 전환 과 기술 패권 경쟁 속 민...   \n",
       "1   선진 재난안전 관리체계 구축 기후변화 신종 감염병 등 복잡 대 재난 에 신속 과학적...   \n",
       "2   콘텐츠 의 매력 영향력 지속 을 콘텐츠 의 매력 콘텐츠 의 지속가능한 발전 공정 미...   \n",
       "3   국민 생애 단계별 직업 능력 개발 과 일터 지원 국민 평생 요한 직업 능력 개발 기...   \n",
       "4   글로벌 미디어 강국 실현 미디어 규제 개선 및 OTT 등 디지털미디어 콘텐츠 산업 ...   \n",
       "5   세계 최고 의 네트워크 구축 및 디지털 5G 6G 네트워크 인프라 고도 네트워크 안...   \n",
       "6   공공기관 이전 등 지역 성장 거점 육성 수도 완성 세종 국가균형발전 거점 육성 공공...   \n",
       "7   코로나19 소상공인 자영업자 의 완전한 도약 온전 손실보상 경영 부담 완화 등 긴급...   \n",
       "8   국민 과 동행 디지털 미디어 세상 소외 계층 을 포함 국민 대상 미디어 접근성 및 ...   \n",
       "9   미래 금융 디지털 금융혁신 금융 의 자의 재량 여지 축소 및 금융권 자율 성과 책임...   \n",
       "10  청년 참 여의 장 을 대폭 청년 정책 과정 수 기회 의 폭 을 종합 청년 정책 추진...   \n",
       "11  금융 소비자 보호 및 권익 국민 의 상과 밀접 히 관련 금융 개선 국민생활 금융 을...   \n",
       "12  데이터 연결 세계 최고 의 디지털플랫폼 정부 구현 데이터 연결 디지털 플랫폼 위 국...   \n",
       "13  모빌리티 시대 본격 개막 및 국토교통 산업의 미래 전략산업 국토교통 산업의 4차 산...   \n",
       "14  100세 시대 일자리 건강 체계 강화 어르신 노후 수 일자리 건강 지원 어르신 일자...   \n",
       "15  공정 과 책임 역량 공직 사회 실현 직무 중심 의 공정 인사 시스템 과 소신 껏 수...   \n",
       "16  100 만 디지털 인재양성 디지털 반도체 등 역량 신산업 신기술 분야 의 인재 적기...   \n",
       "17  지방자치단체 의 자치 역량 소통 강화 지방자치단체 수 자치 역량 을 지방자치단체 의...   \n",
       "18  디지털 자산 인프라 및 규율 체계 구축 투자자 디지털자산 투자 수 여건 조성 투자자...   \n",
       "19  국가 교육책 임제 강화로 교육 격차 들이 성장 수 교육 과 돌 국가책임 을 강화 소...   \n",
       "20  중소기업 정책 을 민간주도 관점 재설계 중소기업 의 생존 지원 위주 의 정책 근본적...   \n",
       "21  제조업 등 주력산업 고도 일자리 창출 기반 마련 디지털 등 산업경쟁력 원천 변화 대...   \n",
       "22  공공기관 대국민 서비스 제공 공공기관 을 재무 건전성 을 공공기관 의 자율 책임 경...   \n",
       "23  국민 안심 생활 안전 확보 교통 및 건설 건축 의 안전 관리 체계 과 치안 약자 등...   \n",
       "24  사회서비스 혁신 복지 돌봄서비스 고도화 다양 공급 주체 서비스 제공 누구 나 서비스...   \n",
       "25  국토 공간 의 성장 전략 지원 그간 균형발전 노력 에도 불구 수도권 경제 집중 은 ...   \n",
       "26  안심 먹거리 건강한 생활환경 일상 의 먹거리 안전 망 과 건강 요인 통합 관리 로 ...   \n",
       "27  필수 의료 기반 강화 및 의료비 부담 완화 언제 어디 국민 의 생명 수 필수 의료 ...   \n",
       "28  예비 창업 글로벌 유니콘 까지 완결형 벤처생태계 구현 창업 실제 사업화 성숙 단계 ...   \n",
       "29  중소기업 자영업자 맞춤형 직업훈련 지원 강화 중소기업 재직자 직업훈련 참여 직업 능...   \n",
       "30  자본시장 과 투자자 신뢰 모험 자본 우리 자본시장 의 공정성 제고 투자자 로부 터 ...   \n",
       "31  일자리 사업 의 제고 및 비스 고도화 구직자 기업 수요 맞춤형 취업 채용지원 비스 ...   \n",
       "32  인재 로 양 AI 등 신기술 을 교육 혁신 미래 인재 양성 개개인 국가 책임 의 지...   \n",
       "33  산업재해 예방 강화 율의 안전관리체계 구축 지원 산업재해 취약부 문에 산업재해 방을...   \n",
       "34  세계 선도 물류 체계 구축 선박 물류거점 스마트항만 구축 산업 경쟁력 디지털 망 구...   \n",
       "35  일상 보편적 문화 복지 실현 취약계층 등 문화 기회 대로 공정 문화 접근 기회 보장...   \n",
       "36  창군 수준의 국방 추진 AI 과학기술 강군 육성 국방 민 관 위원회 창군 수준 국방...   \n",
       "37  청년 주거 일자리 교육 등 맞춤형 지원 청 년세 대의 내 집 마련 기회 등 주거 사...   \n",
       "38  지방 소멸 방지 균형발전 추진체계 강화 지역 지역 여건 정책 마련 국가 가 재정적 ...   \n",
       "39  청년 공정 약의 기회 보장 청 년세 대의 공정 기회 보장 제도적 지원 강화 사회 출...   \n",
       "40  대학 자 역동적 구축 4차 산업혁명 대응 자율 과 유연한 운영 지원 기술 자원 을 ...   \n",
       "41  신성장동력 서비스 촉진 신기술 신산업 을 선도 서비스산업 발전 인프라 구축 제조업 ...   \n",
       "42  불공정 거래 기술 탈취 근절 및 중소기업 동반성장 불공정 거래 기술 탈취 방지 분쟁...   \n",
       "43  지역 맞춤형 창업 조성 지역 주도 창의 거점 조성 및 관련 기업 의 집중 지원 지역...   \n",
       "44  반도체 AI 배터리 등 미래 전략산업 초 격차 경제 안보 국가 경쟁력 과 직결 첨단...   \n",
       "45  대출 규제 정상화 등 주택 금융 제도 개선 단기간 주택가격 상승 등 상황 도입 대출...   \n",
       "46  격차 전략기술 육성 과학기술 도약 기술 패권 경쟁 시대 글로벌 시장 국익 안보 필수...   \n",
       "47  지구촌 공동체 구축 재외 국민 보호 역량 을 사회 안전망 구축 재외 동포 지원 을 ...   \n",
       "\n",
       "                                             mdl.docs Topic Topic_prob  year  \n",
       "0   (민, 관, 디지털, 경제, 패권, 국가, 실현, 전, 세계, 디지털, 전환, 과,...     6   0.621606  2022  \n",
       "1   (선진, 재난안전, 관리체계, 구축, 기후변화, 신종, 감염병, 등, 복잡, 대, ...    13   0.964096  2022  \n",
       "2   (콘텐츠, 의, 매력, 영향력, 지속, 을, 콘텐츠, 의, 매력, 콘텐츠, 의, 지...     6   0.495383  2022  \n",
       "3   (국민, 생애, 단계별, 직업, 능력, 개발, 과, 일터, 지원, 국민, 평생, 요...     6   0.674677  2022  \n",
       "4   (글로벌, 미디어, 강국, 실현, 미디어, 규제, 개선, 및, OTT, 등, 디지털...     9   0.524932  2022  \n",
       "5   (세계, 최고, 의, 네트워크, 구축, 및, 디지털, 5G, 6G, 네트워크, 인프...     6   0.762918  2022  \n",
       "6   (공공기관, 이전, 등, 지역, 성장, 거점, 육성, 수도, 완성, 세종, 국가균형...     6   0.998644  2022  \n",
       "7   (코로나19, 소상공인, 자영업자, 의, 완전한, 도약, 온전, 손실보상, 경영, ...     7   0.531476  2022  \n",
       "8   (국민, 과, 동행, 디지털, 미디어, 세상, 소외, 계층, 을, 포함, 국민, 대...     9   0.421925  2022  \n",
       "9   (미래, 금융, 디지털, 금융혁신, 금융, 의, 자의, 재량, 여지, 축소, 및, ...    17   0.476542  2022  \n",
       "10  (청년, 참, 여의, 장, 을, 대폭, 청년, 정책, 과정, 수, 기회, 의, 폭,...     6   0.924529  2022  \n",
       "11  (금융, 소비자, 보호, 및, 권익, 국민, 의, 상과, 밀접, 히, 관련, 금융,...     7   0.520476  2022  \n",
       "12  (데이터, 연결, 세계, 최고, 의, 디지털플랫폼, 정부, 구현, 데이터, 연결, ...    13   0.623087  2022  \n",
       "13  (모빌리티, 시대, 본격, 개막, 및, 국토교통, 산업의, 미래, 전략산업, 국토교...     6   0.395753  2022  \n",
       "14  (100세, 시대, 일자리, 건강, 체계, 강화, 어르신, 노후, 수, 일자리, 건...     6   0.408177  2022  \n",
       "15  (공정, 과, 책임, 역량, 공직, 사회, 실현, 직무, 중심, 의, 공정, 인사,...     6   0.533758  2022  \n",
       "16  (100, 만, 디지털, 인재양성, 디지털, 반도체, 등, 역량, 신산업, 신기술,...     6   0.920056  2022  \n",
       "17  (지방자치단체, 의, 자치, 역량, 소통, 강화, 지방자치단체, 수, 자치, 역량,...     6   0.496385  2022  \n",
       "18  (디지털, 자산, 인프라, 및, 규율, 체계, 구축, 투자자, 디지털자산, 투자, ...    13   0.937397  2022  \n",
       "19  (국가, 임제, 강화로, 교육, 격차, 들이, 성장, 수, 교육, 과, 돌, 국가책...     6   0.544179  2022  \n",
       "20  (중소기업, 정책, 을, 민간주도, 관점, 재설계, 중소기업, 의, 생존, 지원, ...     6   0.730568  2022  \n",
       "21  (제조업, 등, 주력산업, 고도, 일자리, 창출, 기반, 마련, 디지털, 등, 산업...     6   0.717602  2022  \n",
       "22  (공공기관, 대국민, 서비스, 제공, 공공기관, 을, 재무, 건전성, 을, 공공기관...    13   0.617844  2022  \n",
       "23  (국민, 안심, 생활, 안전, 확보, 교통, 및, 건설, 건축, 의, 안전, 관리,...    13   0.850581  2022  \n",
       "24  (사회서비스, 혁신, 복지, 돌봄서비스, 고도화, 다양, 공급, 주체, 서비스, 제...    13   0.520232  2022  \n",
       "25  (국토, 공간, 의, 성장, 전략, 지원, 그간, 균형발전, 노력, 에도, 불구, ...    13   0.627619  2022  \n",
       "26  (안심, 먹거리, 건강한, 생활환경, 일상, 의, 먹거리, 안전, 망, 과, 건강,...    13   0.603979  2022  \n",
       "27  (필수, 의료, 기반, 강화, 및, 의료비, 부담, 완화, 언제, 어디, 국민, 의...     4   0.440157  2022  \n",
       "28  (예비, 창업, 글로벌, 유니콘, 까지, 완결형, 구현, 창업, 실제, 사업화, 성...     6   0.859692  2022  \n",
       "29  (중소기업, 자영업자, 맞춤형, 직업훈련, 지원, 강화, 중소기업, 재직자, 직업훈...     6   0.522267  2022  \n",
       "30  (자본시장, 과, 투자자, 신뢰, 모험, 자본, 우리, 자본시장, 의, 공정성, 제...    17   0.364518  2022  \n",
       "31  (일자리, 사업, 의, 제고, 및, 비스, 고도화, 구직자, 기업, 수요, 맞춤형,...     6   0.753665  2022  \n",
       "32  (인재, 로, 양, AI, 등, 신기술, 을, 교육, 혁신, 미래, 인재, 양성, ...     6   0.921932  2022  \n",
       "33  (산업재해, 예방, 강화, 율의, 안전관리체계, 구축, 지원, 산업재해, 취약부, ...    13   0.751624  2022  \n",
       "34  (세계, 선도, 물류, 체계, 구축, 선박, 물류거점, 스마트항만, 구축, 산업, ...     5   0.431128  2022  \n",
       "35  (일상, 보편적, 문화, 복지, 실현, 취약계층, 등, 문화, 기회, 대로, 공정,...     9   0.499413  2022  \n",
       "36  (수준의, 국방, 추진, AI, 과학기술, 강군, 육성, 국방, 민, 관, 위원회,...     6   0.483426  2022  \n",
       "37  (청년, 주거, 일자리, 교육, 등, 맞춤형, 지원, 청, 년세, 대의, 내, 집,...     6   0.875221  2022  \n",
       "38  (지방, 소멸, 방지, 균형발전, 추진체계, 강화, 지역, 지역, 여건, 정책, 마...    13   0.877932  2022  \n",
       "39  (청년, 공정, 약의, 기회, 보장, 청, 년세, 대의, 공정, 기회, 보장, 제도...     6   0.702048  2022  \n",
       "40  (대학, 자, 역동적, 구축, 4차, 산업혁명, 대응, 자율, 과, 유연한, 운영,...     6   0.854501  2022  \n",
       "41  (신성장동력, 서비스, 촉진, 신기술, 신산업, 을, 선도, 서비스산업, 발전, 인...     6   0.954145  2022  \n",
       "42  (불공정, 거래, 기술, 탈취, 근절, 및, 중소기업, 동반성장, 불공정, 거래, ...    13   0.376523  2022  \n",
       "43  (지역, 맞춤형, 창업, 조성, 지역, 주도, 창의, 거점, 조성, 및, 관련, 기...     6   0.988763  2022  \n",
       "44  (반도체, AI, 배터리, 등, 미래, 전략산업, 초, 격차, 경제, 안보, 국가,...     6   0.592745  2022  \n",
       "45  (대출, 규제, 정상화, 등, 주택, 금융, 제도, 개선, 단기간, 주택가격, 상승...    13   0.514726  2022  \n",
       "46  (격차, 전략기술, 육성, 과학기술, 도약, 기술, 패권, 경쟁, 시대, 글로벌, ...     6   0.787397  2022  \n",
       "47  (지구촌, 공동체, 구축, 재외, 국민, 보호, 역량, 을, 사회, 안전망, 구축,...    13   0.419715  2022  "
      ]
     },
     "execution_count": 150,
     "metadata": {},
     "output_type": "execute_result"
    }
   ],
   "source": [
    "wd_network"
   ]
  },
  {
   "cell_type": "code",
   "execution_count": 151,
   "id": "9432433c-84e2-4f01-820a-fc3edbc13c41",
   "metadata": {},
   "outputs": [
    {
     "data": {
      "text/plain": [
       "7"
      ]
     },
     "execution_count": 151,
     "metadata": {},
     "output_type": "execute_result"
    }
   ],
   "source": [
    "wd_network[\"Topic\"].nunique() #존재하지 않는 토픽이 많음을 확인"
   ]
  },
  {
   "cell_type": "code",
   "execution_count": 152,
   "id": "267fd43c-eb21-4ffd-9b6e-a100b038756e",
   "metadata": {},
   "outputs": [],
   "source": [
    "wd_network_lda = wd_network.copy() ##최초 1회만 실행"
   ]
  },
  {
   "cell_type": "code",
   "execution_count": 153,
   "id": "c9ce1d94-2caa-4216-9797-774e36bf2f55",
   "metadata": {},
   "outputs": [
    {
     "name": "stdin",
     "output_type": "stream",
     "text": [
      "사용년도의 범위를 입력하시오 ex)2017~2021:5 : 1\n",
      "토픽의 개수를 입력하시오: 20\n"
     ]
    }
   ],
   "source": [
    "year_range = input(\"사용년도의 범위를 입력하시오 ex)2017~2021:5 :\")\n",
    "topic_len = input(\"토픽의 개수를 입력하시오:\")"
   ]
  },
  {
   "cell_type": "markdown",
   "id": "f4237663-a19d-4797-a345-55648d99e344",
   "metadata": {},
   "source": [
    "# 보고서 쓰기위한 워드 데이터프레임 생성"
   ]
  },
  {
   "cell_type": "code",
   "execution_count": 168,
   "id": "2fe2b2c3-8e2a-4820-965e-5bba5f2652df",
   "metadata": {},
   "outputs": [],
   "source": [
    "# from collections import Counter\n",
    "\n",
    "# df = pd.DataFrame()\n",
    "# for c in range(2017,2022):\n",
    "#     wd_network = wd_network_lda[wd_network_lda[\"year\"]==c]\n",
    "#     final = []\n",
    "#     for j in range(topic_num):\n",
    "#         temp= []\n",
    "#         temp2 = []\n",
    "#         using_word = np.array(mdl.get_topic_words(j,500))[:,0].tolist()\n",
    "#         wd = wd_network[wd_network[\"Topic\"]==j+1]\n",
    "#         if len(wd)>0:\n",
    "#             for i in range(len(wd)):\n",
    "#                 temp.append(wd[\"corpus\"].iloc[i].split(\" \"))\n",
    "#             temp = sum(temp,[])\n",
    "#             all_word =Counter(temp).most_common()\n",
    "#             for i in (np.array(all_word)[:,0].tolist()):\n",
    "#                 if i in using_word:\n",
    "#                     temp2.append(i)\n",
    "#                     if len(temp2)==10:\n",
    "#                         break\n",
    "#             final.append(temp2)\n",
    "#         else:\n",
    "#             final.append(\"\")\n",
    "#     df = pd.concat([df,pd.Series(final)],axis=1)\n",
    "\n",
    "# df.columns=range(2017,2022)\n",
    "# df.index = df.index+1\n",
    "\n",
    "# df.to_excel(\"NKIS토픽별 주요 단어.xlsx\",index=False)\n",
    "# df"
   ]
  },
  {
   "cell_type": "markdown",
   "id": "b8516a04-c920-48cd-a331-475f6bac10c0",
   "metadata": {},
   "source": [
    "## 자동"
   ]
  },
  {
   "cell_type": "code",
   "execution_count": null,
   "id": "ce231deb-ddc1-4d72-ab9e-928430997a23",
   "metadata": {
    "scrolled": true,
    "tags": []
   },
   "outputs": [],
   "source": [
    "for timepoint in tqdm(range(int(year_range))):\n",
    "\n",
    "    if timepoint == 0:\n",
    "        wd_network  = wd_network_lda[wd_network_lda[\"year\"]==2017]\n",
    "    elif timepoint == 1:\n",
    "        wd_network  = wd_network_lda[wd_network_lda[\"year\"]==2018]\n",
    "    elif timepoint == 2:\n",
    "        wd_network  = wd_network_lda[wd_network_lda[\"year\"]==2019]\n",
    "    elif timepoint == 3:\n",
    "        wd_network  = wd_network_lda[wd_network_lda[\"year\"]==2020]\n",
    "    elif timepoint == 4:\n",
    "        wd_network  = wd_network_lda[wd_network_lda[\"year\"]==2021]\n",
    "        \n",
    "\n",
    "    for topic_num in tqdm(range(int(topic_len))):\n",
    "        using_word= []\n",
    "        try:\n",
    "            for i in range(500):\n",
    "                using_word.append(mdl.get_topic_words(topic_num,top_n=500)[i][0]) \n",
    "\n",
    "            df = pd.DataFrame()\n",
    "            if len(wd_network[wd_network[\"Topic\"]==topic_num+1].sort_values(\"Topic_prob\",ascending=False)) < 100:\n",
    "                a = len(wd_network[wd_network[\"Topic\"]==topic_num+1].sort_values(\"Topic_prob\",ascending=False))\n",
    "            else :\n",
    "                a = 100 \n",
    "            for i in range(a):\n",
    "                temp = wd_network[wd_network[\"Topic\"]==topic_num+1].sort_values(\"Topic_prob\",ascending=False).iloc[i][0]\n",
    "                temp2 = []\n",
    "                for j in (temp.split(\" \")):\n",
    "                    if j in using_word:\n",
    "                        temp2.append(j)\n",
    "                    else:\n",
    "                        continue\n",
    "                count = {}\n",
    "                for c,a in enumerate(temp2):  # i는 숫자 a는 1행 \n",
    "                    for b in temp2[c+1:]:\n",
    "                        if a>b:\n",
    "                            count[b,a] = count.get((b,a),0)+1\n",
    "                        else:\n",
    "                            count[a,b] = count.get((a,b),0)+1\n",
    "                word_df = pd.DataFrame.from_dict(count,orient=\"index\")  \n",
    "                df = pd.concat([df,word_df])\n",
    "\n",
    "            df.reset_index(inplace=True)\n",
    "            df[1] = pd.DataFrame(df[\"index\"].tolist())[0]\n",
    "            df[2] = pd.DataFrame(df[\"index\"].tolist())[1]\n",
    "            df = df[df[1]!=df[2]]\n",
    "            df= pd.DataFrame(df.groupby(\"index\")[0].sum())\n",
    "\n",
    "            list1 = []\n",
    "            for i in range(len(df)):\n",
    "                list1.append([df.index[i][0],df.index[i][1],df[0][i]])\n",
    "\n",
    "            df2 = pd.DataFrame(list1,columns=[\"term1\",\"term2\",\"freq\"])\n",
    "            df3 = df2.sort_values(by=[\"freq\"],ascending=False)\n",
    "            df3 = df3.reset_index(drop=True)\n",
    "\n",
    "            i =1\n",
    "            while len((np.where(df3[\"freq\"]>=i))[0])>100:\n",
    "                i +=1\n",
    "            freq_num=i\n",
    "\n",
    "            G_centrality = nx.Graph()\n",
    "            for i in range(len((np.where(df3[\"freq\"]>=freq_num))[0])):\n",
    "                G_centrality.add_edge(df3[\"term1\"][i],df3[\"term2\"][i],weight=int(df3[\"freq\"][i]))\n",
    "\n",
    "            dgr = nx.degree_centrality(G_centrality)      #연결 중심성\n",
    "            btw = nx.betweenness_centrality(G_centrality) #매개 중심성\n",
    "            cls = nx.closeness_centrality(G_centrality)   #근접 중심성\n",
    "            egv = nx.eigenvector_centrality(G_centrality, tol=1.0e-3) #고유벡터 중심성\n",
    "            pgr = nx.pagerank(G_centrality) #페이지랭크 안됨 \n",
    "\n",
    "            sorted_dgr = sorted(dgr.items(), key=operator.itemgetter(1), reverse=True)\n",
    "            sorted_btw = sorted(btw.items(), key=operator.itemgetter(1), reverse=True)\n",
    "            sorted_cls = sorted(cls.items(), key=operator.itemgetter(1), reverse=True)\n",
    "            sorted_egv = sorted(egv.items(), key=operator.itemgetter(1), reverse=True)\n",
    "            sorted_pgr = sorted(pgr.items(), key=operator.itemgetter(1), reverse=True)\n",
    "\n",
    "            G= nx.Graph()\n",
    "\n",
    "            for i in range(len(sorted_pgr)):\n",
    "                G.add_node(sorted_pgr[i][0],nodesize=sorted_dgr[i][1])\n",
    "            for i in range(len((np.where(df3[\"freq\"]>=freq_num))[0])):\n",
    "                G.add_weighted_edges_from([(df3[\"term1\"][i],df3[\"term2\"][i],int(df3[\"freq\"][i]))])\n",
    "\n",
    "            sizes = [G.nodes[node][\"nodesize\"]*2000 for node in G]\n",
    "\n",
    "            ## 마이너스 폰트 깨지는 문제에 대한 대처\n",
    "            mpl.rcParams['axes.unicode_minus'] = False\n",
    "            font_fname = \"C:\\\\Windows\\\\Fonts\\\\NanumGothicCoding-bold.ttf\"\n",
    "            fontprop = fm.FontProperties(fname=font_fname,size=10).get_name()\n",
    "\n",
    "            options={\n",
    "                \"edge_color\":'#FFDEA2',\n",
    "                \"width\":1,\n",
    "                \"with_labels\":True,\n",
    "                \"font_weight\":\"bold\",\n",
    "            }\n",
    "\n",
    "            plt.figure(figsize=(16,8)); \n",
    "            nx.draw_networkx(G,node_size=sizes,pos=nx.kamada_kawai_layout(G),**options,font_family=fontprop)\n",
    "            ax = plt.gca()\n",
    "            ax.collections[0].set_edgecolor(\"#555555\")\n",
    "\n",
    "            plt.savefig(\"C:\\\\Users\\\\newcomer02\\\\NTIS_Project\\\\data\\\\Default\\\\NTIS\\\\LDA\\\\Topic_Network_NKIS\\\\Topic\" + str(topic_num+1) +\"_\"+str(timepoint+2017)+\".png\", bbox_inches='tight')\n",
    "        except:\n",
    "            pass"
   ]
  },
  {
   "cell_type": "markdown",
   "id": "942de844-9f09-405d-ba29-411bd08f4cd1",
   "metadata": {},
   "source": [
    "# 년도 구분하지 않은 텍스트 네트워크"
   ]
  },
  {
   "cell_type": "code",
   "execution_count": null,
   "id": "0c1b3f9f-449c-4000-bfb1-9ff90bb52ebe",
   "metadata": {},
   "outputs": [],
   "source": [
    "for topic_num in tqdm(range(int(topic_len))):\n",
    "    using_word= []\n",
    "    try:\n",
    "        for i in range(500):\n",
    "            using_word.append(mdl.get_topic_words(topic_num,top_n=500)[i][0]) \n",
    "\n",
    "        df = pd.DataFrame()\n",
    "        if len(wd_network[wd_network[\"Topic\"]==topic_num+1].sort_values(\"Topic_prob\",ascending=False)) < 100:\n",
    "            a = len(wd_network[wd_network[\"Topic\"]==topic_num+1].sort_values(\"Topic_prob\",ascending=False))\n",
    "        else :\n",
    "            a = 100 \n",
    "        for i in range(a):\n",
    "            temp = wd_network[wd_network[\"Topic\"]==topic_num+1].sort_values(\"Topic_prob\",ascending=False).iloc[i][0]\n",
    "            temp2 = []\n",
    "            for j in (temp.split(\" \")):\n",
    "                if j in using_word:\n",
    "                    temp2.append(j)\n",
    "                else:\n",
    "                    continue\n",
    "            count = {}\n",
    "            for c,a in enumerate(temp2):  # i는 숫자 a는 1행 \n",
    "                for b in temp2[c+1:]:\n",
    "                    if a>b:\n",
    "                        count[b,a] = count.get((b,a),0)+1\n",
    "                    else:\n",
    "                        count[a,b] = count.get((a,b),0)+1\n",
    "            word_df = pd.DataFrame.from_dict(count,orient=\"index\")  \n",
    "            df = pd.concat([df,word_df])\n",
    "\n",
    "        df.reset_index(inplace=True)\n",
    "        df[1] = pd.DataFrame(df[\"index\"].tolist())[0]\n",
    "        df[2] = pd.DataFrame(df[\"index\"].tolist())[1]\n",
    "        df = df[df[1]!=df[2]]\n",
    "        df= pd.DataFrame(df.groupby(\"index\")[0].sum())\n",
    "\n",
    "        list1 = []\n",
    "        for i in range(len(df)):\n",
    "            list1.append([df.index[i][0],df.index[i][1],df[0][i]])\n",
    "\n",
    "        df2 = pd.DataFrame(list1,columns=[\"term1\",\"term2\",\"freq\"])\n",
    "        df3 = df2.sort_values(by=[\"freq\"],ascending=False)\n",
    "        df3 = df3.reset_index(drop=True)\n",
    "\n",
    "        i =1\n",
    "        while len((np.where(df3[\"freq\"]>=i))[0])>100:\n",
    "            i +=1\n",
    "        freq_num=i\n",
    "\n",
    "        G_centrality = nx.Graph()\n",
    "        for i in range(len((np.where(df3[\"freq\"]>=freq_num))[0])):\n",
    "            G_centrality.add_edge(df3[\"term1\"][i],df3[\"term2\"][i],weight=int(df3[\"freq\"][i]))\n",
    "\n",
    "        dgr = nx.degree_centrality(G_centrality)      #연결 중심성\n",
    "        btw = nx.betweenness_centrality(G_centrality) #매개 중심성\n",
    "        cls = nx.closeness_centrality(G_centrality)   #근접 중심성\n",
    "        egv = nx.eigenvector_centrality(G_centrality, tol=1.0e-3) #고유벡터 중심성\n",
    "        pgr = nx.pagerank(G_centrality) #페이지랭크 안됨 \n",
    "\n",
    "        sorted_dgr = sorted(dgr.items(), key=operator.itemgetter(1), reverse=True)\n",
    "        sorted_btw = sorted(btw.items(), key=operator.itemgetter(1), reverse=True)\n",
    "        sorted_cls = sorted(cls.items(), key=operator.itemgetter(1), reverse=True)\n",
    "        sorted_egv = sorted(egv.items(), key=operator.itemgetter(1), reverse=True)\n",
    "        sorted_pgr = sorted(pgr.items(), key=operator.itemgetter(1), reverse=True)\n",
    "\n",
    "        G= nx.Graph()\n",
    "\n",
    "        for i in range(len(sorted_pgr)):\n",
    "            G.add_node(sorted_pgr[i][0],nodesize=sorted_dgr[i][1])\n",
    "        for i in range(len((np.where(df3[\"freq\"]>=freq_num))[0])):\n",
    "            G.add_weighted_edges_from([(df3[\"term1\"][i],df3[\"term2\"][i],int(df3[\"freq\"][i]))])\n",
    "\n",
    "        sizes = [G.nodes[node][\"nodesize\"]*2000 for node in G]\n",
    "\n",
    "        ## 마이너스 폰트 깨지는 문제에 대한 대처\n",
    "        mpl.rcParams['axes.unicode_minus'] = False\n",
    "        font_fname = \"C:\\\\Windows\\\\Fonts\\\\NanumGothicCoding-bold.ttf\"\n",
    "        fontprop = fm.FontProperties(fname=font_fname,size=10).get_name()\n",
    "\n",
    "        options={\n",
    "            \"edge_color\":'#FFDEA2',\n",
    "            \"width\":1,\n",
    "            \"with_labels\":True,\n",
    "            \"font_weight\":\"bold\",\n",
    "        }\n",
    "\n",
    "        plt.figure(figsize=(16,8)); \n",
    "        nx.draw_networkx(G,node_size=sizes,pos=nx.kamada_kawai_layout(G),**options,font_family=fontprop)\n",
    "        ax = plt.gca()\n",
    "        ax.collections[0].set_edgecolor(\"#555555\")\n",
    "\n",
    "        plt.savefig(\".\\\\data\\\\Default\\\\\"+folder_name+\"\\\\LDA\\\\Topic_Network_\"+folder_name+\"\\\\Topic\" + str(topic_num+1)+\".png\", bbox_inches='tight')\n",
    "    except:\n",
    "        pass"
   ]
  },
  {
   "cell_type": "code",
   "execution_count": null,
   "id": "fdbb482e-0a3b-46b8-b346-cd3c9981a36d",
   "metadata": {
    "scrolled": true,
    "tags": []
   },
   "outputs": [],
   "source": [
    "print(\"** degree **\")\n",
    "for x in range(len(G)):\n",
    "    print(sorted_dgr[x])"
   ]
  },
  {
   "cell_type": "code",
   "execution_count": null,
   "id": "309b88bd",
   "metadata": {
    "scrolled": true
   },
   "outputs": [],
   "source": [
    "print(\"** betweenness **\")\n",
    "for x in range(len(G)):\n",
    "    print(sorted_btw[x])"
   ]
  },
  {
   "cell_type": "code",
   "execution_count": null,
   "id": "f2ea7e0c",
   "metadata": {
    "scrolled": true
   },
   "outputs": [],
   "source": [
    "print(\"** closeness **\")\n",
    "for x in range(len(G)):\n",
    "    print(sorted_cls[x])"
   ]
  },
  {
   "cell_type": "markdown",
   "id": "6260d194-dcc7-4f84-9bc2-3d89a8757d78",
   "metadata": {},
   "source": [
    "## 깨진 파일 1개 자동"
   ]
  },
  {
   "cell_type": "code",
   "execution_count": null,
   "id": "9d0bbebb-5300-40bb-af66-7be520032a32",
   "metadata": {},
   "outputs": [],
   "source": [
    "wd_network_lda = wd_network.copy() ## 최초 한번만 실행 그 후로 실행x"
   ]
  },
  {
   "cell_type": "code",
   "execution_count": null,
   "id": "a1262e7f-6b82-477a-80d4-935e6f9650c3",
   "metadata": {},
   "outputs": [],
   "source": [
    "topic_num=int(input(\"분석하고 싶은 토픽 번호를 입력하십시오:\"))-1\n",
    "timepoint = int(input(\"보고싶은 년도를 입력해주시오: ex)2017:0 ~ 2021:4 :\"))\n",
    "if timepoint == 0:\n",
    "    wd_network  = wd_network_lda[wd_network_lda[\"year\"]==2017]\n",
    "elif timepoint == 1:\n",
    "    wd_network  = wd_network_lda[wd_network_lda[\"year\"]==2018]\n",
    "elif timepoint == 2:\n",
    "    wd_network  = wd_network_lda[wd_network_lda[\"year\"]==2019]\n",
    "elif timepoint == 3:\n",
    "    wd_network  = wd_network_lda[wd_network_lda[\"year\"]==2020]\n",
    "elif timepoint == 4:\n",
    "    wd_network  = wd_network_lda[wd_network_lda[\"year\"]==2021]"
   ]
  },
  {
   "cell_type": "code",
   "execution_count": null,
   "id": "fe8ee548-5398-42b5-bedf-8bd5740274b5",
   "metadata": {},
   "outputs": [],
   "source": [
    "using_word= []\n",
    "for i in range(500):\n",
    "    using_word.append(mdl.get_topic_words(topic_num,top_n=500)[i][0]) \n",
    "    \n",
    "df = pd.DataFrame()\n",
    "if len(wd_network[wd_network[\"Topic\"]==topic_num+1].sort_values(\"Topic_prob\",ascending=False)) < 100:\n",
    "    a = len(wd_network[wd_network[\"Topic\"]==topic_num+1].sort_values(\"Topic_prob\",ascending=False))\n",
    "else :\n",
    "    a = 100 \n",
    "for i in range(a):\n",
    "    temp = wd_network[wd_network[\"Topic\"]==topic_num+1].sort_values(\"Topic_prob\",ascending=False).iloc[i][0]\n",
    "    temp2 = []\n",
    "    for j in (temp.split(\" \")):\n",
    "        if j in using_word:\n",
    "            temp2.append(j)\n",
    "        else:\n",
    "            continue\n",
    "    count = {}\n",
    "    for c,a in enumerate(temp2):  # i는 숫자 a는 1행 \n",
    "        for b in temp2[c+1:]:\n",
    "            if a>b:\n",
    "                count[b,a] = count.get((b,a),0)+1\n",
    "            else:\n",
    "                count[a,b] = count.get((a,b),0)+1\n",
    "    word_df = pd.DataFrame.from_dict(count,orient=\"index\")  \n",
    "    df = pd.concat([df,word_df])\n",
    "df.reset_index(inplace=True)\n",
    "df[1] = pd.DataFrame(df[\"index\"].tolist())[0]\n",
    "df[2] = pd.DataFrame(df[\"index\"].tolist())[1]\n",
    "df = df[df[1]!=df[2]]\n",
    "df= pd.DataFrame(df.groupby(\"index\")[0].sum())\n",
    "\n",
    "list1 = []\n",
    "for i in range(len(df)):\n",
    "    list1.append([df.index[i][0],df.index[i][1],df[0][i]])\n",
    "    \n",
    "df2 = pd.DataFrame(list1,columns=[\"term1\",\"term2\",\"freq\"])\n",
    "df3 = df2.sort_values(by=[\"freq\"],ascending=False)\n",
    "df3 = df3.reset_index(drop=True)\n",
    "\n",
    "i =1\n",
    "while len((np.where(df3[\"freq\"]>=i))[0])>100:\n",
    "    i +=1\n",
    "freq_num=i\n",
    "\n",
    "G_centrality = nx.Graph()\n",
    "for i in range(len((np.where(df3[\"freq\"]>=freq_num))[0])):\n",
    "    G_centrality.add_edge(df3[\"term1\"][i],df3[\"term2\"][i],weight=int(df3[\"freq\"][i]))\n",
    "    \n",
    "dgr = nx.degree_centrality(G_centrality)      #연결 중심성\n",
    "btw = nx.betweenness_centrality(G_centrality) #매개 중심성\n",
    "cls = nx.closeness_centrality(G_centrality)   #근접 중심성\n",
    "egv = nx.eigenvector_centrality(G_centrality) #고유벡터 중심성\n",
    "pgr = nx.pagerank(G_centrality) #페이지랭크 안됨 \n",
    "\n",
    "sorted_dgr = sorted(dgr.items(), key=operator.itemgetter(1), reverse=True)\n",
    "sorted_btw = sorted(btw.items(), key=operator.itemgetter(1), reverse=True)\n",
    "sorted_cls = sorted(cls.items(), key=operator.itemgetter(1), reverse=True)\n",
    "sorted_egv = sorted(egv.items(), key=operator.itemgetter(1), reverse=True)\n",
    "sorted_pgr = sorted(pgr.items(), key=operator.itemgetter(1), reverse=True)\n",
    "\n",
    "G= nx.Graph()\n",
    "\n",
    "for i in range(len(sorted_pgr)):\n",
    "    G.add_node(sorted_pgr[i][0],nodesize=sorted_dgr[i][1])\n",
    "\n",
    "for i in range(len((np.where(df3[\"freq\"]>=freq_num))[0])):\n",
    "    G.add_weighted_edges_from([(df3[\"term1\"][i],df3[\"term2\"][i],int(df3[\"freq\"][i]))])\n",
    "    \n",
    "sizes = [G.nodes[node][\"nodesize\"]*2000 for node in G]\n",
    "\n",
    "font_fname = \"C:\\\\Windows\\\\Fonts\\\\NanumGothicCoding-bold.ttf\"\n",
    "fontprop = fm.FontProperties(fname=font_fname,size=10).get_name()\n",
    "\n",
    "options={\n",
    "    \"edge_color\":'#FFDEA2',\n",
    "    \"width\":1,\n",
    "    \"with_labels\":True,\n",
    "    \"font_weight\":\"bold\",\n",
    "}\n",
    "\n",
    "plt.figure(figsize=(16,8)); \n",
    "nx.draw_networkx(G,node_size=sizes,pos=nx.spring_layout(G,k=3.5,iterations=100),**options,font_family=fontprop)\n",
    "ax = plt.gca()\n",
    "ax.collections[0].set_edgecolor(\"#555555\")\n",
    "#plt.savefig(\".\\\\data\\\\Default\\\\NTIS\\\\LDA\\\\Topic_Network_NKIS\\\\Topic\"+ str(topic_num+1) +\"_\"+ str(timepoint+2017) +\".png\", bbox_inches='tight')\n",
    "plt.show()"
   ]
  },
  {
   "cell_type": "markdown",
   "id": "d10dfad8-f82e-4130-b058-a0e61374cbab",
   "metadata": {},
   "source": [
    "### var진행하기 위한 dist파일 쓰기 "
   ]
  },
  {
   "cell_type": "code",
   "execution_count": 29,
   "id": "a6555849-eb55-4e7f-b493-86491a9f38df",
   "metadata": {},
   "outputs": [],
   "source": [
    "# dist[\"Topic\"] = topics_d\n",
    "# dist = dist.set_index(\"Topic\")\n",
    "# dist.to_csv(\"dist_NKIS.csv\")"
   ]
  },
  {
   "cell_type": "markdown",
   "id": "0112f891-9d88-484c-b091-0ad8dc63cdc9",
   "metadata": {},
   "source": [
    "# VAR word_dist 데이터 추출 과정"
   ]
  },
  {
   "cell_type": "code",
   "execution_count": 39,
   "id": "91c47e6c-512a-452a-bb7c-c55f5070938c",
   "metadata": {},
   "outputs": [],
   "source": [
    "# wd_network.to_csv(\"wd_network_NKIS_41.csv\",index=False)"
   ]
  },
  {
   "cell_type": "code",
   "execution_count": 40,
   "id": "e0184574-90f1-496f-9770-d8cb96001809",
   "metadata": {},
   "outputs": [
    {
     "name": "stdin",
     "output_type": "stream",
     "text": [
      "워드네트워크를 만들 데이터를 입력하세요(Default: 엔터키):  \n"
     ]
    },
    {
     "name": "stdout",
     "output_type": "stream",
     "text": [
      "\n",
      "Default 워드네트워크 데이터를 불러옵니다.\n"
     ]
    }
   ],
   "source": [
    "from collections import Counter\n",
    "wd_network=input(\"워드네트워크를 만들 데이터를 입력하세요(Default: 엔터키): \")\n",
    "if wd_network=='':\n",
    "    print(\"\\nDefault 워드네트워크 데이터를 불러옵니다.\")\n",
    "    wd_network= pd.read_csv(\"./data/Default/NTIS/LDA/wd_network_NKIS_\"+str(topic_num) + \".csv\")\n",
    "\n",
    "else:\n",
    "    print(\"\\n%s 에 워드네트워크 데이터를 불러옵니다.\"%(wd_network))\n",
    "    wd_network= pd.read_csv(\"./data/LDA/\"+data_ver+\"/\" + wd_network + \".csv\",encoding=\"cp949\",index_col=0)\n",
    "#    wd_network_41"
   ]
  },
  {
   "cell_type": "code",
   "execution_count": 42,
   "id": "1b6287e8-ebcf-4798-b289-e3bfa121b479",
   "metadata": {},
   "outputs": [],
   "source": [
    "word_dist = pd.DataFrame()\n",
    "for i in range(topic_num):\n",
    "    dtfrm = pd.DataFrame(mdl.get_topic_words(i,1000000),columns=[\"word\",\"prob\"])\n",
    "    dtfrm[\"topic\"] = i+1\n",
    "    dtfrm = dtfrm.sort_values(\"prob\",ascending=False)\n",
    "    word_dist = pd.concat([word_dist,dtfrm])\n",
    "word_dist = word_dist[[\"word\",\"topic\",\"prob\"]]"
   ]
  },
  {
   "cell_type": "code",
   "execution_count": 43,
   "id": "cc548c66-545c-4d13-93c7-14caae504055",
   "metadata": {},
   "outputs": [
    {
     "data": {
      "text/html": [
       "<div>\n",
       "<style scoped>\n",
       "    .dataframe tbody tr th:only-of-type {\n",
       "        vertical-align: middle;\n",
       "    }\n",
       "\n",
       "    .dataframe tbody tr th {\n",
       "        vertical-align: top;\n",
       "    }\n",
       "\n",
       "    .dataframe thead th {\n",
       "        text-align: right;\n",
       "    }\n",
       "</style>\n",
       "<table border=\"1\" class=\"dataframe\">\n",
       "  <thead>\n",
       "    <tr style=\"text-align: right;\">\n",
       "      <th></th>\n",
       "      <th>word</th>\n",
       "      <th>topic</th>\n",
       "      <th>prob</th>\n",
       "    </tr>\n",
       "  </thead>\n",
       "  <tbody>\n",
       "    <tr>\n",
       "      <th>0</th>\n",
       "      <td>줄기세포</td>\n",
       "      <td>1</td>\n",
       "      <td>4.123328e-02</td>\n",
       "    </tr>\n",
       "    <tr>\n",
       "      <th>1</th>\n",
       "      <td>세포</td>\n",
       "      <td>1</td>\n",
       "      <td>2.923172e-02</td>\n",
       "    </tr>\n",
       "    <tr>\n",
       "      <th>2</th>\n",
       "      <td>약물</td>\n",
       "      <td>1</td>\n",
       "      <td>2.839777e-02</td>\n",
       "    </tr>\n",
       "    <tr>\n",
       "      <th>3</th>\n",
       "      <td>치료제</td>\n",
       "      <td>1</td>\n",
       "      <td>1.904388e-02</td>\n",
       "    </tr>\n",
       "    <tr>\n",
       "      <th>4</th>\n",
       "      <td>재생</td>\n",
       "      <td>1</td>\n",
       "      <td>1.633726e-02</td>\n",
       "    </tr>\n",
       "    <tr>\n",
       "      <th>...</th>\n",
       "      <td>...</td>\n",
       "      <td>...</td>\n",
       "      <td>...</td>\n",
       "    </tr>\n",
       "    <tr>\n",
       "      <th>1668</th>\n",
       "      <td>하드웨어</td>\n",
       "      <td>41</td>\n",
       "      <td>1.531450e-08</td>\n",
       "    </tr>\n",
       "    <tr>\n",
       "      <th>1667</th>\n",
       "      <td>상용</td>\n",
       "      <td>41</td>\n",
       "      <td>1.531450e-08</td>\n",
       "    </tr>\n",
       "    <tr>\n",
       "      <th>1666</th>\n",
       "      <td>면역</td>\n",
       "      <td>41</td>\n",
       "      <td>1.531450e-08</td>\n",
       "    </tr>\n",
       "    <tr>\n",
       "      <th>1665</th>\n",
       "      <td>우울증</td>\n",
       "      <td>41</td>\n",
       "      <td>1.531450e-08</td>\n",
       "    </tr>\n",
       "    <tr>\n",
       "      <th>1946</th>\n",
       "      <td>급격</td>\n",
       "      <td>41</td>\n",
       "      <td>1.531450e-08</td>\n",
       "    </tr>\n",
       "  </tbody>\n",
       "</table>\n",
       "<p>79827 rows × 3 columns</p>\n",
       "</div>"
      ],
      "text/plain": [
       "      word  topic          prob\n",
       "0     줄기세포      1  4.123328e-02\n",
       "1       세포      1  2.923172e-02\n",
       "2       약물      1  2.839777e-02\n",
       "3      치료제      1  1.904388e-02\n",
       "4       재생      1  1.633726e-02\n",
       "...    ...    ...           ...\n",
       "1668  하드웨어     41  1.531450e-08\n",
       "1667    상용     41  1.531450e-08\n",
       "1666    면역     41  1.531450e-08\n",
       "1665   우울증     41  1.531450e-08\n",
       "1946    급격     41  1.531450e-08\n",
       "\n",
       "[79827 rows x 3 columns]"
      ]
     },
     "execution_count": 43,
     "metadata": {},
     "output_type": "execute_result"
    }
   ],
   "source": [
    "word_dist"
   ]
  },
  {
   "cell_type": "code",
   "execution_count": 44,
   "id": "57296d43-8f42-4186-9d4e-25a9cf847ae1",
   "metadata": {
    "scrolled": true,
    "tags": []
   },
   "outputs": [
    {
     "name": "stderr",
     "output_type": "stream",
     "text": [
      "100%|████████████████████████████████████████████████████████████████████████████████████| 5/5 [00:18<00:00,  3.69s/it]\n"
     ]
    }
   ],
   "source": [
    "for c in tqdm(range(start_num,end_num+1)):\n",
    "    final = pd.DataFrame()\n",
    "    for i in range(topic_num):\n",
    "        temp = []\n",
    "        using_word = word_dist[word_dist[\"topic\"]==i+1][\"word\"].tolist()\n",
    "        zzz=wd_network[(wd_network[\"year\"]==c) & (wd_network[\"Topic\"]==i+1)]\n",
    "        if len(zzz) > 0: \n",
    "            for j in range(len(zzz)):\n",
    "                aa = zzz[\"corpus\"].iloc[j].split(\" \")\n",
    "                for u in aa:\n",
    "                    if u in using_word:\n",
    "                        temp.append(u)\n",
    "                    else:\n",
    "                        continue\n",
    "            df = pd.DataFrame(Counter(temp).most_common())\n",
    "            df[\"topic\"]= i+1\n",
    "            df[c]= df[1]/sum(df[1])\n",
    "            final = pd.concat([final,df])\n",
    "            final.pop(1)\n",
    "    if c == start_num:\n",
    "        final_dist = final.copy()\n",
    "    else: \n",
    "        final_dist = pd.merge(final_dist,final, on=[\"topic\",0])\n",
    "        \n",
    "\n",
    "final_dist[\"labels\"]= final_dist[\"topic\"].apply(lambda x: \"topic\" + str(x)+\": \" + ','.join(pd.DataFrame(mdl.get_topic_words(x-1,5))[0].tolist()))\n",
    "final_dist.columns = [\"word\",\"topic\"] + list(range(start_num,end_num+1)) + [\"labels\"]\n",
    "final_dist = final_dist[[\"word\",\"labels\",\"topic\"]  + list(range(start_num,end_num+1))]\n",
    "\n",
    "\n",
    "index_list = []\n",
    "for i in range(topic_num):\n",
    "    index_list = index_list + list(range(sum(final_dist[\"topic\"]==(i+1))))\n",
    "final_dist[\"index\"] = index_list\n",
    "final_dist=final_dist.set_index(\"index\")"
   ]
  },
  {
   "cell_type": "code",
   "execution_count": null,
   "id": "1683cf8f-0ba5-463c-93d9-c54c9480e3cb",
   "metadata": {},
   "outputs": [],
   "source": [
    "final_dist"
   ]
  },
  {
   "cell_type": "code",
   "execution_count": 49,
   "id": "450ee541-d09b-436d-a3e6-b312225585ef",
   "metadata": {},
   "outputs": [],
   "source": [
    "final_dist.to_pickle(\"WORDS_NKIS_\" + str(topic_num)+\".pkl\")"
   ]
  },
  {
   "cell_type": "code",
   "execution_count": 50,
   "id": "04fa9e42-0ae1-4be0-a628-5ef76f8ebde1",
   "metadata": {},
   "outputs": [
    {
     "data": {
      "text/html": [
       "<div>\n",
       "<style scoped>\n",
       "    .dataframe tbody tr th:only-of-type {\n",
       "        vertical-align: middle;\n",
       "    }\n",
       "\n",
       "    .dataframe tbody tr th {\n",
       "        vertical-align: top;\n",
       "    }\n",
       "\n",
       "    .dataframe thead th {\n",
       "        text-align: right;\n",
       "    }\n",
       "</style>\n",
       "<table border=\"1\" class=\"dataframe\">\n",
       "  <thead>\n",
       "    <tr style=\"text-align: right;\">\n",
       "      <th></th>\n",
       "      <th>word</th>\n",
       "      <th>labels</th>\n",
       "      <th>topic</th>\n",
       "      <th>2017</th>\n",
       "      <th>2018</th>\n",
       "      <th>2019</th>\n",
       "      <th>2020</th>\n",
       "      <th>2021</th>\n",
       "    </tr>\n",
       "    <tr>\n",
       "      <th>index</th>\n",
       "      <th></th>\n",
       "      <th></th>\n",
       "      <th></th>\n",
       "      <th></th>\n",
       "      <th></th>\n",
       "      <th></th>\n",
       "      <th></th>\n",
       "      <th></th>\n",
       "    </tr>\n",
       "  </thead>\n",
       "  <tbody>\n",
       "    <tr>\n",
       "      <th>0</th>\n",
       "      <td>운영</td>\n",
       "      <td>topic2: 차량,드론,자율주행,실증,운영</td>\n",
       "      <td>2</td>\n",
       "      <td>0.036910</td>\n",
       "      <td>0.007212</td>\n",
       "      <td>0.008997</td>\n",
       "      <td>0.019155</td>\n",
       "      <td>0.012440</td>\n",
       "    </tr>\n",
       "    <tr>\n",
       "      <th>1</th>\n",
       "      <td>교통</td>\n",
       "      <td>topic2: 차량,드론,자율주행,실증,운영</td>\n",
       "      <td>2</td>\n",
       "      <td>0.033476</td>\n",
       "      <td>0.028846</td>\n",
       "      <td>0.008033</td>\n",
       "      <td>0.020282</td>\n",
       "      <td>0.025570</td>\n",
       "    </tr>\n",
       "    <tr>\n",
       "      <th>2</th>\n",
       "      <td>물류</td>\n",
       "      <td>topic2: 차량,드론,자율주행,실증,운영</td>\n",
       "      <td>2</td>\n",
       "      <td>0.025751</td>\n",
       "      <td>0.054487</td>\n",
       "      <td>0.033740</td>\n",
       "      <td>0.010704</td>\n",
       "      <td>0.011057</td>\n",
       "    </tr>\n",
       "    <tr>\n",
       "      <th>3</th>\n",
       "      <td>수요</td>\n",
       "      <td>topic2: 차량,드론,자율주행,실증,운영</td>\n",
       "      <td>2</td>\n",
       "      <td>0.015451</td>\n",
       "      <td>0.002404</td>\n",
       "      <td>0.003213</td>\n",
       "      <td>0.002817</td>\n",
       "      <td>0.011748</td>\n",
       "    </tr>\n",
       "    <tr>\n",
       "      <th>4</th>\n",
       "      <td>변화</td>\n",
       "      <td>topic2: 차량,드론,자율주행,실증,운영</td>\n",
       "      <td>2</td>\n",
       "      <td>0.015451</td>\n",
       "      <td>0.004808</td>\n",
       "      <td>0.001607</td>\n",
       "      <td>0.014085</td>\n",
       "      <td>0.011748</td>\n",
       "    </tr>\n",
       "    <tr>\n",
       "      <th>...</th>\n",
       "      <td>...</td>\n",
       "      <td>...</td>\n",
       "      <td>...</td>\n",
       "      <td>...</td>\n",
       "      <td>...</td>\n",
       "      <td>...</td>\n",
       "      <td>...</td>\n",
       "      <td>...</td>\n",
       "    </tr>\n",
       "    <tr>\n",
       "      <th>436</th>\n",
       "      <td>작동</td>\n",
       "      <td>topic41: 중국,문화,일본,언어,문학</td>\n",
       "      <td>41</td>\n",
       "      <td>0.000368</td>\n",
       "      <td>0.000404</td>\n",
       "      <td>0.000707</td>\n",
       "      <td>0.000273</td>\n",
       "      <td>0.000159</td>\n",
       "    </tr>\n",
       "    <tr>\n",
       "      <th>437</th>\n",
       "      <td>안정</td>\n",
       "      <td>topic41: 중국,문화,일본,언어,문학</td>\n",
       "      <td>41</td>\n",
       "      <td>0.000368</td>\n",
       "      <td>0.000808</td>\n",
       "      <td>0.000530</td>\n",
       "      <td>0.000136</td>\n",
       "      <td>0.000558</td>\n",
       "    </tr>\n",
       "    <tr>\n",
       "      <th>438</th>\n",
       "      <td>일정</td>\n",
       "      <td>topic41: 중국,문화,일본,언어,문학</td>\n",
       "      <td>41</td>\n",
       "      <td>0.000368</td>\n",
       "      <td>0.000606</td>\n",
       "      <td>0.000530</td>\n",
       "      <td>0.000681</td>\n",
       "      <td>0.000319</td>\n",
       "    </tr>\n",
       "    <tr>\n",
       "      <th>439</th>\n",
       "      <td>위</td>\n",
       "      <td>topic41: 중국,문화,일본,언어,문학</td>\n",
       "      <td>41</td>\n",
       "      <td>0.000368</td>\n",
       "      <td>0.001011</td>\n",
       "      <td>0.000177</td>\n",
       "      <td>0.000136</td>\n",
       "      <td>0.000638</td>\n",
       "    </tr>\n",
       "    <tr>\n",
       "      <th>440</th>\n",
       "      <td>이해</td>\n",
       "      <td>topic41: 중국,문화,일본,언어,문학</td>\n",
       "      <td>41</td>\n",
       "      <td>0.000368</td>\n",
       "      <td>0.000404</td>\n",
       "      <td>0.000354</td>\n",
       "      <td>0.000545</td>\n",
       "      <td>0.000159</td>\n",
       "    </tr>\n",
       "  </tbody>\n",
       "</table>\n",
       "<p>3437 rows × 8 columns</p>\n",
       "</div>"
      ],
      "text/plain": [
       "      word                    labels  topic      2017      2018      2019  \\\n",
       "index                                                                       \n",
       "0       운영  topic2: 차량,드론,자율주행,실증,운영      2  0.036910  0.007212  0.008997   \n",
       "1       교통  topic2: 차량,드론,자율주행,실증,운영      2  0.033476  0.028846  0.008033   \n",
       "2       물류  topic2: 차량,드론,자율주행,실증,운영      2  0.025751  0.054487  0.033740   \n",
       "3       수요  topic2: 차량,드론,자율주행,실증,운영      2  0.015451  0.002404  0.003213   \n",
       "4       변화  topic2: 차량,드론,자율주행,실증,운영      2  0.015451  0.004808  0.001607   \n",
       "...    ...                       ...    ...       ...       ...       ...   \n",
       "436     작동   topic41: 중국,문화,일본,언어,문학     41  0.000368  0.000404  0.000707   \n",
       "437     안정   topic41: 중국,문화,일본,언어,문학     41  0.000368  0.000808  0.000530   \n",
       "438     일정   topic41: 중국,문화,일본,언어,문학     41  0.000368  0.000606  0.000530   \n",
       "439      위   topic41: 중국,문화,일본,언어,문학     41  0.000368  0.001011  0.000177   \n",
       "440     이해   topic41: 중국,문화,일본,언어,문학     41  0.000368  0.000404  0.000354   \n",
       "\n",
       "           2020      2021  \n",
       "index                      \n",
       "0      0.019155  0.012440  \n",
       "1      0.020282  0.025570  \n",
       "2      0.010704  0.011057  \n",
       "3      0.002817  0.011748  \n",
       "4      0.014085  0.011748  \n",
       "...         ...       ...  \n",
       "436    0.000273  0.000159  \n",
       "437    0.000136  0.000558  \n",
       "438    0.000681  0.000319  \n",
       "439    0.000136  0.000638  \n",
       "440    0.000545  0.000159  \n",
       "\n",
       "[3437 rows x 8 columns]"
      ]
     },
     "execution_count": 50,
     "metadata": {},
     "output_type": "execute_result"
    }
   ],
   "source": [
    "pd.read_pickle(\"WORDS_NKIS_\"+str(topic_num)+ \".pkl\")"
   ]
  },
  {
   "cell_type": "markdown",
   "id": "80478bfe-e2a9-4bdc-bcfa-971c4f029505",
   "metadata": {},
   "source": [
    "# GOV 문서 별 토픽확률 및 토픽 분포 병합"
   ]
  },
  {
   "cell_type": "code",
   "execution_count": 401,
   "id": "6fdcac99-8d8c-44f2-97e5-49dce5167d4b",
   "metadata": {
    "scrolled": true,
    "tags": []
   },
   "outputs": [],
   "source": [
    "zz = pd.read_excel(\"./data/Default/GOV/GOV_2022.xlsx\")"
   ]
  },
  {
   "cell_type": "code",
   "execution_count": 402,
   "id": "271361bc-8e51-4e45-b8f0-bdcc02fcdac0",
   "metadata": {},
   "outputs": [],
   "source": [
    "cc = pd.read_excel(\"./data/Default/GOV/HAN_Filtered_GOV.xlsx\",index_col=0)"
   ]
  },
  {
   "cell_type": "code",
   "execution_count": 403,
   "id": "a491ef98-01a9-4f73-82e6-e86052f94769",
   "metadata": {
    "scrolled": true,
    "tags": []
   },
   "outputs": [],
   "source": [
    "zz[\"contents\"] = cc[\"contents\"]\n",
    "zz[\"content\"] = cc[\"content\"]\n",
    "zz[\"ICT_prob\"] = cc[\"ICT_prob\"]\n",
    "zz[\"filtered_ICT\"] = cc[\"filtered_ICT\"]\n",
    "zz = zz.sort_values(\"ICT_prob\",ascending=False)"
   ]
  },
  {
   "cell_type": "code",
   "execution_count": 404,
   "id": "808b5c3d-ed50-4833-928f-5f683267705c",
   "metadata": {},
   "outputs": [],
   "source": [
    "a,b,c,d,e,f = [],[],[],[],[],[]\n",
    "for i in range(len(zz[zz[\"filtered_ICT\"]==1])):\n",
    "    a.append(sum(doc_insts[i].get_topics(3),())[::2][0])\n",
    "    b.append(sum(doc_insts[i].get_topics(3),())[::2][1])\n",
    "    c.append(sum(doc_insts[i].get_topics(3),())[::2][2])\n",
    "    d.append(sum(doc_insts[i].get_topics(3),())[1::2][0])\n",
    "    e.append(sum(doc_insts[i].get_topics(3),())[1::2][1])\n",
    "    f.append(sum(doc_insts[i].get_topics(3),())[1::2][2])"
   ]
  },
  {
   "cell_type": "code",
   "execution_count": 405,
   "id": "afd7a3b0-4309-4eb6-9fd5-1c038059efeb",
   "metadata": {},
   "outputs": [],
   "source": [
    "a = pd.DataFrame(a)\n",
    "b = pd.DataFrame(b)\n",
    "c = pd.DataFrame(c)\n",
    "d = pd.DataFrame(d)\n",
    "e = pd.DataFrame(e)\n",
    "f = pd.DataFrame(f)"
   ]
  },
  {
   "cell_type": "code",
   "execution_count": 406,
   "id": "135e802c-f4a5-437e-b60e-5a3c66778a79",
   "metadata": {},
   "outputs": [],
   "source": [
    "dd = pd.concat([a,b,c,d,e,f],axis=1)"
   ]
  },
  {
   "cell_type": "code",
   "execution_count": 407,
   "id": "00707e41-e782-4d52-9c2f-a610a9fd54f4",
   "metadata": {},
   "outputs": [],
   "source": [
    "dd.columns=[\"first_topic\",\"second_topic\",\"third_topic\",\"first_prob\",\"second_prob\",\"third_prob\"]"
   ]
  },
  {
   "cell_type": "code",
   "execution_count": 408,
   "id": "5ea0cb2c-d9ba-4cfa-a66d-afbac185f28e",
   "metadata": {},
   "outputs": [],
   "source": [
    "dd[\"prob_sum\"] = dd.iloc[:,3:].sum(axis=1)"
   ]
  },
  {
   "cell_type": "code",
   "execution_count": 409,
   "id": "c898131c-0c7a-4174-880c-6f1e54ef2d3b",
   "metadata": {},
   "outputs": [],
   "source": [
    "zz.reset_index(inplace=True)\n",
    "df = pd.concat([zz[zz[\"filtered_ICT\"]==1],dd],axis=1)"
   ]
  },
  {
   "cell_type": "code",
   "execution_count": 411,
   "id": "bb0eaee5-eeed-4d9c-b62c-ea5c19884d7a",
   "metadata": {},
   "outputs": [],
   "source": [
    "df.to_excel(\"GOV_Topic.xlsx\")"
   ]
  }
 ],
 "metadata": {
  "kernelspec": {
   "display_name": "mecab",
   "language": "python",
   "name": "mecab"
  },
  "language_info": {
   "codemirror_mode": {
    "name": "ipython",
    "version": 3
   },
   "file_extension": ".py",
   "mimetype": "text/x-python",
   "name": "python",
   "nbconvert_exporter": "python",
   "pygments_lexer": "ipython3",
   "version": "3.8.0"
  }
 },
 "nbformat": 4,
 "nbformat_minor": 5
}
